{
 "cells": [
  {
   "attachments": {},
   "cell_type": "markdown",
   "metadata": {},
   "source": [
    "# Modelo 3 - Tiempos Contratados"
   ]
  },
  {
   "attachments": {},
   "cell_type": "markdown",
   "metadata": {},
   "source": [
    "![Diagrama 3](Diagrama3.png)"
   ]
  },
  {
   "attachments": {},
   "cell_type": "markdown",
   "metadata": {},
   "source": [
    "### Leer los datos de excel"
   ]
  },
  {
   "cell_type": "code",
   "execution_count": 1,
   "metadata": {},
   "outputs": [],
   "source": [
    "import pandas as pd\n",
    "\n",
    "#Funcion para leer los datos de los pacientes\n",
    "def leer_datos():\n",
    "    # Leer el archivo de excel\n",
    "    df = pd.read_excel('DT3.xlsx', sheet_name='Pacientes')\n",
    "    df1 = pd.read_excel(\"DT3.xlsx\", sheet_name=\"Medicos\")\n",
    "    \n",
    "    # Crear un diccionario para almacenar los datos de los pacientes\n",
    "    pacientesDict = {}\n",
    "    medicos = {}\n",
    "\n",
    "    # Iterar sobre las filas del DataFrame\n",
    "    for index, row in df.iterrows():\n",
    "        llave = row[\"ID Servicio\"]\n",
    "        valor1 = row[\"Llegada\"]\n",
    "        valor2 = row[\"Atencion\"]\n",
    "        valor3 = row[\"Zona\"]\n",
    "        valor4 = row[\"Entidad\"]\n",
    "\n",
    "        # Agregar valores a la lista correspondiente en el diccionario\n",
    "        if llave in pacientesDict:\n",
    "            pacientesDict[llave].append([valor1, valor2, valor3, valor4])\n",
    "        else:\n",
    "            pacientesDict[llave] = [int(valor1), int(valor2), int(valor3), str(valor4)]\n",
    "    pacientes = pacientesDict\n",
    "\n",
    "    # Iterar sobre las filas del DataFrame\n",
    "    for index, row in df1.iterrows():\n",
    "        llave = row[\"ID Medico\"]\n",
    "        valor1 = 0\n",
    "        valor2 = 0\n",
    "        valor3 = row[\"Zona\"]\n",
    "    \n",
    "        # Agregar valores a la lista correspondiente en el diccionario\n",
    "        if llave in medicos:\n",
    "            medicos[llave].append([valor1, valor2, valor3])\n",
    "        else:\n",
    "            medicos[llave] = [int(valor1), int(valor2), int(valor3)]\n",
    "    doctores = medicos\n",
    "    \n",
    "    \n",
    "    return doctores, pacientes"
   ]
  },
  {
   "cell_type": "code",
   "execution_count": 2,
   "metadata": {},
   "outputs": [],
   "source": [
    "doctores = leer_datos()[0]\n",
    "pacientes = leer_datos()[1]"
   ]
  },
  {
   "attachments": {},
   "cell_type": "markdown",
   "metadata": {},
   "source": [
    "### Doctores en la zona"
   ]
  },
  {
   "cell_type": "code",
   "execution_count": 3,
   "metadata": {},
   "outputs": [],
   "source": [
    "global doctores\n",
    "def doctores_en_zona(zona):\n",
    "    doctores_en_zona = []\n",
    "    for j in doctores:\n",
    "        if doctores[j][2] == zona:\n",
    "            doctores_en_zona.append(j)\n",
    "    return doctores_en_zona"
   ]
  },
  {
   "attachments": {},
   "cell_type": "markdown",
   "metadata": {},
   "source": [
    "### Cambiar datos para Gantt"
   ]
  },
  {
   "cell_type": "code",
   "execution_count": 4,
   "metadata": {},
   "outputs": [],
   "source": [
    "import datetime\n",
    "\n",
    "def convertMin(minutos):\n",
    "    # Obtenemos la fecha de hoy\n",
    "    fecha_actual = datetime.date.today()\n",
    "    # Combinamos la fecha de hoy con la hora 0:00:00\n",
    "    fecha_hora = datetime.datetime.combine(fecha_actual, datetime.time.min) + datetime.timedelta(minutes=minutos)\n",
    "    # Convertimos la fecha y hora a formato de cadena\n",
    "    fecha_hora_str = fecha_hora.strftime(\"%Y-%m-%d %H:%M:%S\")\n",
    "    return fecha_hora_str"
   ]
  },
  {
   "attachments": {},
   "cell_type": "markdown",
   "metadata": {},
   "source": [
    "### Asignación de los médicos"
   ]
  },
  {
   "cell_type": "code",
   "execution_count": 5,
   "metadata": {},
   "outputs": [],
   "source": [
    "global doctores\n",
    "\n",
    "import pandas as pd\n",
    "\n",
    "# Función para asignar doctor a paciente\n",
    "def asignar_doctor(atencion, zona, minuto, estadoMedicos, gantt, IDservicio, TipoCliente):\n",
    "\n",
    "    # diccionario con los tipos de cliente y el tiempo de atencion esperado\n",
    "    Clientes = { \n",
    "        \"EPS SANITAS\": 60,\n",
    "        \"MEDISANITAS\": 120,\n",
    "        \"FAMISANAR\": 180,\n",
    "        \"PARTICULARES\": 60,\n",
    "        \"COLSANITAS\": 120,\n",
    "        \"IKE ASISTENCIA\": 180,\n",
    "        \"COOMEVA\": 60,\n",
    "        \"ASISMED\": 120,\n",
    "        \"SALUD TOTAL EPS\": 180,\n",
    "        \"UNISALUD\": 60,\n",
    "        \"SURA\": 120,\n",
    "        \"MEDPLUS MP\": 180\n",
    "    }\n",
    "\n",
    "    #Actualizar el estado de los doctores\n",
    "    if minuto > 0:\n",
    "        for j in doctores:\n",
    "            if minuto >= doctores[j][1]:\n",
    "                doctores[j][0] = 0\n",
    "                doctores[j][1] = 0\n",
    "    doctores_zona = doctores_en_zona(zona)\n",
    "    \n",
    "    # Lista de posible asignacion\n",
    "    posibleAsignacion = []\n",
    "    # Variable para salir del ciclo\n",
    "    salir = False\n",
    "\n",
    "    # 1. ¿Hay doctores dentro de la zona del paciente?\n",
    "    if len(doctores_zona) > 0:\n",
    "        #1. SI\n",
    "        for j in doctores_zona:\n",
    "            #2. ¿Hay doctores disponibles en la zona?\n",
    "            if doctores[j][0] == 0:\n",
    "                #2. SI\n",
    "                #3. Se elige el primer doctor disponible en la zona\n",
    "                # Se analiza el tiempo estimado para atender al cliente teniendo en cuenta que si esta dentro de la zona son 20 min de traslado\n",
    "                tiempoEstimado = doctores[j][1] + 20\n",
    "                # Se agrega el doctor a una lista de posible asignacion\n",
    "                posibleAsignacion.append((j, tiempoEstimado))\n",
    "                #4. ¿Cumple con el tiempo de servicio del cliente?\n",
    "                if tiempoEstimado <= Clientes[TipoCliente]:\n",
    "                    #4. SI\n",
    "                    #5. Asignar doctor al paciente\n",
    "                    doctores[j][0] = 1\n",
    "                    # Asignar el ultimo minuto en el que esta ocupado el doctor\n",
    "                    doctores[j][1] = minuto + atencion\n",
    "                    gantt.append({'Solicitud': IDservicio, 'Médico': j, 'Inicio': convertMin(minuto), 'Fin': convertMin(minuto + atencion)})\n",
    "                    salir = True\n",
    "                    break\n",
    "                else:\n",
    "                    #4. NO\n",
    "                    #6. Se busca primer doctor disponible fuera de la zona\n",
    "                    doc_list = sorted(doctores, key=lambda k: doctores[k][1])\n",
    "                    for j in doc_list:\n",
    "                        # Revisar si el doctor esta disponible en orden de lista\n",
    "                        if doctores[j][0] == 0:\n",
    "                            # Se analiza el tiempo estimado para atender al cliente teniendo en cuenta que si esta fuera de la zona son 40 min de traslado\n",
    "                            tiempoEstimado = doctores[j][1] + 40\n",
    "                            # Agregar el doctor a la lista de posible asignacion\n",
    "                            posibleAsignacion.append((j, tiempoEstimado))\n",
    "\n",
    "                            #7. ¿Cumple con el tiempo de servicio del cliente?\n",
    "                            if tiempoEstimado <= Clientes[TipoCliente]:\n",
    "                                #8. Reasignar zona del doctor\n",
    "                                doctores[j][2] = zona\n",
    "                                #9. Asignar doctor al paciente\n",
    "                                doctores[j][0] = 1\n",
    "\n",
    "                                # Asignar el ultimo minuto en el que esta ocupado el doctor\n",
    "                                doctores[j][1] = minuto + atencion\n",
    "                                # Agregar al gantt\n",
    "                                gantt.append({'Solicitud': IDservicio, 'Médico': j, 'Inicio': convertMin(minuto), 'Fin': convertMin(minuto + atencion)})\n",
    "                                salir = True\n",
    "                                break\n",
    "                            else:\n",
    "                                #7. NO\n",
    "                                #10. Se asigna el doctor que menos se demore de la lista posibleAsignacion\n",
    "                                # definir el doctor con menor tiempo de atencion\n",
    "                                menorTiempo = float('inf')\n",
    "                                doctorMenorTiempo = posibleAsignacion[0]\n",
    "                                for i in posibleAsignacion:\n",
    "                                    if i[1] < menorTiempo:\n",
    "                                        menorTiempo = i[1]\n",
    "                                        doctorMenorTiempo = i[0]\n",
    "                                # Asignar doctor al paciente\n",
    "                                doctores[doctorMenorTiempo][0] = 1\n",
    "                                # Asignar el ultimo minuto en el que esta ocupado el doctor\n",
    "                                doctores[doctorMenorTiempo][1] = minuto + atencion\n",
    "                                # Reasignar zona del doctor\n",
    "                                doctores[doctorMenorTiempo][2] = zona\n",
    "                                # Agregar al gantt\n",
    "                                gantt.append({'Solicitud': IDservicio, 'Médico': doctorMenorTiempo, 'Inicio': convertMin(minuto), 'Fin': convertMin(minuto + atencion)})\n",
    "                                salir = True\n",
    "                                break\n",
    "                    if salir:\n",
    "                        break\n",
    "            else:\n",
    "                #2. NO\n",
    "                #11. Se busca primer doctor disponible fuera de la zona\n",
    "                doc_list = sorted(doctores, key=lambda k: doctores[k][1])\n",
    "                for j in doc_list:\n",
    "                    # Revisar si el doctor esta disponible en orden de lista\n",
    "                    if doctores[j][0] == 0:\n",
    "                        # Se analiza el tiempo estimado para atender al cliente teniendo en cuenta que si esta fuera de la zona son 40 min de traslado\n",
    "                        tiempoEstimado = doctores[j][1] + 40\n",
    "                        # Agregar el doctor a la lista de posible asignacion\n",
    "                        posibleAsignacion.append((j, tiempoEstimado))\n",
    "                        break\n",
    "                #12. Comparar el tiempo de traslado del doctor desocupado con el tiempo estimado de finalización de las consultas de los doctores dentro de la zona más su tiempo de traslado\n",
    "                for i in doctores_zona:\n",
    "                    if doctores[i][1] + 20 < tiempoEstimado:\n",
    "                        tiempoEstimado = doctores[i][1] + 20\n",
    "                        posibleAsignacion.append((i, tiempoEstimado))\n",
    "                #Escoger el doctor con menor tiempo de traslado\n",
    "                menorTiempo = float('inf')\n",
    "                doctorMenorTiempo = posibleAsignacion[0]\n",
    "                for i in posibleAsignacion:\n",
    "                    if i[1] < menorTiempo:\n",
    "                        menorTiempo = i[1]\n",
    "                        doctorMenorTiempo = i[0]\n",
    "\n",
    "                # 13. Reasignar zona del doctor\n",
    "                doctores[doctorMenorTiempo][2] = zona\n",
    "                # 14. Asignar doctor al paciente\n",
    "                doctores[doctorMenorTiempo][0] = 1\n",
    "\n",
    "                # Asignar el ultimo minuto en el que esta ocupado el doctor\n",
    "                doctores[doctorMenorTiempo][1] = minuto + atencion\n",
    "                # Agregar al gantt\n",
    "                gantt.append({'Solicitud': IDservicio, 'Médico': doctorMenorTiempo, 'Inicio': convertMin(minuto), 'Fin': convertMin(minuto + atencion)})\n",
    "                break\n",
    "    else:\n",
    "        #1. NO\n",
    "        #15. Se busca primer doctor disponible fuera de la zona\n",
    "        doc_list = sorted(doctores, key=lambda k: doctores[k][1])\n",
    "        for j in doc_list:\n",
    "            # Revisar si el doctor esta disponible en orden de lista\n",
    "            if doctores[j][0] == 0:\n",
    "                # 16. Reasignar zona del doctor\n",
    "                doctores[j][2] = zona\n",
    "                # 17. Asignar doctor al paciente\n",
    "                doctores[j][0] = 1\n",
    "\n",
    "                # Asignar el ultimo minuto en el que esta ocupado el doctor\n",
    "                doctores[j][1] = minuto + atencion\n",
    "                # Agregar al gantt\n",
    "                gantt.append({'Solicitud': IDservicio, 'Médico': j, 'Inicio': convertMin(minuto), 'Fin': convertMin(minuto + atencion)})\n",
    "                break\n",
    "\n",
    "    # Actualizar el estado de los doctores en el DataFrame\n",
    "    for j in doctores:\n",
    "        if minuto == doctores[j][1]:\n",
    "            doctores[j][0] = 0\n",
    "\n",
    "    # Actualizar el estado de los médicos en el DataFrame\n",
    "    estado = {'Minuto': minuto}\n",
    "\n",
    "    for j in doctores:\n",
    "        estado[f'Doctor {j}'] = 'Ocupado' if doctores[j][0] == 1 else 'Disponible'\n",
    "\n",
    "    # Agregar el estado de los médicos al DataFrame\n",
    "    estadoMedicos = estadoMedicos = pd.concat([estadoMedicos, pd.DataFrame(estado, index=[0])], ignore_index=True)\n",
    "\n",
    "    return estadoMedicos, gantt"
   ]
  },
  {
   "attachments": {},
   "cell_type": "markdown",
   "metadata": {},
   "source": [
    "### Simular Pacientes"
   ]
  },
  {
   "cell_type": "code",
   "execution_count": 6,
   "metadata": {},
   "outputs": [],
   "source": [
    "import pandas as pd\n",
    "import openpyxl\n",
    "\n",
    "global doctores\n",
    "\n",
    "# Función principal para asignar médicos a pacientes\n",
    "def asignacion_doctor1():\n",
    "    pacientes = leer_datos()[1]\n",
    "\n",
    "    # Crear DataFrame para el estado de los médicos\n",
    "    estadoMedicos = pd.DataFrame(columns=['Minuto'] + [f'Doctor {i}' for i in doctores])\n",
    "    gantt = []\n",
    "\n",
    "    for i in pacientes:\n",
    "        # Asignar doctor a paciente\n",
    "        atencion = pacientes[i][1]\n",
    "        minuto = pacientes[i][0]\n",
    "        zona = pacientes[i][2]\n",
    "        IDservicio = i\n",
    "        TipoCliente = pacientes[i][3]\n",
    "        estadoMedicos, gantt = asignar_doctor(atencion, zona, minuto, estadoMedicos, gantt, IDservicio, TipoCliente)\n",
    "\n",
    "    return gantt"
   ]
  },
  {
   "attachments": {},
   "cell_type": "markdown",
   "metadata": {},
   "source": [
    "# Prueba para 02/06/2022"
   ]
  },
  {
   "cell_type": "code",
   "execution_count": 7,
   "metadata": {},
   "outputs": [],
   "source": [
    "gantt = asignacion_doctor1()"
   ]
  },
  {
   "attachments": {},
   "cell_type": "markdown",
   "metadata": {},
   "source": [
    "### Gantt general"
   ]
  },
  {
   "cell_type": "code",
   "execution_count": 8,
   "metadata": {},
   "outputs": [
    {
     "data": {
      "application/vnd.plotly.v1+json": {
       "config": {
        "plotlyServerURL": "https://plot.ly"
       },
       "data": [
        {
         "alignmentgroup": "True",
         "base": [
          "2023-05-27 02:30:00",
          "2023-05-27 08:10:00",
          "2023-05-27 08:30:00",
          "2023-05-27 09:00:00",
          "2023-05-27 09:20:00",
          "2023-05-27 09:40:00",
          "2023-05-27 10:20:00",
          "2023-05-27 10:40:00",
          "2023-05-27 11:20:00",
          "2023-05-27 12:00:00",
          "2023-05-27 12:30:00",
          "2023-05-27 13:00:00",
          "2023-05-27 13:20:00",
          "2023-05-27 13:40:00",
          "2023-05-27 14:20:00",
          "2023-05-27 15:00:00",
          "2023-05-27 15:40:00",
          "2023-05-27 16:20:00",
          "2023-05-27 16:40:00",
          "2023-05-27 17:20:00",
          "2023-05-27 18:00:00",
          "2023-05-27 18:20:00",
          "2023-05-27 18:50:00",
          "2023-05-27 19:40:00",
          "2023-05-27 20:00:00",
          "2023-05-27 20:20:00",
          "2023-05-27 21:00:00",
          "2023-05-27 21:30:00",
          "2023-05-27 22:20:00"
         ],
         "hovertemplate": "Médico=%{y}<br>Inicio=%{base}<br>Fin=%{x}<extra></extra>",
         "legendgroup": "1018472151",
         "marker": {
          "color": "#636efa",
          "pattern": {
           "shape": ""
          }
         },
         "name": "1018472151",
         "offsetgroup": "1018472151",
         "orientation": "h",
         "showlegend": true,
         "textposition": "auto",
         "type": "bar",
         "x": [
          1800000,
          540000,
          1020000,
          0,
          900000,
          1920000,
          540000,
          1800000,
          1260000,
          1500000,
          720000,
          780000,
          1080000,
          0,
          2280000,
          1140000,
          480000,
          1080000,
          1560000,
          300000,
          240000,
          840000,
          180000,
          960000,
          840000,
          660000,
          1020000,
          120000,
          120000
         ],
         "xaxis": "x",
         "y": [
          "1018472151",
          "1018472151",
          "1018472151",
          "1018472151",
          "1018472151",
          "1018472151",
          "1018472151",
          "1018472151",
          "1018472151",
          "1018472151",
          "1018472151",
          "1018472151",
          "1018472151",
          "1018472151",
          "1018472151",
          "1018472151",
          "1018472151",
          "1018472151",
          "1018472151",
          "1018472151",
          "1018472151",
          "1018472151",
          "1018472151",
          "1018472151",
          "1018472151",
          "1018472151",
          "1018472151",
          "1018472151",
          "1018472151"
         ],
         "yaxis": "y"
        },
        {
         "alignmentgroup": "True",
         "base": [
          "2023-05-27 02:40:00",
          "2023-05-27 05:00:00",
          "2023-05-27 08:40:00",
          "2023-05-27 09:00:00",
          "2023-05-27 10:00:00",
          "2023-05-27 10:50:00",
          "2023-05-27 11:20:00",
          "2023-05-27 11:40:00",
          "2023-05-27 12:20:00",
          "2023-05-27 12:40:00",
          "2023-05-27 14:40:00",
          "2023-05-27 16:20:00",
          "2023-05-27 17:10:00",
          "2023-05-27 18:00:00",
          "2023-05-27 18:15:00",
          "2023-05-27 18:20:00",
          "2023-05-27 19:20:00",
          "2023-05-27 20:10:00",
          "2023-05-27 20:20:00",
          "2023-05-27 20:30:00",
          "2023-05-27 21:40:00",
          "2023-05-27 23:00:00"
         ],
         "hovertemplate": "Médico=%{y}<br>Inicio=%{base}<br>Fin=%{x}<extra></extra>",
         "legendgroup": "1015437933",
         "marker": {
          "color": "#EF553B",
          "pattern": {
           "shape": ""
          }
         },
         "name": "1015437933",
         "offsetgroup": "1015437933",
         "orientation": "h",
         "showlegend": true,
         "textposition": "auto",
         "type": "bar",
         "x": [
          1140000,
          1380000,
          1020000,
          3540000,
          900000,
          300000,
          360000,
          900000,
          1080000,
          1800000,
          840000,
          1620000,
          1380000,
          660000,
          180000,
          180000,
          2700000,
          180000,
          420000,
          1500000,
          1560000,
          1500000
         ],
         "xaxis": "x",
         "y": [
          "1015437933",
          "1015437933",
          "1015437933",
          "1015437933",
          "1015437933",
          "1015437933",
          "1015437933",
          "1015437933",
          "1015437933",
          "1015437933",
          "1015437933",
          "1015437933",
          "1015437933",
          "1015437933",
          "1015437933",
          "1015437933",
          "1015437933",
          "1015437933",
          "1015437933",
          "1015437933",
          "1015437933",
          "1015437933"
         ],
         "yaxis": "y"
        },
        {
         "alignmentgroup": "True",
         "base": [
          "2023-05-27 03:30:00",
          "2023-05-27 09:20:00",
          "2023-05-27 10:00:00",
          "2023-05-27 10:40:00",
          "2023-05-27 11:20:00",
          "2023-05-27 11:40:00",
          "2023-05-27 12:00:00",
          "2023-05-27 12:20:00",
          "2023-05-27 13:20:00",
          "2023-05-27 14:00:00",
          "2023-05-27 14:40:00",
          "2023-05-27 15:20:00",
          "2023-05-27 15:40:00",
          "2023-05-27 16:20:00",
          "2023-05-27 17:20:00",
          "2023-05-27 18:20:00",
          "2023-05-27 19:00:00",
          "2023-05-27 19:40:00",
          "2023-05-27 20:20:00",
          "2023-05-27 20:40:00",
          "2023-05-27 21:20:00"
         ],
         "hovertemplate": "Médico=%{y}<br>Inicio=%{base}<br>Fin=%{x}<extra></extra>",
         "legendgroup": "80073352",
         "marker": {
          "color": "#00cc96",
          "pattern": {
           "shape": ""
          }
         },
         "name": "80073352",
         "offsetgroup": "80073352",
         "orientation": "h",
         "showlegend": true,
         "textposition": "auto",
         "type": "bar",
         "x": [
          2040000,
          1620000,
          1200000,
          660000,
          780000,
          900000,
          300000,
          1140000,
          1680000,
          1260000,
          960000,
          900000,
          780000,
          1200000,
          1440000,
          600000,
          720000,
          1080000,
          780000,
          1140000,
          0
         ],
         "xaxis": "x",
         "y": [
          "80073352",
          "80073352",
          "80073352",
          "80073352",
          "80073352",
          "80073352",
          "80073352",
          "80073352",
          "80073352",
          "80073352",
          "80073352",
          "80073352",
          "80073352",
          "80073352",
          "80073352",
          "80073352",
          "80073352",
          "80073352",
          "80073352",
          "80073352",
          "80073352"
         ],
         "yaxis": "y"
        },
        {
         "alignmentgroup": "True",
         "base": [
          "2023-05-27 03:40:00",
          "2023-05-27 09:30:00",
          "2023-05-27 11:20:00",
          "2023-05-27 11:20:00",
          "2023-05-27 12:00:00",
          "2023-05-27 12:20:00",
          "2023-05-27 13:20:00",
          "2023-05-27 13:40:00",
          "2023-05-27 14:00:00",
          "2023-05-27 14:20:00",
          "2023-05-27 15:00:00",
          "2023-05-27 17:00:00",
          "2023-05-27 17:20:00"
         ],
         "hovertemplate": "Médico=%{y}<br>Inicio=%{base}<br>Fin=%{x}<extra></extra>",
         "legendgroup": "52997773",
         "marker": {
          "color": "#ab63fa",
          "pattern": {
           "shape": ""
          }
         },
         "name": "52997773",
         "offsetgroup": "52997773",
         "orientation": "h",
         "showlegend": true,
         "textposition": "auto",
         "type": "bar",
         "x": [
          840000,
          4320000,
          0,
          1620000,
          1200000,
          600000,
          1140000,
          1080000,
          1020000,
          1140000,
          2640000,
          1200000,
          960000
         ],
         "xaxis": "x",
         "y": [
          "52997773",
          "52997773",
          "52997773",
          "52997773",
          "52997773",
          "52997773",
          "52997773",
          "52997773",
          "52997773",
          "52997773",
          "52997773",
          "52997773",
          "52997773"
         ],
         "yaxis": "y"
        },
        {
         "alignmentgroup": "True",
         "base": [
          "2023-05-27 03:40:00",
          "2023-05-27 11:00:00",
          "2023-05-27 11:40:00",
          "2023-05-27 12:20:00",
          "2023-05-27 14:00:00",
          "2023-05-27 14:40:00",
          "2023-05-27 16:20:00",
          "2023-05-27 22:20:00"
         ],
         "hovertemplate": "Médico=%{y}<br>Inicio=%{base}<br>Fin=%{x}<extra></extra>",
         "legendgroup": "79955886",
         "marker": {
          "color": "#FFA15A",
          "pattern": {
           "shape": ""
          }
         },
         "name": "79955886",
         "offsetgroup": "79955886",
         "orientation": "h",
         "showlegend": true,
         "textposition": "auto",
         "type": "bar",
         "x": [
          2640000,
          660000,
          420000,
          1380000,
          1260000,
          1920000,
          2400000,
          1020000
         ],
         "xaxis": "x",
         "y": [
          "79955886",
          "79955886",
          "79955886",
          "79955886",
          "79955886",
          "79955886",
          "79955886",
          "79955886"
         ],
         "yaxis": "y"
        },
        {
         "alignmentgroup": "True",
         "base": [
          "2023-05-27 04:00:00",
          "2023-05-27 05:20:00",
          "2023-05-27 07:40:00",
          "2023-05-27 08:40:00",
          "2023-05-27 12:20:00",
          "2023-05-27 12:40:00",
          "2023-05-27 13:20:00",
          "2023-05-27 14:00:00",
          "2023-05-27 15:00:00",
          "2023-05-27 15:20:00",
          "2023-05-27 16:40:00",
          "2023-05-27 17:20:00",
          "2023-05-27 18:00:00",
          "2023-05-27 19:20:00",
          "2023-05-27 19:50:00",
          "2023-05-27 20:00:00",
          "2023-05-27 21:00:00",
          "2023-05-27 21:30:00"
         ],
         "hovertemplate": "Médico=%{y}<br>Inicio=%{base}<br>Fin=%{x}<extra></extra>",
         "legendgroup": "1015414697",
         "marker": {
          "color": "#19d3f3",
          "pattern": {
           "shape": ""
          }
         },
         "name": "1015414697",
         "offsetgroup": "1015414697",
         "orientation": "h",
         "showlegend": true,
         "textposition": "auto",
         "type": "bar",
         "x": [
          2160000,
          1800000,
          840000,
          540000,
          1020000,
          420000,
          1440000,
          900000,
          1200000,
          1560000,
          1020000,
          2160000,
          840000,
          0,
          540000,
          3000000,
          600000,
          240000
         ],
         "xaxis": "x",
         "y": [
          "1015414697",
          "1015414697",
          "1015414697",
          "1015414697",
          "1015414697",
          "1015414697",
          "1015414697",
          "1015414697",
          "1015414697",
          "1015414697",
          "1015414697",
          "1015414697",
          "1015414697",
          "1015414697",
          "1015414697",
          "1015414697",
          "1015414697",
          "1015414697"
         ],
         "yaxis": "y"
        },
        {
         "alignmentgroup": "True",
         "base": [
          "2023-05-27 04:30:00",
          "2023-05-27 06:40:00",
          "2023-05-27 10:00:00",
          "2023-05-27 10:40:00",
          "2023-05-27 11:00:00",
          "2023-05-27 11:50:00",
          "2023-05-27 13:00:00",
          "2023-05-27 15:50:00",
          "2023-05-27 16:10:00",
          "2023-05-27 16:40:00",
          "2023-05-27 20:30:00",
          "2023-05-27 21:00:00"
         ],
         "hovertemplate": "Médico=%{y}<br>Inicio=%{base}<br>Fin=%{x}<extra></extra>",
         "legendgroup": "1019088914",
         "marker": {
          "color": "#FF6692",
          "pattern": {
           "shape": ""
          }
         },
         "name": "1019088914",
         "offsetgroup": "1019088914",
         "orientation": "h",
         "showlegend": true,
         "textposition": "auto",
         "type": "bar",
         "x": [
          2340000,
          720000,
          840000,
          0,
          720000,
          0,
          900000,
          1020000,
          120000,
          600000,
          1380000,
          840000
         ],
         "xaxis": "x",
         "y": [
          "1019088914",
          "1019088914",
          "1019088914",
          "1019088914",
          "1019088914",
          "1019088914",
          "1019088914",
          "1019088914",
          "1019088914",
          "1019088914",
          "1019088914",
          "1019088914"
         ],
         "yaxis": "y"
        },
        {
         "alignmentgroup": "True",
         "base": [
          "2023-05-27 05:00:00",
          "2023-05-27 07:40:00",
          "2023-05-27 12:40:00",
          "2023-05-27 13:20:00",
          "2023-05-27 15:00:00",
          "2023-05-27 15:40:00",
          "2023-05-27 16:00:00",
          "2023-05-27 17:00:00",
          "2023-05-27 17:40:00"
         ],
         "hovertemplate": "Médico=%{y}<br>Inicio=%{base}<br>Fin=%{x}<extra></extra>",
         "legendgroup": "1020777651",
         "marker": {
          "color": "#B6E880",
          "pattern": {
           "shape": ""
          }
         },
         "name": "1020777651",
         "offsetgroup": "1020777651",
         "orientation": "h",
         "showlegend": true,
         "textposition": "auto",
         "type": "bar",
         "x": [
          1860000,
          1800000,
          1320000,
          1860000,
          240000,
          1080000,
          180000,
          840000,
          1680000
         ],
         "xaxis": "x",
         "y": [
          "1020777651",
          "1020777651",
          "1020777651",
          "1020777651",
          "1020777651",
          "1020777651",
          "1020777651",
          "1020777651",
          "1020777651"
         ],
         "yaxis": "y"
        },
        {
         "alignmentgroup": "True",
         "base": [
          "2023-05-27 06:40:00",
          "2023-05-27 07:20:00",
          "2023-05-27 09:40:00",
          "2023-05-27 10:20:00",
          "2023-05-27 10:40:00",
          "2023-05-27 11:00:00",
          "2023-05-27 13:10:00",
          "2023-05-27 13:40:00",
          "2023-05-27 15:20:00",
          "2023-05-27 17:40:00",
          "2023-05-27 18:20:00",
          "2023-05-27 19:00:00",
          "2023-05-27 22:00:00"
         ],
         "hovertemplate": "Médico=%{y}<br>Inicio=%{base}<br>Fin=%{x}<extra></extra>",
         "legendgroup": "1018446151",
         "marker": {
          "color": "#FF97FF",
          "pattern": {
           "shape": ""
          }
         },
         "name": "1018446151",
         "offsetgroup": "1018446151",
         "orientation": "h",
         "showlegend": true,
         "textposition": "auto",
         "type": "bar",
         "x": [
          1200000,
          840000,
          1140000,
          1200000,
          300000,
          1260000,
          960000,
          2040000,
          960000,
          780000,
          900000,
          720000,
          0
         ],
         "xaxis": "x",
         "y": [
          "1018446151",
          "1018446151",
          "1018446151",
          "1018446151",
          "1018446151",
          "1018446151",
          "1018446151",
          "1018446151",
          "1018446151",
          "1018446151",
          "1018446151",
          "1018446151",
          "1018446151"
         ],
         "yaxis": "y"
        },
        {
         "alignmentgroup": "True",
         "base": [
          "2023-05-27 06:40:00",
          "2023-05-27 08:20:00",
          "2023-05-27 09:10:00",
          "2023-05-27 10:00:00",
          "2023-05-27 11:40:00",
          "2023-05-27 12:20:00",
          "2023-05-27 12:20:00",
          "2023-05-27 13:40:00",
          "2023-05-27 16:40:00",
          "2023-05-27 17:20:00",
          "2023-05-27 20:30:00",
          "2023-05-27 21:30:00"
         ],
         "hovertemplate": "Médico=%{y}<br>Inicio=%{base}<br>Fin=%{x}<extra></extra>",
         "legendgroup": "80185764",
         "marker": {
          "color": "#FECB52",
          "pattern": {
           "shape": ""
          }
         },
         "name": "80185764",
         "offsetgroup": "80185764",
         "orientation": "h",
         "showlegend": true,
         "textposition": "auto",
         "type": "bar",
         "x": [
          1920000,
          780000,
          1620000,
          1860000,
          840000,
          0,
          780000,
          0,
          1920000,
          2760000,
          180000,
          1260000
         ],
         "xaxis": "x",
         "y": [
          "80185764",
          "80185764",
          "80185764",
          "80185764",
          "80185764",
          "80185764",
          "80185764",
          "80185764",
          "80185764",
          "80185764",
          "80185764",
          "80185764"
         ],
         "yaxis": "y"
        },
        {
         "alignmentgroup": "True",
         "base": [
          "2023-05-27 06:40:00",
          "2023-05-27 10:40:00",
          "2023-05-27 14:20:00",
          "2023-05-27 20:40:00",
          "2023-05-27 22:00:00"
         ],
         "hovertemplate": "Médico=%{y}<br>Inicio=%{base}<br>Fin=%{x}<extra></extra>",
         "legendgroup": "39779707",
         "marker": {
          "color": "#636efa",
          "pattern": {
           "shape": ""
          }
         },
         "name": "39779707",
         "offsetgroup": "39779707",
         "orientation": "h",
         "showlegend": true,
         "textposition": "auto",
         "type": "bar",
         "x": [
          960000,
          1680000,
          1440000,
          780000,
          900000
         ],
         "xaxis": "x",
         "y": [
          "39779707",
          "39779707",
          "39779707",
          "39779707",
          "39779707"
         ],
         "yaxis": "y"
        },
        {
         "alignmentgroup": "True",
         "base": [
          "2023-05-27 06:40:00",
          "2023-05-27 07:20:00",
          "2023-05-27 08:20:00",
          "2023-05-27 08:40:00",
          "2023-05-27 09:00:00",
          "2023-05-27 10:00:00",
          "2023-05-27 10:10:00",
          "2023-05-27 11:20:00",
          "2023-05-27 14:00:00",
          "2023-05-27 15:00:00",
          "2023-05-27 17:10:00"
         ],
         "hovertemplate": "Médico=%{y}<br>Inicio=%{base}<br>Fin=%{x}<extra></extra>",
         "legendgroup": "1127250183",
         "marker": {
          "color": "#EF553B",
          "pattern": {
           "shape": ""
          }
         },
         "name": "1127250183",
         "offsetgroup": "1127250183",
         "orientation": "h",
         "showlegend": true,
         "textposition": "auto",
         "type": "bar",
         "x": [
          1500000,
          360000,
          0,
          1020000,
          840000,
          240000,
          0,
          840000,
          1380000,
          1680000,
          900000
         ],
         "xaxis": "x",
         "y": [
          "1127250183",
          "1127250183",
          "1127250183",
          "1127250183",
          "1127250183",
          "1127250183",
          "1127250183",
          "1127250183",
          "1127250183",
          "1127250183",
          "1127250183"
         ],
         "yaxis": "y"
        },
        {
         "alignmentgroup": "True",
         "base": [
          "2023-05-27 07:00:00",
          "2023-05-27 07:55:00",
          "2023-05-27 08:20:00",
          "2023-05-27 09:00:00"
         ],
         "hovertemplate": "Médico=%{y}<br>Inicio=%{base}<br>Fin=%{x}<extra></extra>",
         "legendgroup": "52200795",
         "marker": {
          "color": "#00cc96",
          "pattern": {
           "shape": ""
          }
         },
         "name": "52200795",
         "offsetgroup": "52200795",
         "orientation": "h",
         "showlegend": true,
         "textposition": "auto",
         "type": "bar",
         "x": [
          1380000,
          1020000,
          480000,
          1560000
         ],
         "xaxis": "x",
         "y": [
          "52200795",
          "52200795",
          "52200795",
          "52200795"
         ],
         "yaxis": "y"
        },
        {
         "alignmentgroup": "True",
         "base": [
          "2023-05-27 07:30:00",
          "2023-05-27 15:45:00",
          "2023-05-27 16:20:00",
          "2023-05-27 17:20:00",
          "2023-05-27 18:00:00",
          "2023-05-27 18:30:00"
         ],
         "hovertemplate": "Médico=%{y}<br>Inicio=%{base}<br>Fin=%{x}<extra></extra>",
         "legendgroup": "1024468225",
         "marker": {
          "color": "#ab63fa",
          "pattern": {
           "shape": ""
          }
         },
         "name": "1024468225",
         "offsetgroup": "1024468225",
         "orientation": "h",
         "showlegend": true,
         "textposition": "auto",
         "type": "bar",
         "x": [
          540000,
          1200000,
          900000,
          540000,
          1800000,
          1500000
         ],
         "xaxis": "x",
         "y": [
          "1024468225",
          "1024468225",
          "1024468225",
          "1024468225",
          "1024468225",
          "1024468225"
         ],
         "yaxis": "y"
        },
        {
         "alignmentgroup": "True",
         "base": [
          "2023-05-27 08:00:00",
          "2023-05-27 11:40:00",
          "2023-05-27 14:40:00",
          "2023-05-27 15:20:00",
          "2023-05-27 16:40:00",
          "2023-05-27 17:40:00",
          "2023-05-27 18:20:00",
          "2023-05-27 18:40:00",
          "2023-05-27 19:20:00",
          "2023-05-27 21:20:00",
          "2023-05-27 22:00:00",
          "2023-05-27 22:20:00"
         ],
         "hovertemplate": "Médico=%{y}<br>Inicio=%{base}<br>Fin=%{x}<extra></extra>",
         "legendgroup": "1121853934",
         "marker": {
          "color": "#FFA15A",
          "pattern": {
           "shape": ""
          }
         },
         "name": "1121853934",
         "offsetgroup": "1121853934",
         "orientation": "h",
         "showlegend": true,
         "textposition": "auto",
         "type": "bar",
         "x": [
          960000,
          900000,
          0,
          2400000,
          1920000,
          2100000,
          420000,
          1320000,
          840000,
          1080000,
          0,
          420000
         ],
         "xaxis": "x",
         "y": [
          "1121853934",
          "1121853934",
          "1121853934",
          "1121853934",
          "1121853934",
          "1121853934",
          "1121853934",
          "1121853934",
          "1121853934",
          "1121853934",
          "1121853934",
          "1121853934"
         ],
         "yaxis": "y"
        },
        {
         "alignmentgroup": "True",
         "base": [
          "2023-05-27 08:20:00",
          "2023-05-27 10:20:00",
          "2023-05-27 11:20:00",
          "2023-05-27 12:00:00",
          "2023-05-27 14:00:00"
         ],
         "hovertemplate": "Médico=%{y}<br>Inicio=%{base}<br>Fin=%{x}<extra></extra>",
         "legendgroup": "1016039086",
         "marker": {
          "color": "#19d3f3",
          "pattern": {
           "shape": ""
          }
         },
         "name": "1016039086",
         "offsetgroup": "1016039086",
         "orientation": "h",
         "showlegend": true,
         "textposition": "auto",
         "type": "bar",
         "x": [
          1920000,
          1920000,
          780000,
          1860000,
          960000
         ],
         "xaxis": "x",
         "y": [
          "1016039086",
          "1016039086",
          "1016039086",
          "1016039086",
          "1016039086"
         ],
         "yaxis": "y"
        },
        {
         "alignmentgroup": "True",
         "base": [
          "2023-05-27 08:40:00",
          "2023-05-27 09:20:00",
          "2023-05-27 10:00:00",
          "2023-05-27 11:00:00",
          "2023-05-27 11:40:00",
          "2023-05-27 12:20:00",
          "2023-05-27 14:00:00",
          "2023-05-27 14:40:00",
          "2023-05-27 18:00:00",
          "2023-05-27 18:20:00",
          "2023-05-27 19:20:00",
          "2023-05-27 20:00:00",
          "2023-05-27 21:10:00"
         ],
         "hovertemplate": "Médico=%{y}<br>Inicio=%{base}<br>Fin=%{x}<extra></extra>",
         "legendgroup": "80075437",
         "marker": {
          "color": "#FF6692",
          "pattern": {
           "shape": ""
          }
         },
         "name": "80075437",
         "offsetgroup": "80075437",
         "orientation": "h",
         "showlegend": true,
         "textposition": "auto",
         "type": "bar",
         "x": [
          780000,
          840000,
          540000,
          1320000,
          540000,
          900000,
          1020000,
          600000,
          780000,
          840000,
          900000,
          1800000,
          360000
         ],
         "xaxis": "x",
         "y": [
          "80075437",
          "80075437",
          "80075437",
          "80075437",
          "80075437",
          "80075437",
          "80075437",
          "80075437",
          "80075437",
          "80075437",
          "80075437",
          "80075437",
          "80075437"
         ],
         "yaxis": "y"
        },
        {
         "alignmentgroup": "True",
         "base": [
          "2023-05-27 08:40:00",
          "2023-05-27 16:40:00",
          "2023-05-27 18:20:00",
          "2023-05-27 20:00:00",
          "2023-05-27 21:40:00"
         ],
         "hovertemplate": "Médico=%{y}<br>Inicio=%{base}<br>Fin=%{x}<extra></extra>",
         "legendgroup": "80383487",
         "marker": {
          "color": "#B6E880",
          "pattern": {
           "shape": ""
          }
         },
         "name": "80383487",
         "offsetgroup": "80383487",
         "orientation": "h",
         "showlegend": true,
         "textposition": "auto",
         "type": "bar",
         "x": [
          1080000,
          960000,
          1200000,
          900000,
          900000
         ],
         "xaxis": "x",
         "y": [
          "80383487",
          "80383487",
          "80383487",
          "80383487",
          "80383487"
         ],
         "yaxis": "y"
        },
        {
         "alignmentgroup": "True",
         "base": [
          "2023-05-27 08:50:00",
          "2023-05-27 09:00:00",
          "2023-05-27 14:00:00",
          "2023-05-27 19:20:00",
          "2023-05-27 22:20:00"
         ],
         "hovertemplate": "Médico=%{y}<br>Inicio=%{base}<br>Fin=%{x}<extra></extra>",
         "legendgroup": "1020803066",
         "marker": {
          "color": "#FF97FF",
          "pattern": {
           "shape": ""
          }
         },
         "name": "1020803066",
         "offsetgroup": "1020803066",
         "orientation": "h",
         "showlegend": true,
         "textposition": "auto",
         "type": "bar",
         "x": [
          180000,
          1140000,
          1140000,
          1620000,
          900000
         ],
         "xaxis": "x",
         "y": [
          "1020803066",
          "1020803066",
          "1020803066",
          "1020803066",
          "1020803066"
         ],
         "yaxis": "y"
        },
        {
         "alignmentgroup": "True",
         "base": [
          "2023-05-27 09:40:00",
          "2023-05-27 10:40:00",
          "2023-05-27 14:20:00",
          "2023-05-27 16:20:00",
          "2023-05-27 16:40:00",
          "2023-05-27 17:20:00",
          "2023-05-27 18:00:00",
          "2023-05-27 18:40:00",
          "2023-05-27 20:10:00"
         ],
         "hovertemplate": "Médico=%{y}<br>Inicio=%{base}<br>Fin=%{x}<extra></extra>",
         "legendgroup": "57293715",
         "marker": {
          "color": "#FECB52",
          "pattern": {
           "shape": ""
          }
         },
         "name": "57293715",
         "offsetgroup": "57293715",
         "orientation": "h",
         "showlegend": true,
         "textposition": "auto",
         "type": "bar",
         "x": [
          960000,
          1800000,
          300000,
          1140000,
          720000,
          780000,
          1560000,
          120000,
          4020000
         ],
         "xaxis": "x",
         "y": [
          "57293715",
          "57293715",
          "57293715",
          "57293715",
          "57293715",
          "57293715",
          "57293715",
          "57293715",
          "57293715"
         ],
         "yaxis": "y"
        },
        {
         "alignmentgroup": "True",
         "base": [
          "2023-05-27 09:40:00",
          "2023-05-27 12:00:00",
          "2023-05-27 14:40:00",
          "2023-05-27 16:40:00",
          "2023-05-27 17:00:00",
          "2023-05-27 17:50:00",
          "2023-05-27 19:20:00",
          "2023-05-27 19:40:00"
         ],
         "hovertemplate": "Médico=%{y}<br>Inicio=%{base}<br>Fin=%{x}<extra></extra>",
         "legendgroup": "1053327980",
         "marker": {
          "color": "#636efa",
          "pattern": {
           "shape": ""
          }
         },
         "name": "1053327980",
         "offsetgroup": "1053327980",
         "orientation": "h",
         "showlegend": true,
         "textposition": "auto",
         "type": "bar",
         "x": [
          2100000,
          2940000,
          660000,
          420000,
          840000,
          1020000,
          780000,
          0
         ],
         "xaxis": "x",
         "y": [
          "1053327980",
          "1053327980",
          "1053327980",
          "1053327980",
          "1053327980",
          "1053327980",
          "1053327980",
          "1053327980"
         ],
         "yaxis": "y"
        },
        {
         "alignmentgroup": "True",
         "base": [
          "2023-05-27 09:40:00",
          "2023-05-27 14:20:00",
          "2023-05-27 15:40:00",
          "2023-05-27 19:00:00",
          "2023-05-27 19:40:00",
          "2023-05-27 20:20:00",
          "2023-05-27 21:00:00"
         ],
         "hovertemplate": "Médico=%{y}<br>Inicio=%{base}<br>Fin=%{x}<extra></extra>",
         "legendgroup": "1020808271",
         "marker": {
          "color": "#EF553B",
          "pattern": {
           "shape": ""
          }
         },
         "name": "1020808271",
         "offsetgroup": "1020808271",
         "orientation": "h",
         "showlegend": true,
         "textposition": "auto",
         "type": "bar",
         "x": [
          1800000,
          540000,
          2700000,
          60000,
          60000,
          900000,
          540000
         ],
         "xaxis": "x",
         "y": [
          "1020808271",
          "1020808271",
          "1020808271",
          "1020808271",
          "1020808271",
          "1020808271",
          "1020808271"
         ],
         "yaxis": "y"
        },
        {
         "alignmentgroup": "True",
         "base": [
          "2023-05-27 10:00:00"
         ],
         "hovertemplate": "Médico=%{y}<br>Inicio=%{base}<br>Fin=%{x}<extra></extra>",
         "legendgroup": "80727764",
         "marker": {
          "color": "#00cc96",
          "pattern": {
           "shape": ""
          }
         },
         "name": "80727764",
         "offsetgroup": "80727764",
         "orientation": "h",
         "showlegend": true,
         "textposition": "auto",
         "type": "bar",
         "x": [
          900000
         ],
         "xaxis": "x",
         "y": [
          "80727764"
         ],
         "yaxis": "y"
        },
        {
         "alignmentgroup": "True",
         "base": [
          "2023-05-27 10:00:00",
          "2023-05-27 13:00:00",
          "2023-05-27 14:40:00",
          "2023-05-27 19:20:00",
          "2023-05-27 20:30:00",
          "2023-05-27 21:00:00",
          "2023-05-27 21:20:00"
         ],
         "hovertemplate": "Médico=%{y}<br>Inicio=%{base}<br>Fin=%{x}<extra></extra>",
         "legendgroup": "1098635342",
         "marker": {
          "color": "#ab63fa",
          "pattern": {
           "shape": ""
          }
         },
         "name": "1098635342",
         "offsetgroup": "1098635342",
         "orientation": "h",
         "showlegend": true,
         "textposition": "auto",
         "type": "bar",
         "x": [
          2280000,
          1260000,
          2400000,
          1200000,
          1020000,
          1140000,
          900000
         ],
         "xaxis": "x",
         "y": [
          "1098635342",
          "1098635342",
          "1098635342",
          "1098635342",
          "1098635342",
          "1098635342",
          "1098635342"
         ],
         "yaxis": "y"
        },
        {
         "alignmentgroup": "True",
         "base": [
          "2023-05-27 10:20:00",
          "2023-05-27 11:00:00",
          "2023-05-27 14:00:00"
         ],
         "hovertemplate": "Médico=%{y}<br>Inicio=%{base}<br>Fin=%{x}<extra></extra>",
         "legendgroup": "1015405667",
         "marker": {
          "color": "#FFA15A",
          "pattern": {
           "shape": ""
          }
         },
         "name": "1015405667",
         "offsetgroup": "1015405667",
         "orientation": "h",
         "showlegend": true,
         "textposition": "auto",
         "type": "bar",
         "x": [
          1260000,
          2580000,
          900000
         ],
         "xaxis": "x",
         "y": [
          "1015405667",
          "1015405667",
          "1015405667"
         ],
         "yaxis": "y"
        },
        {
         "alignmentgroup": "True",
         "base": [
          "2023-05-27 10:40:00",
          "2023-05-27 12:00:00",
          "2023-05-27 12:40:00"
         ],
         "hovertemplate": "Médico=%{y}<br>Inicio=%{base}<br>Fin=%{x}<extra></extra>",
         "legendgroup": "1083012532",
         "marker": {
          "color": "#19d3f3",
          "pattern": {
           "shape": ""
          }
         },
         "name": "1083012532",
         "offsetgroup": "1083012532",
         "orientation": "h",
         "showlegend": true,
         "textposition": "auto",
         "type": "bar",
         "x": [
          1800000,
          1320000,
          960000
         ],
         "xaxis": "x",
         "y": [
          "1083012532",
          "1083012532",
          "1083012532"
         ],
         "yaxis": "y"
        },
        {
         "alignmentgroup": "True",
         "base": [
          "2023-05-27 11:00:00"
         ],
         "hovertemplate": "Médico=%{y}<br>Inicio=%{base}<br>Fin=%{x}<extra></extra>",
         "legendgroup": "1082996581",
         "marker": {
          "color": "#FF6692",
          "pattern": {
           "shape": ""
          }
         },
         "name": "1082996581",
         "offsetgroup": "1082996581",
         "orientation": "h",
         "showlegend": true,
         "textposition": "auto",
         "type": "bar",
         "x": [
          900000
         ],
         "xaxis": "x",
         "y": [
          "1082996581"
         ],
         "yaxis": "y"
        },
        {
         "alignmentgroup": "True",
         "base": [
          "2023-05-27 11:00:00",
          "2023-05-27 12:20:00",
          "2023-05-27 14:40:00",
          "2023-05-27 15:00:00",
          "2023-05-27 15:30:00",
          "2023-05-27 16:10:00",
          "2023-05-27 17:00:00",
          "2023-05-27 19:40:00"
         ],
         "hovertemplate": "Médico=%{y}<br>Inicio=%{base}<br>Fin=%{x}<extra></extra>",
         "legendgroup": "1117504115",
         "marker": {
          "color": "#B6E880",
          "pattern": {
           "shape": ""
          }
         },
         "name": "1117504115",
         "offsetgroup": "1117504115",
         "orientation": "h",
         "showlegend": true,
         "textposition": "auto",
         "type": "bar",
         "x": [
          1380000,
          1080000,
          1080000,
          1140000,
          0,
          1440000,
          1020000,
          120000
         ],
         "xaxis": "x",
         "y": [
          "1117504115",
          "1117504115",
          "1117504115",
          "1117504115",
          "1117504115",
          "1117504115",
          "1117504115",
          "1117504115"
         ],
         "yaxis": "y"
        },
        {
         "alignmentgroup": "True",
         "base": [
          "2023-05-27 11:10:00",
          "2023-05-27 12:40:00",
          "2023-05-27 13:20:00",
          "2023-05-27 15:00:00",
          "2023-05-27 17:40:00",
          "2023-05-27 19:00:00"
         ],
         "hovertemplate": "Médico=%{y}<br>Inicio=%{base}<br>Fin=%{x}<extra></extra>",
         "legendgroup": "1083026203",
         "marker": {
          "color": "#FF97FF",
          "pattern": {
           "shape": ""
          }
         },
         "name": "1083026203",
         "offsetgroup": "1083026203",
         "orientation": "h",
         "showlegend": true,
         "textposition": "auto",
         "type": "bar",
         "x": [
          360000,
          1200000,
          1140000,
          1200000,
          900000,
          2160000
         ],
         "xaxis": "x",
         "y": [
          "1083026203",
          "1083026203",
          "1083026203",
          "1083026203",
          "1083026203",
          "1083026203"
         ],
         "yaxis": "y"
        },
        {
         "alignmentgroup": "True",
         "base": [
          "2023-05-27 11:20:00",
          "2023-05-27 13:00:00",
          "2023-05-27 15:20:00",
          "2023-05-27 16:00:00",
          "2023-05-27 17:20:00",
          "2023-05-27 18:40:00",
          "2023-05-27 20:00:00",
          "2023-05-27 20:40:00",
          "2023-05-27 21:20:00",
          "2023-05-27 22:30:00"
         ],
         "hovertemplate": "Médico=%{y}<br>Inicio=%{base}<br>Fin=%{x}<extra></extra>",
         "legendgroup": "1085310672",
         "marker": {
          "color": "#FECB52",
          "pattern": {
           "shape": ""
          }
         },
         "name": "1085310672",
         "offsetgroup": "1085310672",
         "orientation": "h",
         "showlegend": true,
         "textposition": "auto",
         "type": "bar",
         "x": [
          2640000,
          900000,
          1680000,
          480000,
          1080000,
          660000,
          2280000,
          300000,
          480000,
          780000
         ],
         "xaxis": "x",
         "y": [
          "1085310672",
          "1085310672",
          "1085310672",
          "1085310672",
          "1085310672",
          "1085310672",
          "1085310672",
          "1085310672",
          "1085310672",
          "1085310672"
         ],
         "yaxis": "y"
        },
        {
         "alignmentgroup": "True",
         "base": [
          "2023-05-27 13:00:00"
         ],
         "hovertemplate": "Médico=%{y}<br>Inicio=%{base}<br>Fin=%{x}<extra></extra>",
         "legendgroup": "1095825225",
         "marker": {
          "color": "#636efa",
          "pattern": {
           "shape": ""
          }
         },
         "name": "1095825225",
         "offsetgroup": "1095825225",
         "orientation": "h",
         "showlegend": true,
         "textposition": "auto",
         "type": "bar",
         "x": [
          1620000
         ],
         "xaxis": "x",
         "y": [
          "1095825225"
         ],
         "yaxis": "y"
        },
        {
         "alignmentgroup": "True",
         "base": [
          "2023-05-27 13:20:00",
          "2023-05-27 16:00:00",
          "2023-05-27 18:50:00",
          "2023-05-27 20:20:00"
         ],
         "hovertemplate": "Médico=%{y}<br>Inicio=%{base}<br>Fin=%{x}<extra></extra>",
         "legendgroup": "1018440480",
         "marker": {
          "color": "#EF553B",
          "pattern": {
           "shape": ""
          }
         },
         "name": "1018440480",
         "offsetgroup": "1018440480",
         "orientation": "h",
         "showlegend": true,
         "textposition": "auto",
         "type": "bar",
         "x": [
          360000,
          60000,
          1860000,
          1500000
         ],
         "xaxis": "x",
         "y": [
          "1018440480",
          "1018440480",
          "1018440480",
          "1018440480"
         ],
         "yaxis": "y"
        },
        {
         "alignmentgroup": "True",
         "base": [
          "2023-05-27 13:40:00"
         ],
         "hovertemplate": "Médico=%{y}<br>Inicio=%{base}<br>Fin=%{x}<extra></extra>",
         "legendgroup": "1032491705",
         "marker": {
          "color": "#00cc96",
          "pattern": {
           "shape": ""
          }
         },
         "name": "1032491705",
         "offsetgroup": "1032491705",
         "orientation": "h",
         "showlegend": true,
         "textposition": "auto",
         "type": "bar",
         "x": [
          240000
         ],
         "xaxis": "x",
         "y": [
          "1032491705"
         ],
         "yaxis": "y"
        },
        {
         "alignmentgroup": "True",
         "base": [
          "2023-05-27 14:40:00",
          "2023-05-27 17:40:00"
         ],
         "hovertemplate": "Médico=%{y}<br>Inicio=%{base}<br>Fin=%{x}<extra></extra>",
         "legendgroup": "1014217039",
         "marker": {
          "color": "#ab63fa",
          "pattern": {
           "shape": ""
          }
         },
         "name": "1014217039",
         "offsetgroup": "1014217039",
         "orientation": "h",
         "showlegend": true,
         "textposition": "auto",
         "type": "bar",
         "x": [
          1560000,
          60000
         ],
         "xaxis": "x",
         "y": [
          "1014217039",
          "1014217039"
         ],
         "yaxis": "y"
        },
        {
         "alignmentgroup": "True",
         "base": [
          "2023-05-27 14:40:00",
          "2023-05-27 15:30:00",
          "2023-05-27 18:00:00"
         ],
         "hovertemplate": "Médico=%{y}<br>Inicio=%{base}<br>Fin=%{x}<extra></extra>",
         "legendgroup": "1014266018",
         "marker": {
          "color": "#FFA15A",
          "pattern": {
           "shape": ""
          }
         },
         "name": "1014266018",
         "offsetgroup": "1014266018",
         "orientation": "h",
         "showlegend": true,
         "textposition": "auto",
         "type": "bar",
         "x": [
          1260000,
          1620000,
          480000
         ],
         "xaxis": "x",
         "y": [
          "1014266018",
          "1014266018",
          "1014266018"
         ],
         "yaxis": "y"
        },
        {
         "alignmentgroup": "True",
         "base": [
          "2023-05-27 15:00:00",
          "2023-05-27 15:30:00",
          "2023-05-27 18:20:00"
         ],
         "hovertemplate": "Médico=%{y}<br>Inicio=%{base}<br>Fin=%{x}<extra></extra>",
         "legendgroup": "1098697055",
         "marker": {
          "color": "#19d3f3",
          "pattern": {
           "shape": ""
          }
         },
         "name": "1098697055",
         "offsetgroup": "1098697055",
         "orientation": "h",
         "showlegend": true,
         "textposition": "auto",
         "type": "bar",
         "x": [
          540000,
          420000,
          240000
         ],
         "xaxis": "x",
         "y": [
          "1098697055",
          "1098697055",
          "1098697055"
         ],
         "yaxis": "y"
        },
        {
         "alignmentgroup": "True",
         "base": [
          "2023-05-27 15:20:00",
          "2023-05-27 16:40:00",
          "2023-05-27 21:40:00"
         ],
         "hovertemplate": "Médico=%{y}<br>Inicio=%{base}<br>Fin=%{x}<extra></extra>",
         "legendgroup": "85488148",
         "marker": {
          "color": "#FF6692",
          "pattern": {
           "shape": ""
          }
         },
         "name": "85488148",
         "offsetgroup": "85488148",
         "orientation": "h",
         "showlegend": true,
         "textposition": "auto",
         "type": "bar",
         "x": [
          600000,
          180000,
          1320000
         ],
         "xaxis": "x",
         "y": [
          "85488148",
          "85488148",
          "85488148"
         ],
         "yaxis": "y"
        },
        {
         "alignmentgroup": "True",
         "base": [
          "2023-05-27 16:00:00",
          "2023-05-27 16:40:00"
         ],
         "hovertemplate": "Médico=%{y}<br>Inicio=%{base}<br>Fin=%{x}<extra></extra>",
         "legendgroup": "1140888504",
         "marker": {
          "color": "#B6E880",
          "pattern": {
           "shape": ""
          }
         },
         "name": "1140888504",
         "offsetgroup": "1140888504",
         "orientation": "h",
         "showlegend": true,
         "textposition": "auto",
         "type": "bar",
         "x": [
          840000,
          540000
         ],
         "xaxis": "x",
         "y": [
          "1140888504",
          "1140888504"
         ],
         "yaxis": "y"
        },
        {
         "alignmentgroup": "True",
         "base": [
          "2023-05-27 21:40:00"
         ],
         "hovertemplate": "Médico=%{y}<br>Inicio=%{base}<br>Fin=%{x}<extra></extra>",
         "legendgroup": "1019074166",
         "marker": {
          "color": "#FF97FF",
          "pattern": {
           "shape": ""
          }
         },
         "name": "1019074166",
         "offsetgroup": "1019074166",
         "orientation": "h",
         "showlegend": true,
         "textposition": "auto",
         "type": "bar",
         "x": [
          840000
         ],
         "xaxis": "x",
         "y": [
          "1019074166"
         ],
         "yaxis": "y"
        }
       ],
       "layout": {
        "autosize": false,
        "barmode": "overlay",
        "height": 500,
        "legend": {
         "title": {
          "text": "Médico"
         },
         "tracegroupgap": 0
        },
        "template": {
         "data": {
          "bar": [
           {
            "error_x": {
             "color": "#2a3f5f"
            },
            "error_y": {
             "color": "#2a3f5f"
            },
            "marker": {
             "line": {
              "color": "#E5ECF6",
              "width": 0.5
             },
             "pattern": {
              "fillmode": "overlay",
              "size": 10,
              "solidity": 0.2
             }
            },
            "type": "bar"
           }
          ],
          "barpolar": [
           {
            "marker": {
             "line": {
              "color": "#E5ECF6",
              "width": 0.5
             },
             "pattern": {
              "fillmode": "overlay",
              "size": 10,
              "solidity": 0.2
             }
            },
            "type": "barpolar"
           }
          ],
          "carpet": [
           {
            "aaxis": {
             "endlinecolor": "#2a3f5f",
             "gridcolor": "white",
             "linecolor": "white",
             "minorgridcolor": "white",
             "startlinecolor": "#2a3f5f"
            },
            "baxis": {
             "endlinecolor": "#2a3f5f",
             "gridcolor": "white",
             "linecolor": "white",
             "minorgridcolor": "white",
             "startlinecolor": "#2a3f5f"
            },
            "type": "carpet"
           }
          ],
          "choropleth": [
           {
            "colorbar": {
             "outlinewidth": 0,
             "ticks": ""
            },
            "type": "choropleth"
           }
          ],
          "contour": [
           {
            "colorbar": {
             "outlinewidth": 0,
             "ticks": ""
            },
            "colorscale": [
             [
              0,
              "#0d0887"
             ],
             [
              0.1111111111111111,
              "#46039f"
             ],
             [
              0.2222222222222222,
              "#7201a8"
             ],
             [
              0.3333333333333333,
              "#9c179e"
             ],
             [
              0.4444444444444444,
              "#bd3786"
             ],
             [
              0.5555555555555556,
              "#d8576b"
             ],
             [
              0.6666666666666666,
              "#ed7953"
             ],
             [
              0.7777777777777778,
              "#fb9f3a"
             ],
             [
              0.8888888888888888,
              "#fdca26"
             ],
             [
              1,
              "#f0f921"
             ]
            ],
            "type": "contour"
           }
          ],
          "contourcarpet": [
           {
            "colorbar": {
             "outlinewidth": 0,
             "ticks": ""
            },
            "type": "contourcarpet"
           }
          ],
          "heatmap": [
           {
            "colorbar": {
             "outlinewidth": 0,
             "ticks": ""
            },
            "colorscale": [
             [
              0,
              "#0d0887"
             ],
             [
              0.1111111111111111,
              "#46039f"
             ],
             [
              0.2222222222222222,
              "#7201a8"
             ],
             [
              0.3333333333333333,
              "#9c179e"
             ],
             [
              0.4444444444444444,
              "#bd3786"
             ],
             [
              0.5555555555555556,
              "#d8576b"
             ],
             [
              0.6666666666666666,
              "#ed7953"
             ],
             [
              0.7777777777777778,
              "#fb9f3a"
             ],
             [
              0.8888888888888888,
              "#fdca26"
             ],
             [
              1,
              "#f0f921"
             ]
            ],
            "type": "heatmap"
           }
          ],
          "heatmapgl": [
           {
            "colorbar": {
             "outlinewidth": 0,
             "ticks": ""
            },
            "colorscale": [
             [
              0,
              "#0d0887"
             ],
             [
              0.1111111111111111,
              "#46039f"
             ],
             [
              0.2222222222222222,
              "#7201a8"
             ],
             [
              0.3333333333333333,
              "#9c179e"
             ],
             [
              0.4444444444444444,
              "#bd3786"
             ],
             [
              0.5555555555555556,
              "#d8576b"
             ],
             [
              0.6666666666666666,
              "#ed7953"
             ],
             [
              0.7777777777777778,
              "#fb9f3a"
             ],
             [
              0.8888888888888888,
              "#fdca26"
             ],
             [
              1,
              "#f0f921"
             ]
            ],
            "type": "heatmapgl"
           }
          ],
          "histogram": [
           {
            "marker": {
             "pattern": {
              "fillmode": "overlay",
              "size": 10,
              "solidity": 0.2
             }
            },
            "type": "histogram"
           }
          ],
          "histogram2d": [
           {
            "colorbar": {
             "outlinewidth": 0,
             "ticks": ""
            },
            "colorscale": [
             [
              0,
              "#0d0887"
             ],
             [
              0.1111111111111111,
              "#46039f"
             ],
             [
              0.2222222222222222,
              "#7201a8"
             ],
             [
              0.3333333333333333,
              "#9c179e"
             ],
             [
              0.4444444444444444,
              "#bd3786"
             ],
             [
              0.5555555555555556,
              "#d8576b"
             ],
             [
              0.6666666666666666,
              "#ed7953"
             ],
             [
              0.7777777777777778,
              "#fb9f3a"
             ],
             [
              0.8888888888888888,
              "#fdca26"
             ],
             [
              1,
              "#f0f921"
             ]
            ],
            "type": "histogram2d"
           }
          ],
          "histogram2dcontour": [
           {
            "colorbar": {
             "outlinewidth": 0,
             "ticks": ""
            },
            "colorscale": [
             [
              0,
              "#0d0887"
             ],
             [
              0.1111111111111111,
              "#46039f"
             ],
             [
              0.2222222222222222,
              "#7201a8"
             ],
             [
              0.3333333333333333,
              "#9c179e"
             ],
             [
              0.4444444444444444,
              "#bd3786"
             ],
             [
              0.5555555555555556,
              "#d8576b"
             ],
             [
              0.6666666666666666,
              "#ed7953"
             ],
             [
              0.7777777777777778,
              "#fb9f3a"
             ],
             [
              0.8888888888888888,
              "#fdca26"
             ],
             [
              1,
              "#f0f921"
             ]
            ],
            "type": "histogram2dcontour"
           }
          ],
          "mesh3d": [
           {
            "colorbar": {
             "outlinewidth": 0,
             "ticks": ""
            },
            "type": "mesh3d"
           }
          ],
          "parcoords": [
           {
            "line": {
             "colorbar": {
              "outlinewidth": 0,
              "ticks": ""
             }
            },
            "type": "parcoords"
           }
          ],
          "pie": [
           {
            "automargin": true,
            "type": "pie"
           }
          ],
          "scatter": [
           {
            "fillpattern": {
             "fillmode": "overlay",
             "size": 10,
             "solidity": 0.2
            },
            "type": "scatter"
           }
          ],
          "scatter3d": [
           {
            "line": {
             "colorbar": {
              "outlinewidth": 0,
              "ticks": ""
             }
            },
            "marker": {
             "colorbar": {
              "outlinewidth": 0,
              "ticks": ""
             }
            },
            "type": "scatter3d"
           }
          ],
          "scattercarpet": [
           {
            "marker": {
             "colorbar": {
              "outlinewidth": 0,
              "ticks": ""
             }
            },
            "type": "scattercarpet"
           }
          ],
          "scattergeo": [
           {
            "marker": {
             "colorbar": {
              "outlinewidth": 0,
              "ticks": ""
             }
            },
            "type": "scattergeo"
           }
          ],
          "scattergl": [
           {
            "marker": {
             "colorbar": {
              "outlinewidth": 0,
              "ticks": ""
             }
            },
            "type": "scattergl"
           }
          ],
          "scattermapbox": [
           {
            "marker": {
             "colorbar": {
              "outlinewidth": 0,
              "ticks": ""
             }
            },
            "type": "scattermapbox"
           }
          ],
          "scatterpolar": [
           {
            "marker": {
             "colorbar": {
              "outlinewidth": 0,
              "ticks": ""
             }
            },
            "type": "scatterpolar"
           }
          ],
          "scatterpolargl": [
           {
            "marker": {
             "colorbar": {
              "outlinewidth": 0,
              "ticks": ""
             }
            },
            "type": "scatterpolargl"
           }
          ],
          "scatterternary": [
           {
            "marker": {
             "colorbar": {
              "outlinewidth": 0,
              "ticks": ""
             }
            },
            "type": "scatterternary"
           }
          ],
          "surface": [
           {
            "colorbar": {
             "outlinewidth": 0,
             "ticks": ""
            },
            "colorscale": [
             [
              0,
              "#0d0887"
             ],
             [
              0.1111111111111111,
              "#46039f"
             ],
             [
              0.2222222222222222,
              "#7201a8"
             ],
             [
              0.3333333333333333,
              "#9c179e"
             ],
             [
              0.4444444444444444,
              "#bd3786"
             ],
             [
              0.5555555555555556,
              "#d8576b"
             ],
             [
              0.6666666666666666,
              "#ed7953"
             ],
             [
              0.7777777777777778,
              "#fb9f3a"
             ],
             [
              0.8888888888888888,
              "#fdca26"
             ],
             [
              1,
              "#f0f921"
             ]
            ],
            "type": "surface"
           }
          ],
          "table": [
           {
            "cells": {
             "fill": {
              "color": "#EBF0F8"
             },
             "line": {
              "color": "white"
             }
            },
            "header": {
             "fill": {
              "color": "#C8D4E3"
             },
             "line": {
              "color": "white"
             }
            },
            "type": "table"
           }
          ]
         },
         "layout": {
          "annotationdefaults": {
           "arrowcolor": "#2a3f5f",
           "arrowhead": 0,
           "arrowwidth": 1
          },
          "autotypenumbers": "strict",
          "coloraxis": {
           "colorbar": {
            "outlinewidth": 0,
            "ticks": ""
           }
          },
          "colorscale": {
           "diverging": [
            [
             0,
             "#8e0152"
            ],
            [
             0.1,
             "#c51b7d"
            ],
            [
             0.2,
             "#de77ae"
            ],
            [
             0.3,
             "#f1b6da"
            ],
            [
             0.4,
             "#fde0ef"
            ],
            [
             0.5,
             "#f7f7f7"
            ],
            [
             0.6,
             "#e6f5d0"
            ],
            [
             0.7,
             "#b8e186"
            ],
            [
             0.8,
             "#7fbc41"
            ],
            [
             0.9,
             "#4d9221"
            ],
            [
             1,
             "#276419"
            ]
           ],
           "sequential": [
            [
             0,
             "#0d0887"
            ],
            [
             0.1111111111111111,
             "#46039f"
            ],
            [
             0.2222222222222222,
             "#7201a8"
            ],
            [
             0.3333333333333333,
             "#9c179e"
            ],
            [
             0.4444444444444444,
             "#bd3786"
            ],
            [
             0.5555555555555556,
             "#d8576b"
            ],
            [
             0.6666666666666666,
             "#ed7953"
            ],
            [
             0.7777777777777778,
             "#fb9f3a"
            ],
            [
             0.8888888888888888,
             "#fdca26"
            ],
            [
             1,
             "#f0f921"
            ]
           ],
           "sequentialminus": [
            [
             0,
             "#0d0887"
            ],
            [
             0.1111111111111111,
             "#46039f"
            ],
            [
             0.2222222222222222,
             "#7201a8"
            ],
            [
             0.3333333333333333,
             "#9c179e"
            ],
            [
             0.4444444444444444,
             "#bd3786"
            ],
            [
             0.5555555555555556,
             "#d8576b"
            ],
            [
             0.6666666666666666,
             "#ed7953"
            ],
            [
             0.7777777777777778,
             "#fb9f3a"
            ],
            [
             0.8888888888888888,
             "#fdca26"
            ],
            [
             1,
             "#f0f921"
            ]
           ]
          },
          "colorway": [
           "#636efa",
           "#EF553B",
           "#00cc96",
           "#ab63fa",
           "#FFA15A",
           "#19d3f3",
           "#FF6692",
           "#B6E880",
           "#FF97FF",
           "#FECB52"
          ],
          "font": {
           "color": "#2a3f5f"
          },
          "geo": {
           "bgcolor": "white",
           "lakecolor": "white",
           "landcolor": "#E5ECF6",
           "showlakes": true,
           "showland": true,
           "subunitcolor": "white"
          },
          "hoverlabel": {
           "align": "left"
          },
          "hovermode": "closest",
          "mapbox": {
           "style": "light"
          },
          "paper_bgcolor": "white",
          "plot_bgcolor": "#E5ECF6",
          "polar": {
           "angularaxis": {
            "gridcolor": "white",
            "linecolor": "white",
            "ticks": ""
           },
           "bgcolor": "#E5ECF6",
           "radialaxis": {
            "gridcolor": "white",
            "linecolor": "white",
            "ticks": ""
           }
          },
          "scene": {
           "xaxis": {
            "backgroundcolor": "#E5ECF6",
            "gridcolor": "white",
            "gridwidth": 2,
            "linecolor": "white",
            "showbackground": true,
            "ticks": "",
            "zerolinecolor": "white"
           },
           "yaxis": {
            "backgroundcolor": "#E5ECF6",
            "gridcolor": "white",
            "gridwidth": 2,
            "linecolor": "white",
            "showbackground": true,
            "ticks": "",
            "zerolinecolor": "white"
           },
           "zaxis": {
            "backgroundcolor": "#E5ECF6",
            "gridcolor": "white",
            "gridwidth": 2,
            "linecolor": "white",
            "showbackground": true,
            "ticks": "",
            "zerolinecolor": "white"
           }
          },
          "shapedefaults": {
           "line": {
            "color": "#2a3f5f"
           }
          },
          "ternary": {
           "aaxis": {
            "gridcolor": "white",
            "linecolor": "white",
            "ticks": ""
           },
           "baxis": {
            "gridcolor": "white",
            "linecolor": "white",
            "ticks": ""
           },
           "bgcolor": "#E5ECF6",
           "caxis": {
            "gridcolor": "white",
            "linecolor": "white",
            "ticks": ""
           }
          },
          "title": {
           "x": 0.05
          },
          "xaxis": {
           "automargin": true,
           "gridcolor": "white",
           "linecolor": "white",
           "ticks": "",
           "title": {
            "standoff": 15
           },
           "zerolinecolor": "white",
           "zerolinewidth": 2
          },
          "yaxis": {
           "automargin": true,
           "gridcolor": "white",
           "linecolor": "white",
           "ticks": "",
           "title": {
            "standoff": 15
           },
           "zerolinecolor": "white",
           "zerolinewidth": 2
          }
         }
        },
        "title": {
         "text": "Solicitudes atendidas por médicos"
        },
        "width": 1000,
        "xaxis": {
         "anchor": "y",
         "domain": [
          0,
          1
         ],
         "rangeslider": {
          "visible": true
         },
         "title": {
          "text": "Tiempo"
         },
         "type": "date"
        },
        "yaxis": {
         "anchor": "x",
         "autorange": "reversed",
         "categoryarray": [
          "1019074166",
          "1140888504",
          "85488148",
          "1098697055",
          "1014266018",
          "1014217039",
          "1032491705",
          "1018440480",
          "1095825225",
          "1085310672",
          "1083026203",
          "1117504115",
          "1082996581",
          "1083012532",
          "1015405667",
          "1098635342",
          "80727764",
          "1020808271",
          "1053327980",
          "57293715",
          "1020803066",
          "80383487",
          "80075437",
          "1016039086",
          "1121853934",
          "1024468225",
          "52200795",
          "1127250183",
          "39779707",
          "80185764",
          "1018446151",
          "1020777651",
          "1019088914",
          "1015414697",
          "79955886",
          "52997773",
          "80073352",
          "1015437933",
          "1018472151"
         ],
         "categoryorder": "array",
         "domain": [
          0,
          1
         ],
         "title": {
          "text": "Médico"
         }
        }
       }
      }
     },
     "metadata": {},
     "output_type": "display_data"
    }
   ],
   "source": [
    "import plotly.express as px\n",
    "import pandas as pd\n",
    "#Poner los datos de la lista en un dataframe\n",
    "df1 = pd.DataFrame(gantt)\n",
    "# poner los datos en el formato que requiere plotly poner la columna solicitud como texto\n",
    "df1['Solicitud'] = df1['Solicitud'].astype(str)\n",
    "# poner la columna médico como texto\n",
    "df1['Médico'] = df1['Médico'].astype(str)\n",
    "\n",
    "fig = px.timeline(df1, x_start=\"Inicio\", x_end=\"Fin\", y=\"Médico\", color=\"Médico\", \n",
    "                  title=\"Solicitudes atendidas por médicos\")\n",
    "fig.update_layout(xaxis_title=\"Tiempo\", yaxis_title=\"Médico\")\n",
    "fig.update_yaxes(autorange=\"reversed\")\n",
    "fig.update_xaxes(rangeslider_visible=True)\n",
    "# Hacer el grafico más grande para que se vea mejor\n",
    "fig.update_layout(\n",
    "    autosize=False,\n",
    "    width=1000,\n",
    "    height=500,\n",
    ")\n",
    "fig.show()\n"
   ]
  },
  {
   "cell_type": "code",
   "execution_count": 9,
   "metadata": {},
   "outputs": [
    {
     "name": "stdout",
     "output_type": "stream",
     "text": [
      "{1018472151: 29, 1015437933: 22, 80073352: 21, 52997773: 13, 79955886: 8, 1015414697: 18, 1019088914: 12, 1020777651: 9, 1018446151: 13, 80185764: 12, 39779707: 5, 1127250183: 11, 52200795: 4, 1024468225: 6, 1121853934: 12, 1016039086: 5, 80075437: 13, 80383487: 5, 1020803066: 5, 57293715: 9, 1053327980: 8, 1020808271: 7, 80727764: 1, 1098635342: 7, 1015405667: 3, 1083012532: 3, 1082996581: 1, 1117504115: 8, 1083026203: 6, 1085310672: 10, 1095825225: 1, 1018440480: 4, 1032491705: 1, 1014217039: 2, 1014266018: 3, 1098697055: 3, 85488148: 3, 1140888504: 2, 1019074166: 1}\n",
      "6.330789481850651\n",
      "7.846153846153846\n",
      "306\n"
     ]
    }
   ],
   "source": [
    "# Encontrar la cantidad de solicitudes atendidas por cada médico\n",
    "def solicitudes_atendidas(gantt):\n",
    "    solicitudes = {}\n",
    "\n",
    "    for i in gantt:\n",
    "        if i['Médico'] not in solicitudes:\n",
    "            solicitudes[i['Médico']] = 1\n",
    "        else:\n",
    "            solicitudes[i['Médico']] += 1\n",
    "\n",
    "    return solicitudes\n",
    "\n",
    "solicitudes = solicitudes_atendidas(gantt)\n",
    "print(solicitudes)\n",
    "\n",
    "# Calcular la desviación estándar de las solicitudes atendidas por cada médico\n",
    "def desviacion_estandar(solicitudes):\n",
    "    # Calcular la media de las solicitudes atendidas por cada médico\n",
    "    media = sum(solicitudes.values())/len(solicitudes)\n",
    "\n",
    "    # Calcular la varianza de las solicitudes atendidas por cada médico\n",
    "    varianza = sum([(i - media)**2 for i in solicitudes.values()])/len(solicitudes)\n",
    "\n",
    "    # Calcular la desviación estándar de las solicitudes atendidas por cada médico\n",
    "    desviacion = varianza**(1/2)\n",
    "\n",
    "    return desviacion\n",
    "\n",
    "desviacion = desviacion_estandar(solicitudes)\n",
    "print(desviacion)\n",
    "\n",
    "# calcular solicited promedio por médico\n",
    "def solicitudes_promedio(solicitudes):\n",
    "    promedio = sum(solicitudes.values())/len(solicitudes)\n",
    "    return promedio\n",
    "\n",
    "promedio = solicitudes_promedio(solicitudes)\n",
    "print(promedio)\n",
    "\n",
    "# Calcular total de solicitudes atendidas\n",
    "def total_solicitudes(solicitudes):\n",
    "    total = sum(solicitudes.values())\n",
    "    return total\n",
    "\n",
    "total = total_solicitudes(solicitudes)\n",
    "print(total)"
   ]
  },
  {
   "cell_type": "code",
   "execution_count": null,
   "metadata": {},
   "outputs": [],
   "source": []
  }
 ],
 "metadata": {
  "kernelspec": {
   "display_name": "base",
   "language": "python",
   "name": "python3"
  },
  "language_info": {
   "codemirror_mode": {
    "name": "ipython",
    "version": 3
   },
   "file_extension": ".py",
   "mimetype": "text/x-python",
   "name": "python",
   "nbconvert_exporter": "python",
   "pygments_lexer": "ipython3",
   "version": "3.9.13"
  },
  "orig_nbformat": 4,
  "vscode": {
   "interpreter": {
    "hash": "07faab6d6f4ab002cdefb798bb1adb69886dd96e513a786afbbd9e8dc267611b"
   }
  }
 },
 "nbformat": 4,
 "nbformat_minor": 2
}
