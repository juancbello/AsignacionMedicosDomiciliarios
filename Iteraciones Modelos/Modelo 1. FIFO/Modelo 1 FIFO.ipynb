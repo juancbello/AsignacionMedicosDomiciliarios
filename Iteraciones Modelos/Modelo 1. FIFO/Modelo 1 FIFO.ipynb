{
 "cells": [
  {
   "attachments": {},
   "cell_type": "markdown",
   "metadata": {},
   "source": [
    "# Modelo 1 - FIFO"
   ]
  },
  {
   "attachments": {},
   "cell_type": "markdown",
   "metadata": {},
   "source": [
    "### Leer los datos de excel"
   ]
  },
  {
   "cell_type": "code",
   "execution_count": 6,
   "metadata": {},
   "outputs": [],
   "source": [
    "import pandas as pd\n",
    "\n",
    "#Funcion para leer los datos de los pacientes\n",
    "def leer_datos():\n",
    "    # Leer el archivo de excel\n",
    "    df = pd.read_excel('DT.xlsx', sheet_name='Pacientes')\n",
    "    df1 = pd.read_excel(\"DT.xlsx\", sheet_name=\"Medicos\")\n",
    "    \n",
    "    # Crear un diccionario para almacenar los datos de los pacientes\n",
    "    pacientesDict = {}\n",
    "    medicos = {}\n",
    "\n",
    "    # Iterar sobre las filas del DataFrame\n",
    "    for index, row in df.iterrows():\n",
    "        llave = row[\"ID Servicio\"]\n",
    "        valor1 = row[\"Llegada\"]\n",
    "        valor2 = row[\"Atencion\"]\n",
    "\n",
    "        # Agregar valores a la lista correspondiente en el diccionario\n",
    "        if llave in pacientesDict:\n",
    "            pacientesDict[llave].append([valor1, valor2])\n",
    "        else:\n",
    "            pacientesDict[llave] = [int(valor1), int(valor2)]\n",
    "    pacientes = pacientesDict\n",
    "\n",
    "    # Iterar sobre las filas del DataFrame\n",
    "    for index, row in df1.iterrows():\n",
    "        llave = row[\"ID Medico\"]\n",
    "        valor1 = 0\n",
    "        valor2 = 0\n",
    "    \n",
    "        # Agregar valores a la lista correspondiente en el diccionario\n",
    "        if llave in medicos:\n",
    "            medicos[llave].append([valor1, valor2])\n",
    "        else:\n",
    "            medicos[llave] = [int(valor1), int(valor2)]\n",
    "    doctores = medicos\n",
    "    \n",
    "    \n",
    "    return doctores, pacientes"
   ]
  },
  {
   "cell_type": "code",
   "execution_count": 7,
   "metadata": {},
   "outputs": [],
   "source": [
    "doctores = leer_datos()[0]"
   ]
  },
  {
   "attachments": {},
   "cell_type": "markdown",
   "metadata": {},
   "source": [
    "### Asignación de los médicos"
   ]
  },
  {
   "cell_type": "code",
   "execution_count": 8,
   "metadata": {},
   "outputs": [],
   "source": [
    "global doctores\n",
    "\n",
    "import pandas as pd\n",
    "\n",
    "# Función para asignar doctor a paciente\n",
    "def asignar_doctor(atencion, minuto, estadoMedicos):\n",
    "\n",
    "    #Actualizar el estado de los doctores\n",
    "    if minuto > 0:\n",
    "        \n",
    "        for j in doctores:\n",
    "            \n",
    "            if minuto >= doctores[j][1]:\n",
    "                \n",
    "                doctores[j][0] = 0\n",
    "\n",
    "    for j in doctores:\n",
    "        \n",
    "        # Revisar si el doctor esta disponible en orden de lista\n",
    "        if doctores[j][0] == 0:\n",
    "            \n",
    "            # Asignar doctor al paciente\n",
    "            doctores[j][0] = 1\n",
    "            \n",
    "            # Asignar el ultimo minuto en el que esta ocupado el doctor\n",
    "            doctores[j][1] = minuto + atencion\n",
    "            \n",
    "            break\n",
    "    else:\n",
    "        \n",
    "        # Si no se asignó a ningún doctor en el minuto evaluado, se busca el médico disponible más cercano\n",
    "        doc_list = sorted(doctores, key=lambda k: doctores[k][1])\n",
    "        \n",
    "        for j in doc_list:\n",
    "            \n",
    "            # Revisar si el doctor esta disponible en orden de lista\n",
    "            if doctores[j][0] == 0:\n",
    "                \n",
    "                # Asignar doctor al paciente\n",
    "                doctores[j][0] = 1\n",
    "                \n",
    "                # Asignar el ultimo minuto en el que esta ocupado el doctor\n",
    "                doctores[j][1] = minuto + atencion\n",
    "                \n",
    "                break\n",
    "\n",
    "    # Actualizar el estado de los doctores en el DataFrame\n",
    "    for j in doctores:\n",
    "        \n",
    "        if minuto == doctores[j][1]:\n",
    "            \n",
    "            doctores[j][0] = 0\n",
    "\n",
    "\n",
    "    # Actualizar el estado de los médicos en el DataFrame\n",
    "    estado = {'Minuto': minuto}\n",
    "\n",
    "    for j in doctores:\n",
    "        \n",
    "        estado[f'Doctor {j}'] = 'Ocupado' if doctores[j][0] == 1 else 'Disponible'\n",
    "\n",
    "    # Agregar el estado de los médicos al DataFrame\n",
    "    estadoMedicos = estadoMedicos = pd.concat([estadoMedicos, pd.DataFrame(estado, index=[0])], ignore_index=True)\n",
    "\n",
    "    return estadoMedicos\n"
   ]
  },
  {
   "attachments": {},
   "cell_type": "markdown",
   "metadata": {},
   "source": [
    "### Simular Pacientes"
   ]
  },
  {
   "cell_type": "code",
   "execution_count": 9,
   "metadata": {},
   "outputs": [],
   "source": [
    "import pandas as pd\n",
    "import openpyxl\n",
    "\n",
    "global doctores\n",
    "\n",
    "# Función principal para asignar médicos a pacientes\n",
    "def asignacion_doctor1():\n",
    "    pacientes = leer_datos()[1]\n",
    "\n",
    "    # Crear DataFrame para el estado de los médicos\n",
    "    estadoMedicos = pd.DataFrame(columns=['Minuto'] + [f'Doctor {i}' for i in doctores])\n",
    "\n",
    "    for i in pacientes:\n",
    "        # Asignar doctor a paciente\n",
    "        atencion = pacientes[i][1]\n",
    "        minuto = pacientes[i][0]\n",
    "        estadoMedicos = asignar_doctor(atencion, minuto, estadoMedicos)\n",
    "    \n",
    "    # Guardar el dataframe en la hoja GANTT del archivo Excel\n",
    "    book = openpyxl.load_workbook('DT.xlsx')\n",
    "    writer = pd.ExcelWriter('DT.xlsx', engine='openpyxl')\n",
    "    writer.book = book\n",
    "    estadoMedicos.to_excel(writer, sheet_name='GANTT', index=False)\n",
    "    writer.save()\n",
    "\n",
    "    return estadoMedicos"
   ]
  },
  {
   "attachments": {},
   "cell_type": "markdown",
   "metadata": {},
   "source": [
    "# Prueba para 02/06/2022"
   ]
  },
  {
   "cell_type": "code",
   "execution_count": 10,
   "metadata": {},
   "outputs": [
    {
     "name": "stderr",
     "output_type": "stream",
     "text": [
      "/var/folders/m6/xx2tl5h91wbf651lwjmb3f900000gn/T/ipykernel_6678/1649477395.py:22: FutureWarning: Setting the `book` attribute is not part of the public API, usage can give unexpected or corrupted results and will be removed in a future version\n",
      "  writer.book = book\n",
      "/var/folders/m6/xx2tl5h91wbf651lwjmb3f900000gn/T/ipykernel_6678/1649477395.py:24: FutureWarning: save is not part of the public API, usage can give unexpected results and will be removed in a future version\n",
      "  writer.save()\n"
     ]
    }
   ],
   "source": [
    "estadoMedicos = asignacion_doctor1()"
   ]
  }
 ],
 "metadata": {
  "kernelspec": {
   "display_name": "base",
   "language": "python",
   "name": "python3"
  },
  "language_info": {
   "codemirror_mode": {
    "name": "ipython",
    "version": 3
   },
   "file_extension": ".py",
   "mimetype": "text/x-python",
   "name": "python",
   "nbconvert_exporter": "python",
   "pygments_lexer": "ipython3",
   "version": "3.9.13"
  },
  "orig_nbformat": 4,
  "vscode": {
   "interpreter": {
    "hash": "07faab6d6f4ab002cdefb798bb1adb69886dd96e513a786afbbd9e8dc267611b"
   }
  }
 },
 "nbformat": 4,
 "nbformat_minor": 2
}
