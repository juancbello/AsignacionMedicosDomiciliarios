{
 "cells": [
  {
   "attachments": {},
   "cell_type": "markdown",
   "metadata": {},
   "source": [
    "# Modelo 4 - Heurística Final"
   ]
  },
  {
   "attachments": {},
   "cell_type": "markdown",
   "metadata": {},
   "source": [
    "### Leer los datos"
   ]
  },
  {
   "cell_type": "code",
   "execution_count": 1,
   "metadata": {},
   "outputs": [],
   "source": [
    "import pandas as pd\n",
    "\n",
    "#Funcion para leer los datos de los pacientes\n",
    "def leer_datos():\n",
    "    # Leer el archivo de excel\n",
    "    df = pd.read_excel('DT4.xlsx', sheet_name='Pacientes') #!!!! Se cambia el nombre de la hoja\n",
    "    df1 = pd.read_excel(\"DT4.xlsx\", sheet_name=\"Medicos\") #!!!! Se cambia el nombre de la hoja\n",
    "    df3 = pd.read_excel(\"DT4.xlsx\", sheet_name=\"Clientes\")\n",
    "    \n",
    "    # Crear un diccionario para almacenar los datos de los pacientes y otro para los medicos\n",
    "    pacientesDict = {}\n",
    "    medicos = {}\n",
    "    Clientes = {}\n",
    "    \n",
    "    # diccionario con los tipos de cliente y el tiempo de atencion esperado\n",
    "    for index, row in df3.iterrows():\n",
    "        llave = row[\"Tipo\"]\n",
    "        valor = row[\"Tiempo\"]\n",
    "        Clientes[llave] = valor\n",
    "\n",
    "\n",
    "    # Iterar sobre las filas del DataFrame\n",
    "    for index, row in df.iterrows():\n",
    "        llave = row[\"ID Servicio\"]\n",
    "        valor1 = row[\"Llegada\"]\n",
    "        valor2 = row[\"Atencion\"]\n",
    "        valor3 = row[\"Latitud\"]\n",
    "        valor4 = row[\"Longitud\"]\n",
    "        valor5 = row[\"Entidad\"]\n",
    "\n",
    "        # Agregar valores a la lista correspondiente en el diccionario\n",
    "        if llave in pacientesDict:\n",
    "            pacientesDict[llave].append([valor1, valor2, valor3, valor4, valor5])\n",
    "        else:\n",
    "            pacientesDict[llave] = [int(valor1), int(valor2), valor3, valor4, str(valor5)]\n",
    "    pacientes = pacientesDict\n",
    "\n",
    "    # Iterar sobre las filas del DataFrame\n",
    "    for index, row in df1.iterrows():\n",
    "        llave = row[\"ID Medico\"]\n",
    "        Disponibiidad = 0 \n",
    "        UltOcupado = 0\n",
    "        NumSol = 0\n",
    "        lat = 4.681230925773865\n",
    "        lon = -74.06200456196707\n",
    "        Inicioj = row[\"Inicio Jornada\"]\n",
    "        Finj = row[\"Fin Jornada\"]\n",
    "    \n",
    "        # Agregar valores a la lista correspondiente en el diccionario\n",
    "        if llave in medicos:\n",
    "            medicos[llave].append([Disponibiidad, UltOcupado, lat, lon, NumSol, Inicioj, Finj])\n",
    "        else:\n",
    "            medicos[llave] = [int(Disponibiidad), int(UltOcupado),lat, lon, NumSol, int(Inicioj), int(Finj)]\n",
    "    doctores = medicos\n",
    "    \n",
    "    return doctores, pacientes, Clientes\n",
    "\n",
    "doctores = leer_datos()[0]\n",
    "pacientes = leer_datos()[1]\n",
    "Clientes = leer_datos()[2]"
   ]
  },
  {
   "attachments": {},
   "cell_type": "markdown",
   "metadata": {},
   "source": [
    "### Calcular la distancia/tiempo entre cada par de nodos"
   ]
  },
  {
   "cell_type": "code",
   "execution_count": 2,
   "metadata": {},
   "outputs": [],
   "source": [
    "from math import radians, cos, sin, asin, sqrt\n",
    "def distancia_tierra(lat1, lat2, lon1, lon2):\n",
    "    \n",
    "    # Convertir grados a radianes.\n",
    "    lon1 = radians(lon1)\n",
    "    lon2 = radians(lon2)\n",
    "    lat1 = radians(lat1)\n",
    "    lat2 = radians(lat2)\n",
    "      \n",
    "    # Formula Haversine, para calcular la distancia entre dos puntos de una esfera dadas sus coordenadas de longitud y latitud\n",
    "    dlon = lon2 - lon1\n",
    "    dlat = lat2 - lat1\n",
    "    a = sin(dlat / 2)**2 + cos(lat1) * cos(lat2) * sin(dlon / 2)**2\n",
    "    c = 2 * asin(sqrt(a))\n",
    "    \n",
    "    # Radio de la tierra en km.\n",
    "    r = 6371\n",
    "    \n",
    "    respuesta = ((c * r)/24.9)*60\n",
    "    # Calcular la distancia final en Km.\n",
    "    return respuesta"
   ]
  },
  {
   "attachments": {},
   "cell_type": "markdown",
   "metadata": {},
   "source": [
    "### Cambiar datos para Gantt"
   ]
  },
  {
   "cell_type": "code",
   "execution_count": 3,
   "metadata": {},
   "outputs": [],
   "source": [
    "import datetime\n",
    "\n",
    "def convertMin(minutos):\n",
    "    # Obtenemos la fecha de hoy\n",
    "    fecha_actual = datetime.date.today()\n",
    "    # Combinamos la fecha de hoy con la hora 0:00:00\n",
    "    fecha_hora = datetime.datetime.combine(fecha_actual, datetime.time.min) + datetime.timedelta(minutes=minutos)\n",
    "    # Convertimos la fecha y hora a formato de cadena\n",
    "    fecha_hora_str = fecha_hora.strftime(\"%Y-%m-%d %H:%M:%S\")\n",
    "    return fecha_hora_str"
   ]
  },
  {
   "attachments": {},
   "cell_type": "markdown",
   "metadata": {},
   "source": [
    "### Regla de Prioridad"
   ]
  },
  {
   "cell_type": "code",
   "execution_count": 4,
   "metadata": {},
   "outputs": [],
   "source": [
    "# Regla de prioridad\n",
    "def prioridad(NumSolicitudes, Tdesplazamiento, Mdescoupa):\n",
    "    # Si el número de solicitudes esta entre 0 y 2\n",
    "    if NumSolicitudes >= 0 and NumSolicitudes <= 2:\n",
    "        beta = 0.55\n",
    "        alpha = 0.45\n",
    "    # Si el número de solicitudes esta entre 3 y 4\n",
    "    elif NumSolicitudes >= 3 and NumSolicitudes <= 4:\n",
    "        beta = 0.65\n",
    "        alpha = 0.35\n",
    "    # Si el número de solicitudes esta entre 5 o más\n",
    "    elif NumSolicitudes >= 5:\n",
    "        beta = 0.75\n",
    "        alpha = 0.25\n",
    "\n",
    "    # Calculamos la prioridad\n",
    "    pesoPrioridad = NumSolicitudes * alpha + Tdesplazamiento + Mdescoupa * beta\n",
    "\n",
    "    return pesoPrioridad"
   ]
  },
  {
   "attachments": {},
   "cell_type": "markdown",
   "metadata": {},
   "source": [
    "### Asignación de los médicos"
   ]
  },
  {
   "cell_type": "code",
   "execution_count": 5,
   "metadata": {},
   "outputs": [],
   "source": [
    "global doctores\n",
    "\n",
    "import pandas as pd\n",
    "\n",
    "# Función para asignar doctor a paciente\n",
    "def asignar_doctor(atencion,latitud, longitud, minuto, gantt, IDservicio, TipoCliente):\n",
    "\n",
    "    # Lista de posible asignacion\n",
    "    posibleAsignacion = []\n",
    "\n",
    "    # Actualizar estado de los médicos\n",
    "    if minuto > 0:\n",
    "        for i in doctores:\n",
    "            # Si el minuto actual es mayor al ultimo ocupado significa que el médico esta disponible\n",
    "            if minuto > doctores[i][1]:\n",
    "                # Actualizar estado del médico\n",
    "                doctores[i][0] = 0\n",
    "    \n",
    "    for i in doctores:\n",
    "        # Si el médico esta en su jornada laboral y esta disponible\n",
    "        if minuto >= doctores[i][5] and minuto <= doctores[i][6] and doctores[i][0] == 0:\n",
    "            # Agregar médico y su distancia a la lista de posible asignacion\n",
    "\n",
    "            # Encontrar distancia de los médicos al paciente\n",
    "            distancia = distancia_tierra(doctores[i][2], latitud, doctores[i][3], longitud)\n",
    "            # Agregar médico y su distancia a la lista de posible asignacion\n",
    "            posibleAsignacion.append([i, distancia])\n",
    "    \n",
    "    # Si no hay ningún médico disponible\n",
    "    if len(posibleAsignacion) == 0:\n",
    "        # Se buscan médicos que esten en su jornada laboral para asignarles el paciente usando la regla de prioridad\n",
    "\n",
    "        for i in doctores:\n",
    "            # Si el doctor esta en su jornada laboral\n",
    "            if minuto >= doctores[i][5] and minuto <= doctores[i][6]:\n",
    "                # Se aplican las reglas de prioridad\n",
    "\n",
    "                # Calcular tiempo de desplazamiento\n",
    "                Tdesplazamiento = distancia_tierra(doctores[i][2], latitud, doctores[i][3], longitud)\n",
    "                # Calcular tiempo de desocupacion\n",
    "                Mdesocupa = doctores[i][1]\n",
    "                # Calcular prioridad\n",
    "                pesoPrioridad = prioridad(doctores[i][4], Tdesplazamiento, Mdesocupa)\n",
    "                # Agregar a la lista de posible asignacion\n",
    "                posibleAsignacion.append([i, pesoPrioridad])\n",
    "        \n",
    "\n",
    "        # Si existen médicos en su jornada laboral\n",
    "        if len(posibleAsignacion) > 0:\n",
    "            # Escoger el médico con mayor prioridad, es decir, el que tenga menor peso\n",
    "\n",
    "            # Filtrar a los médicos que cumplan con el tiempo de servicio\n",
    "            for i in posibleAsignacion:\n",
    "                # calcular el desplazamiento del medico\n",
    "                Tdesplazamiento = distancia_tierra(doctores[i[0]][2], latitud, doctores[i[0]][3], longitud)\n",
    "\n",
    "                # Si el médico no cumple con el tiempo de servicio se elimina de la lista de posible asignacion\n",
    "                if minuto + Tdesplazamiento > minuto + Clientes[TipoCliente]:\n",
    "                    #crear lista de médicos que no cumplen con el tiempo de servicio\n",
    "                    listaMedicosNoCumplen = []\n",
    "                    #agregar médicos que no cumplen con el tiempo de servicio\n",
    "                    listaMedicosNoCumplen.append(i[0])\n",
    "                    #eliminar médicos que no cumplen con el tiempo de servicio\n",
    "                    posibleAsignacion.remove(i)\n",
    "\n",
    "            # si existen médicos que cumplan con el tiempo de servicio\n",
    "            if len(posibleAsignacion) > 0:\n",
    "                # Ordenar la lista de posible asignacion\n",
    "                posibleAsignacion.sort(key=lambda x: x[1])\n",
    "                # Asignar el doctor con menor prioridad\n",
    "                doc_Asignar = posibleAsignacion[0]\n",
    "\n",
    "                # Actualizar variables del médico asignado\n",
    "                Mdesocupa = doctores[doc_Asignar[0]][1]\n",
    "                Tdesplazamiento = distancia_tierra(doctores[doc_Asignar[0]][2], latitud, doctores[doc_Asignar[0]][3], longitud)\n",
    "\n",
    "                # Actualizar el gantt\n",
    "                gantt.append({'Solicitud': IDservicio, 'Médico': doc_Asignar[0], 'Inicio': convertMin(Mdesocupa + Tdesplazamiento), 'Fin': convertMin(Mdesocupa + Tdesplazamiento + atencion), 'Distancia': Tdesplazamiento, 'Inicio Jornada': doctores[doc_Asignar[0]][5], 'Fin Jornada': doctores[doc_Asignar[0]][6], 'Atencion': atencion, 'Tipo de asignación': 'Tipo 1'})\n",
    "\n",
    "                # Actualizar estado del médico\n",
    "                doctores[doc_Asignar[0]][0] = 1\n",
    "                doctores[doc_Asignar[0]][1] = Mdesocupa + Tdesplazamiento + atencion\n",
    "                doctores[doc_Asignar[0]][2] = latitud\n",
    "                doctores[doc_Asignar[0]][3] = longitud\n",
    "                doctores[doc_Asignar[0]][4] = doctores[doc_Asignar[0]][4] + 1\n",
    "\n",
    "            # Si no existen médicos que cumplan con el tiempo de servicio\n",
    "            else:\n",
    "                # Calcular el médico que atienda la solicitud más rapido\n",
    "                for i in listaMedicosNoCumplen:\n",
    "                    # Calcular tiempo de desplazamiento\n",
    "                    Tdesplazamiento = distancia_tierra(doctores[i][2], latitud, doctores[i][3], longitud)\n",
    "                    # Calcular tiempo de desocupacion\n",
    "                    Mdesocupa = doctores[i][1]\n",
    "                    # Cambiar el peso de prioridad por el tiempo de desplazamiento\n",
    "                    listaMedicosNoCumplen[i][1] = Mdesocupa + Tdesplazamiento\n",
    "\n",
    "                # Ordenar la lista de posible asignacion\n",
    "                listaMedicosNoCumplen.sort(key=lambda x: x[1])\n",
    "\n",
    "                # Asignar el médico con menor tiempo de desplazamiento\n",
    "                doc_Asignar = listaMedicosNoCumplen[0]\n",
    "\n",
    "                # Actualizar variables del médico asignado\n",
    "                Mdesocupa = doctores[doc_Asignar[0]][1]\n",
    "                Tdesplazamiento = distancia_tierra(doctores[doc_Asignar[0]][2], latitud, doctores[doc_Asignar[0]][3], longitud)\n",
    "\n",
    "                # Actualizar el gantt\n",
    "                gantt.append({'Solicitud': IDservicio, 'Médico': doc_Asignar[0], 'Inicio': convertMin(Mdesocupa + Tdesplazamiento), 'Fin': convertMin(Mdesocupa + Tdesplazamiento + atencion), 'Distancia': Tdesplazamiento, 'Inicio Jornada': doctores[doc_Asignar[0]][5], 'Fin Jornada': doctores[doc_Asignar[0]][6], 'Atencion': atencion, 'Tipo de asignacion': 'Tipo 2'})\n",
    "\n",
    "                # Actualizar estado del médico\n",
    "                doctores[doc_Asignar[0]][0] = 1\n",
    "                doctores[doc_Asignar[0]][1] = Mdesocupa + Tdesplazamiento + atencion\n",
    "                doctores[doc_Asignar[0]][2] = latitud\n",
    "                doctores[doc_Asignar[0]][3] = longitud\n",
    "                doctores[doc_Asignar[0]][4] = doctores[doc_Asignar[0]][4] + 1\n",
    "        else:\n",
    "            # No hay médicos disponibles\n",
    "            print(\"No hay médicos disponibles\")\n",
    "                \n",
    "    # Si hay uno o más médicos disponibles\n",
    "    elif len(posibleAsignacion) > 0:\n",
    "        # Se filtrarán los médicos que no cumplan con el tiempo de servicio\n",
    "        for i in posibleAsignacion:\n",
    "            # Si el médico no cumple con el tiempo de servicio se elimina de la lista de posible asignacion\n",
    "            if minuto + i[1] > minuto + Clientes[TipoCliente]:\n",
    "                #crear lista de médicos que no cumplen con el tiempo de servicio\n",
    "                listaMedicosNoCumplen = []\n",
    "                #agregar médicos que no cumplen con el tiempo de servicio\n",
    "                listaMedicosNoCumplen.append(i[0])\n",
    "                #eliminar médicos que no cumplen con el tiempo de servicio\n",
    "                posibleAsignacion.remove(i)\n",
    "        \n",
    "        # Si existen médicos que cumplan con el tiempo de servicio\n",
    "        if len(posibleAsignacion) > 0:\n",
    "\n",
    "            # calcular el peso de prioridad de cada médico\n",
    "            for i in posibleAsignacion:\n",
    "                # Calcular tiempo de desplazamiento\n",
    "                Tdesplazamiento = distancia_tierra(doctores[i[0]][2], latitud, doctores[i[0]][3], longitud)\n",
    "                # Calcular tiempo de desocupacion\n",
    "                Mdesocupa = doctores[i[0]][1]\n",
    "                # Calcular prioridad\n",
    "                pesoPrioridad = prioridad(doctores[i[0]][4], Tdesplazamiento, Mdesocupa)\n",
    "\n",
    "                # Cambiar el tiempo de desplazamiento por el peso de prioridad\n",
    "                i[1] = pesoPrioridad\n",
    "            \n",
    "            # Ordenar la lista de posible asignacion\n",
    "            posibleAsignacion.sort(key=lambda x: x[1])\n",
    "\n",
    "            # Asignar el médico con menor prioridad\n",
    "            doc_Asignar = posibleAsignacion[0]\n",
    "            # Actualizar variables del médico asignado\n",
    "            Mdesocupa = doctores[doc_Asignar[0]][1]\n",
    "            Tdesplazamiento = distancia_tierra(doctores[doc_Asignar[0]][2], latitud, doctores[doc_Asignar[0]][3], longitud)\n",
    "\n",
    "            # Actualizar el gantt\n",
    "            gantt.append({'Solicitud': IDservicio, 'Médico': doc_Asignar[0], 'Inicio': convertMin(minuto + Tdesplazamiento), 'Fin': convertMin(minuto + Tdesplazamiento + atencion), 'Distancia': Tdesplazamiento, 'Inicio Jornada': doctores[doc_Asignar[0]][5], 'Fin Jornada': doctores[doc_Asignar[0]][6], 'Atencion': atencion, 'Tipo de asignacion': 'Tipo 3'})\n",
    "\n",
    "            # Actualizar estado del médico\n",
    "            doctores[doc_Asignar[0]][0] = 1\n",
    "            doctores[doc_Asignar[0]][1] = minuto + Tdesplazamiento + atencion\n",
    "            doctores[doc_Asignar[0]][2] = latitud\n",
    "            doctores[doc_Asignar[0]][3] = longitud\n",
    "            doctores[doc_Asignar[0]][4] = doctores[doc_Asignar[0]][4] + 1\n",
    "        \n",
    "        # Si no existen médicos que cumplan con el tiempo de servicio\n",
    "        else:\n",
    "            # Se asignará el médico con menor tiempo de desplazamiento\n",
    "            for i in listaMedicosNoCumplen:\n",
    "                # Calcular tiempo de desplazamiento\n",
    "                Tdesplazamiento = distancia_tierra(doctores[i][2], latitud, doctores[i][3], longitud)\n",
    "                # Cambiar el peso de prioridad por el tiempo de desplazamiento\n",
    "                listaMedicosNoCumplen[i][1] = minuto + Tdesplazamiento\n",
    "            \n",
    "            # Ordenar la lista de posible asignacion\n",
    "            listaMedicosNoCumplen.sort(key=lambda x: x[1])\n",
    "\n",
    "            # Asignar el médico con menor tiempo de desplazamiento\n",
    "            doc_Asignar = listaMedicosNoCumplen[0]\n",
    "\n",
    "            # Actualizar variables del médico asignado\n",
    "            Mdesocupa = doctores[doc_Asignar[0]][1]\n",
    "            Tdesplazamiento = distancia_tierra(doctores[doc_Asignar[0]][2], latitud, doctores[doc_Asignar[0]][3], longitud)\n",
    "\n",
    "            # Actualizar el gantt\n",
    "            gantt.append({'Solicitud': IDservicio, 'Médico': doc_Asignar[0], 'Inicio': convertMin(minuto + Tdesplazamiento), 'Fin': convertMin(minuto + Tdesplazamiento + atencion), 'Distancia': Tdesplazamiento, 'Inicio Jornada': doctores[doc_Asignar[0]][5], 'Fin Jornada': doctores[doc_Asignar[0]][6], 'Atencion': atencion, 'Tipo de asignacion': 'Tipo 4'})\n",
    "\n",
    "            # Actualizar estado del médico\n",
    "            doctores[doc_Asignar[0]][0] = 1\n",
    "            doctores[doc_Asignar[0]][1] = minuto + Tdesplazamiento + atencion\n",
    "            doctores[doc_Asignar[0]][2] = latitud\n",
    "            doctores[doc_Asignar[0]][3] = longitud\n",
    "            doctores[doc_Asignar[0]][4] = doctores[doc_Asignar[0]][4] + 1\n",
    "\n",
    "    return gantt"
   ]
  },
  {
   "attachments": {},
   "cell_type": "markdown",
   "metadata": {},
   "source": [
    "### Simular Pacientes"
   ]
  },
  {
   "cell_type": "code",
   "execution_count": 6,
   "metadata": {},
   "outputs": [],
   "source": [
    "import pandas as pd\n",
    "import openpyxl\n",
    "\n",
    "global doctores\n",
    "\n",
    "# Función principal para asignar médicos a pacientes\n",
    "def asignacion_doctor1():\n",
    "    pacientes = leer_datos()[1]\n",
    "    gantt = []\n",
    "\n",
    "    # Ordenar dict de pacientes por minuto\n",
    "    pacientes = dict(sorted(pacientes.items(), key=lambda item: item[1][0]))\n",
    "\n",
    "    for i in pacientes:\n",
    "        # Asignar doctor a paciente\n",
    "        atencion = pacientes[i][1]\n",
    "        minuto = pacientes[i][0]\n",
    "        latitud = pacientes[i][2]\n",
    "        longitud = pacientes[i][3]\n",
    "        IDservicio = i\n",
    "        TipoCliente = pacientes[i][4]\n",
    "        gantt = asignar_doctor(atencion,latitud,longitud, minuto, gantt, IDservicio, TipoCliente)\n",
    "    \n",
    "    return gantt"
   ]
  },
  {
   "cell_type": "code",
   "execution_count": 7,
   "metadata": {},
   "outputs": [],
   "source": [
    "gantt = asignacion_doctor1()"
   ]
  },
  {
   "attachments": {},
   "cell_type": "markdown",
   "metadata": {},
   "source": [
    "### Gantt general"
   ]
  },
  {
   "cell_type": "code",
   "execution_count": 8,
   "metadata": {},
   "outputs": [
    {
     "data": {
      "application/vnd.plotly.v1+json": {
       "config": {
        "plotlyServerURL": "https://plot.ly"
       },
       "data": [
        {
         "alignmentgroup": "True",
         "base": [
          "2023-05-27 00:06:07",
          "2023-05-27 01:20:01",
          "2023-05-27 03:22:55",
          "2023-05-27 04:34:59",
          "2023-05-27 05:52:58"
         ],
         "hovertemplate": "<b>%{hovertext}</b><br><br>Médico=%{y}<br>Inicio=%{base}<br>Fin=%{x}<extra></extra>",
         "hovertext": [
          "324231",
          "324233",
          "324240",
          "324248",
          "324255"
         ],
         "legendgroup": "1032491705",
         "marker": {
          "color": "#636efa",
          "pattern": {
           "shape": ""
          }
         },
         "name": "1032491705",
         "offsetgroup": "1032491705",
         "orientation": "h",
         "showlegend": true,
         "textposition": "auto",
         "type": "bar",
         "x": [
          840000,
          2160000,
          2640000,
          1380000,
          1800000
         ],
         "xaxis": "x",
         "y": [
          "1032491705",
          "1032491705",
          "1032491705",
          "1032491705",
          "1032491705"
         ],
         "yaxis": "y"
        },
        {
         "alignmentgroup": "True",
         "base": [
          "2023-05-27 01:04:09",
          "2023-05-27 02:12:02",
          "2023-05-27 03:15:57",
          "2023-05-27 04:06:32",
          "2023-05-27 04:49:07",
          "2023-05-27 05:55:50",
          "2023-05-27 06:11:40"
         ],
         "hovertemplate": "<b>%{hovertext}</b><br><br>Médico=%{y}<br>Inicio=%{base}<br>Fin=%{x}<extra></extra>",
         "hovertext": [
          "324232",
          "324236",
          "324243",
          "324244",
          "324246",
          "324257",
          "324259"
         ],
         "legendgroup": "1015405667",
         "marker": {
          "color": "#EF553B",
          "pattern": {
           "shape": ""
          }
         },
         "name": "1015405667",
         "offsetgroup": "1015405667",
         "orientation": "h",
         "showlegend": true,
         "textposition": "auto",
         "type": "bar",
         "x": [
          1140000,
          1800000,
          2040000,
          1860000,
          2340000,
          540000,
          840000
         ],
         "xaxis": "x",
         "y": [
          "1015405667",
          "1015405667",
          "1015405667",
          "1015405667",
          "1015405667",
          "1015405667",
          "1015405667"
         ],
         "yaxis": "y"
        },
        {
         "alignmentgroup": "True",
         "base": [
          "2023-05-27 05:22:16",
          "2023-05-27 05:55:19",
          "2023-05-27 06:57:14",
          "2023-05-27 07:21:36",
          "2023-05-27 07:44:09",
          "2023-05-27 08:48:57",
          "2023-05-27 09:23:44",
          "2023-05-27 10:21:44",
          "2023-05-27 10:36:30",
          "2023-05-27 11:18:09"
         ],
         "hovertemplate": "<b>%{hovertext}</b><br><br>Médico=%{y}<br>Inicio=%{base}<br>Fin=%{x}<extra></extra>",
         "hovertext": [
          "324260",
          "324269",
          "324285",
          "324292",
          "324294",
          "324331",
          "324361",
          "324374",
          "324390",
          "324407"
         ],
         "legendgroup": "1018472151",
         "marker": {
          "color": "#00cc96",
          "pattern": {
           "shape": ""
          }
         },
         "name": "1018472151",
         "offsetgroup": "1018472151",
         "orientation": "h",
         "showlegend": true,
         "textposition": "auto",
         "type": "bar",
         "x": [
          900000,
          1920000,
          1140000,
          1200000,
          2100000,
          660000,
          1500000,
          0,
          1200000,
          900000
         ],
         "xaxis": "x",
         "y": [
          "1018472151",
          "1018472151",
          "1018472151",
          "1018472151",
          "1018472151",
          "1018472151",
          "1018472151",
          "1018472151",
          "1018472151",
          "1018472151"
         ],
         "yaxis": "y"
        },
        {
         "alignmentgroup": "True",
         "base": [
          "2023-05-27 05:31:26",
          "2023-05-27 06:05:31",
          "2023-05-27 06:31:10",
          "2023-05-27 07:24:49",
          "2023-05-27 08:20:57",
          "2023-05-27 08:37:59",
          "2023-05-27 09:37:42",
          "2023-05-27 09:57:19",
          "2023-05-27 10:38:59",
          "2023-05-27 12:22:10"
         ],
         "hovertemplate": "<b>%{hovertext}</b><br><br>Médico=%{y}<br>Inicio=%{base}<br>Fin=%{x}<extra></extra>",
         "hovertext": [
          "324261",
          "324270",
          "324283",
          "324293",
          "324312",
          "324337",
          "324363",
          "324373",
          "324387",
          "324422"
         ],
         "legendgroup": "1015437933",
         "marker": {
          "color": "#ab63fa",
          "pattern": {
           "shape": ""
          }
         },
         "name": "1015437933",
         "offsetgroup": "1015437933",
         "orientation": "h",
         "showlegend": true,
         "textposition": "auto",
         "type": "bar",
         "x": [
          900000,
          1020000,
          1620000,
          1140000,
          180000,
          1800000,
          720000,
          840000,
          1800000,
          420000
         ],
         "xaxis": "x",
         "y": [
          "1015437933",
          "1015437933",
          "1015437933",
          "1015437933",
          "1015437933",
          "1015437933",
          "1015437933",
          "1015437933",
          "1015437933",
          "1015437933"
         ],
         "yaxis": "y"
        },
        {
         "alignmentgroup": "True",
         "base": [
          "2023-05-27 05:33:33",
          "2023-05-27 06:14:22",
          "2023-05-27 06:47:20",
          "2023-05-27 07:29:21",
          "2023-05-27 08:20:03",
          "2023-05-27 09:04:13",
          "2023-05-27 10:01:53",
          "2023-05-27 10:48:23",
          "2023-05-27 11:47:56"
         ],
         "hovertemplate": "<b>%{hovertext}</b><br><br>Médico=%{y}<br>Inicio=%{base}<br>Fin=%{x}<extra></extra>",
         "hovertext": [
          "324265",
          "324272",
          "324273",
          "324291",
          "324313",
          "324340",
          "324367",
          "324391",
          "324421"
         ],
         "legendgroup": "80073352",
         "marker": {
          "color": "#FFA15A",
          "pattern": {
           "shape": ""
          }
         },
         "name": "80073352",
         "offsetgroup": "80073352",
         "orientation": "h",
         "showlegend": true,
         "textposition": "auto",
         "type": "bar",
         "x": [
          1200000,
          960000,
          1800000,
          960000,
          540000,
          1800000,
          1680000,
          540000,
          0
         ],
         "xaxis": "x",
         "y": [
          "80073352",
          "80073352",
          "80073352",
          "80073352",
          "80073352",
          "80073352",
          "80073352",
          "80073352",
          "80073352"
         ],
         "yaxis": "y"
        },
        {
         "alignmentgroup": "True",
         "base": [
          "2023-05-27 05:49:50",
          "2023-05-27 06:17:10",
          "2023-05-27 07:06:04",
          "2023-05-27 07:20:44",
          "2023-05-27 07:34:51",
          "2023-05-27 08:07:35",
          "2023-05-27 08:27:56",
          "2023-05-27 08:52:22",
          "2023-05-27 09:47:35",
          "2023-05-27 10:48:28",
          "2023-05-27 11:26:00"
         ],
         "hovertemplate": "<b>%{hovertext}</b><br><br>Médico=%{y}<br>Inicio=%{base}<br>Fin=%{x}<extra></extra>",
         "hovertext": [
          "324268",
          "324271",
          "324279",
          "324288",
          "324290",
          "324317",
          "324333",
          "324339",
          "324365",
          "324388",
          "324411"
         ],
         "legendgroup": "52997773",
         "marker": {
          "color": "#19d3f3",
          "pattern": {
           "shape": ""
          }
         },
         "name": "52997773",
         "offsetgroup": "52997773",
         "orientation": "h",
         "showlegend": true,
         "textposition": "auto",
         "type": "bar",
         "x": [
          720000,
          1920000,
          360000,
          840000,
          960000,
          900000,
          0,
          2280000,
          1320000,
          540000,
          1140000
         ],
         "xaxis": "x",
         "y": [
          "52997773",
          "52997773",
          "52997773",
          "52997773",
          "52997773",
          "52997773",
          "52997773",
          "52997773",
          "52997773",
          "52997773",
          "52997773"
         ],
         "yaxis": "y"
        },
        {
         "alignmentgroup": "True",
         "base": [
          "2023-05-27 06:17:14",
          "2023-05-27 06:45:49",
          "2023-05-27 07:03:13",
          "2023-05-27 07:39:27",
          "2023-05-27 07:55:39",
          "2023-05-27 08:41:17",
          "2023-05-27 08:56:47",
          "2023-05-27 09:40:56",
          "2023-05-27 09:54:50",
          "2023-05-27 11:47:10",
          "2023-05-27 12:55:21"
         ],
         "hovertemplate": "<b>%{hovertext}</b><br><br>Médico=%{y}<br>Inicio=%{base}<br>Fin=%{x}<extra></extra>",
         "hovertext": [
          "324274",
          "324277",
          "324278",
          "324303",
          "324310",
          "324330",
          "324344",
          "324359",
          "324368",
          "324419",
          "324440"
         ],
         "legendgroup": "79955886",
         "marker": {
          "color": "#FF6692",
          "pattern": {
           "shape": ""
          }
         },
         "name": "79955886",
         "offsetgroup": "79955886",
         "orientation": "h",
         "showlegend": true,
         "textposition": "auto",
         "type": "bar",
         "x": [
          840000,
          540000,
          1500000,
          0,
          1260000,
          240000,
          180000,
          0,
          1560000,
          780000,
          900000
         ],
         "xaxis": "x",
         "y": [
          "79955886",
          "79955886",
          "79955886",
          "79955886",
          "79955886",
          "79955886",
          "79955886",
          "79955886",
          "79955886",
          "79955886",
          "79955886"
         ],
         "yaxis": "y"
        },
        {
         "alignmentgroup": "True",
         "base": [
          "2023-05-27 06:35:34",
          "2023-05-27 07:08:39",
          "2023-05-27 07:40:50",
          "2023-05-27 08:16:09",
          "2023-05-27 08:40:59",
          "2023-05-27 09:55:26",
          "2023-05-27 11:26:28"
         ],
         "hovertemplate": "<b>%{hovertext}</b><br><br>Médico=%{y}<br>Inicio=%{base}<br>Fin=%{x}<extra></extra>",
         "hovertext": [
          "324275",
          "324281",
          "324282",
          "324315",
          "324319",
          "324362",
          "324395"
         ],
         "legendgroup": "1015414697",
         "marker": {
          "color": "#B6E880",
          "pattern": {
           "shape": ""
          }
         },
         "name": "1015414697",
         "offsetgroup": "1015414697",
         "orientation": "h",
         "showlegend": true,
         "textposition": "auto",
         "type": "bar",
         "x": [
          1380000,
          1920000,
          1560000,
          840000,
          1020000,
          840000,
          2940000
         ],
         "xaxis": "x",
         "y": [
          "1015414697",
          "1015414697",
          "1015414697",
          "1015414697",
          "1015414697",
          "1015414697",
          "1015414697"
         ],
         "yaxis": "y"
        },
        {
         "alignmentgroup": "True",
         "base": [
          "2023-05-27 06:33:43",
          "2023-05-27 06:58:23",
          "2023-05-27 07:26:48",
          "2023-05-27 07:45:04",
          "2023-05-27 08:46:01",
          "2023-05-27 10:06:24",
          "2023-05-27 11:08:37",
          "2023-05-27 13:42:19"
         ],
         "hovertemplate": "<b>%{hovertext}</b><br><br>Médico=%{y}<br>Inicio=%{base}<br>Fin=%{x}<extra></extra>",
         "hovertext": [
          "324276",
          "324280",
          "324286",
          "324307",
          "324318",
          "324370",
          "324398",
          "324449"
         ],
         "legendgroup": "1019088914",
         "marker": {
          "color": "#FF97FF",
          "pattern": {
           "shape": ""
          }
         },
         "name": "1019088914",
         "offsetgroup": "1019088914",
         "orientation": "h",
         "showlegend": true,
         "textposition": "auto",
         "type": "bar",
         "x": [
          780000,
          480000,
          540000,
          2400000,
          3540000,
          1260000,
          1860000,
          1080000
         ],
         "xaxis": "x",
         "y": [
          "1019088914",
          "1019088914",
          "1019088914",
          "1019088914",
          "1019088914",
          "1019088914",
          "1019088914",
          "1019088914"
         ],
         "yaxis": "y"
        },
        {
         "alignmentgroup": "True",
         "base": [
          "2023-05-27 07:15:12",
          "2023-05-27 08:04:30",
          "2023-05-27 09:28:06",
          "2023-05-27 09:56:00",
          "2023-05-27 10:03:25",
          "2023-05-27 10:48:07",
          "2023-05-27 12:59:21",
          "2023-05-27 15:04:09"
         ],
         "hovertemplate": "<b>%{hovertext}</b><br><br>Médico=%{y}<br>Inicio=%{base}<br>Fin=%{x}<extra></extra>",
         "hovertext": [
          "324295",
          "324300",
          "324316",
          "324347",
          "324348",
          "324393",
          "324438",
          "324471"
         ],
         "legendgroup": "1020777651",
         "marker": {
          "color": "#FECB52",
          "pattern": {
           "shape": ""
          }
         },
         "name": "1020777651",
         "offsetgroup": "1020777651",
         "orientation": "h",
         "showlegend": true,
         "textposition": "auto",
         "type": "bar",
         "x": [
          540000,
          1800000,
          1020000,
          0,
          1920000,
          1020000,
          1920000,
          780000
         ],
         "xaxis": "x",
         "y": [
          "1020777651",
          "1020777651",
          "1020777651",
          "1020777651",
          "1020777651",
          "1020777651",
          "1020777651",
          "1020777651"
         ],
         "yaxis": "y"
        },
        {
         "alignmentgroup": "True",
         "base": [
          "2023-05-27 07:27:40",
          "2023-05-27 08:09:18",
          "2023-05-27 08:51:07",
          "2023-05-27 09:18:36",
          "2023-05-27 09:43:02",
          "2023-05-27 10:16:19",
          "2023-05-27 10:54:37",
          "2023-05-27 12:42:50",
          "2023-05-27 15:15:50"
         ],
         "hovertemplate": "<b>%{hovertext}</b><br><br>Médico=%{y}<br>Inicio=%{base}<br>Fin=%{x}<extra></extra>",
         "hovertext": [
          "324297",
          "324308",
          "324311",
          "324341",
          "324345",
          "324382",
          "324399",
          "324436",
          "324469"
         ],
         "legendgroup": "1018446151",
         "marker": {
          "color": "#636efa",
          "pattern": {
           "shape": ""
          }
         },
         "name": "1018446151",
         "offsetgroup": "1018446151",
         "orientation": "h",
         "showlegend": true,
         "textposition": "auto",
         "type": "bar",
         "x": [
          780000,
          1380000,
          1080000,
          900000,
          1200000,
          1860000,
          1140000,
          180000,
          720000
         ],
         "xaxis": "x",
         "y": [
          "1018446151",
          "1018446151",
          "1018446151",
          "1018446151",
          "1018446151",
          "1018446151",
          "1018446151",
          "1018446151",
          "1018446151"
         ],
         "yaxis": "y"
        },
        {
         "alignmentgroup": "True",
         "base": [
          "2023-05-27 07:32:15",
          "2023-05-27 07:57:44",
          "2023-05-27 08:35:24",
          "2023-05-27 09:40:28",
          "2023-05-27 10:29:43",
          "2023-05-27 10:59:20",
          "2023-05-27 13:14:24"
         ],
         "hovertemplate": "<b>%{hovertext}</b><br><br>Médico=%{y}<br>Inicio=%{base}<br>Fin=%{x}<extra></extra>",
         "hovertext": [
          "324298",
          "324304",
          "324305",
          "324352",
          "324380",
          "324396",
          "324442"
         ],
         "legendgroup": "80185764",
         "marker": {
          "color": "#EF553B",
          "pattern": {
           "shape": ""
          }
         },
         "name": "80185764",
         "offsetgroup": "80185764",
         "orientation": "h",
         "showlegend": true,
         "textposition": "auto",
         "type": "bar",
         "x": [
          1020000,
          900000,
          1860000,
          1260000,
          900000,
          1200000,
          1260000
         ],
         "xaxis": "x",
         "y": [
          "80185764",
          "80185764",
          "80185764",
          "80185764",
          "80185764",
          "80185764",
          "80185764"
         ],
         "yaxis": "y"
        },
        {
         "alignmentgroup": "True",
         "base": [
          "2023-05-27 08:10:12",
          "2023-05-27 08:28:18",
          "2023-05-27 08:59:23",
          "2023-05-27 09:37:03",
          "2023-05-27 10:05:40",
          "2023-05-27 11:03:36",
          "2023-05-27 13:50:05",
          "2023-05-27 16:01:34"
         ],
         "hovertemplate": "<b>%{hovertext}</b><br><br>Médico=%{y}<br>Inicio=%{base}<br>Fin=%{x}<extra></extra>",
         "hovertext": [
          "324321",
          "324326",
          "324327",
          "324342",
          "324351",
          "324394",
          "324450",
          "324488"
         ],
         "legendgroup": "39779707",
         "marker": {
          "color": "#00cc96",
          "pattern": {
           "shape": ""
          }
         },
         "name": "39779707",
         "offsetgroup": "39779707",
         "orientation": "h",
         "showlegend": true,
         "textposition": "auto",
         "type": "bar",
         "x": [
          300000,
          840000,
          1080000,
          1680000,
          1800000,
          2640000,
          900000,
          420000
         ],
         "xaxis": "x",
         "y": [
          "39779707",
          "39779707",
          "39779707",
          "39779707",
          "39779707",
          "39779707",
          "39779707",
          "39779707"
         ],
         "yaxis": "y"
        },
        {
         "alignmentgroup": "True",
         "base": [
          "2023-05-27 11:44:08"
         ],
         "hovertemplate": "<b>%{hovertext}</b><br><br>Médico=%{y}<br>Inicio=%{base}<br>Fin=%{x}<extra></extra>",
         "hovertext": [
          "324322"
         ],
         "legendgroup": "52200795",
         "marker": {
          "color": "#ab63fa",
          "pattern": {
           "shape": ""
          }
         },
         "name": "52200795",
         "offsetgroup": "52200795",
         "orientation": "h",
         "showlegend": true,
         "textposition": "auto",
         "type": "bar",
         "x": [
          4320000
         ],
         "xaxis": "x",
         "y": [
          "52200795"
         ],
         "yaxis": "y"
        },
        {
         "alignmentgroup": "True",
         "base": [
          "2023-05-27 08:12:14",
          "2023-05-27 08:23:51",
          "2023-05-27 09:05:13",
          "2023-05-27 09:38:42",
          "2023-05-27 09:57:52",
          "2023-05-27 10:44:48",
          "2023-05-27 11:04:08",
          "2023-05-27 13:25:25",
          "2023-05-27 15:52:08"
         ],
         "hovertemplate": "<b>%{hovertext}</b><br><br>Médico=%{y}<br>Inicio=%{base}<br>Fin=%{x}<extra></extra>",
         "hovertext": [
          "324323",
          "324325",
          "324329",
          "324343",
          "324350",
          "324389",
          "324400",
          "324444",
          "324485"
         ],
         "legendgroup": "1127250183",
         "marker": {
          "color": "#FFA15A",
          "pattern": {
           "shape": ""
          }
         },
         "name": "1127250183",
         "offsetgroup": "1127250183",
         "orientation": "h",
         "showlegend": true,
         "textposition": "auto",
         "type": "bar",
         "x": [
          0,
          1620000,
          1320000,
          360000,
          900000,
          300000,
          1380000,
          1020000,
          1440000
         ],
         "xaxis": "x",
         "y": [
          "1127250183",
          "1127250183",
          "1127250183",
          "1127250183",
          "1127250183",
          "1127250183",
          "1127250183",
          "1127250183",
          "1127250183"
         ],
         "yaxis": "y"
        },
        {
         "alignmentgroup": "True",
         "base": [
          "2023-05-27 08:13:47",
          "2023-05-27 08:53:06",
          "2023-05-27 09:15:20",
          "2023-05-27 09:52:05",
          "2023-05-27 10:13:02",
          "2023-05-27 10:55:01",
          "2023-05-27 12:46:19",
          "2023-05-27 15:12:02",
          "2023-05-27 16:12:19"
         ],
         "hovertemplate": "<b>%{hovertext}</b><br><br>Médico=%{y}<br>Inicio=%{base}<br>Fin=%{x}<extra></extra>",
         "hovertext": [
          "324324",
          "324328",
          "324332",
          "324346",
          "324377",
          "324392",
          "324437",
          "324476",
          "324499"
         ],
         "legendgroup": "1024468225",
         "marker": {
          "color": "#19d3f3",
          "pattern": {
           "shape": ""
          }
         },
         "name": "1024468225",
         "offsetgroup": "1024468225",
         "orientation": "h",
         "showlegend": true,
         "textposition": "auto",
         "type": "bar",
         "x": [
          1920000,
          1260000,
          1260000,
          780000,
          960000,
          720000,
          1680000,
          840000,
          1020000
         ],
         "xaxis": "x",
         "y": [
          "1024468225",
          "1024468225",
          "1024468225",
          "1024468225",
          "1024468225",
          "1024468225",
          "1024468225",
          "1024468225",
          "1024468225"
         ],
         "yaxis": "y"
        },
        {
         "alignmentgroup": "True",
         "base": [
          "2023-05-27 09:23:02",
          "2023-05-27 10:22:29",
          "2023-05-27 11:00:56",
          "2023-05-27 11:34:09",
          "2023-05-27 12:15:24",
          "2023-05-27 14:37:48",
          "2023-05-27 15:53:54"
         ],
         "hovertemplate": "<b>%{hovertext}</b><br><br>Médico=%{y}<br>Inicio=%{base}<br>Fin=%{x}<extra></extra>",
         "hovertext": [
          "324353",
          "324369",
          "324375",
          "324410",
          "324420",
          "324460",
          "324489"
         ],
         "legendgroup": "1121853934",
         "marker": {
          "color": "#FF6692",
          "pattern": {
           "shape": ""
          }
         },
         "name": "1121853934",
         "offsetgroup": "1121853934",
         "orientation": "h",
         "showlegend": true,
         "textposition": "auto",
         "type": "bar",
         "x": [
          2580000,
          1800000,
          600000,
          300000,
          1020000,
          1560000,
          180000
         ],
         "xaxis": "x",
         "y": [
          "1121853934",
          "1121853934",
          "1121853934",
          "1121853934",
          "1121853934",
          "1121853934",
          "1121853934"
         ],
         "yaxis": "y"
        },
        {
         "alignmentgroup": "True",
         "base": [
          "2023-05-27 09:43:47",
          "2023-05-27 10:14:04",
          "2023-05-27 11:08:18",
          "2023-05-27 11:39:26",
          "2023-05-27 12:28:12",
          "2023-05-27 15:22:11",
          "2023-05-27 17:13:38"
         ],
         "hovertemplate": "<b>%{hovertext}</b><br><br>Médico=%{y}<br>Inicio=%{base}<br>Fin=%{x}<extra></extra>",
         "hovertext": [
          "324355",
          "324364",
          "324376",
          "324413",
          "324427",
          "324477",
          "324530"
         ],
         "legendgroup": "1016039086",
         "marker": {
          "color": "#B6E880",
          "pattern": {
           "shape": ""
          }
         },
         "name": "1016039086",
         "offsetgroup": "1016039086",
         "orientation": "h",
         "showlegend": true,
         "textposition": "auto",
         "type": "bar",
         "x": [
          780000,
          1080000,
          900000,
          960000,
          1440000,
          60000,
          1320000
         ],
         "xaxis": "x",
         "y": [
          "1016039086",
          "1016039086",
          "1016039086",
          "1016039086",
          "1016039086",
          "1016039086",
          "1016039086"
         ],
         "yaxis": "y"
        },
        {
         "alignmentgroup": "True",
         "base": [
          "2023-05-27 09:40:54",
          "2023-05-27 09:59:49",
          "2023-05-27 10:33:02",
          "2023-05-27 11:07:22",
          "2023-05-27 11:44:54",
          "2023-05-27 14:09:46",
          "2023-05-27 16:11:16"
         ],
         "hovertemplate": "<b>%{hovertext}</b><br><br>Médico=%{y}<br>Inicio=%{base}<br>Fin=%{x}<extra></extra>",
         "hovertext": [
          "324358",
          "324366",
          "324371",
          "324401",
          "324417",
          "324452",
          "324496"
         ],
         "legendgroup": "80383487",
         "marker": {
          "color": "#FF97FF",
          "pattern": {
           "shape": ""
          }
         },
         "name": "80383487",
         "offsetgroup": "80383487",
         "orientation": "h",
         "showlegend": true,
         "textposition": "auto",
         "type": "bar",
         "x": [
          420000,
          660000,
          1140000,
          1140000,
          960000,
          2400000,
          1920000
         ],
         "xaxis": "x",
         "y": [
          "80383487",
          "80383487",
          "80383487",
          "80383487",
          "80383487",
          "80383487",
          "80383487"
         ],
         "yaxis": "y"
        },
        {
         "alignmentgroup": "True",
         "base": [
          "2023-05-27 10:11:28",
          "2023-05-27 10:38:55",
          "2023-05-27 11:11:39",
          "2023-05-27 12:08:46",
          "2023-05-27 12:51:32",
          "2023-05-27 15:38:12",
          "2023-05-27 17:27:08"
         ],
         "hovertemplate": "<b>%{hovertext}</b><br><br>Médico=%{y}<br>Inicio=%{base}<br>Fin=%{x}<extra></extra>",
         "hovertext": [
          "324378",
          "324383",
          "324402",
          "324418",
          "324435",
          "324482",
          "324535"
         ],
         "legendgroup": "1020803066",
         "marker": {
          "color": "#FECB52",
          "pattern": {
           "shape": ""
          }
         },
         "name": "1020803066",
         "offsetgroup": "1020803066",
         "orientation": "h",
         "showlegend": true,
         "textposition": "auto",
         "type": "bar",
         "x": [
          1620000,
          900000,
          540000,
          1140000,
          1680000,
          420000,
          120000
         ],
         "xaxis": "x",
         "y": [
          "1020803066",
          "1020803066",
          "1020803066",
          "1020803066",
          "1020803066",
          "1020803066",
          "1020803066"
         ],
         "yaxis": "y"
        },
        {
         "alignmentgroup": "True",
         "base": [
          "2023-05-27 10:07:45",
          "2023-05-27 10:40:56",
          "2023-05-27 10:47:58",
          "2023-05-27 11:26:25",
          "2023-05-27 12:30:27",
          "2023-05-27 14:39:54",
          "2023-05-27 15:47:59",
          "2023-05-27 17:30:12"
         ],
         "hovertemplate": "<b>%{hovertext}</b><br><br>Médico=%{y}<br>Inicio=%{base}<br>Fin=%{x}<extra></extra>",
         "hovertext": [
          "324379",
          "324381",
          "324384",
          "324408",
          "324430",
          "324463",
          "324492",
          "324539"
         ],
         "legendgroup": "57293715",
         "marker": {
          "color": "#636efa",
          "pattern": {
           "shape": ""
          }
         },
         "name": "57293715",
         "offsetgroup": "57293715",
         "orientation": "h",
         "showlegend": true,
         "textposition": "auto",
         "type": "bar",
         "x": [
          1620000,
          0,
          1320000,
          2040000,
          1140000,
          840000,
          840000,
          960000
         ],
         "xaxis": "x",
         "y": [
          "57293715",
          "57293715",
          "57293715",
          "57293715",
          "57293715",
          "57293715",
          "57293715",
          "57293715"
         ],
         "yaxis": "y"
        },
        {
         "alignmentgroup": "True",
         "base": [
          "2023-05-27 11:18:22",
          "2023-05-27 11:45:32",
          "2023-05-27 12:16:31",
          "2023-05-27 12:38:08",
          "2023-05-27 13:34:05",
          "2023-05-27 15:28:35",
          "2023-05-27 16:15:17",
          "2023-05-27 17:57:24",
          "2023-05-27 18:26:55"
         ],
         "hovertemplate": "<b>%{hovertext}</b><br><br>Médico=%{y}<br>Inicio=%{base}<br>Fin=%{x}<extra></extra>",
         "hovertext": [
          "324404",
          "324415",
          "324426",
          "324434",
          "324447",
          "324481",
          "324501",
          "324550",
          "324562"
         ],
         "legendgroup": "1020808271",
         "marker": {
          "color": "#EF553B",
          "pattern": {
           "shape": ""
          }
         },
         "name": "1020808271",
         "offsetgroup": "1020808271",
         "orientation": "h",
         "showlegend": true,
         "textposition": "auto",
         "type": "bar",
         "x": [
          360000,
          240000,
          300000,
          2400000,
          600000,
          0,
          300000,
          480000,
          660000
         ],
         "xaxis": "x",
         "y": [
          "1020808271",
          "1020808271",
          "1020808271",
          "1020808271",
          "1020808271",
          "1020808271",
          "1020808271",
          "1020808271",
          "1020808271"
         ],
         "yaxis": "y"
        },
        {
         "alignmentgroup": "True",
         "base": [
          "2023-05-27 11:07:22",
          "2023-05-27 11:42:00",
          "2023-05-27 12:04:11",
          "2023-05-27 12:35:04",
          "2023-05-27 13:22:10",
          "2023-05-27 15:35:57",
          "2023-05-27 17:25:14",
          "2023-05-27 18:47:26"
         ],
         "hovertemplate": "<b>%{hovertext}</b><br><br>Médico=%{y}<br>Inicio=%{base}<br>Fin=%{x}<extra></extra>",
         "hovertext": [
          "324405",
          "324416",
          "324424",
          "324432",
          "324445",
          "324484",
          "324537",
          "324563"
         ],
         "legendgroup": "80727764",
         "marker": {
          "color": "#00cc96",
          "pattern": {
           "shape": ""
          }
         },
         "name": "80727764",
         "offsetgroup": "80727764",
         "orientation": "h",
         "showlegend": true,
         "textposition": "auto",
         "type": "bar",
         "x": [
          1380000,
          660000,
          1260000,
          2640000,
          1020000,
          960000,
          2160000,
          840000
         ],
         "xaxis": "x",
         "y": [
          "80727764",
          "80727764",
          "80727764",
          "80727764",
          "80727764",
          "80727764",
          "80727764",
          "80727764"
         ],
         "yaxis": "y"
        },
        {
         "alignmentgroup": "True",
         "base": [
          "2023-05-27 11:21:29",
          "2023-05-27 11:36:59",
          "2023-05-27 11:59:03",
          "2023-05-27 12:35:47",
          "2023-05-27 13:42:15",
          "2023-05-27 15:58:34",
          "2023-05-27 17:35:54",
          "2023-05-27 18:46:25"
         ],
         "hovertemplate": "<b>%{hovertext}</b><br><br>Médico=%{y}<br>Inicio=%{base}<br>Fin=%{x}<extra></extra>",
         "hovertext": [
          "324406",
          "324414",
          "324423",
          "324431",
          "324448",
          "324486",
          "324543",
          "324560"
         ],
         "legendgroup": "1098635342",
         "marker": {
          "color": "#ab63fa",
          "pattern": {
           "shape": ""
          }
         },
         "name": "1098635342",
         "offsetgroup": "1098635342",
         "orientation": "h",
         "showlegend": true,
         "textposition": "auto",
         "type": "bar",
         "x": [
          240000,
          780000,
          1080000,
          2280000,
          0,
          480000,
          660000,
          0
         ],
         "xaxis": "x",
         "y": [
          "1098635342",
          "1098635342",
          "1098635342",
          "1098635342",
          "1098635342",
          "1098635342",
          "1098635342",
          "1098635342"
         ],
         "yaxis": "y"
        },
        {
         "alignmentgroup": "True",
         "base": [
          "2023-05-27 12:39:31",
          "2023-05-27 13:07:54",
          "2023-05-27 14:03:33",
          "2023-05-27 14:44:00",
          "2023-05-27 15:14:52",
          "2023-05-27 17:12:38",
          "2023-05-27 18:25:53"
         ],
         "hovertemplate": "<b>%{hovertext}</b><br><br>Médico=%{y}<br>Inicio=%{base}<br>Fin=%{x}<extra></extra>",
         "hovertext": [
          "324428",
          "324441",
          "324443",
          "324462",
          "324470",
          "324534",
          "324553"
         ],
         "legendgroup": "1082996581",
         "marker": {
          "color": "#FFA15A",
          "pattern": {
           "shape": ""
          }
         },
         "name": "1082996581",
         "offsetgroup": "1082996581",
         "orientation": "h",
         "showlegend": true,
         "textposition": "auto",
         "type": "bar",
         "x": [
          840000,
          360000,
          1440000,
          0,
          1620000,
          60000,
          2700000
         ],
         "xaxis": "x",
         "y": [
          "1082996581",
          "1082996581",
          "1082996581",
          "1082996581",
          "1082996581",
          "1082996581",
          "1082996581"
         ],
         "yaxis": "y"
        },
        {
         "alignmentgroup": "True",
         "base": [
          "2023-05-27 12:24:39",
          "2023-05-27 13:06:45",
          "2023-05-27 13:40:34",
          "2023-05-27 14:00:34",
          "2023-05-27 14:34:31",
          "2023-05-27 15:47:16",
          "2023-05-27 17:31:24",
          "2023-05-27 18:54:41",
          "2023-05-27 19:54:07"
         ],
         "hovertemplate": "<b>%{hovertext}</b><br><br>Médico=%{y}<br>Inicio=%{base}<br>Fin=%{x}<extra></extra>",
         "hovertext": [
          "324429",
          "324439",
          "324446",
          "324453",
          "324461",
          "324490",
          "324541",
          "324561",
          "324593"
         ],
         "legendgroup": "1117504115",
         "marker": {
          "color": "#19d3f3",
          "pattern": {
           "shape": ""
          }
         },
         "name": "1117504115",
         "offsetgroup": "1117504115",
         "orientation": "h",
         "showlegend": true,
         "textposition": "auto",
         "type": "bar",
         "x": [
          1080000,
          900000,
          960000,
          1140000,
          780000,
          1200000,
          480000,
          180000,
          540000
         ],
         "xaxis": "x",
         "y": [
          "1117504115",
          "1117504115",
          "1117504115",
          "1117504115",
          "1117504115",
          "1117504115",
          "1117504115",
          "1117504115",
          "1117504115"
         ],
         "yaxis": "y"
        },
        {
         "alignmentgroup": "True",
         "base": [
          "2023-05-27 14:18:56",
          "2023-05-27 15:24:24",
          "2023-05-27 16:38:52",
          "2023-05-27 16:50:38",
          "2023-05-27 17:59:49",
          "2023-05-27 19:05:39",
          "2023-05-27 20:28:38",
          "2023-05-27 22:17:25"
         ],
         "hovertemplate": "<b>%{hovertext}</b><br><br>Médico=%{y}<br>Inicio=%{base}<br>Fin=%{x}<extra></extra>",
         "hovertext": [
          "324454",
          "324468",
          "324510",
          "324523",
          "324540",
          "324565",
          "324601",
          "324619"
         ],
         "legendgroup": "1085310672",
         "marker": {
          "color": "#FF6692",
          "pattern": {
           "shape": ""
          }
         },
         "name": "1085310672",
         "offsetgroup": "1085310672",
         "orientation": "h",
         "showlegend": true,
         "textposition": "auto",
         "type": "bar",
         "x": [
          1200000,
          2700000,
          240000,
          1860000,
          1080000,
          420000,
          180000,
          780000
         ],
         "xaxis": "x",
         "y": [
          "1085310672",
          "1085310672",
          "1085310672",
          "1085310672",
          "1085310672",
          "1085310672",
          "1085310672",
          "1085310672"
         ],
         "yaxis": "y"
        },
        {
         "alignmentgroup": "True",
         "base": [
          "2023-05-27 14:19:26",
          "2023-05-27 14:52:27",
          "2023-05-27 15:40:17",
          "2023-05-27 16:23:20",
          "2023-05-27 17:08:22",
          "2023-05-27 18:09:03",
          "2023-05-27 19:19:11",
          "2023-05-27 20:01:44"
         ],
         "hovertemplate": "<b>%{hovertext}</b><br><br>Médico=%{y}<br>Inicio=%{base}<br>Fin=%{x}<extra></extra>",
         "hovertext": [
          "324456",
          "324465",
          "324478",
          "324494",
          "324526",
          "324557",
          "324580",
          "324595"
         ],
         "legendgroup": "1095825225",
         "marker": {
          "color": "#B6E880",
          "pattern": {
           "shape": ""
          }
         },
         "name": "1095825225",
         "offsetgroup": "1095825225",
         "orientation": "h",
         "showlegend": true,
         "textposition": "auto",
         "type": "bar",
         "x": [
          1080000,
          960000,
          60000,
          1080000,
          900000,
          1020000,
          1020000,
          1500000
         ],
         "xaxis": "x",
         "y": [
          "1095825225",
          "1095825225",
          "1095825225",
          "1095825225",
          "1095825225",
          "1095825225",
          "1095825225",
          "1095825225"
         ],
         "yaxis": "y"
        },
        {
         "alignmentgroup": "True",
         "base": [
          "2023-05-27 14:21:44",
          "2023-05-27 14:58:46",
          "2023-05-27 15:47:37",
          "2023-05-27 15:55:22",
          "2023-05-27 16:54:53",
          "2023-05-27 18:34:15",
          "2023-05-27 19:39:42",
          "2023-05-27 21:20:43"
         ],
         "hovertemplate": "<b>%{hovertext}</b><br><br>Médico=%{y}<br>Inicio=%{base}<br>Fin=%{x}<extra></extra>",
         "hovertext": [
          "324457",
          "324464",
          "324480",
          "324495",
          "324521",
          "324555",
          "324584",
          "324614"
         ],
         "legendgroup": "1014217039",
         "marker": {
          "color": "#FF97FF",
          "pattern": {
           "shape": ""
          }
         },
         "name": "1014217039",
         "offsetgroup": "1014217039",
         "orientation": "h",
         "showlegend": true,
         "textposition": "auto",
         "type": "bar",
         "x": [
          840000,
          1020000,
          0,
          1620000,
          1380000,
          600000,
          2280000,
          1260000
         ],
         "xaxis": "x",
         "y": [
          "1014217039",
          "1014217039",
          "1014217039",
          "1014217039",
          "1014217039",
          "1014217039",
          "1014217039",
          "1014217039"
         ],
         "yaxis": "y"
        },
        {
         "alignmentgroup": "True",
         "base": [
          "2023-05-27 14:32:12",
          "2023-05-27 15:15:43",
          "2023-05-27 15:59:06",
          "2023-05-27 16:41:21",
          "2023-05-27 17:06:49",
          "2023-05-27 18:09:31",
          "2023-05-27 19:28:56",
          "2023-05-27 20:23:06"
         ],
         "hovertemplate": "<b>%{hovertext}</b><br><br>Médico=%{y}<br>Inicio=%{base}<br>Fin=%{x}<extra></extra>",
         "hovertext": [
          "324458",
          "324466",
          "324487",
          "324519",
          "324529",
          "324556",
          "324581",
          "324604"
         ],
         "legendgroup": "1014266018",
         "marker": {
          "color": "#FECB52",
          "pattern": {
           "shape": ""
          }
         },
         "name": "1014266018",
         "offsetgroup": "1014266018",
         "orientation": "h",
         "showlegend": true,
         "textposition": "auto",
         "type": "bar",
         "x": [
          600000,
          1200000,
          480000,
          900000,
          720000,
          780000,
          900000,
          1500000
         ],
         "xaxis": "x",
         "y": [
          "1014266018",
          "1014266018",
          "1014266018",
          "1014266018",
          "1014266018",
          "1014266018",
          "1014266018",
          "1014266018"
         ],
         "yaxis": "y"
        },
        {
         "alignmentgroup": "True",
         "base": [
          "2023-05-27 14:35:53",
          "2023-05-27 14:51:50",
          "2023-05-27 15:32:14",
          "2023-05-27 16:12:39",
          "2023-05-27 17:16:31",
          "2023-05-27 18:09:47",
          "2023-05-27 19:10:27",
          "2023-05-27 19:45:37",
          "2023-05-27 20:22:42",
          "2023-05-27 20:48:44"
         ],
         "hovertemplate": "<b>%{hovertext}</b><br><br>Médico=%{y}<br>Inicio=%{base}<br>Fin=%{x}<extra></extra>",
         "hovertext": [
          "324459",
          "324467",
          "324479",
          "324498",
          "324532",
          "324558",
          "324579",
          "324591",
          "324605",
          "324613"
         ],
         "legendgroup": "1098697055",
         "marker": {
          "color": "#636efa",
          "pattern": {
           "shape": ""
          }
         },
         "name": "1098697055",
         "offsetgroup": "1098697055",
         "orientation": "h",
         "showlegend": true,
         "textposition": "auto",
         "type": "bar",
         "x": [
          540000,
          1140000,
          1200000,
          2100000,
          840000,
          840000,
          900000,
          900000,
          0,
          1500000
         ],
         "xaxis": "x",
         "y": [
          "1098697055",
          "1098697055",
          "1098697055",
          "1098697055",
          "1098697055",
          "1098697055",
          "1098697055",
          "1098697055",
          "1098697055",
          "1098697055"
         ],
         "yaxis": "y"
        },
        {
         "alignmentgroup": "True",
         "base": [
          "2023-05-27 15:27:02",
          "2023-05-27 16:06:56",
          "2023-05-27 16:35:10",
          "2023-05-27 17:25:58",
          "2023-05-27 17:52:46",
          "2023-05-27 19:38:06",
          "2023-05-27 20:37:27",
          "2023-05-27 22:36:34"
         ],
         "hovertemplate": "<b>%{hovertext}</b><br><br>Médico=%{y}<br>Inicio=%{base}<br>Fin=%{x}<extra></extra>",
         "hovertext": [
          "324472",
          "324493",
          "324515",
          "324524",
          "324548",
          "324582",
          "324603",
          "324620"
         ],
         "legendgroup": "85488148",
         "marker": {
          "color": "#EF553B",
          "pattern": {
           "shape": ""
          }
         },
         "name": "85488148",
         "offsetgroup": "85488148",
         "orientation": "h",
         "showlegend": true,
         "textposition": "auto",
         "type": "bar",
         "x": [
          960000,
          900000,
          600000,
          660000,
          3000000,
          0,
          1020000,
          120000
         ],
         "xaxis": "x",
         "y": [
          "85488148",
          "85488148",
          "85488148",
          "85488148",
          "85488148",
          "85488148",
          "85488148",
          "85488148"
         ],
         "yaxis": "y"
        },
        {
         "alignmentgroup": "True",
         "base": [
          "2023-05-27 15:16:04",
          "2023-05-27 15:57:38",
          "2023-05-27 16:35:51",
          "2023-05-27 17:17:53",
          "2023-05-27 18:08:51",
          "2023-05-27 18:53:49",
          "2023-05-27 19:27:42",
          "2023-05-27 19:53:56",
          "2023-05-27 20:49:57"
         ],
         "hovertemplate": "<b>%{hovertext}</b><br><br>Médico=%{y}<br>Inicio=%{base}<br>Fin=%{x}<extra></extra>",
         "hovertext": [
          "324473",
          "324483",
          "324509",
          "324533",
          "324549",
          "324574",
          "324585",
          "324597",
          "324611"
         ],
         "legendgroup": "80075437",
         "marker": {
          "color": "#00cc96",
          "pattern": {
           "shape": ""
          }
         },
         "name": "80075437",
         "offsetgroup": "80075437",
         "orientation": "h",
         "showlegend": true,
         "textposition": "auto",
         "type": "bar",
         "x": [
          600000,
          60000,
          1200000,
          1200000,
          420000,
          840000,
          120000,
          1380000,
          1560000
         ],
         "xaxis": "x",
         "y": [
          "80075437",
          "80075437",
          "80075437",
          "80075437",
          "80075437",
          "80075437",
          "80075437",
          "80075437",
          "80075437"
         ],
         "yaxis": "y"
        },
        {
         "alignmentgroup": "True",
         "base": [
          "2023-05-27 15:39:52",
          "2023-05-27 17:15:06",
          "2023-05-27 17:42:57",
          "2023-05-27 18:23:48",
          "2023-05-27 18:53:46",
          "2023-05-27 20:49:10",
          "2023-05-27 21:25:00"
         ],
         "hovertemplate": "<b>%{hovertext}</b><br><br>Médico=%{y}<br>Inicio=%{base}<br>Fin=%{x}<extra></extra>",
         "hovertext": [
          "324475",
          "324517",
          "324542",
          "324551",
          "324569",
          "324607",
          "324616"
         ],
         "legendgroup": "1053327980",
         "marker": {
          "color": "#ab63fa",
          "pattern": {
           "shape": ""
          }
         },
         "name": "1053327980",
         "offsetgroup": "1053327980",
         "orientation": "h",
         "showlegend": true,
         "textposition": "auto",
         "type": "bar",
         "x": [
          2160000,
          540000,
          780000,
          420000,
          4020000,
          180000,
          120000
         ],
         "xaxis": "x",
         "y": [
          "1053327980",
          "1053327980",
          "1053327980",
          "1053327980",
          "1053327980",
          "1053327980",
          "1053327980"
         ],
         "yaxis": "y"
        },
        {
         "alignmentgroup": "True",
         "base": [
          "2023-05-27 16:19:26",
          "2023-05-27 17:22:04",
          "2023-05-27 18:00:31",
          "2023-05-27 18:27:29",
          "2023-05-27 19:19:54",
          "2023-05-27 20:11:31",
          "2023-05-27 20:31:51"
         ],
         "hovertemplate": "<b>%{hovertext}</b><br><br>Médico=%{y}<br>Inicio=%{base}<br>Fin=%{x}<extra></extra>",
         "hovertext": [
          "324502",
          "324522",
          "324546",
          "324564",
          "324577",
          "324599",
          "324609"
         ],
         "legendgroup": "1083026203",
         "marker": {
          "color": "#FFA15A",
          "pattern": {
           "shape": ""
          }
         },
         "name": "1083026203",
         "offsetgroup": "1083026203",
         "orientation": "h",
         "showlegend": true,
         "textposition": "auto",
         "type": "bar",
         "x": [
          1560000,
          840000,
          900000,
          1620000,
          1200000,
          360000,
          1080000
         ],
         "xaxis": "x",
         "y": [
          "1083026203",
          "1083026203",
          "1083026203",
          "1083026203",
          "1083026203",
          "1083026203",
          "1083026203"
         ],
         "yaxis": "y"
        },
        {
         "alignmentgroup": "True",
         "base": [
          "2023-05-27 16:28:55",
          "2023-05-27 17:01:41",
          "2023-05-27 17:43:07",
          "2023-05-27 18:37:13",
          "2023-05-27 19:29:26",
          "2023-05-27 20:26:45"
         ],
         "hovertemplate": "<b>%{hovertext}</b><br><br>Médico=%{y}<br>Inicio=%{base}<br>Fin=%{x}<extra></extra>",
         "hovertext": [
          "324504",
          "324527",
          "324538",
          "324559",
          "324573",
          "324606"
         ],
         "legendgroup": "1083012532",
         "marker": {
          "color": "#19d3f3",
          "pattern": {
           "shape": ""
          }
         },
         "name": "1083012532",
         "offsetgroup": "1083012532",
         "orientation": "h",
         "showlegend": true,
         "textposition": "auto",
         "type": "bar",
         "x": [
          1440000,
          720000,
          1500000,
          180000,
          1800000,
          900000
         ],
         "xaxis": "x",
         "y": [
          "1083012532",
          "1083012532",
          "1083012532",
          "1083012532",
          "1083012532",
          "1083012532"
         ],
         "yaxis": "y"
        },
        {
         "alignmentgroup": "True",
         "base": [
          "2023-05-27 16:10:49",
          "2023-05-27 16:25:11",
          "2023-05-27 17:15:14",
          "2023-05-27 18:18:03",
          "2023-05-27 19:10:12",
          "2023-05-27 20:20:38",
          "2023-05-27 21:14:51"
         ],
         "hovertemplate": "<b>%{hovertext}</b><br><br>Médico=%{y}<br>Inicio=%{base}<br>Fin=%{x}<extra></extra>",
         "hovertext": [
          "324506",
          "324513",
          "324520",
          "324554",
          "324567",
          "324600",
          "324615"
         ],
         "legendgroup": "1018440480",
         "marker": {
          "color": "#FF6692",
          "pattern": {
           "shape": ""
          }
         },
         "name": "1018440480",
         "offsetgroup": "1018440480",
         "orientation": "h",
         "showlegend": true,
         "textposition": "auto",
         "type": "bar",
         "x": [
          240000,
          900000,
          2760000,
          240000,
          1320000,
          780000,
          0
         ],
         "xaxis": "x",
         "y": [
          "1018440480",
          "1018440480",
          "1018440480",
          "1018440480",
          "1018440480",
          "1018440480",
          "1018440480"
         ],
         "yaxis": "y"
        },
        {
         "alignmentgroup": "True",
         "base": [
          "2023-05-27 16:13:08",
          "2023-05-27 17:05:52",
          "2023-05-27 18:16:26",
          "2023-05-27 18:54:43",
          "2023-05-27 19:05:42",
          "2023-05-27 20:03:11",
          "2023-05-27 20:48:56"
         ],
         "hovertemplate": "<b>%{hovertext}</b><br><br>Médico=%{y}<br>Inicio=%{base}<br>Fin=%{x}<extra></extra>",
         "hovertext": [
          "324507",
          "324518",
          "324545",
          "324571",
          "324578",
          "324594",
          "324612"
         ],
         "legendgroup": "1019074166",
         "marker": {
          "color": "#B6E880",
          "pattern": {
           "shape": ""
          }
         },
         "name": "1019074166",
         "offsetgroup": "1019074166",
         "orientation": "h",
         "showlegend": true,
         "textposition": "auto",
         "type": "bar",
         "x": [
          1080000,
          1680000,
          1020000,
          300000,
          780000,
          1140000,
          900000
         ],
         "xaxis": "x",
         "y": [
          "1019074166",
          "1019074166",
          "1019074166",
          "1019074166",
          "1019074166",
          "1019074166",
          "1019074166"
         ],
         "yaxis": "y"
        },
        {
         "alignmentgroup": "True",
         "base": [
          "2023-05-27 16:20:42",
          "2023-05-27 16:40:11",
          "2023-05-27 17:16:44",
          "2023-05-27 18:01:01",
          "2023-05-27 19:03:28",
          "2023-05-27 19:45:05",
          "2023-05-27 20:40:59"
         ],
         "hovertemplate": "<b>%{hovertext}</b><br><br>Médico=%{y}<br>Inicio=%{base}<br>Fin=%{x}<extra></extra>",
         "hovertext": [
          "324508",
          "324516",
          "324528",
          "324547",
          "324572",
          "324588",
          "324610"
         ],
         "legendgroup": "1140888504",
         "marker": {
          "color": "#FF97FF",
          "pattern": {
           "shape": ""
          }
         },
         "name": "1140888504",
         "offsetgroup": "1140888504",
         "orientation": "h",
         "showlegend": true,
         "textposition": "auto",
         "type": "bar",
         "x": [
          120000,
          780000,
          900000,
          1560000,
          540000,
          1140000,
          840000
         ],
         "xaxis": "x",
         "y": [
          "1140888504",
          "1140888504",
          "1140888504",
          "1140888504",
          "1140888504",
          "1140888504",
          "1140888504"
         ],
         "yaxis": "y"
        }
       ],
       "layout": {
        "autosize": false,
        "barmode": "overlay",
        "height": 500,
        "legend": {
         "title": {
          "text": "Médico"
         },
         "tracegroupgap": 0
        },
        "template": {
         "data": {
          "bar": [
           {
            "error_x": {
             "color": "#2a3f5f"
            },
            "error_y": {
             "color": "#2a3f5f"
            },
            "marker": {
             "line": {
              "color": "#E5ECF6",
              "width": 0.5
             },
             "pattern": {
              "fillmode": "overlay",
              "size": 10,
              "solidity": 0.2
             }
            },
            "type": "bar"
           }
          ],
          "barpolar": [
           {
            "marker": {
             "line": {
              "color": "#E5ECF6",
              "width": 0.5
             },
             "pattern": {
              "fillmode": "overlay",
              "size": 10,
              "solidity": 0.2
             }
            },
            "type": "barpolar"
           }
          ],
          "carpet": [
           {
            "aaxis": {
             "endlinecolor": "#2a3f5f",
             "gridcolor": "white",
             "linecolor": "white",
             "minorgridcolor": "white",
             "startlinecolor": "#2a3f5f"
            },
            "baxis": {
             "endlinecolor": "#2a3f5f",
             "gridcolor": "white",
             "linecolor": "white",
             "minorgridcolor": "white",
             "startlinecolor": "#2a3f5f"
            },
            "type": "carpet"
           }
          ],
          "choropleth": [
           {
            "colorbar": {
             "outlinewidth": 0,
             "ticks": ""
            },
            "type": "choropleth"
           }
          ],
          "contour": [
           {
            "colorbar": {
             "outlinewidth": 0,
             "ticks": ""
            },
            "colorscale": [
             [
              0,
              "#0d0887"
             ],
             [
              0.1111111111111111,
              "#46039f"
             ],
             [
              0.2222222222222222,
              "#7201a8"
             ],
             [
              0.3333333333333333,
              "#9c179e"
             ],
             [
              0.4444444444444444,
              "#bd3786"
             ],
             [
              0.5555555555555556,
              "#d8576b"
             ],
             [
              0.6666666666666666,
              "#ed7953"
             ],
             [
              0.7777777777777778,
              "#fb9f3a"
             ],
             [
              0.8888888888888888,
              "#fdca26"
             ],
             [
              1,
              "#f0f921"
             ]
            ],
            "type": "contour"
           }
          ],
          "contourcarpet": [
           {
            "colorbar": {
             "outlinewidth": 0,
             "ticks": ""
            },
            "type": "contourcarpet"
           }
          ],
          "heatmap": [
           {
            "colorbar": {
             "outlinewidth": 0,
             "ticks": ""
            },
            "colorscale": [
             [
              0,
              "#0d0887"
             ],
             [
              0.1111111111111111,
              "#46039f"
             ],
             [
              0.2222222222222222,
              "#7201a8"
             ],
             [
              0.3333333333333333,
              "#9c179e"
             ],
             [
              0.4444444444444444,
              "#bd3786"
             ],
             [
              0.5555555555555556,
              "#d8576b"
             ],
             [
              0.6666666666666666,
              "#ed7953"
             ],
             [
              0.7777777777777778,
              "#fb9f3a"
             ],
             [
              0.8888888888888888,
              "#fdca26"
             ],
             [
              1,
              "#f0f921"
             ]
            ],
            "type": "heatmap"
           }
          ],
          "heatmapgl": [
           {
            "colorbar": {
             "outlinewidth": 0,
             "ticks": ""
            },
            "colorscale": [
             [
              0,
              "#0d0887"
             ],
             [
              0.1111111111111111,
              "#46039f"
             ],
             [
              0.2222222222222222,
              "#7201a8"
             ],
             [
              0.3333333333333333,
              "#9c179e"
             ],
             [
              0.4444444444444444,
              "#bd3786"
             ],
             [
              0.5555555555555556,
              "#d8576b"
             ],
             [
              0.6666666666666666,
              "#ed7953"
             ],
             [
              0.7777777777777778,
              "#fb9f3a"
             ],
             [
              0.8888888888888888,
              "#fdca26"
             ],
             [
              1,
              "#f0f921"
             ]
            ],
            "type": "heatmapgl"
           }
          ],
          "histogram": [
           {
            "marker": {
             "pattern": {
              "fillmode": "overlay",
              "size": 10,
              "solidity": 0.2
             }
            },
            "type": "histogram"
           }
          ],
          "histogram2d": [
           {
            "colorbar": {
             "outlinewidth": 0,
             "ticks": ""
            },
            "colorscale": [
             [
              0,
              "#0d0887"
             ],
             [
              0.1111111111111111,
              "#46039f"
             ],
             [
              0.2222222222222222,
              "#7201a8"
             ],
             [
              0.3333333333333333,
              "#9c179e"
             ],
             [
              0.4444444444444444,
              "#bd3786"
             ],
             [
              0.5555555555555556,
              "#d8576b"
             ],
             [
              0.6666666666666666,
              "#ed7953"
             ],
             [
              0.7777777777777778,
              "#fb9f3a"
             ],
             [
              0.8888888888888888,
              "#fdca26"
             ],
             [
              1,
              "#f0f921"
             ]
            ],
            "type": "histogram2d"
           }
          ],
          "histogram2dcontour": [
           {
            "colorbar": {
             "outlinewidth": 0,
             "ticks": ""
            },
            "colorscale": [
             [
              0,
              "#0d0887"
             ],
             [
              0.1111111111111111,
              "#46039f"
             ],
             [
              0.2222222222222222,
              "#7201a8"
             ],
             [
              0.3333333333333333,
              "#9c179e"
             ],
             [
              0.4444444444444444,
              "#bd3786"
             ],
             [
              0.5555555555555556,
              "#d8576b"
             ],
             [
              0.6666666666666666,
              "#ed7953"
             ],
             [
              0.7777777777777778,
              "#fb9f3a"
             ],
             [
              0.8888888888888888,
              "#fdca26"
             ],
             [
              1,
              "#f0f921"
             ]
            ],
            "type": "histogram2dcontour"
           }
          ],
          "mesh3d": [
           {
            "colorbar": {
             "outlinewidth": 0,
             "ticks": ""
            },
            "type": "mesh3d"
           }
          ],
          "parcoords": [
           {
            "line": {
             "colorbar": {
              "outlinewidth": 0,
              "ticks": ""
             }
            },
            "type": "parcoords"
           }
          ],
          "pie": [
           {
            "automargin": true,
            "type": "pie"
           }
          ],
          "scatter": [
           {
            "fillpattern": {
             "fillmode": "overlay",
             "size": 10,
             "solidity": 0.2
            },
            "type": "scatter"
           }
          ],
          "scatter3d": [
           {
            "line": {
             "colorbar": {
              "outlinewidth": 0,
              "ticks": ""
             }
            },
            "marker": {
             "colorbar": {
              "outlinewidth": 0,
              "ticks": ""
             }
            },
            "type": "scatter3d"
           }
          ],
          "scattercarpet": [
           {
            "marker": {
             "colorbar": {
              "outlinewidth": 0,
              "ticks": ""
             }
            },
            "type": "scattercarpet"
           }
          ],
          "scattergeo": [
           {
            "marker": {
             "colorbar": {
              "outlinewidth": 0,
              "ticks": ""
             }
            },
            "type": "scattergeo"
           }
          ],
          "scattergl": [
           {
            "marker": {
             "colorbar": {
              "outlinewidth": 0,
              "ticks": ""
             }
            },
            "type": "scattergl"
           }
          ],
          "scattermapbox": [
           {
            "marker": {
             "colorbar": {
              "outlinewidth": 0,
              "ticks": ""
             }
            },
            "type": "scattermapbox"
           }
          ],
          "scatterpolar": [
           {
            "marker": {
             "colorbar": {
              "outlinewidth": 0,
              "ticks": ""
             }
            },
            "type": "scatterpolar"
           }
          ],
          "scatterpolargl": [
           {
            "marker": {
             "colorbar": {
              "outlinewidth": 0,
              "ticks": ""
             }
            },
            "type": "scatterpolargl"
           }
          ],
          "scatterternary": [
           {
            "marker": {
             "colorbar": {
              "outlinewidth": 0,
              "ticks": ""
             }
            },
            "type": "scatterternary"
           }
          ],
          "surface": [
           {
            "colorbar": {
             "outlinewidth": 0,
             "ticks": ""
            },
            "colorscale": [
             [
              0,
              "#0d0887"
             ],
             [
              0.1111111111111111,
              "#46039f"
             ],
             [
              0.2222222222222222,
              "#7201a8"
             ],
             [
              0.3333333333333333,
              "#9c179e"
             ],
             [
              0.4444444444444444,
              "#bd3786"
             ],
             [
              0.5555555555555556,
              "#d8576b"
             ],
             [
              0.6666666666666666,
              "#ed7953"
             ],
             [
              0.7777777777777778,
              "#fb9f3a"
             ],
             [
              0.8888888888888888,
              "#fdca26"
             ],
             [
              1,
              "#f0f921"
             ]
            ],
            "type": "surface"
           }
          ],
          "table": [
           {
            "cells": {
             "fill": {
              "color": "#EBF0F8"
             },
             "line": {
              "color": "white"
             }
            },
            "header": {
             "fill": {
              "color": "#C8D4E3"
             },
             "line": {
              "color": "white"
             }
            },
            "type": "table"
           }
          ]
         },
         "layout": {
          "annotationdefaults": {
           "arrowcolor": "#2a3f5f",
           "arrowhead": 0,
           "arrowwidth": 1
          },
          "autotypenumbers": "strict",
          "coloraxis": {
           "colorbar": {
            "outlinewidth": 0,
            "ticks": ""
           }
          },
          "colorscale": {
           "diverging": [
            [
             0,
             "#8e0152"
            ],
            [
             0.1,
             "#c51b7d"
            ],
            [
             0.2,
             "#de77ae"
            ],
            [
             0.3,
             "#f1b6da"
            ],
            [
             0.4,
             "#fde0ef"
            ],
            [
             0.5,
             "#f7f7f7"
            ],
            [
             0.6,
             "#e6f5d0"
            ],
            [
             0.7,
             "#b8e186"
            ],
            [
             0.8,
             "#7fbc41"
            ],
            [
             0.9,
             "#4d9221"
            ],
            [
             1,
             "#276419"
            ]
           ],
           "sequential": [
            [
             0,
             "#0d0887"
            ],
            [
             0.1111111111111111,
             "#46039f"
            ],
            [
             0.2222222222222222,
             "#7201a8"
            ],
            [
             0.3333333333333333,
             "#9c179e"
            ],
            [
             0.4444444444444444,
             "#bd3786"
            ],
            [
             0.5555555555555556,
             "#d8576b"
            ],
            [
             0.6666666666666666,
             "#ed7953"
            ],
            [
             0.7777777777777778,
             "#fb9f3a"
            ],
            [
             0.8888888888888888,
             "#fdca26"
            ],
            [
             1,
             "#f0f921"
            ]
           ],
           "sequentialminus": [
            [
             0,
             "#0d0887"
            ],
            [
             0.1111111111111111,
             "#46039f"
            ],
            [
             0.2222222222222222,
             "#7201a8"
            ],
            [
             0.3333333333333333,
             "#9c179e"
            ],
            [
             0.4444444444444444,
             "#bd3786"
            ],
            [
             0.5555555555555556,
             "#d8576b"
            ],
            [
             0.6666666666666666,
             "#ed7953"
            ],
            [
             0.7777777777777778,
             "#fb9f3a"
            ],
            [
             0.8888888888888888,
             "#fdca26"
            ],
            [
             1,
             "#f0f921"
            ]
           ]
          },
          "colorway": [
           "#636efa",
           "#EF553B",
           "#00cc96",
           "#ab63fa",
           "#FFA15A",
           "#19d3f3",
           "#FF6692",
           "#B6E880",
           "#FF97FF",
           "#FECB52"
          ],
          "font": {
           "color": "#2a3f5f"
          },
          "geo": {
           "bgcolor": "white",
           "lakecolor": "white",
           "landcolor": "#E5ECF6",
           "showlakes": true,
           "showland": true,
           "subunitcolor": "white"
          },
          "hoverlabel": {
           "align": "left"
          },
          "hovermode": "closest",
          "mapbox": {
           "style": "light"
          },
          "paper_bgcolor": "white",
          "plot_bgcolor": "#E5ECF6",
          "polar": {
           "angularaxis": {
            "gridcolor": "white",
            "linecolor": "white",
            "ticks": ""
           },
           "bgcolor": "#E5ECF6",
           "radialaxis": {
            "gridcolor": "white",
            "linecolor": "white",
            "ticks": ""
           }
          },
          "scene": {
           "xaxis": {
            "backgroundcolor": "#E5ECF6",
            "gridcolor": "white",
            "gridwidth": 2,
            "linecolor": "white",
            "showbackground": true,
            "ticks": "",
            "zerolinecolor": "white"
           },
           "yaxis": {
            "backgroundcolor": "#E5ECF6",
            "gridcolor": "white",
            "gridwidth": 2,
            "linecolor": "white",
            "showbackground": true,
            "ticks": "",
            "zerolinecolor": "white"
           },
           "zaxis": {
            "backgroundcolor": "#E5ECF6",
            "gridcolor": "white",
            "gridwidth": 2,
            "linecolor": "white",
            "showbackground": true,
            "ticks": "",
            "zerolinecolor": "white"
           }
          },
          "shapedefaults": {
           "line": {
            "color": "#2a3f5f"
           }
          },
          "ternary": {
           "aaxis": {
            "gridcolor": "white",
            "linecolor": "white",
            "ticks": ""
           },
           "baxis": {
            "gridcolor": "white",
            "linecolor": "white",
            "ticks": ""
           },
           "bgcolor": "#E5ECF6",
           "caxis": {
            "gridcolor": "white",
            "linecolor": "white",
            "ticks": ""
           }
          },
          "title": {
           "x": 0.05
          },
          "xaxis": {
           "automargin": true,
           "gridcolor": "white",
           "linecolor": "white",
           "ticks": "",
           "title": {
            "standoff": 15
           },
           "zerolinecolor": "white",
           "zerolinewidth": 2
          },
          "yaxis": {
           "automargin": true,
           "gridcolor": "white",
           "linecolor": "white",
           "ticks": "",
           "title": {
            "standoff": 15
           },
           "zerolinecolor": "white",
           "zerolinewidth": 2
          }
         }
        },
        "title": {
         "text": "Solicitudes atendidas por médicos"
        },
        "width": 1000,
        "xaxis": {
         "anchor": "y",
         "domain": [
          0,
          1
         ],
         "rangeslider": {
          "visible": true
         },
         "title": {
          "text": "Tiempo"
         },
         "type": "date"
        },
        "yaxis": {
         "anchor": "x",
         "autorange": "reversed",
         "categoryarray": [
          "1140888504",
          "1019074166",
          "1018440480",
          "1083012532",
          "1083026203",
          "1053327980",
          "80075437",
          "85488148",
          "1098697055",
          "1014266018",
          "1014217039",
          "1095825225",
          "1085310672",
          "1117504115",
          "1082996581",
          "1098635342",
          "80727764",
          "1020808271",
          "57293715",
          "1020803066",
          "80383487",
          "1016039086",
          "1121853934",
          "1024468225",
          "1127250183",
          "52200795",
          "39779707",
          "80185764",
          "1018446151",
          "1020777651",
          "1019088914",
          "1015414697",
          "79955886",
          "52997773",
          "80073352",
          "1015437933",
          "1018472151",
          "1015405667",
          "1032491705"
         ],
         "categoryorder": "array",
         "domain": [
          0,
          1
         ],
         "title": {
          "text": "Médico"
         }
        }
       }
      }
     },
     "metadata": {},
     "output_type": "display_data"
    }
   ],
   "source": [
    "import plotly.express as px\n",
    "import pandas as pd\n",
    "#Poner los datos de la lista en un dataframe\n",
    "df1 = pd.DataFrame(gantt)\n",
    "# poner los datos en el formato que requiere plotly poner la columna solicitud como texto\n",
    "df1['Solicitud'] = df1['Solicitud'].astype(str)\n",
    "# poner la columna médico como texto\n",
    "df1['Médico'] = df1['Médico'].astype(str)\n",
    "\n",
    "fig = px.timeline(df1, x_start=\"Inicio\", x_end=\"Fin\", y=\"Médico\", color=\"Médico\",\n",
    "                  hover_name=\"Solicitud\",\n",
    "                  title=\"Solicitudes atendidas por médicos\")\n",
    "\n",
    "fig.update_layout(xaxis_title=\"Tiempo\", yaxis_title=\"Médico\")\n",
    "fig.update_yaxes(autorange=\"reversed\")\n",
    "fig.update_xaxes(rangeslider_visible=True)\n",
    "# Hacer el grafico más grande para que se vea mejor\n",
    "fig.update_layout(\n",
    "    autosize=False,\n",
    "    width=1000,\n",
    "    height=500,\n",
    ")\n",
    "fig.show()"
   ]
  },
  {
   "cell_type": "code",
   "execution_count": 11,
   "metadata": {},
   "outputs": [
    {
     "data": {
      "text/html": [
       "<div style=\"width:100%;\"><div style=\"position:relative;width:100%;height:0;padding-bottom:60%;\"><span style=\"color:#565656\">Make this Notebook Trusted to load map: File -> Trust Notebook</span><iframe srcdoc=\"&lt;!DOCTYPE html&gt;\n",
       "&lt;html&gt;\n",
       "&lt;head&gt;\n",
       "    \n",
       "    &lt;meta http-equiv=&quot;content-type&quot; content=&quot;text/html; charset=UTF-8&quot; /&gt;\n",
       "    \n",
       "        &lt;script&gt;\n",
       "            L_NO_TOUCH = false;\n",
       "            L_DISABLE_3D = false;\n",
       "        &lt;/script&gt;\n",
       "    \n",
       "    &lt;style&gt;html, body {width: 100%;height: 100%;margin: 0;padding: 0;}&lt;/style&gt;\n",
       "    &lt;style&gt;#map {position:absolute;top:0;bottom:0;right:0;left:0;}&lt;/style&gt;\n",
       "    &lt;script src=&quot;https://cdn.jsdelivr.net/npm/leaflet@1.9.3/dist/leaflet.js&quot;&gt;&lt;/script&gt;\n",
       "    &lt;script src=&quot;https://code.jquery.com/jquery-1.12.4.min.js&quot;&gt;&lt;/script&gt;\n",
       "    &lt;script src=&quot;https://cdn.jsdelivr.net/npm/bootstrap@5.2.2/dist/js/bootstrap.bundle.min.js&quot;&gt;&lt;/script&gt;\n",
       "    &lt;script src=&quot;https://cdnjs.cloudflare.com/ajax/libs/Leaflet.awesome-markers/2.0.2/leaflet.awesome-markers.js&quot;&gt;&lt;/script&gt;\n",
       "    &lt;link rel=&quot;stylesheet&quot; href=&quot;https://cdn.jsdelivr.net/npm/leaflet@1.9.3/dist/leaflet.css&quot;/&gt;\n",
       "    &lt;link rel=&quot;stylesheet&quot; href=&quot;https://cdn.jsdelivr.net/npm/bootstrap@5.2.2/dist/css/bootstrap.min.css&quot;/&gt;\n",
       "    &lt;link rel=&quot;stylesheet&quot; href=&quot;https://netdna.bootstrapcdn.com/bootstrap/3.0.0/css/bootstrap.min.css&quot;/&gt;\n",
       "    &lt;link rel=&quot;stylesheet&quot; href=&quot;https://cdn.jsdelivr.net/npm/@fortawesome/fontawesome-free@6.2.0/css/all.min.css&quot;/&gt;\n",
       "    &lt;link rel=&quot;stylesheet&quot; href=&quot;https://cdnjs.cloudflare.com/ajax/libs/Leaflet.awesome-markers/2.0.2/leaflet.awesome-markers.css&quot;/&gt;\n",
       "    &lt;link rel=&quot;stylesheet&quot; href=&quot;https://cdn.jsdelivr.net/gh/python-visualization/folium/folium/templates/leaflet.awesome.rotate.min.css&quot;/&gt;\n",
       "    \n",
       "            &lt;meta name=&quot;viewport&quot; content=&quot;width=device-width,\n",
       "                initial-scale=1.0, maximum-scale=1.0, user-scalable=no&quot; /&gt;\n",
       "            &lt;style&gt;\n",
       "                #map_583bbb03946a84bc14ee2f836ade8abc {\n",
       "                    position: relative;\n",
       "                    width: 100.0%;\n",
       "                    height: 100.0%;\n",
       "                    left: 0.0%;\n",
       "                    top: 0.0%;\n",
       "                }\n",
       "                .leaflet-container { font-size: 1rem; }\n",
       "            &lt;/style&gt;\n",
       "        \n",
       "    &lt;script src=&quot;https://cdn.jsdelivr.net/gh/python-visualization/folium@main/folium/templates/leaflet_heat.min.js&quot;&gt;&lt;/script&gt;\n",
       "&lt;/head&gt;\n",
       "&lt;body&gt;\n",
       "    \n",
       "    \n",
       "            &lt;div class=&quot;folium-map&quot; id=&quot;map_583bbb03946a84bc14ee2f836ade8abc&quot; &gt;&lt;/div&gt;\n",
       "        \n",
       "&lt;/body&gt;\n",
       "&lt;script&gt;\n",
       "    \n",
       "    \n",
       "            var map_583bbb03946a84bc14ee2f836ade8abc = L.map(\n",
       "                &quot;map_583bbb03946a84bc14ee2f836ade8abc&quot;,\n",
       "                {\n",
       "                    center: [4.60971, -74.08175],\n",
       "                    crs: L.CRS.EPSG3857,\n",
       "                    zoom: 12,\n",
       "                    zoomControl: true,\n",
       "                    preferCanvas: false,\n",
       "                }\n",
       "            );\n",
       "\n",
       "            \n",
       "\n",
       "        \n",
       "    \n",
       "            var tile_layer_9a890e0d736f0f59de7c29f2f368a30e = L.tileLayer(\n",
       "                &quot;https://{s}.tile.openstreetmap.org/{z}/{x}/{y}.png&quot;,\n",
       "                {&quot;attribution&quot;: &quot;Data by \\u0026copy; \\u003ca target=\\&quot;_blank\\&quot; href=\\&quot;http://openstreetmap.org\\&quot;\\u003eOpenStreetMap\\u003c/a\\u003e, under \\u003ca target=\\&quot;_blank\\&quot; href=\\&quot;http://www.openstreetmap.org/copyright\\&quot;\\u003eODbL\\u003c/a\\u003e.&quot;, &quot;detectRetina&quot;: false, &quot;maxNativeZoom&quot;: 18, &quot;maxZoom&quot;: 18, &quot;minZoom&quot;: 0, &quot;noWrap&quot;: false, &quot;opacity&quot;: 1, &quot;subdomains&quot;: &quot;abc&quot;, &quot;tms&quot;: false}\n",
       "            ).addTo(map_583bbb03946a84bc14ee2f836ade8abc);\n",
       "        \n",
       "    \n",
       "            var heat_map_4016c4126e9524e3ece0bc6dc035790f = L.heatLayer(\n",
       "                [[4.7002485, -74.0601893], [4.7589325, -74.1000454], [4.6452936, -74.1538221], [4.7290255, -74.1028102], [4.58244705, -74.07999885], [4.74417, -74.0646649], [4.6957347, -74.103302], [4.7387649, -74.0990843], [4.59610175, -74.18417855], [4.732055, -74.0299749], [4.645214, -74.1433339], [4.6283815, -74.1240828], [4.630381, -74.0952839], [4.6144984, -74.11281085], [4.711559, -74.0978849], [4.7294075, -74.0894083], [4.58062895, -74.0953705], [4.569434, -74.0762997], [4.762155, -74.0422779], [4.7532582, -74.0480599], [4.7088065, -74.0933415], [4.7075404, -74.1125978], [4.76669, -74.0410919], [4.634425, -74.1189869], [4.7526023, -74.0819978], [4.7285348, -74.10218645], [4.706401, -74.0718489], [4.6719069, -74.09668605], [4.7312058, -74.0283582], [4.731604, -74.0289149], [4.57402689408207, -74.1065437909186], [4.6733648, -74.0536018], [4.7329443, -74.0509632], [4.7312199, -74.0510205], [4.7313069, -74.0514062], [4.7115867, -74.1382286], [4.68789685, -74.03973945], [4.67037646, -74.13140901], [4.688676, -74.0302079], [4.735189, -74.0795789], [4.7522355, -74.1081657], [4.593709, -74.0853149], [4.6416085, -74.1977386], [4.7276728, -74.0630204], [4.619209, -74.0665609], [4.5405388, -74.09785935], [4.7031822, -74.0347726], [4.66219, -74.05039], [4.67062085, -74.0503101], [4.7323884, -74.0519689], [4.766859, -74.0324709], [4.58960175, -74.10229596], [4.69687738, -74.02802159], [4.76669, -74.0410919], [4.7336093, -74.0985113], [4.6768678, -74.1086322], [4.719371, -74.0617224], [4.6948526, -74.0344469], [4.3097245, -74.8012508], [4.706401, -74.0718489], [4.6863044, -74.0294792], [4.74865, -74.06193], [4.7345193, -74.0630917], [4.7174262, -74.124716], [4.66541495, -74.04714405], [4.7470683, -74.1156989], [4.7381752, -74.0990253], [4.739761, -74.1171579], [4.66219, -74.05039], [4.72265, -74.0976079], [4.7527938, -74.0276171], [4.66813525, -74.07954485], [4.6822081, -74.1340037], [4.724154, -74.0865039], [4.6934, -74.0550879], [4.70778055, -74.13291935], [4.69808399433814, -74.094958061967], [4.73247, -74.0521449], [4.7204592, -74.0583161], [4.729551, -74.0243369], [4.70458286, -74.03622417], [4.74034615, -74.09604495], [4.6912893, -74.0560043], [4.65918931, -74.05201696], [4.757086, -74.1026579], [4.54376995, -74.1183859], [4.64185755, -74.1668003], [4.6071927, -74.14623565], [4.7220643, -74.1293164], [4.58606690336233, -74.1038817072491], [4.7350895, -74.083683], [4.59221159449753, -74.0756173332466], [4.70094935, -74.1231531], [4.67013815, -74.13237585], [4.738636, -74.0599169], [4.5739948100836, -74.1064901467387], [4.7063898, -74.0678879], [4.61327556510154, -74.0665572332464], [4.75077255, -74.11299485], [4.74509275, -74.05815835], [4.76709727, -74.02753114], [4.7331638, -74.0511897], [4.7121429, -74.1382569], [4.695537, -74.0745109], [4.70833245, -74.0287076], [4.7056844, -74.0559278], [4.7382723, -74.1130172], [4.7276728, -74.0630204], [4.721957, -74.0932359], [4.7099604, -74.028565], [4.7013996, -74.0628654], [4.6986423, -74.04422395], [4.67714105, -74.05824425], [4.7063898, -74.0678879], [4.7617067, -74.02926], [4.7336093, -74.0985113], [4.735432, -74.1023389], [4.7192363, -74.0538059], [4.7420415, -74.1140241], [4.7189266, -74.0241589], [4.747916, -74.0639989], [4.674596, -74.1067749], [4.7086614, -74.0956837], [4.7140987, -74.112691], [4.7398399, -74.0603143], [4.7644308, -74.0335496], [4.7497019, -74.0581765], [4.6974995, -74.0603123], [4.700067, -74.1047879], [4.727625, -74.0269859], [4.709956, -74.1161729], [4.6957347, -74.103302], [4.707016, -74.0583579], [4.669958, -74.09882475], [4.73208489, -74.09460635], [4.702307, -74.1034709], [4.7030029, -74.0308142], [4.7068488, -74.0561954], [4.6684993, -74.0968849], [4.583337, -74.0895519], [4.5787356, -74.0960122], [4.72265, -74.0976079], [4.583337, -74.0895519], [4.7443007, -74.0670593], [4.671174, -74.0516979], [4.727625, -74.0269859], [4.58794615, -74.1817668], [4.5861543, -74.1547416], [4.72767975, -74.0707943], [4.72331755, -74.05988385], [4.72062899, -74.12929607], [4.7007706, -74.057376], [4.75036788, -74.02399724], [4.7118564, -74.1461404], [4.6892141, -74.1122705], [4.72512185, -74.08526105], [4.657017, -74.0718459], [4.7213956, -74.1256821], [4.59194656980278, -74.0878199212873], [4.622134, -74.1868429], [4.747599, -74.1179459], [4.74865, -74.06193], [4.73915555, -74.0935841], [4.708893, -74.0568169], [4.7160389, -74.07512225], [4.7315087, -74.0366899], [4.7583978, -74.1033531], [4.686223, -74.1024889], [4.7380425, -74.1072777], [4.65556675, -74.05229565], [4.723816, -74.0642189], [4.7513946, -74.0534321], [4.65931855, -74.0520588], [4.6613099, -74.0774545], [4.730514, -74.0268079], [4.6717133, -74.1245385], [4.60418485, -74.12739265], [4.72522805, -74.047328], [4.7086614, -74.0956837], [4.729154, -74.0889039], [4.73215475, -74.03036075], [4.705672, -74.055844], [4.61500735, -74.06668385], [4.6900564, -74.112696], [4.63793174, -74.05444713], [4.64148885, -74.0604606], [4.646883, -74.0833289], [4.64148885, -74.0604606], [4.757086, -74.1026579], [4.7216452, -74.0419699], [4.5613225, -74.1021281], [4.709315, -74.0955209], [4.6395701, -74.1697639], [4.63838193, -74.14700202], [4.73014845, -74.09065875], [4.6684993, -74.0968849], [4.74950515, -74.04723125], [4.6717133, -74.1245385], [4.6640392, -74.1367117], [4.72137925, -74.0298062], [4.7294792, -74.0225365], [4.6891576, -74.0430369], [4.7007706, -74.057376], [4.688318, -74.0344789], [4.573118, -74.1691049], [4.70458286, -74.03622417], [4.7520536, -74.1015035], [4.729894, -74.0251189], [4.747896, -74.0666869], [4.69227955, -74.09753965], [4.58537, -74.0807199], [4.759831, -74.02741655], [4.66839282, -74.05023373], [4.6960892, -74.0835153], [4.6294467, -74.1075382], [4.7583665, -74.1142118], [4.69488744, -74.07899132], [4.704882, -74.0496489], [4.729154, -74.0889039], [4.732695, -74.0534769], [4.596057, -74.14588545], [4.70721685, -74.05094655], [4.7192363, -74.0538059], [4.6946175, -74.1124722], [4.729154, -74.0889039], [4.637654, -74.1570719], [4.71414165, -74.0723073], [4.5890615, -74.0997523], [4.68298305, -74.04636487], [4.73531205, -74.0302609], [4.6045826, -74.15082115], [4.5890615, -74.0997523], [4.71905135, -74.12073565], [4.7266877, -74.121157], [4.7542447, -74.0629512], [4.7382396, -74.1000024], [4.58214395, -74.1804039], [4.7249987, -74.0345242], [4.743285, -74.0219249], [4.64410485, -74.06999295], [4.66728695, -74.064274], [4.752559, -74.0633199], [4.6746488, -74.0521017], [4.7184155, -74.1086744], [4.714226, -74.0677219], [4.729733, -74.0246269], [4.6913824, -74.0333586], [4.7068488, -74.0561954], [4.737598, -74.0386579], [4.65067801, -74.05378784], [4.7022515, -74.0995616], [4.603594, -74.089397], [4.732676, -74.0955139], [4.721957, -74.0932359], [4.606225, -74.0698079], [4.5551423, -74.09689585], [4.6407931, -74.0693963], [4.57936038, -74.09140978], [4.7216489, -74.0968766], [4.7155445, -74.1355449], [4.721131, -74.0290469], [4.5890615, -74.0997523], [4.57936038, -74.09140978], [4.5890615, -74.0997523], [4.71082955, -74.1403499], [4.6378986, -74.1023955], [4.646823, -74.0891399], [4.54541242, -74.11055573], [4.8102045, -74.0371476], [4.6479136, -74.05580645], [4.7063103, -74.0478112], [4.6989016, -74.0417314], [4.735613, -74.0858289], [4.7189425, -74.0915375], [4.70446897, -74.13615112], [4.696303, -74.0623069], [4.733096, -74.0542849], [4.670219, -74.1315629], [4.6989016, -74.0417314], [4.670219, -74.1315629], [4.6466991, -74.0728256], [4.7146765, -74.0963251], [4.72879929847233, -74.0375084009198], [4.72879929847233, -74.0375084009198], [4.5551423, -74.09689585], [4.7529815, -74.0625005], [4.6508523, -74.1792284], [4.721855, -74.0954079], [4.7349168, -74.0823593], [4.7587839, -74.0996699], [4.6267966, -74.0763114], [4.5734495, -74.17553925], [4.698232, -74.0908309], [4.735202, -74.0252019], [4.7528955, -74.1091315], [4.5551423, -74.09689585], [4.73616, -74.0852919], [4.740923, -74.056328], [4.68520255, -74.11355472], [4.7351115, -74.0580155], [4.729301, -74.0224608], [4.6067109, -74.1302961], [4.7477031, -74.0683972], [4.5551423, -74.09689585], [4.70458286, -74.03622417], [4.5551423, -74.09689585]],\n",
       "                {&quot;blur&quot;: 15, &quot;maxZoom&quot;: 18, &quot;minOpacity&quot;: 0.5, &quot;radius&quot;: 15}\n",
       "            ).addTo(map_583bbb03946a84bc14ee2f836ade8abc);\n",
       "        \n",
       "    \n",
       "            var layer_control_bd459dbf78dc8c3ba12914715b0bd13f = {\n",
       "                base_layers : {\n",
       "                    &quot;openstreetmap&quot; : tile_layer_9a890e0d736f0f59de7c29f2f368a30e,\n",
       "                },\n",
       "                overlays :  {\n",
       "                    &quot;macro_element_4016c4126e9524e3ece0bc6dc035790f&quot; : heat_map_4016c4126e9524e3ece0bc6dc035790f,\n",
       "                },\n",
       "            };\n",
       "            L.control.layers(\n",
       "                layer_control_bd459dbf78dc8c3ba12914715b0bd13f.base_layers,\n",
       "                layer_control_bd459dbf78dc8c3ba12914715b0bd13f.overlays,\n",
       "                {&quot;autoZIndex&quot;: true, &quot;collapsed&quot;: true, &quot;position&quot;: &quot;topright&quot;}\n",
       "            ).addTo(map_583bbb03946a84bc14ee2f836ade8abc);\n",
       "        \n",
       "&lt;/script&gt;\n",
       "&lt;/html&gt;\" style=\"position:absolute;width:100%;height:100%;left:0;top:0;border:none !important;\" allowfullscreen webkitallowfullscreen mozallowfullscreen></iframe></div></div>"
      ],
      "text/plain": [
       "<folium.folium.Map at 0x7fdaaa1d2f40>"
      ]
     },
     "execution_count": 11,
     "metadata": {},
     "output_type": "execute_result"
    }
   ],
   "source": [
    "import folium\n",
    "from folium import plugins\n",
    "from folium.plugins import HeatMap\n",
    "\n",
    "# Crear un mapa centrado en la ciudad de Bogotá\n",
    "mapa = folium.Map(location=[4.60971, -74.08175], zoom_start=12)\n",
    "\n",
    "# Crear dict de coordenadas pacientes\n",
    "coordenadas = {}\n",
    "\n",
    "for i in pacientes:\n",
    "    coordenadas[i] = [pacientes[i][2], pacientes[i][3]]\n",
    "\n",
    "# Crear un mapa de calor con la ubicación de los pacientes\n",
    "HeatMap(data=coordenadas.values(), radius=15).add_to(mapa)\n",
    "\n",
    "# Crear un grupo de marcadores de pacientes\n",
    "markers = folium.FeatureGroup(name='Pacientes')\n",
    "\n",
    "# Agregar el marcador de cada paciente al grupo de marcadores\n",
    "for i in pacientes:\n",
    "    folium.Marker(\n",
    "        location=[pacientes[i][2], pacientes[i][3]],\n",
    "        popup=\"Paciente \" + str(i),\n",
    "        icon=folium.Icon(color='red', icon='info-sign')\n",
    "    ).add_to(markers)\n",
    "\n",
    "# Crear un control de capas para mostrar u ocultar los marcadores de pacientes\n",
    "folium.LayerControl().add_to(mapa)\n",
    "\n",
    "# Mostrar el mapa\n",
    "mapa"
   ]
  },
  {
   "cell_type": "code",
   "execution_count": 10,
   "metadata": {},
   "outputs": [
    {
     "name": "stdout",
     "output_type": "stream",
     "text": [
      "{1032491705: 5, 1015405667: 7, 1018472151: 10, 1015437933: 10, 80073352: 9, 52997773: 11, 79955886: 11, 1015414697: 7, 1019088914: 8, 1020777651: 8, 1018446151: 9, 80185764: 7, 39779707: 8, 52200795: 1, 1127250183: 9, 1024468225: 9, 1121853934: 7, 1016039086: 7, 80383487: 7, 1020803066: 7, 57293715: 8, 1020808271: 9, 80727764: 8, 1098635342: 8, 1082996581: 7, 1117504115: 9, 1085310672: 8, 1095825225: 8, 1014217039: 8, 1014266018: 8, 1098697055: 10, 85488148: 8, 80075437: 9, 1053327980: 7, 1083026203: 7, 1083012532: 6, 1018440480: 7, 1019074166: 7, 1140888504: 7}\n",
      "1.6876392484004448\n",
      "7.846153846153846\n",
      "306\n"
     ]
    }
   ],
   "source": [
    "# Encontrar la cantidad de solicitudes atendidas por cada médico\n",
    "def solicitudes_atendidas(gantt):\n",
    "    solicitudes = {}\n",
    "\n",
    "    for i in gantt:\n",
    "        if i['Médico'] not in solicitudes:\n",
    "            solicitudes[i['Médico']] = 1\n",
    "        else:\n",
    "            solicitudes[i['Médico']] += 1\n",
    "\n",
    "    return solicitudes\n",
    "\n",
    "solicitudes = solicitudes_atendidas(gantt)\n",
    "print(solicitudes)\n",
    "\n",
    "# Calcular la desviación estándar de las solicitudes atendidas por cada médico\n",
    "def desviacion_estandar(solicitudes):\n",
    "    # Calcular la media de las solicitudes atendidas por cada médico\n",
    "    media = sum(solicitudes.values())/len(solicitudes)\n",
    "\n",
    "    # Calcular la varianza de las solicitudes atendidas por cada médico\n",
    "    varianza = sum([(i - media)**2 for i in solicitudes.values()])/len(solicitudes)\n",
    "\n",
    "    # Calcular la desviación estándar de las solicitudes atendidas por cada médico\n",
    "    desviacion = varianza**(1/2)\n",
    "\n",
    "    return desviacion\n",
    "\n",
    "desviacion = desviacion_estandar(solicitudes)\n",
    "print(desviacion)\n",
    "\n",
    "# calcular solicited promedio por médico\n",
    "def solicitudes_promedio(solicitudes):\n",
    "    promedio = sum(solicitudes.values())/len(solicitudes)\n",
    "    return promedio\n",
    "\n",
    "promedio = solicitudes_promedio(solicitudes)\n",
    "print(promedio)\n",
    "\n",
    "# Calcular total de solicitudes atendidas\n",
    "def total_solicitudes(solicitudes):\n",
    "    total = sum(solicitudes.values())\n",
    "    return total\n",
    "\n",
    "total = total_solicitudes(solicitudes)\n",
    "print(total)"
   ]
  }
 ],
 "metadata": {
  "kernelspec": {
   "display_name": "base",
   "language": "python",
   "name": "python3"
  },
  "language_info": {
   "codemirror_mode": {
    "name": "ipython",
    "version": 3
   },
   "file_extension": ".py",
   "mimetype": "text/x-python",
   "name": "python",
   "nbconvert_exporter": "python",
   "pygments_lexer": "ipython3",
   "version": "3.9.13"
  },
  "orig_nbformat": 4,
  "vscode": {
   "interpreter": {
    "hash": "07faab6d6f4ab002cdefb798bb1adb69886dd96e513a786afbbd9e8dc267611b"
   }
  }
 },
 "nbformat": 4,
 "nbformat_minor": 2
}
