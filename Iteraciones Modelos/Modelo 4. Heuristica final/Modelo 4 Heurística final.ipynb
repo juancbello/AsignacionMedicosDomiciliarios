{
 "cells": [
  {
   "attachments": {},
   "cell_type": "markdown",
   "metadata": {},
   "source": [
    "# Modelo 4 - Heurística Final"
   ]
  },
  {
   "attachments": {},
   "cell_type": "markdown",
   "metadata": {},
   "source": [
    "### Leer los datos de excel"
   ]
  },
  {
   "cell_type": "code",
   "execution_count": 2,
   "metadata": {},
   "outputs": [],
   "source": [
    "import pandas as pd\n",
    "\n",
    "#Funcion para leer los datos de los pacientes\n",
    "def leer_datos():\n",
    "    # Leer el archivo de excel\n",
    "    df = pd.read_excel('DT4.xlsx', sheet_name='Pacientes') #!!!! Se cambia el nombre de la hoja\n",
    "    df1 = pd.read_excel(\"DT4.xlsx\", sheet_name=\"Medicos\") #!!!! Se cambia el nombre de la hoja\n",
    "    df3 = pd.read_excel(\"DT4.xlsx\", sheet_name=\"Clientes\")\n",
    "    \n",
    "    # Crear un diccionario para almacenar los datos de los pacientes y otro para los medicos\n",
    "    pacientesDict = {}\n",
    "    medicos = {}\n",
    "    Clientes = {}\n",
    "    \n",
    "    # diccionario con los tipos de cliente y el tiempo de atencion esperado\n",
    "    for index, row in df3.iterrows():\n",
    "        llave = row[\"Tipo\"]\n",
    "        valor = row[\"Tiempo\"]\n",
    "        Clientes[llave] = valor\n",
    "\n",
    "\n",
    "    # Iterar sobre las filas del DataFrame\n",
    "    for index, row in df.iterrows():\n",
    "        llave = row[\"ID Servicio\"]\n",
    "        valor1 = row[\"Llegada\"]\n",
    "        valor2 = row[\"Atencion\"]\n",
    "        valor3 = row[\"Latitud\"]\n",
    "        valor4 = row[\"Longitud\"]\n",
    "        valor5 = row[\"Entidad\"]\n",
    "\n",
    "        # Agregar valores a la lista correspondiente en el diccionario\n",
    "        if llave in pacientesDict:\n",
    "            pacientesDict[llave].append([valor1, valor2, valor3, valor4, valor5])\n",
    "        else:\n",
    "            pacientesDict[llave] = [int(valor1), int(valor2), valor3, valor4, str(valor5)]\n",
    "    pacientes = pacientesDict\n",
    "\n",
    "    # Iterar sobre las filas del DataFrame\n",
    "    for index, row in df1.iterrows():\n",
    "        llave = row[\"ID Medico\"]\n",
    "        Disponibiidad = 0 \n",
    "        UltOcupado = 0\n",
    "        NumSol = 0\n",
    "        lat = 4.681230925773865\n",
    "        lon = -74.06200456196707\n",
    "        Inicioj = row[\"Inicio Jornada\"]\n",
    "        Finj = row[\"Fin Jornada\"]\n",
    "    \n",
    "        # Agregar valores a la lista correspondiente en el diccionario\n",
    "        if llave in medicos:\n",
    "            medicos[llave].append([Disponibiidad, UltOcupado, lat, lon, NumSol, Inicioj, Finj])\n",
    "        else:\n",
    "            medicos[llave] = [int(Disponibiidad), int(UltOcupado),lat, lon, NumSol, int(Inicioj), int(Finj)]\n",
    "    doctores = medicos\n",
    "    \n",
    "    return doctores, pacientes, Clientes\n",
    "\n",
    "doctores = leer_datos()[0]\n",
    "pacientes = leer_datos()[1]\n",
    "Clientes = leer_datos()[2]"
   ]
  },
  {
   "attachments": {},
   "cell_type": "markdown",
   "metadata": {},
   "source": [
    "### Calcular la distancia/tiempo entre cada par de nodos"
   ]
  },
  {
   "cell_type": "code",
   "execution_count": 3,
   "metadata": {},
   "outputs": [],
   "source": [
    "from math import radians, cos, sin, asin, sqrt\n",
    "def distancia_tierra(lat1, lat2, lon1, lon2):\n",
    "    \n",
    "    # Convertir grados a radianes.\n",
    "    lon1 = radians(lon1)\n",
    "    lon2 = radians(lon2)\n",
    "    lat1 = radians(lat1)\n",
    "    lat2 = radians(lat2)\n",
    "      \n",
    "    # Formula Haversine, para calcular la distancia entre dos puntos de una esfera dadas sus coordenadas de longitud y latitud\n",
    "    dlon = lon2 - lon1\n",
    "    dlat = lat2 - lat1\n",
    "    a = sin(dlat / 2)**2 + cos(lat1) * cos(lat2) * sin(dlon / 2)**2\n",
    "    c = 2 * asin(sqrt(a))\n",
    "    \n",
    "    # Radio de la tierra en km.\n",
    "    r = 6371\n",
    "    \n",
    "    respuesta = ((c * r)/24.9)*60\n",
    "    # Calcular la distancia final en Km.\n",
    "    return respuesta"
   ]
  },
  {
   "attachments": {},
   "cell_type": "markdown",
   "metadata": {},
   "source": [
    "### Cambiar datos para Gantt"
   ]
  },
  {
   "cell_type": "code",
   "execution_count": 4,
   "metadata": {},
   "outputs": [],
   "source": [
    "import datetime\n",
    "\n",
    "def convertMin(minutos):\n",
    "    # Obtenemos la fecha de hoy\n",
    "    fecha_actual = datetime.date.today()\n",
    "    # Combinamos la fecha de hoy con la hora 0:00:00\n",
    "    fecha_hora = datetime.datetime.combine(fecha_actual, datetime.time.min) + datetime.timedelta(minutes=minutos)\n",
    "    # Convertimos la fecha y hora a formato de cadena\n",
    "    fecha_hora_str = fecha_hora.strftime(\"%Y-%m-%d %H:%M:%S\")\n",
    "    return fecha_hora_str"
   ]
  },
  {
   "attachments": {},
   "cell_type": "markdown",
   "metadata": {},
   "source": [
    "### Regla de Prioridad"
   ]
  },
  {
   "cell_type": "code",
   "execution_count": 5,
   "metadata": {},
   "outputs": [],
   "source": [
    "# Regla de prioridad\n",
    "def prioridad(NumSolicitudes, Tdesplazamiento, Mdescoupa):\n",
    "    # Si el número de solicitudes esta entre 0 y 2\n",
    "    if NumSolicitudes >= 0 and NumSolicitudes <= 2:\n",
    "        beta = 0.55\n",
    "        alpha = 0.45\n",
    "    # Si el número de solicitudes esta entre 3 y 4\n",
    "    elif NumSolicitudes >= 3 and NumSolicitudes <= 4:\n",
    "        beta = 0.65\n",
    "        alpha = 0.35\n",
    "    # Si el número de solicitudes esta entre 5 o más\n",
    "    elif NumSolicitudes >= 5:\n",
    "        beta = 0.75\n",
    "        alpha = 0.25\n",
    "\n",
    "    # Calculamos la prioridad\n",
    "    pesoPrioridad = NumSolicitudes * alpha + Tdesplazamiento + Mdescoupa * beta\n",
    "\n",
    "    return pesoPrioridad"
   ]
  },
  {
   "attachments": {},
   "cell_type": "markdown",
   "metadata": {},
   "source": [
    "### Asignación de los médicos"
   ]
  },
  {
   "cell_type": "code",
   "execution_count": 6,
   "metadata": {},
   "outputs": [],
   "source": [
    "global doctores\n",
    "\n",
    "import pandas as pd\n",
    "\n",
    "# Función para asignar doctor a paciente\n",
    "def asignar_doctor(atencion,latitud, longitud, minuto, gantt, IDservicio, TipoCliente):\n",
    "\n",
    "    # Lista de posible asignacion\n",
    "    posibleAsignacion = []\n",
    "\n",
    "    # Actualizar estado de los médicos\n",
    "    if minuto > 0:\n",
    "        for i in doctores:\n",
    "            # Si el minuto actual es mayor al ultimo ocupado significa que el médico esta disponible\n",
    "            if minuto > doctores[i][1]:\n",
    "                # Actualizar estado del médico\n",
    "                doctores[i][0] = 0\n",
    "    \n",
    "    for i in doctores:\n",
    "        # Si el médico esta en su jornada laboral y esta disponible\n",
    "        if minuto >= doctores[i][5] and minuto <= doctores[i][6] and doctores[i][0] == 0:\n",
    "            # Agregar médico y su distancia a la lista de posible asignacion\n",
    "\n",
    "            # Encontrar distancia de los médicos al paciente\n",
    "            distancia = distancia_tierra(doctores[i][2], latitud, doctores[i][3], longitud)\n",
    "            # Agregar médico y su distancia a la lista de posible asignacion\n",
    "            posibleAsignacion.append([i, distancia])\n",
    "    \n",
    "    # Si no hay ningún médico disponible\n",
    "    if len(posibleAsignacion) == 0:\n",
    "        # Se buscan médicos que esten en su jornada laboral para asignarles el paciente usando la regla de prioridad\n",
    "\n",
    "        for i in doctores:\n",
    "            # Si el doctor esta en su jornada laboral\n",
    "            if minuto >= doctores[i][5] and minuto <= doctores[i][6]:\n",
    "                # Se aplican las reglas de prioridad\n",
    "\n",
    "                # Calcular tiempo de desplazamiento\n",
    "                Tdesplazamiento = distancia_tierra(doctores[i][2], latitud, doctores[i][3], longitud)\n",
    "                # Calcular tiempo de desocupacion\n",
    "                Mdescoupa = doctores[i][1]\n",
    "                # Calcular prioridad\n",
    "                pesoPrioridad = prioridad(doctores[i][4], Tdesplazamiento, Mdescoupa)\n",
    "                # Agregar a la lista de posible asignacion\n",
    "                posibleAsignacion.append([i, pesoPrioridad])\n",
    "        \n",
    "\n",
    "        # Si existen médicos en su jornada laboral\n",
    "        if len(posibleAsignacion) > 0:\n",
    "            # Escoger el médico con mayor prioridad, es decir, el que tenga menor peso\n",
    "\n",
    "            # Ordenar la lista de posible asignacion\n",
    "            posibleAsignacion.sort(key=lambda x: x[1])\n",
    "            # Asignar el doctor con menor prioridad\n",
    "            doc_Asignar = posibleAsignacion[0][0]\n",
    "\n",
    "            # Actualizar variables del médico asignado\n",
    "            Mdescoupa = doctores[doc_Asignar][1]\n",
    "            Tdesplazamiento = distancia_tierra(doctores[doc_Asignar][2], latitud, doctores[doc_Asignar][3], longitud)\n",
    "\n",
    "            # Actualizar el gantt\n",
    "            gantt.append({'Solicitud': IDservicio, 'Médico': doc_Asignar, 'Inicio': convertMin(Mdescoupa + Tdesplazamiento), 'Fin': convertMin(Mdescoupa + Tdesplazamiento + atencion), 'Distancia': Tdesplazamiento, 'Inicio Jornada': doctores[doc_Asignar][5], 'Fin Jornada': doctores[doc_Asignar][6], 'Inicio traslado': Mdescoupa, 'Fin traslado': Mdescoupa + Tdesplazamiento, 'Llegada solicitud': minuto})\n",
    "            print(\"Inicio\",convertMin(Mdescoupa + Tdesplazamiento),\"Fin\", convertMin(Mdescoupa + Tdesplazamiento + atencion))\n",
    "            \n",
    "            # Actualizar el estado del doctor\n",
    "            doctores[doc_Asignar][0] = 1\n",
    "            doctores[doc_Asignar][1] = Mdescoupa + Tdesplazamiento + atencion\n",
    "            doctores[doc_Asignar][2] = latitud\n",
    "            doctores[doc_Asignar][3] = longitud\n",
    "            doctores[doc_Asignar][4] += 1\n",
    "            print(\"Asignación tipo 1: El médico asignado es: \", doc_Asignar, \" Se asigno porque no esta disponible y era el de menor prioridad en el minuto: \", minuto, \"Al servicio: \", IDservicio)\n",
    "        else:\n",
    "            # No hay médicos disponibles\n",
    "            print(\"No hay médicos disponibles\")\n",
    "                \n",
    "\n",
    "    # Si un solo médico esta disponible\n",
    "    elif len(posibleAsignacion) == 1:\n",
    "        # Se asignará solo si cumple con el tiempo de servicio y no tiene más de 5 servicios asignados\n",
    "\n",
    "        # Calcular tiempo de desplazamiento\n",
    "        Tdesplazamiento = distancia_tierra(doctores[posibleAsignacion[0][0]][2], latitud, doctores[posibleAsignacion[0][0]][3], longitud)\n",
    "        # Si el médico cumple con el tiempo de servicio y no tiene más de 5 servicios asignados\n",
    "        if minuto + Tdesplazamiento <= minuto + Clientes[TipoCliente] and doctores[posibleAsignacion[0][0]][4] < 5:\n",
    "            # Se asigna el médico\n",
    "\n",
    "            # Asignar el doctor\n",
    "            doc_Asignar = posibleAsignacion[0][0]\n",
    "            # Actualizar variables del médico asignado\n",
    "            Mdescoupa = doctores[doc_Asignar][1]\n",
    "            Tdesplazamiento = distancia_tierra(doctores[doc_Asignar][2], latitud, doctores[doc_Asignar][3], longitud)\n",
    "            \n",
    "            # Actualizar el gantt\n",
    "            gantt.append({'Solicitud': IDservicio, 'Médico': doc_Asignar, 'Inicio': convertMin(minuto + Tdesplazamiento), 'Fin': convertMin(minuto + Tdesplazamiento + atencion), 'Distancia': Tdesplazamiento, 'Inicio Jornada': doctores[doc_Asignar][5], 'Fin Jornada': doctores[doc_Asignar][6], 'Inicio traslado': minuto, 'Fin traslado': minuto + Tdesplazamiento, 'Llegada solicitud': minuto})\n",
    "            print(\"Inicio\",convertMin(minuto + Tdesplazamiento),\"Fin\", convertMin(minuto + Tdesplazamiento + atencion))\n",
    "\n",
    "            # Actualizar el estado del doctor\n",
    "            doctores[doc_Asignar][0] = 1\n",
    "            doctores[doc_Asignar][1] = minuto + Tdesplazamiento + atencion\n",
    "            doctores[doc_Asignar][2] = latitud\n",
    "            doctores[doc_Asignar][3] = longitud\n",
    "            doctores[doc_Asignar][4] += 1\n",
    "            print(\"Asignación tipo 2: El médico asignado es: \", doc_Asignar, \" Se asigno porque era el único disponible, cumplia con el tiempo de servicio y no había atendido 5 solicitudes en el minuto: \", minuto, \"Al servicio: \", IDservicio)\n",
    "        \n",
    "        # Si el médico no cumple con el tiempo de servicio o tiene más de 5 servicios asignados\n",
    "        else:\n",
    "            # Se buscan médicos que esten en su jornada laboral para asignarles el paciente usando la regla de prioridad (Pueden estar ocupados o no)\n",
    "\n",
    "            # Vacia la lista de posible asignacion\n",
    "            posibleAsignacion = []\n",
    "\n",
    "            # Buscar médicos que esten en su jornada laboral\n",
    "            for i in doctores:\n",
    "                # Si el doctor esta en su jornada laboral\n",
    "                if minuto >= doctores[i][5] and minuto <= doctores[i][6]:\n",
    "                    # Se aplican las reglas de prioridad\n",
    "\n",
    "                    # Calcular tiempo de desplazamiento\n",
    "                    Tdesplazamiento = distancia_tierra(doctores[i][2], latitud, doctores[i][3], longitud)\n",
    "                    # Calcular tiempo de desocupacion\n",
    "                    Mdescoupa = doctores[i][1]\n",
    "                    # Calcular prioridad\n",
    "                    pesoPrioridad = prioridad(doctores[i][4], Tdesplazamiento, Mdescoupa)\n",
    "                    # Agregar a la lista de posible asignacion\n",
    "                    posibleAsignacion.append([i, pesoPrioridad])\n",
    "\n",
    "            # Si existen médicos en su jornada laboral\n",
    "            if len(posibleAsignacion) > 0:\n",
    "                # Escoger el médico con mayor prioridad, es decir, el que tenga menor peso\n",
    "\n",
    "                # Ordenar la lista de posible asignacion\n",
    "                posibleAsignacion.sort(key=lambda x: x[1])\n",
    "                # Asignar el doctor con menor prioridad\n",
    "                doc_Asignar = posibleAsignacion[0][0]\n",
    "                # Actualizar variables del médico asignado\n",
    "                Mdescoupa = doctores[doc_Asignar][1]\n",
    "                Tdesplazamiento = distancia_tierra(doctores[doc_Asignar][2], latitud, doctores[doc_Asignar][3], longitud)\n",
    "\n",
    "                # Si el médico esta ocupado\n",
    "                if Mdescoupa > minuto:\n",
    "                    # Actualizar el gantt\n",
    "                    \n",
    "                    gantt.append({'Solicitud': IDservicio, 'Médico': doc_Asignar, 'Inicio': convertMin(Mdescoupa + Tdesplazamiento), 'Fin': convertMin(Mdescoupa + Tdesplazamiento + atencion), 'Distancia': Tdesplazamiento, 'Inicio Jornada': doctores[doc_Asignar][5], 'Fin Jornada': doctores[doc_Asignar][6], 'Inicio traslado': Mdescoupa, 'Fin traslado': Mdescoupa + Tdesplazamiento, 'Llegada solicitud': minuto})\n",
    "                    print(\"Inicio\",convertMin(Mdescoupa + Tdesplazamiento),\"Fin\", convertMin(Mdescoupa + Tdesplazamiento + atencion))\n",
    "\n",
    "                    # Actualizar el estado del doctor: Tiempo de desocupacion\n",
    "                    doctores[doc_Asignar][1] = Mdescoupa + Tdesplazamiento + atencion\n",
    "                # Si el médico esta desocupado\n",
    "                else:\n",
    "                    # Actualizar el gantt\n",
    "\n",
    "                    gantt.append({'Solicitud': IDservicio, 'Médico': doc_Asignar, 'Inicio': convertMin(minuto + Tdesplazamiento), 'Fin': convertMin(minuto + Tdesplazamiento + atencion), 'Distancia': Tdesplazamiento, 'Inicio Jornada': doctores[doc_Asignar][5], 'Fin Jornada': doctores[doc_Asignar][6], 'Inicio traslado': Mdescoupa, 'Fin traslado': Mdescoupa + Tdesplazamiento, 'Llegada solicitud': minuto})\n",
    "                    print(\"Inicio\",convertMin(minuto + Tdesplazamiento),\"Fin\", convertMin(minuto + Tdesplazamiento + atencion))\n",
    "                    # Actualizar el estado del doctor: Tiempo de desocupacion\n",
    "                    doctores[doc_Asignar][1] = minuto + Tdesplazamiento + atencion\n",
    "\n",
    "                # Actualizar otros estados del doctor\n",
    "                doctores[doc_Asignar][0] = 1\n",
    "                doctores[doc_Asignar][2] = latitud\n",
    "                doctores[doc_Asignar][3] = longitud\n",
    "                doctores[doc_Asignar][4] += 1\n",
    "                print(\"Asignación tipo 3: El médico asignado es: \", doc_Asignar, \" Se asignó porque el unico médico disponible no cumplia con el tiempo de servicio o ya habia atendido 5 solicitudes, en el minuto: \", minuto, \"Al servicio: \", IDservicio)\n",
    "            else:\n",
    "                # No hay médicos disponibles\n",
    "                print(\"No hay médicos disponibles\")\n",
    "    \n",
    "    # Si hay más de un médico disponible\n",
    "    else:\n",
    "        # Se asignará el médico con menor prioridad de los disponibles\n",
    "        for i in posibleAsignacion:\n",
    "            # Si el doctor esta en su jornada laboral\n",
    "            if minuto >= doctores[i[0]][5] and minuto <= doctores[i[0]][6]:\n",
    "                # Calcular tiempo de desplazamiento\n",
    "                Tdesplazamiento = i[1]\n",
    "\n",
    "                # Si el médico cumple con el tiempo de servicio\n",
    "                if minuto + Tdesplazamiento <= minuto + Clientes[TipoCliente]:\n",
    "\n",
    "                    # Calcular prioridad\n",
    "                    pesoPrioridad = prioridad(doctores[i[0]][4], Tdesplazamiento, doctores[i[0]][1])\n",
    "                    # Cambiar la distancia por la prioridad\n",
    "                    i[1] = pesoPrioridad\n",
    "                else:\n",
    "                    # Cambiar la distancia por un número muy grande\n",
    "                    i[1] = 10000\n",
    "        \n",
    "        if len(posibleAsignacion) > 0:\n",
    "\n",
    "            # Ordenar la lista de posible asignacion\n",
    "            posibleAsignacion.sort(key=lambda x: x[1]) \n",
    "            # Asignar el doctor con menor prioridad\n",
    "            doc_Asignar = posibleAsignacion[0][0]\n",
    "            # Actualizar variables del médico asignado\n",
    "            Mdescoupa = doctores[doc_Asignar][1]\n",
    "            Tdesplazamiento = distancia_tierra(doctores[doc_Asignar][2], latitud, doctores[doc_Asignar][3], longitud)\n",
    "\n",
    "            # Actualizar el gantt\n",
    "            gantt.append({'Solicitud': IDservicio, 'Médico': doc_Asignar, 'Inicio': convertMin(minuto + Tdesplazamiento), 'Fin': convertMin(minuto + Tdesplazamiento + atencion), 'Distancia': Tdesplazamiento, 'Inicio Jornada': doctores[doc_Asignar][5], 'Fin Jornada': doctores[doc_Asignar][6], 'Inicio traslado': minuto, 'Fin traslado': minuto + Tdesplazamiento, 'Llegada solicitud': minuto})\n",
    "            print(\"Inicio\",convertMin(minuto + Tdesplazamiento),\"Fin\", convertMin(minuto + Tdesplazamiento + atencion))\n",
    "            # Actualizar el estado del doctor\n",
    "            doctores[doc_Asignar][0] = 1\n",
    "            doctores[doc_Asignar][1] = minuto + Tdesplazamiento + atencion\n",
    "            doctores[doc_Asignar][2] = latitud\n",
    "            doctores[doc_Asignar][3] = longitud\n",
    "            doctores[doc_Asignar][4] += 1\n",
    "            print(\"Asignación tipo 4: El médico asignado es: \", doc_Asignar, \" Se asignó porque estaba disponible, cumplia con la franja y tiempo de servicio el de menor prioridad en el minuto: \", minuto, \"Al servicio: \", IDservicio)\n",
    "        else:\n",
    "            # No hay médicos disponibles\n",
    "            print(\"No hay médicos disponibles\")\n",
    "\n",
    "    return gantt\n"
   ]
  },
  {
   "attachments": {},
   "cell_type": "markdown",
   "metadata": {},
   "source": [
    "### Simular Pacientes"
   ]
  },
  {
   "cell_type": "code",
   "execution_count": 7,
   "metadata": {},
   "outputs": [],
   "source": [
    "import pandas as pd\n",
    "import openpyxl\n",
    "\n",
    "global doctores\n",
    "\n",
    "# Función principal para asignar médicos a pacientes\n",
    "def asignacion_doctor1():\n",
    "    pacientes = leer_datos()[1]\n",
    "    gantt = []\n",
    "\n",
    "    # Ordenar dict de pacientes por minuto\n",
    "    pacientes = dict(sorted(pacientes.items(), key=lambda item: item[1][0]))\n",
    "\n",
    "    for i in pacientes:\n",
    "        # Asignar doctor a paciente\n",
    "        atencion = pacientes[i][1]\n",
    "        minuto = pacientes[i][0]\n",
    "        latitud = pacientes[i][2]\n",
    "        longitud = pacientes[i][3]\n",
    "        IDservicio = i\n",
    "        TipoCliente = pacientes[i][4]\n",
    "        gantt = asignar_doctor(atencion,latitud,longitud, minuto, gantt, IDservicio, TipoCliente)\n",
    "    \n",
    "    return gantt"
   ]
  },
  {
   "cell_type": "code",
   "execution_count": 8,
   "metadata": {},
   "outputs": [
    {
     "name": "stdout",
     "output_type": "stream",
     "text": [
      "Inicio 2023-05-27 00:06:07 Fin 2023-05-27 00:20:07\n",
      "Asignación tipo 4: El médico asignado es:  1032491705  Se asignó porque estaba disponible, cumplia con la franja y tiempo de servicio el de menor prioridad en el minuto:  1 Al servicio:  324231\n",
      "Inicio 2023-05-27 01:04:09 Fin 2023-05-27 01:23:09\n",
      "Asignación tipo 4: El médico asignado es:  1015405667  Se asignó porque estaba disponible, cumplia con la franja y tiempo de servicio el de menor prioridad en el minuto:  41 Al servicio:  324232\n",
      "Inicio 2023-05-27 01:20:01 Fin 2023-05-27 01:56:01\n",
      "Asignación tipo 2: El médico asignado es:  1032491705  Se asigno porque era el único disponible, cumplia con el tiempo de servicio y no había atendido 5 solicitudes en el minuto:  51 Al servicio:  324233\n",
      "Inicio 2023-05-27 02:12:02 Fin 2023-05-27 02:42:02\n",
      "Asignación tipo 4: El médico asignado es:  1015405667  Se asignó porque estaba disponible, cumplia con la franja y tiempo de servicio el de menor prioridad en el minuto:  124 Al servicio:  324236\n",
      "Inicio 2023-05-27 03:22:55 Fin 2023-05-27 04:06:55\n",
      "Asignación tipo 4: El médico asignado es:  1032491705  Se asignó porque estaba disponible, cumplia con la franja y tiempo de servicio el de menor prioridad en el minuto:  177 Al servicio:  324240\n",
      "Inicio 2023-05-27 03:15:57 Fin 2023-05-27 03:49:57\n",
      "Asignación tipo 2: El médico asignado es:  1015405667  Se asigno porque era el único disponible, cumplia con el tiempo de servicio y no había atendido 5 solicitudes en el minuto:  185 Al servicio:  324243\n",
      "Inicio 2023-05-27 04:06:32 Fin 2023-05-27 04:37:32\n",
      "Asignación tipo 1: El médico asignado es:  1015405667  Se asigno porque no esta disponible y era el de menor prioridad en el minuto:  201 Al servicio:  324244\n",
      "Inicio 2023-05-27 04:49:07 Fin 2023-05-27 05:28:07\n",
      "Asignación tipo 1: El médico asignado es:  1015405667  Se asigno porque no esta disponible y era el de menor prioridad en el minuto:  217 Al servicio:  324246\n",
      "Inicio 2023-05-27 04:34:59 Fin 2023-05-27 04:57:59\n",
      "Asignación tipo 1: El médico asignado es:  1032491705  Se asigno porque no esta disponible y era el de menor prioridad en el minuto:  236 Al servicio:  324248\n",
      "Inicio 2023-05-27 05:52:58 Fin 2023-05-27 06:22:58\n",
      "Asignación tipo 1: El médico asignado es:  1032491705  Se asigno porque no esta disponible y era el de menor prioridad en el minuto:  283 Al servicio:  324255\n",
      "Inicio 2023-05-27 05:55:50 Fin 2023-05-27 06:04:50\n",
      "Asignación tipo 1: El médico asignado es:  1015405667  Se asigno porque no esta disponible y era el de menor prioridad en el minuto:  287 Al servicio:  324257\n",
      "Inicio 2023-05-27 06:11:40 Fin 2023-05-27 06:25:40\n",
      "Asignación tipo 1: El médico asignado es:  1015405667  Se asigno porque no esta disponible y era el de menor prioridad en el minuto:  298 Al servicio:  324259\n",
      "Inicio 2023-05-27 05:22:16 Fin 2023-05-27 05:37:16\n",
      "Asignación tipo 4: El médico asignado es:  1018472151  Se asignó porque estaba disponible, cumplia con la franja y tiempo de servicio el de menor prioridad en el minuto:  306 Al servicio:  324260\n",
      "Inicio 2023-05-27 05:31:26 Fin 2023-05-27 05:46:26\n",
      "Asignación tipo 4: El médico asignado es:  1015437933  Se asignó porque estaba disponible, cumplia con la franja y tiempo de servicio el de menor prioridad en el minuto:  309 Al servicio:  324261\n",
      "Inicio 2023-05-27 05:33:33 Fin 2023-05-27 05:53:33\n",
      "Asignación tipo 4: El médico asignado es:  80073352  Se asignó porque estaba disponible, cumplia con la franja y tiempo de servicio el de menor prioridad en el minuto:  321 Al servicio:  324265\n",
      "Inicio 2023-05-27 05:49:50 Fin 2023-05-27 06:01:50\n",
      "Asignación tipo 2: El médico asignado es:  52997773  Se asigno porque era el único disponible, cumplia con el tiempo de servicio y no había atendido 5 solicitudes en el minuto:  335 Al servicio:  324268\n",
      "Inicio 2023-05-27 05:55:19 Fin 2023-05-27 06:27:19\n",
      "Asignación tipo 2: El médico asignado es:  1018472151  Se asigno porque era el único disponible, cumplia con el tiempo de servicio y no había atendido 5 solicitudes en el minuto:  342 Al servicio:  324269\n",
      "Inicio 2023-05-27 06:05:31 Fin 2023-05-27 06:22:31\n",
      "Asignación tipo 2: El médico asignado es:  1015437933  Se asigno porque era el único disponible, cumplia con el tiempo de servicio y no había atendido 5 solicitudes en el minuto:  350 Al servicio:  324270\n",
      "Inicio 2023-05-27 06:17:10 Fin 2023-05-27 06:49:10\n",
      "Asignación tipo 1: El médico asignado es:  52997773  Se asigno porque no esta disponible y era el de menor prioridad en el minuto:  353 Al servicio:  324271\n",
      "Inicio 2023-05-27 06:14:22 Fin 2023-05-27 06:30:22\n",
      "Asignación tipo 2: El médico asignado es:  80073352  Se asigno porque era el único disponible, cumplia con el tiempo de servicio y no había atendido 5 solicitudes en el minuto:  357 Al servicio:  324272\n",
      "Inicio 2023-05-27 06:47:20 Fin 2023-05-27 07:17:20\n",
      "Asignación tipo 1: El médico asignado es:  80073352  Se asigno porque no esta disponible y era el de menor prioridad en el minuto:  358 Al servicio:  324273\n",
      "Inicio 2023-05-27 06:17:14 Fin 2023-05-27 06:31:14\n",
      "Asignación tipo 4: El médico asignado es:  79955886  Se asignó porque estaba disponible, cumplia con la franja y tiempo de servicio el de menor prioridad en el minuto:  362 Al servicio:  324274\n",
      "Inicio 2023-05-27 06:35:34 Fin 2023-05-27 06:58:34\n",
      "Asignación tipo 4: El médico asignado es:  1015414697  Se asignó porque estaba disponible, cumplia con la franja y tiempo de servicio el de menor prioridad en el minuto:  372 Al servicio:  324275\n",
      "Inicio 2023-05-27 06:33:43 Fin 2023-05-27 06:46:43\n",
      "Asignación tipo 2: El médico asignado es:  1019088914  Se asigno porque era el único disponible, cumplia con el tiempo de servicio y no había atendido 5 solicitudes en el minuto:  374 Al servicio:  324276\n",
      "Inicio 2023-05-27 06:45:49 Fin 2023-05-27 06:54:49\n",
      "Asignación tipo 1: El médico asignado es:  79955886  Se asigno porque no esta disponible y era el de menor prioridad en el minuto:  377 Al servicio:  324277\n",
      "Inicio 2023-05-27 07:03:13 Fin 2023-05-27 07:28:13\n",
      "Asignación tipo 1: El médico asignado es:  79955886  Se asigno porque no esta disponible y era el de menor prioridad en el minuto:  377 Al servicio:  324278\n",
      "Inicio 2023-05-27 07:06:04 Fin 2023-05-27 07:12:04\n",
      "Asignación tipo 1: El médico asignado es:  52997773  Se asigno porque no esta disponible y era el de menor prioridad en el minuto:  378 Al servicio:  324279\n",
      "Inicio 2023-05-27 06:58:23 Fin 2023-05-27 07:06:23\n",
      "Asignación tipo 1: El médico asignado es:  1019088914  Se asigno porque no esta disponible y era el de menor prioridad en el minuto:  379 Al servicio:  324280\n",
      "Inicio 2023-05-27 07:08:39 Fin 2023-05-27 07:40:39\n",
      "Asignación tipo 1: El médico asignado es:  1015414697  Se asigno porque no esta disponible y era el de menor prioridad en el minuto:  381 Al servicio:  324281\n",
      "Inicio 2023-05-27 07:40:50 Fin 2023-05-27 08:06:50\n",
      "Asignación tipo 1: El médico asignado es:  1015414697  Se asigno porque no esta disponible y era el de menor prioridad en el minuto:  382 Al servicio:  324282\n",
      "Inicio 2023-05-27 06:31:10 Fin 2023-05-27 06:58:10\n",
      "Asignación tipo 2: El médico asignado es:  1015437933  Se asigno porque era el único disponible, cumplia con el tiempo de servicio y no había atendido 5 solicitudes en el minuto:  383 Al servicio:  324283\n",
      "Inicio 2023-05-27 06:57:14 Fin 2023-05-27 07:16:14\n",
      "Asignación tipo 2: El médico asignado es:  1018472151  Se asigno porque era el único disponible, cumplia con el tiempo de servicio y no había atendido 5 solicitudes en el minuto:  390 Al servicio:  324285\n",
      "Inicio 2023-05-27 07:26:48 Fin 2023-05-27 07:35:48\n",
      "Asignación tipo 1: El médico asignado es:  1019088914  Se asigno porque no esta disponible y era el de menor prioridad en el minuto:  393 Al servicio:  324286\n",
      "Inicio 2023-05-27 07:20:44 Fin 2023-05-27 07:34:44\n",
      "Asignación tipo 1: El médico asignado es:  52997773  Se asigno porque no esta disponible y era el de menor prioridad en el minuto:  398 Al servicio:  324288\n",
      "Inicio 2023-05-27 07:34:51 Fin 2023-05-27 07:50:51\n",
      "Asignación tipo 1: El médico asignado es:  52997773  Se asigno porque no esta disponible y era el de menor prioridad en el minuto:  405 Al servicio:  324290\n",
      "Inicio 2023-05-27 07:29:21 Fin 2023-05-27 07:45:21\n",
      "Asignación tipo 1: El médico asignado es:  80073352  Se asigno porque no esta disponible y era el de menor prioridad en el minuto:  409 Al servicio:  324291\n",
      "Inicio 2023-05-27 07:21:36 Fin 2023-05-27 07:41:36\n",
      "Asignación tipo 1: El médico asignado es:  1018472151  Se asigno porque no esta disponible y era el de menor prioridad en el minuto:  412 Al servicio:  324292\n",
      "Inicio 2023-05-27 07:24:49 Fin 2023-05-27 07:43:49\n",
      "Asignación tipo 1: El médico asignado es:  1015437933  Se asigno porque no esta disponible y era el de menor prioridad en el minuto:  416 Al servicio:  324293\n",
      "Inicio 2023-05-27 07:44:09 Fin 2023-05-27 08:19:09\n",
      "Asignación tipo 1: El médico asignado es:  1018472151  Se asigno porque no esta disponible y era el de menor prioridad en el minuto:  418 Al servicio:  324294\n",
      "Inicio 2023-05-27 07:15:12 Fin 2023-05-27 07:24:12\n",
      "Asignación tipo 4: El médico asignado es:  1020777651  Se asignó porque estaba disponible, cumplia con la franja y tiempo de servicio el de menor prioridad en el minuto:  420 Al servicio:  324295\n",
      "Inicio 2023-05-27 07:27:40 Fin 2023-05-27 07:40:40\n",
      "Asignación tipo 4: El médico asignado es:  1018446151  Se asignó porque estaba disponible, cumplia con la franja y tiempo de servicio el de menor prioridad en el minuto:  425 Al servicio:  324297\n",
      "Inicio 2023-05-27 07:32:15 Fin 2023-05-27 07:49:15\n",
      "Asignación tipo 2: El médico asignado es:  80185764  Se asigno porque era el único disponible, cumplia con el tiempo de servicio y no había atendido 5 solicitudes en el minuto:  428 Al servicio:  324298\n",
      "Inicio 2023-05-27 08:04:30 Fin 2023-05-27 08:34:30\n",
      "Asignación tipo 1: El médico asignado es:  1020777651  Se asigno porque no esta disponible y era el de menor prioridad en el minuto:  433 Al servicio:  324300\n",
      "Inicio 2023-05-27 07:39:27 Fin 2023-05-27 07:39:27\n",
      "Asignación tipo 2: El médico asignado es:  79955886  Se asigno porque era el único disponible, cumplia con el tiempo de servicio y no había atendido 5 solicitudes en el minuto:  449 Al servicio:  324303\n",
      "Inicio 2023-05-27 07:57:44 Fin 2023-05-27 08:12:44\n",
      "Asignación tipo 1: El médico asignado es:  80185764  Se asigno porque no esta disponible y era el de menor prioridad en el minuto:  452 Al servicio:  324304\n",
      "Inicio 2023-05-27 08:35:24 Fin 2023-05-27 09:06:24\n",
      "Asignación tipo 1: El médico asignado es:  80185764  Se asigno porque no esta disponible y era el de menor prioridad en el minuto:  453 Al servicio:  324305\n",
      "Inicio 2023-05-27 07:45:04 Fin 2023-05-27 08:25:04\n",
      "Asignación tipo 2: El médico asignado es:  1019088914  Se asigno porque era el único disponible, cumplia con el tiempo de servicio y no había atendido 5 solicitudes en el minuto:  456 Al servicio:  324307\n",
      "Inicio 2023-05-27 08:09:18 Fin 2023-05-27 08:32:18\n",
      "Asignación tipo 1: El médico asignado es:  1018446151  Se asigno porque no esta disponible y era el de menor prioridad en el minuto:  456 Al servicio:  324308\n",
      "Inicio 2023-05-27 07:55:39 Fin 2023-05-27 08:16:39\n",
      "Asignación tipo 2: El médico asignado es:  79955886  Se asigno porque era el único disponible, cumplia con el tiempo de servicio y no había atendido 5 solicitudes en el minuto:  460 Al servicio:  324310\n",
      "Inicio 2023-05-27 08:51:07 Fin 2023-05-27 09:09:07\n",
      "Asignación tipo 1: El médico asignado es:  1018446151  Se asigno porque no esta disponible y era el de menor prioridad en el minuto:  462 Al servicio:  324311\n",
      "Inicio 2023-05-27 08:20:57 Fin 2023-05-27 08:23:57\n",
      "Asignación tipo 2: El médico asignado es:  1015437933  Se asigno porque era el único disponible, cumplia con el tiempo de servicio y no había atendido 5 solicitudes en el minuto:  464 Al servicio:  324312\n",
      "Inicio 2023-05-27 08:20:03 Fin 2023-05-27 08:29:03\n",
      "Asignación tipo 2: El médico asignado es:  80073352  Se asigno porque era el único disponible, cumplia con el tiempo de servicio y no había atendido 5 solicitudes en el minuto:  466 Al servicio:  324313\n",
      "Inicio 2023-05-27 08:16:09 Fin 2023-05-27 08:30:09\n",
      "Asignación tipo 1: El médico asignado es:  1015414697  Se asigno porque no esta disponible y era el de menor prioridad en el minuto:  470 Al servicio:  324315\n",
      "Inicio 2023-05-27 09:28:06 Fin 2023-05-27 09:45:06\n",
      "Asignación tipo 1: El médico asignado es:  1020777651  Se asigno porque no esta disponible y era el de menor prioridad en el minuto:  470 Al servicio:  324316\n",
      "Inicio 2023-05-27 08:43:56 Fin 2023-05-27 08:58:56\n",
      "Asignación tipo 3: El médico asignado es:  1019088914  Se asignó porque el unico médico disponible no cumplia con el tiempo de servicio o ya habia atendido 5 solicitudes, en el minuto:  475 Al servicio:  324317\n",
      "Inicio 2023-05-27 08:52:20 Fin 2023-05-27 09:51:20\n",
      "Asignación tipo 3: El médico asignado es:  1015414697  Se asignó porque el unico médico disponible no cumplia con el tiempo de servicio o ya habia atendido 5 solicitudes, en el minuto:  476 Al servicio:  324318\n",
      "Inicio 2023-05-27 08:03:13 Fin 2023-05-27 08:20:13\n",
      "Asignación tipo 3: El médico asignado es:  52997773  Se asignó porque el unico médico disponible no cumplia con el tiempo de servicio o ya habia atendido 5 solicitudes, en el minuto:  479 Al servicio:  324319\n",
      "Inicio 2023-05-27 08:10:12 Fin 2023-05-27 08:15:12\n",
      "Asignación tipo 4: El médico asignado es:  39779707  Se asignó porque estaba disponible, cumplia con la franja y tiempo de servicio el de menor prioridad en el minuto:  482 Al servicio:  324321\n",
      "Inicio 2023-05-27 11:44:08 Fin 2023-05-27 12:56:08\n",
      "Asignación tipo 4: El médico asignado es:  1127250183  Se asignó porque estaba disponible, cumplia con la franja y tiempo de servicio el de menor prioridad en el minuto:  483 Al servicio:  324322\n",
      "Inicio 2023-05-27 08:12:14 Fin 2023-05-27 08:12:14\n",
      "Asignación tipo 4: El médico asignado es:  52200795  Se asignó porque estaba disponible, cumplia con la franja y tiempo de servicio el de menor prioridad en el minuto:  485 Al servicio:  324323\n",
      "Inicio 2023-05-27 08:13:47 Fin 2023-05-27 08:45:47\n",
      "Asignación tipo 2: El médico asignado es:  1024468225  Se asigno porque era el único disponible, cumplia con el tiempo de servicio y no había atendido 5 solicitudes en el minuto:  485 Al servicio:  324324\n",
      "Inicio 2023-05-27 08:23:51 Fin 2023-05-27 08:50:51\n",
      "Asignación tipo 1: El médico asignado es:  52200795  Se asigno porque no esta disponible y era el de menor prioridad en el minuto:  485 Al servicio:  324325\n",
      "Inicio 2023-05-27 08:28:18 Fin 2023-05-27 08:42:18\n",
      "Asignación tipo 1: El médico asignado es:  39779707  Se asigno porque no esta disponible y era el de menor prioridad en el minuto:  489 Al servicio:  324326\n",
      "Inicio 2023-05-27 08:59:23 Fin 2023-05-27 09:17:23\n",
      "Asignación tipo 1: El médico asignado es:  39779707  Se asigno porque no esta disponible y era el de menor prioridad en el minuto:  491 Al servicio:  324327\n",
      "Inicio 2023-05-27 08:53:06 Fin 2023-05-27 09:14:06\n",
      "Asignación tipo 1: El médico asignado es:  1024468225  Se asigno porque no esta disponible y era el de menor prioridad en el minuto:  491 Al servicio:  324328\n",
      "Inicio 2023-05-27 09:05:13 Fin 2023-05-27 09:27:13\n",
      "Asignación tipo 1: El médico asignado es:  52200795  Se asigno porque no esta disponible y era el de menor prioridad en el minuto:  495 Al servicio:  324329\n",
      "Inicio 2023-05-27 09:38:01 Fin 2023-05-27 09:42:01\n",
      "Asignación tipo 3: El médico asignado es:  1024468225  Se asignó porque el unico médico disponible no cumplia con el tiempo de servicio o ya habia atendido 5 solicitudes, en el minuto:  499 Al servicio:  324330\n",
      "Inicio 2023-05-27 08:37:46 Fin 2023-05-27 08:48:46\n",
      "Asignación tipo 4: El médico asignado es:  52997773  Se asignó porque estaba disponible, cumplia con la franja y tiempo de servicio el de menor prioridad en el minuto:  502 Al servicio:  324331\n",
      "Inicio 2023-05-27 08:24:15 Fin 2023-05-27 08:45:15\n",
      "Asignación tipo 4: El médico asignado es:  79955886  Se asignó porque estaba disponible, cumplia con la franja y tiempo de servicio el de menor prioridad en el minuto:  502 Al servicio:  324332\n",
      "Inicio 2023-05-27 08:45:10 Fin 2023-05-27 08:45:10\n",
      "Asignación tipo 4: El médico asignado es:  1018472151  Se asignó porque estaba disponible, cumplia con la franja y tiempo de servicio el de menor prioridad en el minuto:  505 Al servicio:  324333\n",
      "Inicio 2023-05-27 08:37:59 Fin 2023-05-27 09:07:59\n",
      "Asignación tipo 4: El médico asignado es:  1015437933  Se asignó porque estaba disponible, cumplia con la franja y tiempo de servicio el de menor prioridad en el minuto:  514 Al servicio:  324337\n",
      "Inicio 2023-05-27 09:27:50 Fin 2023-05-27 10:05:50\n",
      "Asignación tipo 3: El médico asignado es:  1018446151  Se asignó porque el unico médico disponible no cumplia con el tiempo de servicio o ya habia atendido 5 solicitudes, en el minuto:  517 Al servicio:  324339\n",
      "Inicio 2023-05-27 09:27:08 Fin 2023-05-27 09:57:08\n",
      "Asignación tipo 3: El médico asignado es:  39779707  Se asignó porque el unico médico disponible no cumplia con el tiempo de servicio o ya habia atendido 5 solicitudes, en el minuto:  518 Al servicio:  324340\n",
      "Inicio 2023-05-27 09:37:09 Fin 2023-05-27 09:52:09\n",
      "Asignación tipo 3: El médico asignado es:  52200795  Se asignó porque el unico médico disponible no cumplia con el tiempo de servicio o ya habia atendido 5 solicitudes, en el minuto:  519 Al servicio:  324341\n",
      "Inicio 2023-05-27 09:58:48 Fin 2023-05-27 10:26:48\n",
      "Asignación tipo 3: El médico asignado es:  1024468225  Se asignó porque el unico médico disponible no cumplia con el tiempo de servicio o ya habia atendido 5 solicitudes, en el minuto:  520 Al servicio:  324342\n",
      "Inicio 2023-05-27 10:04:00 Fin 2023-05-27 10:10:00\n",
      "Asignación tipo 3: El médico asignado es:  39779707  Se asignó porque el unico médico disponible no cumplia con el tiempo de servicio o ya habia atendido 5 solicitudes, en el minuto:  523 Al servicio:  324343\n",
      "Inicio 2023-05-27 08:52:37 Fin 2023-05-27 08:55:37\n",
      "Asignación tipo 4: El médico asignado es:  1018472151  Se asignó porque estaba disponible, cumplia con la franja y tiempo de servicio el de menor prioridad en el minuto:  526 Al servicio:  324344\n",
      "Inicio 2023-05-27 09:04:50 Fin 2023-05-27 09:24:50\n",
      "Asignación tipo 4: El médico asignado es:  79955886  Se asignó porque estaba disponible, cumplia con la franja y tiempo de servicio el de menor prioridad en el minuto:  526 Al servicio:  324345\n",
      "Inicio 2023-05-27 09:59:44 Fin 2023-05-27 10:12:44\n",
      "Asignación tipo 3: El médico asignado es:  52200795  Se asignó porque el unico médico disponible no cumplia con el tiempo de servicio o ya habia atendido 5 solicitudes, en el minuto:  526 Al servicio:  324346\n",
      "Inicio 2023-05-27 09:13:56 Fin 2023-05-27 09:13:56\n",
      "Asignación tipo 4: El médico asignado es:  52997773  Se asignó porque estaba disponible, cumplia con la franja y tiempo de servicio el de menor prioridad en el minuto:  529 Al servicio:  324347\n",
      "Inicio 2023-05-27 10:01:47 Fin 2023-05-27 10:33:47\n",
      "Asignación tipo 3: El médico asignado es:  1020777651  Se asignó porque el unico médico disponible no cumplia con el tiempo de servicio o ya habia atendido 5 solicitudes, en el minuto:  531 Al servicio:  324348\n",
      "Inicio 2023-05-27 09:00:51 Fin 2023-05-27 09:15:51\n",
      "Asignación tipo 3: El médico asignado es:  1019088914  Se asignó porque el unico médico disponible no cumplia con el tiempo de servicio o ya habia atendido 5 solicitudes, en el minuto:  532 Al servicio:  324350\n",
      "Inicio 2023-05-27 09:48:19 Fin 2023-05-27 10:18:19\n",
      "Asignación tipo 3: El médico asignado es:  80185764  Se asignó porque el unico médico disponible no cumplia con el tiempo de servicio o ya habia atendido 5 solicitudes, en el minuto:  534 Al servicio:  324351\n",
      "Inicio 2023-05-27 09:19:58 Fin 2023-05-27 09:40:58\n",
      "Asignación tipo 4: El médico asignado es:  80073352  Se asignó porque estaba disponible, cumplia con la franja y tiempo de servicio el de menor prioridad en el minuto:  537 Al servicio:  324352\n",
      "Inicio 2023-05-27 09:23:02 Fin 2023-05-27 10:06:02\n",
      "Asignación tipo 4: El médico asignado es:  1121853934  Se asignó porque estaba disponible, cumplia con la franja y tiempo de servicio el de menor prioridad en el minuto:  540 Al servicio:  324353\n",
      "Inicio 2023-05-27 09:43:47 Fin 2023-05-27 09:56:47\n",
      "Asignación tipo 4: El médico asignado es:  1016039086  Se asignó porque estaba disponible, cumplia con la franja y tiempo de servicio el de menor prioridad en el minuto:  544 Al servicio:  324355\n",
      "Inicio 2023-05-27 09:40:54 Fin 2023-05-27 09:47:54\n",
      "Asignación tipo 4: El médico asignado es:  80383487  Se asignó porque estaba disponible, cumplia con la franja y tiempo de servicio el de menor prioridad en el minuto:  551 Al servicio:  324358\n",
      "Inicio 2023-05-27 09:40:56 Fin 2023-05-27 09:40:56\n",
      "Asignación tipo 4: El médico asignado es:  1018472151  Se asignó porque estaba disponible, cumplia con la franja y tiempo de servicio el de menor prioridad en el minuto:  553 Al servicio:  324359\n",
      "Inicio 2023-05-27 09:28:08 Fin 2023-05-27 09:53:08\n",
      "Asignación tipo 4: El médico asignado es:  1019088914  Se asignó porque estaba disponible, cumplia con la franja y tiempo de servicio el de menor prioridad en el minuto:  558 Al servicio:  324361\n",
      "Inicio 2023-05-27 10:01:55 Fin 2023-05-27 10:15:55\n",
      "Asignación tipo 4: El médico asignado es:  52997773  Se asignó porque estaba disponible, cumplia con la franja y tiempo de servicio el de menor prioridad en el minuto:  558 Al servicio:  324362\n",
      "Inicio 2023-05-27 10:13:48 Fin 2023-05-27 10:25:48\n",
      "Asignación tipo 3: El médico asignado es:  1121853934  Se asignó porque el unico médico disponible no cumplia con el tiempo de servicio o ya habia atendido 5 solicitudes, en el minuto:  562 Al servicio:  324363\n",
      "Inicio 2023-05-27 10:14:04 Fin 2023-05-27 10:32:04\n",
      "Asignación tipo 3: El médico asignado es:  1016039086  Se asignó porque el unico médico disponible no cumplia con el tiempo de servicio o ya habia atendido 5 solicitudes, en el minuto:  562 Al servicio:  324364\n",
      "Inicio 2023-05-27 10:02:02 Fin 2023-05-27 10:24:02\n",
      "Asignación tipo 4: El médico asignado es:  1015437933  Se asignó porque estaba disponible, cumplia con la franja y tiempo de servicio el de menor prioridad en el minuto:  573 Al servicio:  324365\n",
      "Inicio 2023-05-27 09:59:49 Fin 2023-05-27 10:10:49\n",
      "Asignación tipo 3: El médico asignado es:  80383487  Se asignó porque el unico médico disponible no cumplia con el tiempo de servicio o ya habia atendido 5 solicitudes, en el minuto:  573 Al servicio:  324366\n",
      "Inicio 2023-05-27 10:32:13 Fin 2023-05-27 11:00:13\n",
      "Asignación tipo 3: El médico asignado es:  1121853934  Se asignó porque el unico médico disponible no cumplia con el tiempo de servicio o ya habia atendido 5 solicitudes, en el minuto:  577 Al servicio:  324367\n",
      "Inicio 2023-05-27 09:54:50 Fin 2023-05-27 10:20:50\n",
      "Asignación tipo 4: El médico asignado es:  1018472151  Se asignó porque estaba disponible, cumplia con la franja y tiempo de servicio el de menor prioridad en el minuto:  581 Al servicio:  324368\n",
      "Inicio 2023-05-27 09:50:09 Fin 2023-05-27 10:20:09\n",
      "Asignación tipo 4: El médico asignado es:  79955886  Se asignó porque estaba disponible, cumplia con la franja y tiempo de servicio el de menor prioridad en el minuto:  582 Al servicio:  324369\n",
      "Inicio 2023-05-27 10:38:13 Fin 2023-05-27 10:59:13\n",
      "Asignación tipo 3: El médico asignado es:  1016039086  Se asignó porque el unico médico disponible no cumplia con el tiempo de servicio o ya habia atendido 5 solicitudes, en el minuto:  586 Al servicio:  324370\n",
      "Inicio 2023-05-27 10:33:02 Fin 2023-05-27 10:52:02\n",
      "Asignación tipo 3: El médico asignado es:  80383487  Se asignó porque el unico médico disponible no cumplia con el tiempo de servicio o ya habia atendido 5 solicitudes, en el minuto:  586 Al servicio:  324371\n",
      "Inicio 2023-05-27 10:27:14 Fin 2023-05-27 10:41:14\n",
      "Asignación tipo 3: El médico asignado es:  1018446151  Se asignó porque el unico médico disponible no cumplia con el tiempo de servicio o ya habia atendido 5 solicitudes, en el minuto:  590 Al servicio:  324373\n",
      "Inicio 2023-05-27 10:21:38 Fin 2023-05-27 10:21:38\n",
      "Asignación tipo 4: El médico asignado es:  80073352  Se asignó porque estaba disponible, cumplia con la franja y tiempo de servicio el de menor prioridad en el minuto:  592 Al servicio:  324374\n",
      "Inicio 2023-05-27 10:29:36 Fin 2023-05-27 10:39:36\n",
      "Asignación tipo 3: El médico asignado es:  80185764  Se asignó porque el unico médico disponible no cumplia con el tiempo de servicio o ya habia atendido 5 solicitudes, en el minuto:  593 Al servicio:  324375\n",
      "Inicio 2023-05-27 10:01:34 Fin 2023-05-27 10:16:34\n",
      "Asignación tipo 4: El médico asignado es:  1019088914  Se asignó porque estaba disponible, cumplia con la franja y tiempo de servicio el de menor prioridad en el minuto:  598 Al servicio:  324376\n",
      "Inicio 2023-05-27 10:32:01 Fin 2023-05-27 10:48:01\n",
      "Asignación tipo 3: El médico asignado es:  1024468225  Se asignó porque el unico médico disponible no cumplia con el tiempo de servicio o ya habia atendido 5 solicitudes, en el minuto:  598 Al servicio:  324377\n",
      "Inicio 2023-05-27 10:11:28 Fin 2023-05-27 10:38:28\n",
      "Asignación tipo 4: El médico asignado es:  1020803066  Se asignó porque estaba disponible, cumplia con la franja y tiempo de servicio el de menor prioridad en el minuto:  600 Al servicio:  324378\n",
      "Inicio 2023-05-27 10:07:45 Fin 2023-05-27 10:34:45\n",
      "Asignación tipo 4: El médico asignado es:  57293715  Se asignó porque estaba disponible, cumplia con la franja y tiempo de servicio el de menor prioridad en el minuto:  601 Al servicio:  324379\n",
      "Inicio 2023-05-27 10:52:19 Fin 2023-05-27 11:07:19\n",
      "Asignación tipo 3: El médico asignado es:  57293715  Se asignó porque el unico médico disponible no cumplia con el tiempo de servicio o ya habia atendido 5 solicitudes, en el minuto:  603 Al servicio:  324380\n",
      "Inicio 2023-05-27 10:49:00 Fin 2023-05-27 10:49:00\n",
      "Asignación tipo 3: El médico asignado es:  1020803066  Se asignó porque el unico médico disponible no cumplia con el tiempo de servicio o ya habia atendido 5 solicitudes, en el minuto:  603 Al servicio:  324381\n",
      "Inicio 2023-05-27 10:57:13 Fin 2023-05-27 11:28:13\n",
      "Asignación tipo 3: El médico asignado es:  1020803066  Se asignó porque el unico médico disponible no cumplia con el tiempo de servicio o ya habia atendido 5 solicitudes, en el minuto:  605 Al servicio:  324382\n",
      "Inicio 2023-05-27 11:31:06 Fin 2023-05-27 11:46:06\n",
      "Asignación tipo 3: El médico asignado es:  57293715  Se asignó porque el unico médico disponible no cumplia con el tiempo de servicio o ya habia atendido 5 solicitudes, en el minuto:  605 Al servicio:  324383\n",
      "Inicio 2023-05-27 10:40:57 Fin 2023-05-27 11:02:57\n",
      "Asignación tipo 3: El médico asignado es:  1020777651  Se asignó porque el unico médico disponible no cumplia con el tiempo de servicio o ya habia atendido 5 solicitudes, en el minuto:  607 Al servicio:  324384\n",
      "Inicio 2023-05-27 10:44:09 Fin 2023-05-27 11:14:09\n",
      "Asignación tipo 4: El médico asignado es:  1015414697  Se asignó porque estaba disponible, cumplia con la franja y tiempo de servicio el de menor prioridad en el minuto:  626 Al servicio:  324387\n",
      "Inicio 2023-05-27 10:41:36 Fin 2023-05-27 10:50:36\n",
      "Asignación tipo 4: El médico asignado es:  52200795  Se asignó porque estaba disponible, cumplia con la franja y tiempo de servicio el de menor prioridad en el minuto:  630 Al servicio:  324388\n",
      "Inicio 2023-05-27 10:33:00 Fin 2023-05-27 10:38:00\n",
      "Asignación tipo 4: El médico asignado es:  79955886  Se asignó porque estaba disponible, cumplia con la franja y tiempo de servicio el de menor prioridad en el minuto:  633 Al servicio:  324389\n",
      "Inicio 2023-05-27 10:36:30 Fin 2023-05-27 10:56:30\n",
      "Asignación tipo 4: El médico asignado es:  80073352  Se asignó porque estaba disponible, cumplia con la franja y tiempo de servicio el de menor prioridad en el minuto:  635 Al servicio:  324390\n",
      "Inicio 2023-05-27 10:49:30 Fin 2023-05-27 10:58:30\n",
      "Asignación tipo 4: El médico asignado es:  39779707  Se asignó porque estaba disponible, cumplia con la franja y tiempo de servicio el de menor prioridad en el minuto:  638 Al servicio:  324391\n",
      "Inicio 2023-05-27 10:53:26 Fin 2023-05-27 11:05:26\n",
      "Asignación tipo 4: El médico asignado es:  1019088914  Se asignó porque estaba disponible, cumplia con la franja y tiempo de servicio el de menor prioridad en el minuto:  642 Al servicio:  324392\n",
      "Inicio 2023-05-27 10:45:47 Fin 2023-05-27 11:02:47\n",
      "Asignación tipo 4: El médico asignado es:  80185764  Se asignó porque estaba disponible, cumplia con la franja y tiempo de servicio el de menor prioridad en el minuto:  642 Al servicio:  324393\n",
      "Inicio 2023-05-27 10:54:16 Fin 2023-05-27 11:38:16\n",
      "Asignación tipo 4: El médico asignado es:  1015437933  Se asignó porque estaba disponible, cumplia con la franja y tiempo de servicio el de menor prioridad en el minuto:  643 Al servicio:  324394\n",
      "Inicio 2023-05-27 10:57:09 Fin 2023-05-27 11:46:09\n",
      "Asignación tipo 4: El médico asignado es:  79955886  Se asignó porque estaba disponible, cumplia con la franja y tiempo de servicio el de menor prioridad en el minuto:  645 Al servicio:  324395\n",
      "Inicio 2023-05-27 10:47:43 Fin 2023-05-27 11:07:43\n",
      "Asignación tipo 4: El médico asignado es:  1018446151  Se asignó porque estaba disponible, cumplia con la franja y tiempo de servicio el de menor prioridad en el minuto:  646 Al servicio:  324396\n",
      "Inicio 2023-05-27 11:12:43 Fin 2023-05-27 11:43:43\n",
      "Asignación tipo 4: El médico asignado es:  52997773  Se asignó porque estaba disponible, cumplia con la franja y tiempo de servicio el de menor prioridad en el minuto:  649 Al servicio:  324398\n",
      "Inicio 2023-05-27 10:57:39 Fin 2023-05-27 11:16:39\n",
      "Asignación tipo 4: El médico asignado es:  1024468225  Se asignó porque estaba disponible, cumplia con la franja y tiempo de servicio el de menor prioridad en el minuto:  651 Al servicio:  324399\n",
      "Inicio 2023-05-27 11:29:34 Fin 2023-05-27 11:52:34\n",
      "Asignación tipo 4: El médico asignado es:  1018472151  Se asignó porque estaba disponible, cumplia con la franja y tiempo de servicio el de menor prioridad en el minuto:  652 Al servicio:  324400\n",
      "Inicio 2023-05-27 11:07:22 Fin 2023-05-27 11:26:22\n",
      "Asignación tipo 4: El médico asignado es:  80383487  Se asignó porque estaba disponible, cumplia con la franja y tiempo de servicio el de menor prioridad en el minuto:  653 Al servicio:  324401\n",
      "Inicio 2023-05-27 10:58:21 Fin 2023-05-27 11:07:21\n",
      "Asignación tipo 4: El médico asignado es:  80073352  Se asignó porque estaba disponible, cumplia con la franja y tiempo de servicio el de menor prioridad en el minuto:  657 Al servicio:  324402\n",
      "Inicio 2023-05-27 11:18:22 Fin 2023-05-27 11:24:22\n",
      "Asignación tipo 4: El médico asignado es:  1020808271  Se asignó porque estaba disponible, cumplia con la franja y tiempo de servicio el de menor prioridad en el minuto:  660 Al servicio:  324404\n",
      "Inicio 2023-05-27 11:07:22 Fin 2023-05-27 11:30:22\n",
      "Asignación tipo 4: El médico asignado es:  80727764  Se asignó porque estaba disponible, cumplia con la franja y tiempo de servicio el de menor prioridad en el minuto:  663 Al servicio:  324405\n",
      "Inicio 2023-05-27 11:21:29 Fin 2023-05-27 11:25:29\n",
      "Asignación tipo 4: El médico asignado es:  1098635342  Se asignó porque estaba disponible, cumplia con la franja y tiempo de servicio el de menor prioridad en el minuto:  669 Al servicio:  324406\n",
      "Inicio 2023-05-27 11:18:16 Fin 2023-05-27 11:33:16\n",
      "Asignación tipo 4: El médico asignado es:  1121853934  Se asignó porque estaba disponible, cumplia con la franja y tiempo de servicio el de menor prioridad en el minuto:  669 Al servicio:  324407\n",
      "Inicio 2023-05-27 11:41:05 Fin 2023-05-27 12:15:05\n",
      "Asignación tipo 4: El médico asignado es:  1016039086  Se asignó porque estaba disponible, cumplia con la franja y tiempo de servicio el de menor prioridad en el minuto:  672 Al servicio:  324408\n",
      "Inicio 2023-05-27 11:30:01 Fin 2023-05-27 11:35:01\n",
      "Asignación tipo 4: El médico asignado es:  52200795  Se asignó porque estaba disponible, cumplia con la franja y tiempo de servicio el de menor prioridad en el minuto:  677 Al servicio:  324410\n",
      "Inicio 2023-05-27 11:19:55 Fin 2023-05-27 11:38:55\n",
      "Asignación tipo 4: El médico asignado es:  1020777651  Se asignó porque estaba disponible, cumplia con la franja y tiempo de servicio el de menor prioridad en el minuto:  678 Al servicio:  324411\n",
      "Inicio 2023-05-27 11:41:03 Fin 2023-05-27 11:57:03\n",
      "Asignación tipo 4: El médico asignado es:  39779707  Se asignó porque estaba disponible, cumplia con la franja y tiempo de servicio el de menor prioridad en el minuto:  684 Al servicio:  324413\n",
      "Inicio 2023-05-27 11:36:59 Fin 2023-05-27 11:49:59\n",
      "Asignación tipo 4: El médico asignado es:  1098635342  Se asignó porque estaba disponible, cumplia con la franja y tiempo de servicio el de menor prioridad en el minuto:  688 Al servicio:  324414\n",
      "Inicio 2023-05-27 11:45:32 Fin 2023-05-27 11:49:32\n",
      "Asignación tipo 4: El médico asignado es:  1020808271  Se asignó porque estaba disponible, cumplia con la franja y tiempo de servicio el de menor prioridad en el minuto:  688 Al servicio:  324415\n",
      "Inicio 2023-05-27 11:42:00 Fin 2023-05-27 11:53:00\n",
      "Asignación tipo 4: El médico asignado es:  80727764  Se asignó porque estaba disponible, cumplia con la franja y tiempo de servicio el de menor prioridad en el minuto:  694 Al servicio:  324416\n",
      "Inicio 2023-05-27 11:44:54 Fin 2023-05-27 12:00:54\n",
      "Asignación tipo 4: El médico asignado es:  80383487  Se asignó porque estaba disponible, cumplia con la franja y tiempo de servicio el de menor prioridad en el minuto:  696 Al servicio:  324417\n",
      "Inicio 2023-05-27 11:52:21 Fin 2023-05-27 12:11:21\n",
      "Asignación tipo 4: El médico asignado es:  1020803066  Se asignó porque estaba disponible, cumplia con la franja y tiempo de servicio el de menor prioridad en el minuto:  698 Al servicio:  324418\n",
      "Inicio 2023-05-27 12:24:06 Fin 2023-05-27 12:37:06\n",
      "Asignación tipo 4: El médico asignado es:  1121853934  Se asignó porque estaba disponible, cumplia con la franja y tiempo de servicio el de menor prioridad en el minuto:  702 Al servicio:  324419\n",
      "Inicio 2023-05-27 12:23:17 Fin 2023-05-27 12:40:17\n",
      "Asignación tipo 4: El médico asignado es:  80185764  Se asignó porque estaba disponible, cumplia con la franja y tiempo de servicio el de menor prioridad en el minuto:  704 Al servicio:  324420\n",
      "Inicio 2023-05-27 11:48:39 Fin 2023-05-27 11:48:39\n",
      "Asignación tipo 4: El médico asignado es:  1019088914  Se asignó porque estaba disponible, cumplia con la franja y tiempo de servicio el de menor prioridad en el minuto:  705 Al servicio:  324421\n",
      "Inicio 2023-05-27 12:26:38 Fin 2023-05-27 12:33:38\n",
      "Asignación tipo 4: El médico asignado es:  57293715  Se asignó porque estaba disponible, cumplia con la franja y tiempo de servicio el de menor prioridad en el minuto:  709 Al servicio:  324422\n",
      "Inicio 2023-05-27 11:59:03 Fin 2023-05-27 12:17:03\n",
      "Asignación tipo 4: El médico asignado es:  1098635342  Se asignó porque estaba disponible, cumplia con la franja y tiempo de servicio el de menor prioridad en el minuto:  711 Al servicio:  324423\n",
      "Inicio 2023-05-27 12:04:11 Fin 2023-05-27 12:25:11\n",
      "Asignación tipo 4: El médico asignado es:  80727764  Se asignó porque estaba disponible, cumplia con la franja y tiempo de servicio el de menor prioridad en el minuto:  714 Al servicio:  324424\n",
      "Inicio 2023-05-27 12:16:31 Fin 2023-05-27 12:21:31\n",
      "Asignación tipo 4: El médico asignado es:  1020808271  Se asignó porque estaba disponible, cumplia con la franja y tiempo de servicio el de menor prioridad en el minuto:  715 Al servicio:  324426\n",
      "Inicio 2023-05-27 12:36:40 Fin 2023-05-27 13:00:40\n",
      "Asignación tipo 4: El médico asignado es:  1024468225  Se asignó porque estaba disponible, cumplia con la franja y tiempo de servicio el de menor prioridad en el minuto:  717 Al servicio:  324427\n",
      "Inicio 2023-05-27 12:39:31 Fin 2023-05-27 12:53:31\n",
      "Asignación tipo 4: El médico asignado es:  1082996581  Se asignó porque estaba disponible, cumplia con la franja y tiempo de servicio el de menor prioridad en el minuto:  724 Al servicio:  324428\n",
      "Inicio 2023-05-27 12:24:39 Fin 2023-05-27 12:42:39\n",
      "Asignación tipo 4: El médico asignado es:  1117504115  Se asignó porque estaba disponible, cumplia con la franja y tiempo de servicio el de menor prioridad en el minuto:  732 Al servicio:  324429\n",
      "Inicio 2023-05-27 12:32:42 Fin 2023-05-27 12:51:42\n",
      "Asignación tipo 4: El médico asignado es:  1020803066  Se asignó porque estaba disponible, cumplia con la franja y tiempo de servicio el de menor prioridad en el minuto:  735 Al servicio:  324430\n",
      "Inicio 2023-05-27 12:22:31 Fin 2023-05-27 13:00:31\n",
      "Asignación tipo 4: El médico asignado es:  1016039086  Se asignó porque estaba disponible, cumplia con la franja y tiempo de servicio el de menor prioridad en el minuto:  738 Al servicio:  324431\n",
      "Inicio 2023-05-27 12:38:56 Fin 2023-05-27 13:22:56\n",
      "Asignación tipo 4: El médico asignado es:  1098635342  Se asignó porque estaba disponible, cumplia con la franja y tiempo de servicio el de menor prioridad en el minuto:  747 Al servicio:  324432\n",
      "Inicio 2023-05-27 12:38:08 Fin 2023-05-27 13:18:08\n",
      "Asignación tipo 4: El médico asignado es:  1020808271  Se asignó porque estaba disponible, cumplia con la franja y tiempo de servicio el de menor prioridad en el minuto:  752 Al servicio:  324434\n",
      "Inicio 2023-05-27 13:01:28 Fin 2023-05-27 13:29:28\n",
      "Asignación tipo 4: El médico asignado es:  80727764  Se asignó porque estaba disponible, cumplia con la franja y tiempo de servicio el de menor prioridad en el minuto:  754 Al servicio:  324435\n",
      "Inicio 2023-05-27 13:05:00 Fin 2023-05-27 13:08:00\n",
      "Asignación tipo 4: El médico asignado es:  57293715  Se asignó porque estaba disponible, cumplia con la franja y tiempo de servicio el de menor prioridad en el minuto:  756 Al servicio:  324436\n",
      "Inicio 2023-05-27 12:49:20 Fin 2023-05-27 13:17:20\n",
      "Asignación tipo 4: El médico asignado es:  1018446151  Se asignó porque estaba disponible, cumplia con la franja y tiempo de servicio el de menor prioridad en el minuto:  761 Al servicio:  324437\n",
      "Inicio 2023-05-27 12:55:22 Fin 2023-05-27 13:27:22\n",
      "Asignación tipo 4: El médico asignado es:  1015414697  Se asignó porque estaba disponible, cumplia con la franja y tiempo de servicio el de menor prioridad en el minuto:  762 Al servicio:  324438\n",
      "Inicio 2023-05-27 13:06:45 Fin 2023-05-27 13:21:45\n",
      "Asignación tipo 4: El médico asignado es:  1117504115  Se asignó porque estaba disponible, cumplia con la franja y tiempo de servicio el de menor prioridad en el minuto:  772 Al servicio:  324439\n",
      "Inicio 2023-05-27 13:21:06 Fin 2023-05-27 13:36:06\n",
      "Asignación tipo 4: El médico asignado es:  52200795  Se asignó porque estaba disponible, cumplia con la franja y tiempo de servicio el de menor prioridad en el minuto:  773 Al servicio:  324440\n",
      "Inicio 2023-05-27 13:07:54 Fin 2023-05-27 13:13:54\n",
      "Asignación tipo 4: El médico asignado es:  1082996581  Se asignó porque estaba disponible, cumplia con la franja y tiempo de servicio el de menor prioridad en el minuto:  775 Al servicio:  324441\n",
      "Inicio 2023-05-27 13:22:58 Fin 2023-05-27 13:43:58\n",
      "Asignación tipo 4: El médico asignado es:  80073352  Se asignó porque estaba disponible, cumplia con la franja y tiempo de servicio el de menor prioridad en el minuto:  780 Al servicio:  324442\n",
      "Inicio 2023-05-27 14:03:33 Fin 2023-05-27 14:27:33\n",
      "Asignación tipo 4: El médico asignado es:  1082996581  Se asignó porque estaba disponible, cumplia con la franja y tiempo de servicio el de menor prioridad en el minuto:  796 Al servicio:  324443\n",
      "Inicio 2023-05-27 13:29:45 Fin 2023-05-27 13:46:45\n",
      "Asignación tipo 4: El médico asignado es:  1020777651  Se asignó porque estaba disponible, cumplia con la franja y tiempo de servicio el de menor prioridad en el minuto:  797 Al servicio:  324444\n",
      "Inicio 2023-05-27 13:34:09 Fin 2023-05-27 13:51:09\n",
      "Asignación tipo 4: El médico asignado es:  1020808271  Se asignó porque estaba disponible, cumplia con la franja y tiempo de servicio el de menor prioridad en el minuto:  800 Al servicio:  324445\n",
      "Inicio 2023-05-27 13:40:34 Fin 2023-05-27 13:56:34\n",
      "Asignación tipo 4: El médico asignado es:  1117504115  Se asignó porque estaba disponible, cumplia con la franja y tiempo de servicio el de menor prioridad en el minuto:  807 Al servicio:  324446\n",
      "Inicio 2023-05-27 13:37:55 Fin 2023-05-27 13:47:55\n",
      "Asignación tipo 4: El médico asignado es:  1098635342  Se asignó porque estaba disponible, cumplia con la franja y tiempo de servicio el de menor prioridad en el minuto:  808 Al servicio:  324447\n",
      "Inicio 2023-05-27 13:39:42 Fin 2023-05-27 13:39:42\n",
      "Asignación tipo 4: El médico asignado es:  1019088914  Se asignó porque estaba disponible, cumplia con la franja y tiempo de servicio el de menor prioridad en el minuto:  810 Al servicio:  324448\n",
      "Inicio 2023-05-27 13:52:31 Fin 2023-05-27 14:10:31\n",
      "Asignación tipo 4: El médico asignado es:  80727764  Se asignó porque estaba disponible, cumplia con la franja y tiempo de servicio el de menor prioridad en el minuto:  819 Al servicio:  324449\n",
      "Inicio 2023-05-27 14:10:46 Fin 2023-05-27 14:25:46\n",
      "Asignación tipo 4: El médico asignado es:  79955886  Se asignó porque estaba disponible, cumplia con la franja y tiempo de servicio el de menor prioridad en el minuto:  828 Al servicio:  324450\n",
      "Inicio 2023-05-27 14:09:00 Fin 2023-05-27 14:49:00\n",
      "Asignación tipo 4: El médico asignado es:  39779707  Se asignó porque estaba disponible, cumplia con la franja y tiempo de servicio el de menor prioridad en el minuto:  836 Al servicio:  324452\n",
      "Inicio 2023-05-27 14:02:01 Fin 2023-05-27 14:21:01\n",
      "Asignación tipo 4: El médico asignado es:  80383487  Se asignó porque estaba disponible, cumplia con la franja y tiempo de servicio el de menor prioridad en el minuto:  837 Al servicio:  324453\n",
      "Inicio 2023-05-27 14:18:56 Fin 2023-05-27 14:38:56\n",
      "Asignación tipo 4: El médico asignado es:  1085310672  Se asignó porque estaba disponible, cumplia con la franja y tiempo de servicio el de menor prioridad en el minuto:  840 Al servicio:  324454\n",
      "Inicio 2023-05-27 14:19:26 Fin 2023-05-27 14:37:26\n",
      "Asignación tipo 4: El médico asignado es:  1095825225  Se asignó porque estaba disponible, cumplia con la franja y tiempo de servicio el de menor prioridad en el minuto:  853 Al servicio:  324456\n",
      "Inicio 2023-05-27 14:21:44 Fin 2023-05-27 14:35:44\n",
      "Asignación tipo 4: El médico asignado es:  1014217039  Se asignó porque estaba disponible, cumplia con la franja y tiempo de servicio el de menor prioridad en el minuto:  855 Al servicio:  324457\n",
      "Inicio 2023-05-27 14:32:12 Fin 2023-05-27 14:42:12\n",
      "Asignación tipo 4: El médico asignado es:  1014266018  Se asignó porque estaba disponible, cumplia con la franja y tiempo de servicio el de menor prioridad en el minuto:  856 Al servicio:  324458\n",
      "Inicio 2023-05-27 14:35:53 Fin 2023-05-27 14:44:53\n",
      "Asignación tipo 4: El médico asignado es:  1098697055  Se asignó porque estaba disponible, cumplia con la franja y tiempo de servicio el de menor prioridad en el minuto:  859 Al servicio:  324459\n",
      "Inicio 2023-05-27 15:00:03 Fin 2023-05-27 15:26:03\n",
      "Asignación tipo 4: El médico asignado es:  1117504115  Se asignó porque estaba disponible, cumplia con la franja y tiempo de servicio el de menor prioridad en el minuto:  867 Al servicio:  324460\n",
      "Inicio 2023-05-27 14:37:23 Fin 2023-05-27 14:50:23\n",
      "Asignación tipo 4: El médico asignado es:  1082996581  Se asignó porque estaba disponible, cumplia con la franja y tiempo de servicio el de menor prioridad en el minuto:  870 Al servicio:  324461\n",
      "Inicio 2023-05-27 14:40:20 Fin 2023-05-27 14:40:20\n",
      "Asignación tipo 4: El médico asignado es:  1020803066  Se asignó porque estaba disponible, cumplia con la franja y tiempo de servicio el de menor prioridad en el minuto:  870 Al servicio:  324462\n",
      "Inicio 2023-05-27 14:43:01 Fin 2023-05-27 14:57:01\n",
      "Asignación tipo 4: El médico asignado es:  1016039086  Se asignó porque estaba disponible, cumplia con la franja y tiempo de servicio el de menor prioridad en el minuto:  872 Al servicio:  324463\n",
      "Inicio 2023-05-27 14:58:46 Fin 2023-05-27 15:15:46\n",
      "Asignación tipo 4: El médico asignado es:  1014217039  Se asignó porque estaba disponible, cumplia con la franja y tiempo de servicio el de menor prioridad en el minuto:  876 Al servicio:  324464\n",
      "Inicio 2023-05-27 14:52:27 Fin 2023-05-27 15:08:27\n",
      "Asignación tipo 4: El médico asignado es:  1095825225  Se asignó porque estaba disponible, cumplia con la franja y tiempo de servicio el de menor prioridad en el minuto:  880 Al servicio:  324465\n",
      "Inicio 2023-05-27 15:15:43 Fin 2023-05-27 15:35:43\n",
      "Asignación tipo 4: El médico asignado es:  1014266018  Se asignó porque estaba disponible, cumplia con la franja y tiempo de servicio el de menor prioridad en el minuto:  883 Al servicio:  324466\n",
      "Inicio 2023-05-27 14:51:50 Fin 2023-05-27 15:10:50\n",
      "Asignación tipo 4: El médico asignado es:  1098697055  Se asignó porque estaba disponible, cumplia con la franja y tiempo de servicio el de menor prioridad en el minuto:  886 Al servicio:  324467\n",
      "Inicio 2023-05-27 15:24:24 Fin 2023-05-27 16:09:24\n",
      "Asignación tipo 4: El médico asignado es:  1085310672  Se asignó porque estaba disponible, cumplia con la franja y tiempo de servicio el de menor prioridad en el minuto:  894 Al servicio:  324468\n",
      "Inicio 2023-05-27 15:14:24 Fin 2023-05-27 15:26:24\n",
      "Asignación tipo 4: El médico asignado es:  1121853934  Se asignó porque estaba disponible, cumplia con la franja y tiempo de servicio el de menor prioridad en el minuto:  897 Al servicio:  324469\n",
      "Inicio 2023-05-27 15:16:34 Fin 2023-05-27 15:43:34\n",
      "Asignación tipo 4: El médico asignado es:  80185764  Se asignó porque estaba disponible, cumplia con la franja y tiempo de servicio el de menor prioridad en el minuto:  898 Al servicio:  324470\n",
      "Inicio 2023-05-27 15:21:42 Fin 2023-05-27 15:34:42\n",
      "Asignación tipo 4: El médico asignado es:  1082996581  Se asignó porque estaba disponible, cumplia con la franja y tiempo de servicio el de menor prioridad en el minuto:  899 Al servicio:  324471\n",
      "Inicio 2023-05-27 15:27:02 Fin 2023-05-27 15:43:02\n",
      "Asignación tipo 4: El médico asignado es:  85488148  Se asignó porque estaba disponible, cumplia con la franja y tiempo de servicio el de menor prioridad en el minuto:  904 Al servicio:  324472\n",
      "Inicio 2023-05-27 15:16:04 Fin 2023-05-27 15:26:04\n",
      "Asignación tipo 4: El médico asignado es:  80075437  Se asignó porque estaba disponible, cumplia con la franja y tiempo de servicio el de menor prioridad en el minuto:  904 Al servicio:  324473\n",
      "Inicio 2023-05-27 15:39:52 Fin 2023-05-27 16:15:52\n",
      "Asignación tipo 4: El médico asignado es:  1053327980  Se asignó porque estaba disponible, cumplia con la franja y tiempo de servicio el de menor prioridad en el minuto:  906 Al servicio:  324475\n",
      "Inicio 2023-05-27 15:14:00 Fin 2023-05-27 15:28:00\n",
      "Asignación tipo 4: El médico asignado es:  57293715  Se asignó porque estaba disponible, cumplia con la franja y tiempo de servicio el de menor prioridad en el minuto:  907 Al servicio:  324476\n",
      "Inicio 2023-05-27 15:22:11 Fin 2023-05-27 15:23:11\n",
      "Asignación tipo 4: El médico asignado es:  1024468225  Se asignó porque estaba disponible, cumplia con la franja y tiempo de servicio el de menor prioridad en el minuto:  908 Al servicio:  324477\n",
      "Inicio 2023-05-27 15:40:17 Fin 2023-05-27 15:41:17\n",
      "Asignación tipo 4: El médico asignado es:  1095825225  Se asignó porque estaba disponible, cumplia con la franja y tiempo de servicio el de menor prioridad en el minuto:  910 Al servicio:  324478\n",
      "Inicio 2023-05-27 15:32:14 Fin 2023-05-27 15:52:14\n",
      "Asignación tipo 4: El médico asignado es:  1098697055  Se asignó porque estaba disponible, cumplia con la franja y tiempo de servicio el de menor prioridad en el minuto:  920 Al servicio:  324479\n",
      "Inicio 2023-05-27 15:47:37 Fin 2023-05-27 15:47:37\n",
      "Asignación tipo 4: El médico asignado es:  1014217039  Se asignó porque estaba disponible, cumplia con la franja y tiempo de servicio el de menor prioridad en el minuto:  923 Al servicio:  324480\n",
      "Inicio 2023-05-27 15:28:35 Fin 2023-05-27 15:28:35\n",
      "Asignación tipo 4: El médico asignado es:  1098635342  Se asignó porque estaba disponible, cumplia con la franja y tiempo de servicio el de menor prioridad en el minuto:  923 Al servicio:  324481\n",
      "Inicio 2023-05-27 15:49:30 Fin 2023-05-27 15:56:30\n",
      "Asignación tipo 4: El médico asignado es:  52200795  Se asignó porque estaba disponible, cumplia con la franja y tiempo de servicio el de menor prioridad en el minuto:  926 Al servicio:  324482\n",
      "Inicio 2023-05-27 15:57:38 Fin 2023-05-27 15:58:38\n",
      "Asignación tipo 4: El médico asignado es:  80075437  Se asignó porque estaba disponible, cumplia con la franja y tiempo de servicio el de menor prioridad en el minuto:  928 Al servicio:  324483\n",
      "Inicio 2023-05-27 15:35:57 Fin 2023-05-27 15:51:57\n",
      "Asignación tipo 4: El médico asignado es:  1020808271  Se asignó porque estaba disponible, cumplia con la franja y tiempo de servicio el de menor prioridad en el minuto:  928 Al servicio:  324484\n",
      "Inicio 2023-05-27 16:16:42 Fin 2023-05-27 16:40:42\n",
      "Asignación tipo 4: El médico asignado es:  1117504115  Se asignó porque estaba disponible, cumplia con la franja y tiempo de servicio el de menor prioridad en el minuto:  933 Al servicio:  324485\n",
      "Inicio 2023-05-27 15:49:53 Fin 2023-05-27 15:57:53\n",
      "Asignación tipo 4: El médico asignado es:  80727764  Se asignó porque estaba disponible, cumplia con la franja y tiempo de servicio el de menor prioridad en el minuto:  934 Al servicio:  324486\n",
      "Inicio 2023-05-27 15:59:06 Fin 2023-05-27 16:07:06\n",
      "Asignación tipo 4: El médico asignado es:  1014266018  Se asignó porque estaba disponible, cumplia con la franja y tiempo de servicio el de menor prioridad en el minuto:  936 Al servicio:  324487\n",
      "Inicio 2023-05-27 15:50:23 Fin 2023-05-27 15:57:23\n",
      "Asignación tipo 4: El médico asignado es:  80383487  Se asignó porque estaba disponible, cumplia con la franja y tiempo de servicio el de menor prioridad en el minuto:  938 Al servicio:  324488\n",
      "Inicio 2023-05-27 16:21:16 Fin 2023-05-27 16:24:16\n",
      "Asignación tipo 4: El médico asignado es:  1020803066  Se asignó porque estaba disponible, cumplia con la franja y tiempo de servicio el de menor prioridad en el minuto:  940 Al servicio:  324489\n",
      "Inicio 2023-05-27 15:54:49 Fin 2023-05-27 16:14:49\n",
      "Asignación tipo 4: El médico asignado es:  39779707  Se asignó porque estaba disponible, cumplia con la franja y tiempo de servicio el de menor prioridad en el minuto:  941 Al servicio:  324490\n",
      "Inicio 2023-05-27 15:47:59 Fin 2023-05-27 16:01:59\n",
      "Asignación tipo 4: El médico asignado es:  1016039086  Se asignó porque estaba disponible, cumplia con la franja y tiempo de servicio el de menor prioridad en el minuto:  941 Al servicio:  324492\n",
      "Inicio 2023-05-27 16:06:56 Fin 2023-05-27 16:21:56\n",
      "Asignación tipo 4: El médico asignado es:  85488148  Se asignó porque estaba disponible, cumplia con la franja y tiempo de servicio el de menor prioridad en el minuto:  945 Al servicio:  324493\n",
      "Inicio 2023-05-27 16:23:20 Fin 2023-05-27 16:41:20\n",
      "Asignación tipo 4: El médico asignado es:  1095825225  Se asignó porque estaba disponible, cumplia con la franja y tiempo de servicio el de menor prioridad en el minuto:  947 Al servicio:  324494\n",
      "Inicio 2023-05-27 15:55:22 Fin 2023-05-27 16:22:22\n",
      "Asignación tipo 4: El médico asignado es:  1014217039  Se asignó porque estaba disponible, cumplia con la franja y tiempo de servicio el de menor prioridad en el minuto:  949 Al servicio:  324495\n",
      "Inicio 2023-05-27 16:06:58 Fin 2023-05-27 16:38:58\n",
      "Asignación tipo 4: El médico asignado es:  1121853934  Se asignó porque estaba disponible, cumplia con la franja y tiempo de servicio el de menor prioridad en el minuto:  951 Al servicio:  324496\n",
      "Inicio 2023-05-27 16:12:39 Fin 2023-05-27 16:47:39\n",
      "Asignación tipo 4: El médico asignado es:  1098697055  Se asignó porque estaba disponible, cumplia con la franja y tiempo de servicio el de menor prioridad en el minuto:  954 Al servicio:  324498\n",
      "Inicio 2023-05-27 16:03:42 Fin 2023-05-27 16:20:42\n",
      "Asignación tipo 4: El médico asignado es:  1082996581  Se asignó porque estaba disponible, cumplia con la franja y tiempo de servicio el de menor prioridad en el minuto:  956 Al servicio:  324499\n",
      "Inicio 2023-05-27 16:02:46 Fin 2023-05-27 16:07:46\n",
      "Asignación tipo 4: El médico asignado es:  57293715  Se asignó porque estaba disponible, cumplia con la franja y tiempo de servicio el de menor prioridad en el minuto:  958 Al servicio:  324501\n",
      "Inicio 2023-05-27 16:19:26 Fin 2023-05-27 16:45:26\n",
      "Asignación tipo 4: El médico asignado es:  1083026203  Se asignó porque estaba disponible, cumplia con la franja y tiempo de servicio el de menor prioridad en el minuto:  961 Al servicio:  324502\n",
      "Inicio 2023-05-27 16:28:55 Fin 2023-05-27 16:52:55\n",
      "Asignación tipo 4: El médico asignado es:  1083012532  Se asignó porque estaba disponible, cumplia con la franja y tiempo de servicio el de menor prioridad en el minuto:  964 Al servicio:  324504\n",
      "Inicio 2023-05-27 16:10:49 Fin 2023-05-27 16:14:49\n",
      "Asignación tipo 4: El médico asignado es:  1018440480  Se asignó porque estaba disponible, cumplia con la franja y tiempo de servicio el de menor prioridad en el minuto:  965 Al servicio:  324506\n",
      "Inicio 2023-05-27 16:13:08 Fin 2023-05-27 16:31:08\n",
      "Asignación tipo 4: El médico asignado es:  1019074166  Se asignó porque estaba disponible, cumplia con la franja y tiempo de servicio el de menor prioridad en el minuto:  966 Al servicio:  324507\n",
      "Inicio 2023-05-27 16:20:42 Fin 2023-05-27 16:22:42\n",
      "Asignación tipo 4: El médico asignado es:  1140888504  Se asignó porque estaba disponible, cumplia con la franja y tiempo de servicio el de menor prioridad en el minuto:  966 Al servicio:  324508\n",
      "Inicio 2023-05-27 16:35:51 Fin 2023-05-27 16:55:51\n",
      "Asignación tipo 4: El médico asignado es:  80075437  Se asignó porque estaba disponible, cumplia con la franja y tiempo de servicio el de menor prioridad en el minuto:  967 Al servicio:  324509\n",
      "Inicio 2023-05-27 16:38:52 Fin 2023-05-27 16:42:52\n",
      "Asignación tipo 4: El médico asignado es:  1085310672  Se asignó porque estaba disponible, cumplia con la franja y tiempo de servicio el de menor prioridad en el minuto:  972 Al servicio:  324510\n",
      "Inicio 2023-05-27 16:25:11 Fin 2023-05-27 16:40:11\n",
      "Asignación tipo 4: El médico asignado es:  1018440480  Se asignó porque estaba disponible, cumplia con la franja y tiempo de servicio el de menor prioridad en el minuto:  977 Al servicio:  324513\n",
      "Inicio 2023-05-27 16:35:10 Fin 2023-05-27 16:45:10\n",
      "Asignación tipo 4: El médico asignado es:  85488148  Se asignó porque estaba disponible, cumplia con la franja y tiempo de servicio el de menor prioridad en el minuto:  987 Al servicio:  324515\n",
      "Inicio 2023-05-27 16:40:11 Fin 2023-05-27 16:53:11\n",
      "Asignación tipo 4: El médico asignado es:  1140888504  Se asignó porque estaba disponible, cumplia con la franja y tiempo de servicio el de menor prioridad en el minuto:  989 Al servicio:  324516\n",
      "Inicio 2023-05-27 17:15:06 Fin 2023-05-27 17:24:06\n",
      "Asignación tipo 4: El médico asignado es:  1053327980  Se asignó porque estaba disponible, cumplia con la franja y tiempo de servicio el de menor prioridad en el minuto:  990 Al servicio:  324517\n",
      "Inicio 2023-05-27 17:05:52 Fin 2023-05-27 17:33:52\n",
      "Asignación tipo 4: El médico asignado es:  1019074166  Se asignó porque estaba disponible, cumplia con la franja y tiempo de servicio el de menor prioridad en el minuto:  992 Al servicio:  324518\n",
      "Inicio 2023-05-27 16:41:21 Fin 2023-05-27 16:56:21\n",
      "Asignación tipo 4: El médico asignado es:  1014266018  Se asignó porque estaba disponible, cumplia con la franja y tiempo de servicio el de menor prioridad en el minuto:  996 Al servicio:  324519\n",
      "Inicio 2023-05-27 17:15:14 Fin 2023-05-27 18:01:14\n",
      "Asignación tipo 4: El médico asignado es:  1018440480  Se asignó porque estaba disponible, cumplia con la franja y tiempo de servicio el de menor prioridad en el minuto:  1001 Al servicio:  324520\n",
      "Inicio 2023-05-27 16:54:53 Fin 2023-05-27 17:17:53\n",
      "Asignación tipo 4: El médico asignado es:  1014217039  Se asignó porque estaba disponible, cumplia con la franja y tiempo de servicio el de menor prioridad en el minuto:  1001 Al servicio:  324521\n",
      "Inicio 2023-05-27 17:22:04 Fin 2023-05-27 17:36:04\n",
      "Asignación tipo 4: El médico asignado es:  1083026203  Se asignó porque estaba disponible, cumplia con la franja y tiempo de servicio el de menor prioridad en el minuto:  1007 Al servicio:  324522\n",
      "Inicio 2023-05-27 16:50:38 Fin 2023-05-27 17:21:38\n",
      "Asignación tipo 4: El médico asignado es:  1085310672  Se asignó porque estaba disponible, cumplia con la franja y tiempo de servicio el de menor prioridad en el minuto:  1008 Al servicio:  324523\n",
      "Inicio 2023-05-27 17:25:58 Fin 2023-05-27 17:36:58\n",
      "Asignación tipo 4: El médico asignado es:  85488148  Se asignó porque estaba disponible, cumplia con la franja y tiempo de servicio el de menor prioridad en el minuto:  1009 Al servicio:  324524\n",
      "Inicio 2023-05-27 17:08:22 Fin 2023-05-27 17:23:22\n",
      "Asignación tipo 4: El médico asignado es:  1095825225  Se asignó porque estaba disponible, cumplia con la franja y tiempo de servicio el de menor prioridad en el minuto:  1012 Al servicio:  324526\n",
      "Inicio 2023-05-27 17:01:41 Fin 2023-05-27 17:13:41\n",
      "Asignación tipo 4: El médico asignado es:  1083012532  Se asignó porque estaba disponible, cumplia con la franja y tiempo de servicio el de menor prioridad en el minuto:  1013 Al servicio:  324527\n",
      "Inicio 2023-05-27 17:16:44 Fin 2023-05-27 17:31:44\n",
      "Asignación tipo 4: El médico asignado es:  1140888504  Se asignó porque estaba disponible, cumplia con la franja y tiempo de servicio el de menor prioridad en el minuto:  1016 Al servicio:  324528\n",
      "Inicio 2023-05-27 17:06:49 Fin 2023-05-27 17:18:49\n",
      "Asignación tipo 4: El médico asignado es:  1014266018  Se asignó porque estaba disponible, cumplia con la franja y tiempo de servicio el de menor prioridad en el minuto:  1017 Al servicio:  324529\n",
      "Inicio 2023-05-27 17:50:41 Fin 2023-05-27 18:12:41\n",
      "Asignación tipo 4: El médico asignado es:  80075437  Se asignó porque estaba disponible, cumplia con la franja y tiempo de servicio el de menor prioridad en el minuto:  1018 Al servicio:  324530\n",
      "Inicio 2023-05-27 17:16:31 Fin 2023-05-27 17:30:31\n",
      "Asignación tipo 4: El médico asignado es:  1098697055  Se asignó porque estaba disponible, cumplia con la franja y tiempo de servicio el de menor prioridad en el minuto:  1027 Al servicio:  324532\n",
      "Inicio 2023-05-27 17:15:57 Fin 2023-05-27 17:35:57\n",
      "Asignación tipo 4: El médico asignado es:  1098635342  Se asignó porque estaba disponible, cumplia con la franja y tiempo de servicio el de menor prioridad en el minuto:  1029 Al servicio:  324533\n",
      "Inicio 2023-05-27 17:23:03 Fin 2023-05-27 17:24:03\n",
      "Asignación tipo 4: El médico asignado es:  80727764  Se asignó porque estaba disponible, cumplia con la franja y tiempo de servicio el de menor prioridad en el minuto:  1029 Al servicio:  324534\n",
      "Inicio 2023-05-27 17:28:10 Fin 2023-05-27 17:30:10\n",
      "Asignación tipo 4: El médico asignado es:  1020808271  Se asignó porque estaba disponible, cumplia con la franja y tiempo de servicio el de menor prioridad en el minuto:  1031 Al servicio:  324535\n",
      "Inicio 2023-05-27 17:29:03 Fin 2023-05-27 18:05:03\n",
      "Asignación tipo 4: El médico asignado es:  57293715  Se asignó porque estaba disponible, cumplia con la franja y tiempo de servicio el de menor prioridad en el minuto:  1033 Al servicio:  324537\n",
      "Inicio 2023-05-27 17:43:07 Fin 2023-05-27 18:08:07\n",
      "Asignación tipo 4: El médico asignado es:  1083012532  Se asignó porque estaba disponible, cumplia con la franja y tiempo de servicio el de menor prioridad en el minuto:  1040 Al servicio:  324538\n",
      "Inicio 2023-05-27 17:41:34 Fin 2023-05-27 17:57:34\n",
      "Asignación tipo 4: El médico asignado es:  1082996581  Se asignó porque estaba disponible, cumplia con la franja y tiempo de servicio el de menor prioridad en el minuto:  1041 Al servicio:  324539\n",
      "Inicio 2023-05-27 17:59:49 Fin 2023-05-27 18:17:49\n",
      "Asignación tipo 4: El médico asignado es:  1085310672  Se asignó porque estaba disponible, cumplia con la franja y tiempo de servicio el de menor prioridad en el minuto:  1043 Al servicio:  324540\n",
      "Inicio 2023-05-27 17:24:33 Fin 2023-05-27 17:32:33\n",
      "Asignación tipo 4: El médico asignado es:  1117504115  Se asignó porque estaba disponible, cumplia con la franja y tiempo de servicio el de menor prioridad en el minuto:  1044 Al servicio:  324541\n",
      "Inicio 2023-05-27 17:42:57 Fin 2023-05-27 17:55:57\n",
      "Asignación tipo 4: El médico asignado es:  1053327980  Se asignó porque estaba disponible, cumplia con la franja y tiempo de servicio el de menor prioridad en el minuto:  1045 Al servicio:  324542\n",
      "Inicio 2023-05-27 17:36:54 Fin 2023-05-27 17:47:54\n",
      "Asignación tipo 4: El médico asignado es:  1014217039  Se asignó porque estaba disponible, cumplia con la franja y tiempo de servicio el de menor prioridad en el minuto:  1050 Al servicio:  324543\n",
      "Inicio 2023-05-27 18:16:26 Fin 2023-05-27 18:33:26\n",
      "Asignación tipo 4: El médico asignado es:  1019074166  Se asignó porque estaba disponible, cumplia con la franja y tiempo de servicio el de menor prioridad en el minuto:  1055 Al servicio:  324545\n",
      "Inicio 2023-05-27 18:00:31 Fin 2023-05-27 18:15:31\n",
      "Asignación tipo 4: El médico asignado es:  1083026203  Se asignó porque estaba disponible, cumplia con la franja y tiempo de servicio el de menor prioridad en el minuto:  1057 Al servicio:  324546\n",
      "Inicio 2023-05-27 18:01:01 Fin 2023-05-27 18:27:01\n",
      "Asignación tipo 4: El médico asignado es:  1140888504  Se asignó porque estaba disponible, cumplia con la franja y tiempo de servicio el de menor prioridad en el minuto:  1064 Al servicio:  324547\n",
      "Inicio 2023-05-27 17:52:46 Fin 2023-05-27 18:42:46\n",
      "Asignación tipo 4: El médico asignado es:  85488148  Se asignó porque estaba disponible, cumplia con la franja y tiempo de servicio el de menor prioridad en el minuto:  1068 Al servicio:  324548\n",
      "Inicio 2023-05-27 17:50:54 Fin 2023-05-27 17:57:54\n",
      "Asignación tipo 4: El médico asignado es:  1014266018  Se asignó porque estaba disponible, cumplia con la franja y tiempo de servicio el de menor prioridad en el minuto:  1069 Al servicio:  324549\n",
      "Inicio 2023-05-27 18:34:43 Fin 2023-05-27 18:42:43\n",
      "Asignación tipo 4: El médico asignado es:  1020803066  Se asignó porque estaba disponible, cumplia con la franja y tiempo de servicio el de menor prioridad en el minuto:  1070 Al servicio:  324550\n",
      "Inicio 2023-05-27 18:23:48 Fin 2023-05-27 18:30:48\n",
      "Asignación tipo 4: El médico asignado es:  1053327980  Se asignó porque estaba disponible, cumplia con la franja y tiempo de servicio el de menor prioridad en el minuto:  1079 Al servicio:  324551\n",
      "Inicio 2023-05-27 18:25:53 Fin 2023-05-27 19:10:53\n",
      "Asignación tipo 4: El médico asignado es:  80727764  Se asignó porque estaba disponible, cumplia con la franja y tiempo de servicio el de menor prioridad en el minuto:  1081 Al servicio:  324553\n",
      "Inicio 2023-05-27 18:18:03 Fin 2023-05-27 18:22:03\n",
      "Asignación tipo 4: El médico asignado es:  1018440480  Se asignó porque estaba disponible, cumplia con la franja y tiempo de servicio el de menor prioridad en el minuto:  1082 Al servicio:  324554\n",
      "Inicio 2023-05-27 18:28:38 Fin 2023-05-27 18:38:38\n",
      "Asignación tipo 4: El médico asignado es:  1020808271  Se asignó porque estaba disponible, cumplia con la franja y tiempo de servicio el de menor prioridad en el minuto:  1084 Al servicio:  324555\n",
      "Inicio 2023-05-27 18:11:24 Fin 2023-05-27 18:24:24\n",
      "Asignación tipo 4: El médico asignado es:  1095825225  Se asignó porque estaba disponible, cumplia con la franja y tiempo de servicio el de menor prioridad en el minuto:  1085 Al servicio:  324556\n",
      "Inicio 2023-05-27 18:32:05 Fin 2023-05-27 18:49:05\n",
      "Asignación tipo 4: El médico asignado es:  1098697055  Se asignó porque estaba disponible, cumplia con la franja y tiempo de servicio el de menor prioridad en el minuto:  1085 Al servicio:  324557\n",
      "Inicio 2023-05-27 18:10:35 Fin 2023-05-27 18:24:35\n",
      "Asignación tipo 4: El médico asignado es:  1117504115  Se asignó porque estaba disponible, cumplia con la franja y tiempo de servicio el de menor prioridad en el minuto:  1088 Al servicio:  324558\n",
      "Inicio 2023-05-27 18:37:13 Fin 2023-05-27 18:40:13\n",
      "Asignación tipo 4: El médico asignado es:  1083012532  Se asignó porque estaba disponible, cumplia con la franja y tiempo de servicio el de menor prioridad en el minuto:  1091 Al servicio:  324559\n",
      "Inicio 2023-05-27 18:46:25 Fin 2023-05-27 18:46:25\n",
      "Asignación tipo 4: El médico asignado es:  1014217039  Se asignó porque estaba disponible, cumplia con la franja y tiempo de servicio el de menor prioridad en el minuto:  1091 Al servicio:  324560\n",
      "Inicio 2023-05-27 18:58:15 Fin 2023-05-27 19:01:15\n",
      "Asignación tipo 4: El médico asignado es:  1098635342  Se asignó porque estaba disponible, cumplia con la franja y tiempo de servicio el de menor prioridad en el minuto:  1092 Al servicio:  324561\n",
      "Inicio 2023-05-27 18:50:06 Fin 2023-05-27 19:01:06\n",
      "Asignación tipo 4: El médico asignado es:  80075437  Se asignó porque estaba disponible, cumplia con la franja y tiempo de servicio el de menor prioridad en el minuto:  1094 Al servicio:  324562\n",
      "Inicio 2023-05-27 18:36:38 Fin 2023-05-27 18:50:38\n",
      "Asignación tipo 4: El médico asignado es:  1082996581  Se asignó porque estaba disponible, cumplia con la franja y tiempo de servicio el de menor prioridad en el minuto:  1095 Al servicio:  324563\n",
      "Inicio 2023-05-27 18:27:29 Fin 2023-05-27 18:54:29\n",
      "Asignación tipo 4: El médico asignado es:  1083026203  Se asignó porque estaba disponible, cumplia con la franja y tiempo de servicio el de menor prioridad en el minuto:  1098 Al servicio:  324564\n",
      "Inicio 2023-05-27 19:09:20 Fin 2023-05-27 19:16:20\n",
      "Asignación tipo 4: El médico asignado es:  1014266018  Se asignó porque estaba disponible, cumplia con la franja y tiempo de servicio el de menor prioridad en el minuto:  1099 Al servicio:  324565\n",
      "Inicio 2023-05-27 19:10:12 Fin 2023-05-27 19:32:12\n",
      "Asignación tipo 4: El médico asignado es:  1018440480  Se asignó porque estaba disponible, cumplia con la franja y tiempo de servicio el de menor prioridad en el minuto:  1104 Al servicio:  324567\n",
      "Inicio 2023-05-27 18:53:46 Fin 2023-05-27 20:00:46\n",
      "Asignación tipo 4: El médico asignado es:  1053327980  Se asignó porque estaba disponible, cumplia con la franja y tiempo de servicio el de menor prioridad en el minuto:  1122 Al servicio:  324569\n",
      "Inicio 2023-05-27 18:54:43 Fin 2023-05-27 18:59:43\n",
      "Asignación tipo 4: El médico asignado es:  1019074166  Se asignó porque estaba disponible, cumplia con la franja y tiempo de servicio el de menor prioridad en el minuto:  1126 Al servicio:  324571\n",
      "Inicio 2023-05-27 19:03:28 Fin 2023-05-27 19:12:28\n",
      "Asignación tipo 4: El médico asignado es:  1140888504  Se asignó porque estaba disponible, cumplia con la franja y tiempo de servicio el de menor prioridad en el minuto:  1128 Al servicio:  324572\n",
      "Inicio 2023-05-27 19:29:26 Fin 2023-05-27 19:59:26\n",
      "Asignación tipo 4: El médico asignado es:  1083012532  Se asignó porque estaba disponible, cumplia con la franja y tiempo de servicio el de menor prioridad en el minuto:  1130 Al servicio:  324573\n",
      "Inicio 2023-05-27 18:56:29 Fin 2023-05-27 19:10:29\n",
      "Asignación tipo 4: El médico asignado es:  1085310672  Se asignó porque estaba disponible, cumplia con la franja y tiempo de servicio el de menor prioridad en el minuto:  1130 Al servicio:  324574\n",
      "Inicio 2023-05-27 19:19:54 Fin 2023-05-27 19:39:54\n",
      "Asignación tipo 4: El médico asignado es:  1083026203  Se asignó porque estaba disponible, cumplia con la franja y tiempo de servicio el de menor prioridad en el minuto:  1140 Al servicio:  324577\n",
      "Inicio 2023-05-27 19:05:42 Fin 2023-05-27 19:18:42\n",
      "Asignación tipo 4: El médico asignado es:  1019074166  Se asignó porque estaba disponible, cumplia con la franja y tiempo de servicio el de menor prioridad en el minuto:  1141 Al servicio:  324578\n",
      "Inicio 2023-05-27 19:10:27 Fin 2023-05-27 19:25:27\n",
      "Asignación tipo 4: El médico asignado es:  1117504115  Se asignó porque estaba disponible, cumplia con la franja y tiempo de servicio el de menor prioridad en el minuto:  1143 Al servicio:  324579\n",
      "Inicio 2023-05-27 19:23:36 Fin 2023-05-27 19:40:36\n",
      "Asignación tipo 4: El médico asignado es:  1095825225  Se asignó porque estaba disponible, cumplia con la franja y tiempo de servicio el de menor prioridad en el minuto:  1147 Al servicio:  324580\n",
      "Inicio 2023-05-27 19:13:00 Fin 2023-05-27 19:28:00\n",
      "Asignación tipo 4: El médico asignado es:  1140888504  Se asignó porque estaba disponible, cumplia con la franja y tiempo de servicio el de menor prioridad en el minuto:  1153 Al servicio:  324581\n",
      "Inicio 2023-05-27 19:29:11 Fin 2023-05-27 19:29:11\n",
      "Asignación tipo 4: El médico asignado es:  1098697055  Se asignó porque estaba disponible, cumplia con la franja y tiempo de servicio el de menor prioridad en el minuto:  1157 Al servicio:  324582\n",
      "Inicio 2023-05-27 19:33:22 Fin 2023-05-27 20:11:22\n",
      "Asignación tipo 4: El médico asignado es:  85488148  Se asignó porque estaba disponible, cumplia con la franja y tiempo de servicio el de menor prioridad en el minuto:  1161 Al servicio:  324584\n",
      "Inicio 2023-05-27 19:27:42 Fin 2023-05-27 19:29:42\n",
      "Asignación tipo 4: El médico asignado es:  1085310672  Se asignó porque estaba disponible, cumplia con la franja y tiempo de servicio el de menor prioridad en el minuto:  1166 Al servicio:  324585\n",
      "Inicio 2023-05-27 20:06:53 Fin 2023-05-27 20:25:53\n",
      "Asignación tipo 4: El médico asignado es:  1082996581  Se asignó porque estaba disponible, cumplia con la franja y tiempo de servicio el de menor prioridad en el minuto:  1177 Al servicio:  324588\n",
      "Inicio 2023-05-27 19:45:37 Fin 2023-05-27 20:00:37\n",
      "Asignación tipo 4: El médico asignado es:  1117504115  Se asignó porque estaba disponible, cumplia con la franja y tiempo de servicio el de menor prioridad en el minuto:  1181 Al servicio:  324591\n",
      "Inicio 2023-05-27 19:51:39 Fin 2023-05-27 20:00:39\n",
      "Asignación tipo 4: El médico asignado es:  1014217039  Se asignó porque estaba disponible, cumplia con la franja y tiempo de servicio el de menor prioridad en el minuto:  1185 Al servicio:  324593\n",
      "Inicio 2023-05-27 20:11:39 Fin 2023-05-27 20:30:39\n",
      "Asignación tipo 4: El médico asignado es:  80075437  Se asignó porque estaba disponible, cumplia con la franja y tiempo de servicio el de menor prioridad en el minuto:  1188 Al servicio:  324594\n",
      "Inicio 2023-05-27 20:01:44 Fin 2023-05-27 20:26:44\n",
      "Asignación tipo 4: El médico asignado es:  1098697055  Se asignó porque estaba disponible, cumplia con la franja y tiempo de servicio el de menor prioridad en el minuto:  1188 Al servicio:  324595\n",
      "Inicio 2023-05-27 19:53:56 Fin 2023-05-27 20:16:56\n",
      "Asignación tipo 4: El médico asignado es:  1085310672  Se asignó porque estaba disponible, cumplia con la franja y tiempo de servicio el de menor prioridad en el minuto:  1192 Al servicio:  324597\n",
      "Inicio 2023-05-27 20:06:38 Fin 2023-05-27 20:12:38\n",
      "Asignación tipo 4: El médico asignado es:  1019074166  Se asignó porque estaba disponible, cumplia con la franja y tiempo de servicio el de menor prioridad en el minuto:  1195 Al servicio:  324599\n",
      "Inicio 2023-05-27 20:21:17 Fin 2023-05-27 20:34:17\n",
      "Asignación tipo 4: El médico asignado es:  1140888504  Se asignó porque estaba disponible, cumplia con la franja y tiempo de servicio el de menor prioridad en el minuto:  1199 Al servicio:  324600\n",
      "Inicio 2023-05-27 20:28:38 Fin 2023-05-27 20:31:38\n",
      "Asignación tipo 4: El médico asignado es:  1014266018  Se asignó porque estaba disponible, cumplia con la franja y tiempo de servicio el de menor prioridad en el minuto:  1205 Al servicio:  324601\n",
      "Inicio 2023-05-27 20:37:27 Fin 2023-05-27 20:54:27\n",
      "Asignación tipo 4: El médico asignado es:  1095825225  Se asignó porque estaba disponible, cumplia con la franja y tiempo de servicio el de menor prioridad en el minuto:  1209 Al servicio:  324603\n",
      "Inicio 2023-05-27 20:22:13 Fin 2023-05-27 20:47:13\n",
      "Asignación tipo 4: El médico asignado es:  1083026203  Se asignó porque estaba disponible, cumplia con la franja y tiempo de servicio el de menor prioridad en el minuto:  1210 Al servicio:  324604\n",
      "Inicio 2023-05-27 20:39:20 Fin 2023-05-27 20:39:20\n",
      "Asignación tipo 4: El médico asignado es:  1018440480  Se asignó porque estaba disponible, cumplia con la franja y tiempo de servicio el de menor prioridad en el minuto:  1219 Al servicio:  324605\n",
      "Inicio 2023-05-27 20:26:45 Fin 2023-05-27 20:41:45\n",
      "Asignación tipo 4: El médico asignado es:  1083012532  Se asignó porque estaba disponible, cumplia con la franja y tiempo de servicio el de menor prioridad en el minuto:  1219 Al servicio:  324606\n",
      "Inicio 2023-05-27 20:22:00 Fin 2023-05-27 20:25:00\n",
      "Asignación tipo 4: El médico asignado es:  1014217039  Se asignó porque estaba disponible, cumplia con la franja y tiempo de servicio el de menor prioridad en el minuto:  1222 Al servicio:  324607\n",
      "Inicio 2023-05-27 20:31:51 Fin 2023-05-27 20:49:51\n",
      "Asignación tipo 4: El médico asignado es:  1019074166  Se asignó porque estaba disponible, cumplia con la franja y tiempo de servicio el de menor prioridad en el minuto:  1231 Al servicio:  324609\n",
      "Inicio 2023-05-27 20:46:37 Fin 2023-05-27 21:00:37\n",
      "Asignación tipo 4: El médico asignado es:  1085310672  Se asignó porque estaba disponible, cumplia con la franja y tiempo de servicio el de menor prioridad en el minuto:  1235 Al servicio:  324610\n",
      "Inicio 2023-05-27 20:57:22 Fin 2023-05-27 21:23:22\n",
      "Asignación tipo 4: El médico asignado es:  1053327980  Se asignó porque estaba disponible, cumplia con la franja y tiempo de servicio el de menor prioridad en el minuto:  1239 Al servicio:  324611\n",
      "Inicio 2023-05-27 20:48:56 Fin 2023-05-27 21:03:56\n",
      "Asignación tipo 4: El médico asignado es:  80075437  Se asignó porque estaba disponible, cumplia con la franja y tiempo de servicio el de menor prioridad en el minuto:  1244 Al servicio:  324612\n",
      "Inicio 2023-05-27 20:48:44 Fin 2023-05-27 21:13:44\n",
      "Asignación tipo 4: El médico asignado es:  1018440480  Se asignó porque estaba disponible, cumplia con la franja y tiempo de servicio el de menor prioridad en el minuto:  1247 Al servicio:  324613\n",
      "Inicio 2023-05-27 21:20:43 Fin 2023-05-27 21:41:43\n",
      "Asignación tipo 4: El médico asignado es:  85488148  Se asignó porque estaba disponible, cumplia con la franja y tiempo de servicio el de menor prioridad en el minuto:  1262 Al servicio:  324614\n",
      "Inicio 2023-05-27 21:14:51 Fin 2023-05-27 21:14:51\n",
      "Asignación tipo 4: El médico asignado es:  1140888504  Se asignó porque estaba disponible, cumplia con la franja y tiempo de servicio el de menor prioridad en el minuto:  1266 Al servicio:  324615\n",
      "Inicio 2023-05-27 21:25:00 Fin 2023-05-27 21:27:00\n",
      "Asignación tipo 4: El médico asignado es:  1014217039  Se asignó porque estaba disponible, cumplia con la franja y tiempo de servicio el de menor prioridad en el minuto:  1285 Al servicio:  324616\n",
      "Inicio 2023-05-27 22:17:25 Fin 2023-05-27 22:30:25\n",
      "Asignación tipo 4: El médico asignado es:  1014266018  Se asignó porque estaba disponible, cumplia con la franja y tiempo de servicio el de menor prioridad en el minuto:  1314 Al servicio:  324619\n",
      "Inicio 2023-05-27 22:53:22 Fin 2023-05-27 22:55:22\n",
      "Asignación tipo 4: El médico asignado es:  1083026203  Se asignó porque estaba disponible, cumplia con la franja y tiempo de servicio el de menor prioridad en el minuto:  1335 Al servicio:  324620\n"
     ]
    }
   ],
   "source": [
    "gantt = asignacion_doctor1()"
   ]
  },
  {
   "cell_type": "code",
   "execution_count": 9,
   "metadata": {},
   "outputs": [
    {
     "name": "stdout",
     "output_type": "stream",
     "text": [
      "El doctor 1018472151 atendio 10 pacientes\n",
      "El doctor 1015437933 atendio 8 pacientes\n",
      "El doctor 80073352 atendio 10 pacientes\n",
      "El doctor 52997773 atendio 10 pacientes\n",
      "El doctor 79955886 atendio 11 pacientes\n",
      "El doctor 1015414697 atendio 7 pacientes\n",
      "El doctor 1019088914 atendio 11 pacientes\n",
      "El doctor 1020777651 atendio 7 pacientes\n",
      "El doctor 1018446151 atendio 7 pacientes\n",
      "El doctor 80185764 atendio 8 pacientes\n",
      "El doctor 39779707 atendio 9 pacientes\n",
      "El doctor 1127250183 atendio 1 pacientes\n",
      "El doctor 52200795 atendio 9 pacientes\n",
      "El doctor 1024468225 atendio 8 pacientes\n",
      "El doctor 1121853934 atendio 7 pacientes\n",
      "El doctor 1016039086 atendio 7 pacientes\n",
      "El doctor 80383487 atendio 7 pacientes\n",
      "El doctor 1020803066 atendio 8 pacientes\n",
      "El doctor 57293715 atendio 8 pacientes\n",
      "El doctor 1020808271 atendio 8 pacientes\n",
      "El doctor 80727764 atendio 8 pacientes\n",
      "El doctor 1098635342 atendio 8 pacientes\n",
      "El doctor 1082996581 atendio 9 pacientes\n",
      "El doctor 1117504115 atendio 9 pacientes\n",
      "El doctor 1085310672 atendio 9 pacientes\n",
      "El doctor 1095825225 atendio 8 pacientes\n",
      "El doctor 1014217039 atendio 10 pacientes\n",
      "El doctor 1014266018 atendio 9 pacientes\n",
      "El doctor 1098697055 atendio 8 pacientes\n",
      "El doctor 85488148 atendio 7 pacientes\n",
      "El doctor 80075437 atendio 7 pacientes\n",
      "El doctor 1053327980 atendio 6 pacientes\n",
      "El doctor 1083026203 atendio 7 pacientes\n",
      "El doctor 1083012532 atendio 6 pacientes\n",
      "El doctor 1018440480 atendio 7 pacientes\n",
      "El doctor 1019074166 atendio 7 pacientes\n",
      "El doctor 1140888504 atendio 8 pacientes\n",
      "El promedio de pacientes atendidos por cada doctor es: 7.945945945945946\n",
      "El total de pacientes atendidos es: 306\n"
     ]
    }
   ],
   "source": [
    "# Contar cuantos pacientes atendio cada doctor exclueyndo los que inician su jornada a las 0\n",
    "for i in doctores:\n",
    "    if doctores[i][5] != 0:\n",
    "        print(\"El doctor\", i, \"atendio\", doctores[i][4], \"pacientes\")\n",
    "\n",
    "# calcular el promedio de pacientes atendidos por cada doctor\n",
    "promedio = 0\n",
    "d = 0\n",
    "for i in doctores:\n",
    "    if doctores[i][5] != 0:\n",
    "        promedio += doctores[i][4]\n",
    "        d += 1\n",
    "\n",
    "promedio = promedio / d\n",
    "print(\"El promedio de pacientes atendidos por cada doctor es:\", promedio)\n",
    "# sumar el total de pacientes atendidos\n",
    "total = 0\n",
    "for i in doctores:\n",
    "    total += doctores[i][4]\n",
    "\n",
    "print(\"El total de pacientes atendidos es:\", total)\n"
   ]
  },
  {
   "attachments": {},
   "cell_type": "markdown",
   "metadata": {},
   "source": [
    "### Gantt general"
   ]
  },
  {
   "cell_type": "code",
   "execution_count": 10,
   "metadata": {},
   "outputs": [
    {
     "data": {
      "application/vnd.plotly.v1+json": {
       "config": {
        "plotlyServerURL": "https://plot.ly"
       },
       "data": [
        {
         "alignmentgroup": "True",
         "base": [
          "2023-05-27 00:06:07",
          "2023-05-27 01:20:01",
          "2023-05-27 03:22:55",
          "2023-05-27 04:34:59",
          "2023-05-27 05:52:58"
         ],
         "hovertemplate": "<b>%{hovertext}</b><br><br>Médico=%{y}<br>Inicio=%{base}<br>Fin=%{x}<extra></extra>",
         "hovertext": [
          "324231",
          "324233",
          "324240",
          "324248",
          "324255"
         ],
         "legendgroup": "1032491705",
         "marker": {
          "color": "#636efa",
          "pattern": {
           "shape": ""
          }
         },
         "name": "1032491705",
         "offsetgroup": "1032491705",
         "orientation": "h",
         "showlegend": true,
         "textposition": "auto",
         "type": "bar",
         "x": [
          840000,
          2160000,
          2640000,
          1380000,
          1800000
         ],
         "xaxis": "x",
         "y": [
          "1032491705",
          "1032491705",
          "1032491705",
          "1032491705",
          "1032491705"
         ],
         "yaxis": "y"
        },
        {
         "alignmentgroup": "True",
         "base": [
          "2023-05-27 01:04:09",
          "2023-05-27 02:12:02",
          "2023-05-27 03:15:57",
          "2023-05-27 04:06:32",
          "2023-05-27 04:49:07",
          "2023-05-27 05:55:50",
          "2023-05-27 06:11:40"
         ],
         "hovertemplate": "<b>%{hovertext}</b><br><br>Médico=%{y}<br>Inicio=%{base}<br>Fin=%{x}<extra></extra>",
         "hovertext": [
          "324232",
          "324236",
          "324243",
          "324244",
          "324246",
          "324257",
          "324259"
         ],
         "legendgroup": "1015405667",
         "marker": {
          "color": "#EF553B",
          "pattern": {
           "shape": ""
          }
         },
         "name": "1015405667",
         "offsetgroup": "1015405667",
         "orientation": "h",
         "showlegend": true,
         "textposition": "auto",
         "type": "bar",
         "x": [
          1140000,
          1800000,
          2040000,
          1860000,
          2340000,
          540000,
          840000
         ],
         "xaxis": "x",
         "y": [
          "1015405667",
          "1015405667",
          "1015405667",
          "1015405667",
          "1015405667",
          "1015405667",
          "1015405667"
         ],
         "yaxis": "y"
        },
        {
         "alignmentgroup": "True",
         "base": [
          "2023-05-27 05:22:16",
          "2023-05-27 05:55:19",
          "2023-05-27 06:57:14",
          "2023-05-27 07:21:36",
          "2023-05-27 07:44:09",
          "2023-05-27 08:45:10",
          "2023-05-27 08:52:37",
          "2023-05-27 09:40:56",
          "2023-05-27 09:54:50",
          "2023-05-27 11:29:34"
         ],
         "hovertemplate": "<b>%{hovertext}</b><br><br>Médico=%{y}<br>Inicio=%{base}<br>Fin=%{x}<extra></extra>",
         "hovertext": [
          "324260",
          "324269",
          "324285",
          "324292",
          "324294",
          "324333",
          "324344",
          "324359",
          "324368",
          "324400"
         ],
         "legendgroup": "1018472151",
         "marker": {
          "color": "#00cc96",
          "pattern": {
           "shape": ""
          }
         },
         "name": "1018472151",
         "offsetgroup": "1018472151",
         "orientation": "h",
         "showlegend": true,
         "textposition": "auto",
         "type": "bar",
         "x": [
          900000,
          1920000,
          1140000,
          1200000,
          2100000,
          0,
          180000,
          0,
          1560000,
          1380000
         ],
         "xaxis": "x",
         "y": [
          "1018472151",
          "1018472151",
          "1018472151",
          "1018472151",
          "1018472151",
          "1018472151",
          "1018472151",
          "1018472151",
          "1018472151",
          "1018472151"
         ],
         "yaxis": "y"
        },
        {
         "alignmentgroup": "True",
         "base": [
          "2023-05-27 05:31:26",
          "2023-05-27 06:05:31",
          "2023-05-27 06:31:10",
          "2023-05-27 07:24:49",
          "2023-05-27 08:20:57",
          "2023-05-27 08:37:59",
          "2023-05-27 10:02:02",
          "2023-05-27 10:54:16"
         ],
         "hovertemplate": "<b>%{hovertext}</b><br><br>Médico=%{y}<br>Inicio=%{base}<br>Fin=%{x}<extra></extra>",
         "hovertext": [
          "324261",
          "324270",
          "324283",
          "324293",
          "324312",
          "324337",
          "324365",
          "324394"
         ],
         "legendgroup": "1015437933",
         "marker": {
          "color": "#ab63fa",
          "pattern": {
           "shape": ""
          }
         },
         "name": "1015437933",
         "offsetgroup": "1015437933",
         "orientation": "h",
         "showlegend": true,
         "textposition": "auto",
         "type": "bar",
         "x": [
          900000,
          1020000,
          1620000,
          1140000,
          180000,
          1800000,
          1320000,
          2640000
         ],
         "xaxis": "x",
         "y": [
          "1015437933",
          "1015437933",
          "1015437933",
          "1015437933",
          "1015437933",
          "1015437933",
          "1015437933",
          "1015437933"
         ],
         "yaxis": "y"
        },
        {
         "alignmentgroup": "True",
         "base": [
          "2023-05-27 05:33:33",
          "2023-05-27 06:14:22",
          "2023-05-27 06:47:20",
          "2023-05-27 07:29:21",
          "2023-05-27 08:20:03",
          "2023-05-27 09:19:58",
          "2023-05-27 10:21:38",
          "2023-05-27 10:36:30",
          "2023-05-27 10:58:21",
          "2023-05-27 13:22:58"
         ],
         "hovertemplate": "<b>%{hovertext}</b><br><br>Médico=%{y}<br>Inicio=%{base}<br>Fin=%{x}<extra></extra>",
         "hovertext": [
          "324265",
          "324272",
          "324273",
          "324291",
          "324313",
          "324352",
          "324374",
          "324390",
          "324402",
          "324442"
         ],
         "legendgroup": "80073352",
         "marker": {
          "color": "#FFA15A",
          "pattern": {
           "shape": ""
          }
         },
         "name": "80073352",
         "offsetgroup": "80073352",
         "orientation": "h",
         "showlegend": true,
         "textposition": "auto",
         "type": "bar",
         "x": [
          1200000,
          960000,
          1800000,
          960000,
          540000,
          1260000,
          0,
          1200000,
          540000,
          1260000
         ],
         "xaxis": "x",
         "y": [
          "80073352",
          "80073352",
          "80073352",
          "80073352",
          "80073352",
          "80073352",
          "80073352",
          "80073352",
          "80073352",
          "80073352"
         ],
         "yaxis": "y"
        },
        {
         "alignmentgroup": "True",
         "base": [
          "2023-05-27 05:49:50",
          "2023-05-27 06:17:10",
          "2023-05-27 07:06:04",
          "2023-05-27 07:20:44",
          "2023-05-27 07:34:51",
          "2023-05-27 08:03:13",
          "2023-05-27 08:37:46",
          "2023-05-27 09:13:56",
          "2023-05-27 10:01:55",
          "2023-05-27 11:12:43"
         ],
         "hovertemplate": "<b>%{hovertext}</b><br><br>Médico=%{y}<br>Inicio=%{base}<br>Fin=%{x}<extra></extra>",
         "hovertext": [
          "324268",
          "324271",
          "324279",
          "324288",
          "324290",
          "324319",
          "324331",
          "324347",
          "324362",
          "324398"
         ],
         "legendgroup": "52997773",
         "marker": {
          "color": "#19d3f3",
          "pattern": {
           "shape": ""
          }
         },
         "name": "52997773",
         "offsetgroup": "52997773",
         "orientation": "h",
         "showlegend": true,
         "textposition": "auto",
         "type": "bar",
         "x": [
          720000,
          1920000,
          360000,
          840000,
          960000,
          1020000,
          660000,
          0,
          840000,
          1860000
         ],
         "xaxis": "x",
         "y": [
          "52997773",
          "52997773",
          "52997773",
          "52997773",
          "52997773",
          "52997773",
          "52997773",
          "52997773",
          "52997773",
          "52997773"
         ],
         "yaxis": "y"
        },
        {
         "alignmentgroup": "True",
         "base": [
          "2023-05-27 06:17:14",
          "2023-05-27 06:45:49",
          "2023-05-27 07:03:13",
          "2023-05-27 07:39:27",
          "2023-05-27 07:55:39",
          "2023-05-27 08:24:15",
          "2023-05-27 09:04:50",
          "2023-05-27 09:50:09",
          "2023-05-27 10:33:00",
          "2023-05-27 10:57:09",
          "2023-05-27 14:10:46"
         ],
         "hovertemplate": "<b>%{hovertext}</b><br><br>Médico=%{y}<br>Inicio=%{base}<br>Fin=%{x}<extra></extra>",
         "hovertext": [
          "324274",
          "324277",
          "324278",
          "324303",
          "324310",
          "324332",
          "324345",
          "324369",
          "324389",
          "324395",
          "324450"
         ],
         "legendgroup": "79955886",
         "marker": {
          "color": "#FF6692",
          "pattern": {
           "shape": ""
          }
         },
         "name": "79955886",
         "offsetgroup": "79955886",
         "orientation": "h",
         "showlegend": true,
         "textposition": "auto",
         "type": "bar",
         "x": [
          840000,
          540000,
          1500000,
          0,
          1260000,
          1260000,
          1200000,
          1800000,
          300000,
          2940000,
          900000
         ],
         "xaxis": "x",
         "y": [
          "79955886",
          "79955886",
          "79955886",
          "79955886",
          "79955886",
          "79955886",
          "79955886",
          "79955886",
          "79955886",
          "79955886",
          "79955886"
         ],
         "yaxis": "y"
        },
        {
         "alignmentgroup": "True",
         "base": [
          "2023-05-27 06:35:34",
          "2023-05-27 07:08:39",
          "2023-05-27 07:40:50",
          "2023-05-27 08:16:09",
          "2023-05-27 08:52:20",
          "2023-05-27 10:44:09",
          "2023-05-27 12:55:22"
         ],
         "hovertemplate": "<b>%{hovertext}</b><br><br>Médico=%{y}<br>Inicio=%{base}<br>Fin=%{x}<extra></extra>",
         "hovertext": [
          "324275",
          "324281",
          "324282",
          "324315",
          "324318",
          "324387",
          "324438"
         ],
         "legendgroup": "1015414697",
         "marker": {
          "color": "#B6E880",
          "pattern": {
           "shape": ""
          }
         },
         "name": "1015414697",
         "offsetgroup": "1015414697",
         "orientation": "h",
         "showlegend": true,
         "textposition": "auto",
         "type": "bar",
         "x": [
          1380000,
          1920000,
          1560000,
          840000,
          3540000,
          1800000,
          1920000
         ],
         "xaxis": "x",
         "y": [
          "1015414697",
          "1015414697",
          "1015414697",
          "1015414697",
          "1015414697",
          "1015414697",
          "1015414697"
         ],
         "yaxis": "y"
        },
        {
         "alignmentgroup": "True",
         "base": [
          "2023-05-27 06:33:43",
          "2023-05-27 06:58:23",
          "2023-05-27 07:26:48",
          "2023-05-27 07:45:04",
          "2023-05-27 08:43:56",
          "2023-05-27 09:00:51",
          "2023-05-27 09:28:08",
          "2023-05-27 10:01:34",
          "2023-05-27 10:53:26",
          "2023-05-27 11:48:39",
          "2023-05-27 13:39:42"
         ],
         "hovertemplate": "<b>%{hovertext}</b><br><br>Médico=%{y}<br>Inicio=%{base}<br>Fin=%{x}<extra></extra>",
         "hovertext": [
          "324276",
          "324280",
          "324286",
          "324307",
          "324317",
          "324350",
          "324361",
          "324376",
          "324392",
          "324421",
          "324448"
         ],
         "legendgroup": "1019088914",
         "marker": {
          "color": "#FF97FF",
          "pattern": {
           "shape": ""
          }
         },
         "name": "1019088914",
         "offsetgroup": "1019088914",
         "orientation": "h",
         "showlegend": true,
         "textposition": "auto",
         "type": "bar",
         "x": [
          780000,
          480000,
          540000,
          2400000,
          900000,
          900000,
          1500000,
          900000,
          720000,
          0,
          0
         ],
         "xaxis": "x",
         "y": [
          "1019088914",
          "1019088914",
          "1019088914",
          "1019088914",
          "1019088914",
          "1019088914",
          "1019088914",
          "1019088914",
          "1019088914",
          "1019088914",
          "1019088914"
         ],
         "yaxis": "y"
        },
        {
         "alignmentgroup": "True",
         "base": [
          "2023-05-27 07:15:12",
          "2023-05-27 08:04:30",
          "2023-05-27 09:28:06",
          "2023-05-27 10:01:47",
          "2023-05-27 10:40:57",
          "2023-05-27 11:19:55",
          "2023-05-27 13:29:45"
         ],
         "hovertemplate": "<b>%{hovertext}</b><br><br>Médico=%{y}<br>Inicio=%{base}<br>Fin=%{x}<extra></extra>",
         "hovertext": [
          "324295",
          "324300",
          "324316",
          "324348",
          "324384",
          "324411",
          "324444"
         ],
         "legendgroup": "1020777651",
         "marker": {
          "color": "#FECB52",
          "pattern": {
           "shape": ""
          }
         },
         "name": "1020777651",
         "offsetgroup": "1020777651",
         "orientation": "h",
         "showlegend": true,
         "textposition": "auto",
         "type": "bar",
         "x": [
          540000,
          1800000,
          1020000,
          1920000,
          1320000,
          1140000,
          1020000
         ],
         "xaxis": "x",
         "y": [
          "1020777651",
          "1020777651",
          "1020777651",
          "1020777651",
          "1020777651",
          "1020777651",
          "1020777651"
         ],
         "yaxis": "y"
        },
        {
         "alignmentgroup": "True",
         "base": [
          "2023-05-27 07:27:40",
          "2023-05-27 08:09:18",
          "2023-05-27 08:51:07",
          "2023-05-27 09:27:50",
          "2023-05-27 10:27:14",
          "2023-05-27 10:47:43",
          "2023-05-27 12:49:20"
         ],
         "hovertemplate": "<b>%{hovertext}</b><br><br>Médico=%{y}<br>Inicio=%{base}<br>Fin=%{x}<extra></extra>",
         "hovertext": [
          "324297",
          "324308",
          "324311",
          "324339",
          "324373",
          "324396",
          "324437"
         ],
         "legendgroup": "1018446151",
         "marker": {
          "color": "#636efa",
          "pattern": {
           "shape": ""
          }
         },
         "name": "1018446151",
         "offsetgroup": "1018446151",
         "orientation": "h",
         "showlegend": true,
         "textposition": "auto",
         "type": "bar",
         "x": [
          780000,
          1380000,
          1080000,
          2280000,
          840000,
          1200000,
          1680000
         ],
         "xaxis": "x",
         "y": [
          "1018446151",
          "1018446151",
          "1018446151",
          "1018446151",
          "1018446151",
          "1018446151",
          "1018446151"
         ],
         "yaxis": "y"
        },
        {
         "alignmentgroup": "True",
         "base": [
          "2023-05-27 07:32:15",
          "2023-05-27 07:57:44",
          "2023-05-27 08:35:24",
          "2023-05-27 09:48:19",
          "2023-05-27 10:29:36",
          "2023-05-27 10:45:47",
          "2023-05-27 12:23:17",
          "2023-05-27 15:16:34"
         ],
         "hovertemplate": "<b>%{hovertext}</b><br><br>Médico=%{y}<br>Inicio=%{base}<br>Fin=%{x}<extra></extra>",
         "hovertext": [
          "324298",
          "324304",
          "324305",
          "324351",
          "324375",
          "324393",
          "324420",
          "324470"
         ],
         "legendgroup": "80185764",
         "marker": {
          "color": "#EF553B",
          "pattern": {
           "shape": ""
          }
         },
         "name": "80185764",
         "offsetgroup": "80185764",
         "orientation": "h",
         "showlegend": true,
         "textposition": "auto",
         "type": "bar",
         "x": [
          1020000,
          900000,
          1860000,
          1800000,
          600000,
          1020000,
          1020000,
          1620000
         ],
         "xaxis": "x",
         "y": [
          "80185764",
          "80185764",
          "80185764",
          "80185764",
          "80185764",
          "80185764",
          "80185764",
          "80185764"
         ],
         "yaxis": "y"
        },
        {
         "alignmentgroup": "True",
         "base": [
          "2023-05-27 08:10:12",
          "2023-05-27 08:28:18",
          "2023-05-27 08:59:23",
          "2023-05-27 09:27:08",
          "2023-05-27 10:04:00",
          "2023-05-27 10:49:30",
          "2023-05-27 11:41:03",
          "2023-05-27 14:09:00",
          "2023-05-27 15:54:49"
         ],
         "hovertemplate": "<b>%{hovertext}</b><br><br>Médico=%{y}<br>Inicio=%{base}<br>Fin=%{x}<extra></extra>",
         "hovertext": [
          "324321",
          "324326",
          "324327",
          "324340",
          "324343",
          "324391",
          "324413",
          "324452",
          "324490"
         ],
         "legendgroup": "39779707",
         "marker": {
          "color": "#00cc96",
          "pattern": {
           "shape": ""
          }
         },
         "name": "39779707",
         "offsetgroup": "39779707",
         "orientation": "h",
         "showlegend": true,
         "textposition": "auto",
         "type": "bar",
         "x": [
          300000,
          840000,
          1080000,
          1800000,
          360000,
          540000,
          960000,
          2400000,
          1200000
         ],
         "xaxis": "x",
         "y": [
          "39779707",
          "39779707",
          "39779707",
          "39779707",
          "39779707",
          "39779707",
          "39779707",
          "39779707",
          "39779707"
         ],
         "yaxis": "y"
        },
        {
         "alignmentgroup": "True",
         "base": [
          "2023-05-27 11:44:08"
         ],
         "hovertemplate": "<b>%{hovertext}</b><br><br>Médico=%{y}<br>Inicio=%{base}<br>Fin=%{x}<extra></extra>",
         "hovertext": [
          "324322"
         ],
         "legendgroup": "1127250183",
         "marker": {
          "color": "#ab63fa",
          "pattern": {
           "shape": ""
          }
         },
         "name": "1127250183",
         "offsetgroup": "1127250183",
         "orientation": "h",
         "showlegend": true,
         "textposition": "auto",
         "type": "bar",
         "x": [
          4320000
         ],
         "xaxis": "x",
         "y": [
          "1127250183"
         ],
         "yaxis": "y"
        },
        {
         "alignmentgroup": "True",
         "base": [
          "2023-05-27 08:12:14",
          "2023-05-27 08:23:51",
          "2023-05-27 09:05:13",
          "2023-05-27 09:37:09",
          "2023-05-27 09:59:44",
          "2023-05-27 10:41:36",
          "2023-05-27 11:30:01",
          "2023-05-27 13:21:06",
          "2023-05-27 15:49:30"
         ],
         "hovertemplate": "<b>%{hovertext}</b><br><br>Médico=%{y}<br>Inicio=%{base}<br>Fin=%{x}<extra></extra>",
         "hovertext": [
          "324323",
          "324325",
          "324329",
          "324341",
          "324346",
          "324388",
          "324410",
          "324440",
          "324482"
         ],
         "legendgroup": "52200795",
         "marker": {
          "color": "#FFA15A",
          "pattern": {
           "shape": ""
          }
         },
         "name": "52200795",
         "offsetgroup": "52200795",
         "orientation": "h",
         "showlegend": true,
         "textposition": "auto",
         "type": "bar",
         "x": [
          0,
          1620000,
          1320000,
          900000,
          780000,
          540000,
          300000,
          900000,
          420000
         ],
         "xaxis": "x",
         "y": [
          "52200795",
          "52200795",
          "52200795",
          "52200795",
          "52200795",
          "52200795",
          "52200795",
          "52200795",
          "52200795"
         ],
         "yaxis": "y"
        },
        {
         "alignmentgroup": "True",
         "base": [
          "2023-05-27 08:13:47",
          "2023-05-27 08:53:06",
          "2023-05-27 09:38:01",
          "2023-05-27 09:58:48",
          "2023-05-27 10:32:01",
          "2023-05-27 10:57:39",
          "2023-05-27 12:36:40",
          "2023-05-27 15:22:11"
         ],
         "hovertemplate": "<b>%{hovertext}</b><br><br>Médico=%{y}<br>Inicio=%{base}<br>Fin=%{x}<extra></extra>",
         "hovertext": [
          "324324",
          "324328",
          "324330",
          "324342",
          "324377",
          "324399",
          "324427",
          "324477"
         ],
         "legendgroup": "1024468225",
         "marker": {
          "color": "#19d3f3",
          "pattern": {
           "shape": ""
          }
         },
         "name": "1024468225",
         "offsetgroup": "1024468225",
         "orientation": "h",
         "showlegend": true,
         "textposition": "auto",
         "type": "bar",
         "x": [
          1920000,
          1260000,
          240000,
          1680000,
          960000,
          1140000,
          1440000,
          60000
         ],
         "xaxis": "x",
         "y": [
          "1024468225",
          "1024468225",
          "1024468225",
          "1024468225",
          "1024468225",
          "1024468225",
          "1024468225",
          "1024468225"
         ],
         "yaxis": "y"
        },
        {
         "alignmentgroup": "True",
         "base": [
          "2023-05-27 09:23:02",
          "2023-05-27 10:13:48",
          "2023-05-27 10:32:13",
          "2023-05-27 11:18:16",
          "2023-05-27 12:24:06",
          "2023-05-27 15:14:24",
          "2023-05-27 16:06:58"
         ],
         "hovertemplate": "<b>%{hovertext}</b><br><br>Médico=%{y}<br>Inicio=%{base}<br>Fin=%{x}<extra></extra>",
         "hovertext": [
          "324353",
          "324363",
          "324367",
          "324407",
          "324419",
          "324469",
          "324496"
         ],
         "legendgroup": "1121853934",
         "marker": {
          "color": "#FF6692",
          "pattern": {
           "shape": ""
          }
         },
         "name": "1121853934",
         "offsetgroup": "1121853934",
         "orientation": "h",
         "showlegend": true,
         "textposition": "auto",
         "type": "bar",
         "x": [
          2580000,
          720000,
          1680000,
          900000,
          780000,
          720000,
          1920000
         ],
         "xaxis": "x",
         "y": [
          "1121853934",
          "1121853934",
          "1121853934",
          "1121853934",
          "1121853934",
          "1121853934",
          "1121853934"
         ],
         "yaxis": "y"
        },
        {
         "alignmentgroup": "True",
         "base": [
          "2023-05-27 09:43:47",
          "2023-05-27 10:14:04",
          "2023-05-27 10:38:13",
          "2023-05-27 11:41:05",
          "2023-05-27 12:22:31",
          "2023-05-27 14:43:01",
          "2023-05-27 15:47:59"
         ],
         "hovertemplate": "<b>%{hovertext}</b><br><br>Médico=%{y}<br>Inicio=%{base}<br>Fin=%{x}<extra></extra>",
         "hovertext": [
          "324355",
          "324364",
          "324370",
          "324408",
          "324431",
          "324463",
          "324492"
         ],
         "legendgroup": "1016039086",
         "marker": {
          "color": "#B6E880",
          "pattern": {
           "shape": ""
          }
         },
         "name": "1016039086",
         "offsetgroup": "1016039086",
         "orientation": "h",
         "showlegend": true,
         "textposition": "auto",
         "type": "bar",
         "x": [
          780000,
          1080000,
          1260000,
          2040000,
          2280000,
          840000,
          840000
         ],
         "xaxis": "x",
         "y": [
          "1016039086",
          "1016039086",
          "1016039086",
          "1016039086",
          "1016039086",
          "1016039086",
          "1016039086"
         ],
         "yaxis": "y"
        },
        {
         "alignmentgroup": "True",
         "base": [
          "2023-05-27 09:40:54",
          "2023-05-27 09:59:49",
          "2023-05-27 10:33:02",
          "2023-05-27 11:07:22",
          "2023-05-27 11:44:54",
          "2023-05-27 14:02:01",
          "2023-05-27 15:50:23"
         ],
         "hovertemplate": "<b>%{hovertext}</b><br><br>Médico=%{y}<br>Inicio=%{base}<br>Fin=%{x}<extra></extra>",
         "hovertext": [
          "324358",
          "324366",
          "324371",
          "324401",
          "324417",
          "324453",
          "324488"
         ],
         "legendgroup": "80383487",
         "marker": {
          "color": "#FF97FF",
          "pattern": {
           "shape": ""
          }
         },
         "name": "80383487",
         "offsetgroup": "80383487",
         "orientation": "h",
         "showlegend": true,
         "textposition": "auto",
         "type": "bar",
         "x": [
          420000,
          660000,
          1140000,
          1140000,
          960000,
          1140000,
          420000
         ],
         "xaxis": "x",
         "y": [
          "80383487",
          "80383487",
          "80383487",
          "80383487",
          "80383487",
          "80383487",
          "80383487"
         ],
         "yaxis": "y"
        },
        {
         "alignmentgroup": "True",
         "base": [
          "2023-05-27 10:11:28",
          "2023-05-27 10:49:00",
          "2023-05-27 10:57:13",
          "2023-05-27 11:52:21",
          "2023-05-27 12:32:42",
          "2023-05-27 14:40:20",
          "2023-05-27 16:21:16",
          "2023-05-27 18:34:43"
         ],
         "hovertemplate": "<b>%{hovertext}</b><br><br>Médico=%{y}<br>Inicio=%{base}<br>Fin=%{x}<extra></extra>",
         "hovertext": [
          "324378",
          "324381",
          "324382",
          "324418",
          "324430",
          "324462",
          "324489",
          "324550"
         ],
         "legendgroup": "1020803066",
         "marker": {
          "color": "#FECB52",
          "pattern": {
           "shape": ""
          }
         },
         "name": "1020803066",
         "offsetgroup": "1020803066",
         "orientation": "h",
         "showlegend": true,
         "textposition": "auto",
         "type": "bar",
         "x": [
          1620000,
          0,
          1860000,
          1140000,
          1140000,
          0,
          180000,
          480000
         ],
         "xaxis": "x",
         "y": [
          "1020803066",
          "1020803066",
          "1020803066",
          "1020803066",
          "1020803066",
          "1020803066",
          "1020803066",
          "1020803066"
         ],
         "yaxis": "y"
        },
        {
         "alignmentgroup": "True",
         "base": [
          "2023-05-27 10:07:45",
          "2023-05-27 10:52:19",
          "2023-05-27 11:31:06",
          "2023-05-27 12:26:38",
          "2023-05-27 13:05:00",
          "2023-05-27 15:14:00",
          "2023-05-27 16:02:46",
          "2023-05-27 17:29:03"
         ],
         "hovertemplate": "<b>%{hovertext}</b><br><br>Médico=%{y}<br>Inicio=%{base}<br>Fin=%{x}<extra></extra>",
         "hovertext": [
          "324379",
          "324380",
          "324383",
          "324422",
          "324436",
          "324476",
          "324501",
          "324537"
         ],
         "legendgroup": "57293715",
         "marker": {
          "color": "#636efa",
          "pattern": {
           "shape": ""
          }
         },
         "name": "57293715",
         "offsetgroup": "57293715",
         "orientation": "h",
         "showlegend": true,
         "textposition": "auto",
         "type": "bar",
         "x": [
          1620000,
          900000,
          900000,
          420000,
          180000,
          840000,
          300000,
          2160000
         ],
         "xaxis": "x",
         "y": [
          "57293715",
          "57293715",
          "57293715",
          "57293715",
          "57293715",
          "57293715",
          "57293715",
          "57293715"
         ],
         "yaxis": "y"
        },
        {
         "alignmentgroup": "True",
         "base": [
          "2023-05-27 11:18:22",
          "2023-05-27 11:45:32",
          "2023-05-27 12:16:31",
          "2023-05-27 12:38:08",
          "2023-05-27 13:34:09",
          "2023-05-27 15:35:57",
          "2023-05-27 17:28:10",
          "2023-05-27 18:28:38"
         ],
         "hovertemplate": "<b>%{hovertext}</b><br><br>Médico=%{y}<br>Inicio=%{base}<br>Fin=%{x}<extra></extra>",
         "hovertext": [
          "324404",
          "324415",
          "324426",
          "324434",
          "324445",
          "324484",
          "324535",
          "324555"
         ],
         "legendgroup": "1020808271",
         "marker": {
          "color": "#EF553B",
          "pattern": {
           "shape": ""
          }
         },
         "name": "1020808271",
         "offsetgroup": "1020808271",
         "orientation": "h",
         "showlegend": true,
         "textposition": "auto",
         "type": "bar",
         "x": [
          360000,
          240000,
          300000,
          2400000,
          1020000,
          960000,
          120000,
          600000
         ],
         "xaxis": "x",
         "y": [
          "1020808271",
          "1020808271",
          "1020808271",
          "1020808271",
          "1020808271",
          "1020808271",
          "1020808271",
          "1020808271"
         ],
         "yaxis": "y"
        },
        {
         "alignmentgroup": "True",
         "base": [
          "2023-05-27 11:07:22",
          "2023-05-27 11:42:00",
          "2023-05-27 12:04:11",
          "2023-05-27 13:01:28",
          "2023-05-27 13:52:31",
          "2023-05-27 15:49:53",
          "2023-05-27 17:23:03",
          "2023-05-27 18:25:53"
         ],
         "hovertemplate": "<b>%{hovertext}</b><br><br>Médico=%{y}<br>Inicio=%{base}<br>Fin=%{x}<extra></extra>",
         "hovertext": [
          "324405",
          "324416",
          "324424",
          "324435",
          "324449",
          "324486",
          "324534",
          "324553"
         ],
         "legendgroup": "80727764",
         "marker": {
          "color": "#00cc96",
          "pattern": {
           "shape": ""
          }
         },
         "name": "80727764",
         "offsetgroup": "80727764",
         "orientation": "h",
         "showlegend": true,
         "textposition": "auto",
         "type": "bar",
         "x": [
          1380000,
          660000,
          1260000,
          1680000,
          1080000,
          480000,
          60000,
          2700000
         ],
         "xaxis": "x",
         "y": [
          "80727764",
          "80727764",
          "80727764",
          "80727764",
          "80727764",
          "80727764",
          "80727764",
          "80727764"
         ],
         "yaxis": "y"
        },
        {
         "alignmentgroup": "True",
         "base": [
          "2023-05-27 11:21:29",
          "2023-05-27 11:36:59",
          "2023-05-27 11:59:03",
          "2023-05-27 12:38:56",
          "2023-05-27 13:37:55",
          "2023-05-27 15:28:35",
          "2023-05-27 17:15:57",
          "2023-05-27 18:58:15"
         ],
         "hovertemplate": "<b>%{hovertext}</b><br><br>Médico=%{y}<br>Inicio=%{base}<br>Fin=%{x}<extra></extra>",
         "hovertext": [
          "324406",
          "324414",
          "324423",
          "324432",
          "324447",
          "324481",
          "324533",
          "324561"
         ],
         "legendgroup": "1098635342",
         "marker": {
          "color": "#ab63fa",
          "pattern": {
           "shape": ""
          }
         },
         "name": "1098635342",
         "offsetgroup": "1098635342",
         "orientation": "h",
         "showlegend": true,
         "textposition": "auto",
         "type": "bar",
         "x": [
          240000,
          780000,
          1080000,
          2640000,
          600000,
          0,
          1200000,
          180000
         ],
         "xaxis": "x",
         "y": [
          "1098635342",
          "1098635342",
          "1098635342",
          "1098635342",
          "1098635342",
          "1098635342",
          "1098635342",
          "1098635342"
         ],
         "yaxis": "y"
        },
        {
         "alignmentgroup": "True",
         "base": [
          "2023-05-27 12:39:31",
          "2023-05-27 13:07:54",
          "2023-05-27 14:03:33",
          "2023-05-27 14:37:23",
          "2023-05-27 15:21:42",
          "2023-05-27 16:03:42",
          "2023-05-27 17:41:34",
          "2023-05-27 18:36:38",
          "2023-05-27 20:06:53"
         ],
         "hovertemplate": "<b>%{hovertext}</b><br><br>Médico=%{y}<br>Inicio=%{base}<br>Fin=%{x}<extra></extra>",
         "hovertext": [
          "324428",
          "324441",
          "324443",
          "324461",
          "324471",
          "324499",
          "324539",
          "324563",
          "324588"
         ],
         "legendgroup": "1082996581",
         "marker": {
          "color": "#FFA15A",
          "pattern": {
           "shape": ""
          }
         },
         "name": "1082996581",
         "offsetgroup": "1082996581",
         "orientation": "h",
         "showlegend": true,
         "textposition": "auto",
         "type": "bar",
         "x": [
          840000,
          360000,
          1440000,
          780000,
          780000,
          1020000,
          960000,
          840000,
          1140000
         ],
         "xaxis": "x",
         "y": [
          "1082996581",
          "1082996581",
          "1082996581",
          "1082996581",
          "1082996581",
          "1082996581",
          "1082996581",
          "1082996581",
          "1082996581"
         ],
         "yaxis": "y"
        },
        {
         "alignmentgroup": "True",
         "base": [
          "2023-05-27 12:24:39",
          "2023-05-27 13:06:45",
          "2023-05-27 13:40:34",
          "2023-05-27 15:00:03",
          "2023-05-27 16:16:42",
          "2023-05-27 17:24:33",
          "2023-05-27 18:10:35",
          "2023-05-27 19:10:27",
          "2023-05-27 19:45:37"
         ],
         "hovertemplate": "<b>%{hovertext}</b><br><br>Médico=%{y}<br>Inicio=%{base}<br>Fin=%{x}<extra></extra>",
         "hovertext": [
          "324429",
          "324439",
          "324446",
          "324460",
          "324485",
          "324541",
          "324558",
          "324579",
          "324591"
         ],
         "legendgroup": "1117504115",
         "marker": {
          "color": "#19d3f3",
          "pattern": {
           "shape": ""
          }
         },
         "name": "1117504115",
         "offsetgroup": "1117504115",
         "orientation": "h",
         "showlegend": true,
         "textposition": "auto",
         "type": "bar",
         "x": [
          1080000,
          900000,
          960000,
          1560000,
          1440000,
          480000,
          840000,
          900000,
          900000
         ],
         "xaxis": "x",
         "y": [
          "1117504115",
          "1117504115",
          "1117504115",
          "1117504115",
          "1117504115",
          "1117504115",
          "1117504115",
          "1117504115",
          "1117504115"
         ],
         "yaxis": "y"
        },
        {
         "alignmentgroup": "True",
         "base": [
          "2023-05-27 14:18:56",
          "2023-05-27 15:24:24",
          "2023-05-27 16:38:52",
          "2023-05-27 16:50:38",
          "2023-05-27 17:59:49",
          "2023-05-27 18:56:29",
          "2023-05-27 19:27:42",
          "2023-05-27 19:53:56",
          "2023-05-27 20:46:37"
         ],
         "hovertemplate": "<b>%{hovertext}</b><br><br>Médico=%{y}<br>Inicio=%{base}<br>Fin=%{x}<extra></extra>",
         "hovertext": [
          "324454",
          "324468",
          "324510",
          "324523",
          "324540",
          "324574",
          "324585",
          "324597",
          "324610"
         ],
         "legendgroup": "1085310672",
         "marker": {
          "color": "#FF6692",
          "pattern": {
           "shape": ""
          }
         },
         "name": "1085310672",
         "offsetgroup": "1085310672",
         "orientation": "h",
         "showlegend": true,
         "textposition": "auto",
         "type": "bar",
         "x": [
          1200000,
          2700000,
          240000,
          1860000,
          1080000,
          840000,
          120000,
          1380000,
          840000
         ],
         "xaxis": "x",
         "y": [
          "1085310672",
          "1085310672",
          "1085310672",
          "1085310672",
          "1085310672",
          "1085310672",
          "1085310672",
          "1085310672",
          "1085310672"
         ],
         "yaxis": "y"
        },
        {
         "alignmentgroup": "True",
         "base": [
          "2023-05-27 14:19:26",
          "2023-05-27 14:52:27",
          "2023-05-27 15:40:17",
          "2023-05-27 16:23:20",
          "2023-05-27 17:08:22",
          "2023-05-27 18:11:24",
          "2023-05-27 19:23:36",
          "2023-05-27 20:37:27"
         ],
         "hovertemplate": "<b>%{hovertext}</b><br><br>Médico=%{y}<br>Inicio=%{base}<br>Fin=%{x}<extra></extra>",
         "hovertext": [
          "324456",
          "324465",
          "324478",
          "324494",
          "324526",
          "324556",
          "324580",
          "324603"
         ],
         "legendgroup": "1095825225",
         "marker": {
          "color": "#B6E880",
          "pattern": {
           "shape": ""
          }
         },
         "name": "1095825225",
         "offsetgroup": "1095825225",
         "orientation": "h",
         "showlegend": true,
         "textposition": "auto",
         "type": "bar",
         "x": [
          1080000,
          960000,
          60000,
          1080000,
          900000,
          780000,
          1020000,
          1020000
         ],
         "xaxis": "x",
         "y": [
          "1095825225",
          "1095825225",
          "1095825225",
          "1095825225",
          "1095825225",
          "1095825225",
          "1095825225",
          "1095825225"
         ],
         "yaxis": "y"
        },
        {
         "alignmentgroup": "True",
         "base": [
          "2023-05-27 14:21:44",
          "2023-05-27 14:58:46",
          "2023-05-27 15:47:37",
          "2023-05-27 15:55:22",
          "2023-05-27 16:54:53",
          "2023-05-27 17:36:54",
          "2023-05-27 18:46:25",
          "2023-05-27 19:51:39",
          "2023-05-27 20:22:00",
          "2023-05-27 21:25:00"
         ],
         "hovertemplate": "<b>%{hovertext}</b><br><br>Médico=%{y}<br>Inicio=%{base}<br>Fin=%{x}<extra></extra>",
         "hovertext": [
          "324457",
          "324464",
          "324480",
          "324495",
          "324521",
          "324543",
          "324560",
          "324593",
          "324607",
          "324616"
         ],
         "legendgroup": "1014217039",
         "marker": {
          "color": "#FF97FF",
          "pattern": {
           "shape": ""
          }
         },
         "name": "1014217039",
         "offsetgroup": "1014217039",
         "orientation": "h",
         "showlegend": true,
         "textposition": "auto",
         "type": "bar",
         "x": [
          840000,
          1020000,
          0,
          1620000,
          1380000,
          660000,
          0,
          540000,
          180000,
          120000
         ],
         "xaxis": "x",
         "y": [
          "1014217039",
          "1014217039",
          "1014217039",
          "1014217039",
          "1014217039",
          "1014217039",
          "1014217039",
          "1014217039",
          "1014217039",
          "1014217039"
         ],
         "yaxis": "y"
        },
        {
         "alignmentgroup": "True",
         "base": [
          "2023-05-27 14:32:12",
          "2023-05-27 15:15:43",
          "2023-05-27 15:59:06",
          "2023-05-27 16:41:21",
          "2023-05-27 17:06:49",
          "2023-05-27 17:50:54",
          "2023-05-27 19:09:20",
          "2023-05-27 20:28:38",
          "2023-05-27 22:17:25"
         ],
         "hovertemplate": "<b>%{hovertext}</b><br><br>Médico=%{y}<br>Inicio=%{base}<br>Fin=%{x}<extra></extra>",
         "hovertext": [
          "324458",
          "324466",
          "324487",
          "324519",
          "324529",
          "324549",
          "324565",
          "324601",
          "324619"
         ],
         "legendgroup": "1014266018",
         "marker": {
          "color": "#FECB52",
          "pattern": {
           "shape": ""
          }
         },
         "name": "1014266018",
         "offsetgroup": "1014266018",
         "orientation": "h",
         "showlegend": true,
         "textposition": "auto",
         "type": "bar",
         "x": [
          600000,
          1200000,
          480000,
          900000,
          720000,
          420000,
          420000,
          180000,
          780000
         ],
         "xaxis": "x",
         "y": [
          "1014266018",
          "1014266018",
          "1014266018",
          "1014266018",
          "1014266018",
          "1014266018",
          "1014266018",
          "1014266018",
          "1014266018"
         ],
         "yaxis": "y"
        },
        {
         "alignmentgroup": "True",
         "base": [
          "2023-05-27 14:35:53",
          "2023-05-27 14:51:50",
          "2023-05-27 15:32:14",
          "2023-05-27 16:12:39",
          "2023-05-27 17:16:31",
          "2023-05-27 18:32:05",
          "2023-05-27 19:29:11",
          "2023-05-27 20:01:44"
         ],
         "hovertemplate": "<b>%{hovertext}</b><br><br>Médico=%{y}<br>Inicio=%{base}<br>Fin=%{x}<extra></extra>",
         "hovertext": [
          "324459",
          "324467",
          "324479",
          "324498",
          "324532",
          "324557",
          "324582",
          "324595"
         ],
         "legendgroup": "1098697055",
         "marker": {
          "color": "#636efa",
          "pattern": {
           "shape": ""
          }
         },
         "name": "1098697055",
         "offsetgroup": "1098697055",
         "orientation": "h",
         "showlegend": true,
         "textposition": "auto",
         "type": "bar",
         "x": [
          540000,
          1140000,
          1200000,
          2100000,
          840000,
          1020000,
          0,
          1500000
         ],
         "xaxis": "x",
         "y": [
          "1098697055",
          "1098697055",
          "1098697055",
          "1098697055",
          "1098697055",
          "1098697055",
          "1098697055",
          "1098697055"
         ],
         "yaxis": "y"
        },
        {
         "alignmentgroup": "True",
         "base": [
          "2023-05-27 15:27:02",
          "2023-05-27 16:06:56",
          "2023-05-27 16:35:10",
          "2023-05-27 17:25:58",
          "2023-05-27 17:52:46",
          "2023-05-27 19:33:22",
          "2023-05-27 21:20:43"
         ],
         "hovertemplate": "<b>%{hovertext}</b><br><br>Médico=%{y}<br>Inicio=%{base}<br>Fin=%{x}<extra></extra>",
         "hovertext": [
          "324472",
          "324493",
          "324515",
          "324524",
          "324548",
          "324584",
          "324614"
         ],
         "legendgroup": "85488148",
         "marker": {
          "color": "#EF553B",
          "pattern": {
           "shape": ""
          }
         },
         "name": "85488148",
         "offsetgroup": "85488148",
         "orientation": "h",
         "showlegend": true,
         "textposition": "auto",
         "type": "bar",
         "x": [
          960000,
          900000,
          600000,
          660000,
          3000000,
          2280000,
          1260000
         ],
         "xaxis": "x",
         "y": [
          "85488148",
          "85488148",
          "85488148",
          "85488148",
          "85488148",
          "85488148",
          "85488148"
         ],
         "yaxis": "y"
        },
        {
         "alignmentgroup": "True",
         "base": [
          "2023-05-27 15:16:04",
          "2023-05-27 15:57:38",
          "2023-05-27 16:35:51",
          "2023-05-27 17:50:41",
          "2023-05-27 18:50:06",
          "2023-05-27 20:11:39",
          "2023-05-27 20:48:56"
         ],
         "hovertemplate": "<b>%{hovertext}</b><br><br>Médico=%{y}<br>Inicio=%{base}<br>Fin=%{x}<extra></extra>",
         "hovertext": [
          "324473",
          "324483",
          "324509",
          "324530",
          "324562",
          "324594",
          "324612"
         ],
         "legendgroup": "80075437",
         "marker": {
          "color": "#00cc96",
          "pattern": {
           "shape": ""
          }
         },
         "name": "80075437",
         "offsetgroup": "80075437",
         "orientation": "h",
         "showlegend": true,
         "textposition": "auto",
         "type": "bar",
         "x": [
          600000,
          60000,
          1200000,
          1320000,
          660000,
          1140000,
          900000
         ],
         "xaxis": "x",
         "y": [
          "80075437",
          "80075437",
          "80075437",
          "80075437",
          "80075437",
          "80075437",
          "80075437"
         ],
         "yaxis": "y"
        },
        {
         "alignmentgroup": "True",
         "base": [
          "2023-05-27 15:39:52",
          "2023-05-27 17:15:06",
          "2023-05-27 17:42:57",
          "2023-05-27 18:23:48",
          "2023-05-27 18:53:46",
          "2023-05-27 20:57:22"
         ],
         "hovertemplate": "<b>%{hovertext}</b><br><br>Médico=%{y}<br>Inicio=%{base}<br>Fin=%{x}<extra></extra>",
         "hovertext": [
          "324475",
          "324517",
          "324542",
          "324551",
          "324569",
          "324611"
         ],
         "legendgroup": "1053327980",
         "marker": {
          "color": "#ab63fa",
          "pattern": {
           "shape": ""
          }
         },
         "name": "1053327980",
         "offsetgroup": "1053327980",
         "orientation": "h",
         "showlegend": true,
         "textposition": "auto",
         "type": "bar",
         "x": [
          2160000,
          540000,
          780000,
          420000,
          4020000,
          1560000
         ],
         "xaxis": "x",
         "y": [
          "1053327980",
          "1053327980",
          "1053327980",
          "1053327980",
          "1053327980",
          "1053327980"
         ],
         "yaxis": "y"
        },
        {
         "alignmentgroup": "True",
         "base": [
          "2023-05-27 16:19:26",
          "2023-05-27 17:22:04",
          "2023-05-27 18:00:31",
          "2023-05-27 18:27:29",
          "2023-05-27 19:19:54",
          "2023-05-27 20:22:13",
          "2023-05-27 22:53:22"
         ],
         "hovertemplate": "<b>%{hovertext}</b><br><br>Médico=%{y}<br>Inicio=%{base}<br>Fin=%{x}<extra></extra>",
         "hovertext": [
          "324502",
          "324522",
          "324546",
          "324564",
          "324577",
          "324604",
          "324620"
         ],
         "legendgroup": "1083026203",
         "marker": {
          "color": "#FFA15A",
          "pattern": {
           "shape": ""
          }
         },
         "name": "1083026203",
         "offsetgroup": "1083026203",
         "orientation": "h",
         "showlegend": true,
         "textposition": "auto",
         "type": "bar",
         "x": [
          1560000,
          840000,
          900000,
          1620000,
          1200000,
          1500000,
          120000
         ],
         "xaxis": "x",
         "y": [
          "1083026203",
          "1083026203",
          "1083026203",
          "1083026203",
          "1083026203",
          "1083026203",
          "1083026203"
         ],
         "yaxis": "y"
        },
        {
         "alignmentgroup": "True",
         "base": [
          "2023-05-27 16:28:55",
          "2023-05-27 17:01:41",
          "2023-05-27 17:43:07",
          "2023-05-27 18:37:13",
          "2023-05-27 19:29:26",
          "2023-05-27 20:26:45"
         ],
         "hovertemplate": "<b>%{hovertext}</b><br><br>Médico=%{y}<br>Inicio=%{base}<br>Fin=%{x}<extra></extra>",
         "hovertext": [
          "324504",
          "324527",
          "324538",
          "324559",
          "324573",
          "324606"
         ],
         "legendgroup": "1083012532",
         "marker": {
          "color": "#19d3f3",
          "pattern": {
           "shape": ""
          }
         },
         "name": "1083012532",
         "offsetgroup": "1083012532",
         "orientation": "h",
         "showlegend": true,
         "textposition": "auto",
         "type": "bar",
         "x": [
          1440000,
          720000,
          1500000,
          180000,
          1800000,
          900000
         ],
         "xaxis": "x",
         "y": [
          "1083012532",
          "1083012532",
          "1083012532",
          "1083012532",
          "1083012532",
          "1083012532"
         ],
         "yaxis": "y"
        },
        {
         "alignmentgroup": "True",
         "base": [
          "2023-05-27 16:10:49",
          "2023-05-27 16:25:11",
          "2023-05-27 17:15:14",
          "2023-05-27 18:18:03",
          "2023-05-27 19:10:12",
          "2023-05-27 20:39:20",
          "2023-05-27 20:48:44"
         ],
         "hovertemplate": "<b>%{hovertext}</b><br><br>Médico=%{y}<br>Inicio=%{base}<br>Fin=%{x}<extra></extra>",
         "hovertext": [
          "324506",
          "324513",
          "324520",
          "324554",
          "324567",
          "324605",
          "324613"
         ],
         "legendgroup": "1018440480",
         "marker": {
          "color": "#FF6692",
          "pattern": {
           "shape": ""
          }
         },
         "name": "1018440480",
         "offsetgroup": "1018440480",
         "orientation": "h",
         "showlegend": true,
         "textposition": "auto",
         "type": "bar",
         "x": [
          240000,
          900000,
          2760000,
          240000,
          1320000,
          0,
          1500000
         ],
         "xaxis": "x",
         "y": [
          "1018440480",
          "1018440480",
          "1018440480",
          "1018440480",
          "1018440480",
          "1018440480",
          "1018440480"
         ],
         "yaxis": "y"
        },
        {
         "alignmentgroup": "True",
         "base": [
          "2023-05-27 16:13:08",
          "2023-05-27 17:05:52",
          "2023-05-27 18:16:26",
          "2023-05-27 18:54:43",
          "2023-05-27 19:05:42",
          "2023-05-27 20:06:38",
          "2023-05-27 20:31:51"
         ],
         "hovertemplate": "<b>%{hovertext}</b><br><br>Médico=%{y}<br>Inicio=%{base}<br>Fin=%{x}<extra></extra>",
         "hovertext": [
          "324507",
          "324518",
          "324545",
          "324571",
          "324578",
          "324599",
          "324609"
         ],
         "legendgroup": "1019074166",
         "marker": {
          "color": "#B6E880",
          "pattern": {
           "shape": ""
          }
         },
         "name": "1019074166",
         "offsetgroup": "1019074166",
         "orientation": "h",
         "showlegend": true,
         "textposition": "auto",
         "type": "bar",
         "x": [
          1080000,
          1680000,
          1020000,
          300000,
          780000,
          360000,
          1080000
         ],
         "xaxis": "x",
         "y": [
          "1019074166",
          "1019074166",
          "1019074166",
          "1019074166",
          "1019074166",
          "1019074166",
          "1019074166"
         ],
         "yaxis": "y"
        },
        {
         "alignmentgroup": "True",
         "base": [
          "2023-05-27 16:20:42",
          "2023-05-27 16:40:11",
          "2023-05-27 17:16:44",
          "2023-05-27 18:01:01",
          "2023-05-27 19:03:28",
          "2023-05-27 19:13:00",
          "2023-05-27 20:21:17",
          "2023-05-27 21:14:51"
         ],
         "hovertemplate": "<b>%{hovertext}</b><br><br>Médico=%{y}<br>Inicio=%{base}<br>Fin=%{x}<extra></extra>",
         "hovertext": [
          "324508",
          "324516",
          "324528",
          "324547",
          "324572",
          "324581",
          "324600",
          "324615"
         ],
         "legendgroup": "1140888504",
         "marker": {
          "color": "#FF97FF",
          "pattern": {
           "shape": ""
          }
         },
         "name": "1140888504",
         "offsetgroup": "1140888504",
         "orientation": "h",
         "showlegend": true,
         "textposition": "auto",
         "type": "bar",
         "x": [
          120000,
          780000,
          900000,
          1560000,
          540000,
          900000,
          780000,
          0
         ],
         "xaxis": "x",
         "y": [
          "1140888504",
          "1140888504",
          "1140888504",
          "1140888504",
          "1140888504",
          "1140888504",
          "1140888504",
          "1140888504"
         ],
         "yaxis": "y"
        }
       ],
       "layout": {
        "autosize": false,
        "barmode": "overlay",
        "height": 500,
        "legend": {
         "title": {
          "text": "Médico"
         },
         "tracegroupgap": 0
        },
        "template": {
         "data": {
          "bar": [
           {
            "error_x": {
             "color": "#2a3f5f"
            },
            "error_y": {
             "color": "#2a3f5f"
            },
            "marker": {
             "line": {
              "color": "#E5ECF6",
              "width": 0.5
             },
             "pattern": {
              "fillmode": "overlay",
              "size": 10,
              "solidity": 0.2
             }
            },
            "type": "bar"
           }
          ],
          "barpolar": [
           {
            "marker": {
             "line": {
              "color": "#E5ECF6",
              "width": 0.5
             },
             "pattern": {
              "fillmode": "overlay",
              "size": 10,
              "solidity": 0.2
             }
            },
            "type": "barpolar"
           }
          ],
          "carpet": [
           {
            "aaxis": {
             "endlinecolor": "#2a3f5f",
             "gridcolor": "white",
             "linecolor": "white",
             "minorgridcolor": "white",
             "startlinecolor": "#2a3f5f"
            },
            "baxis": {
             "endlinecolor": "#2a3f5f",
             "gridcolor": "white",
             "linecolor": "white",
             "minorgridcolor": "white",
             "startlinecolor": "#2a3f5f"
            },
            "type": "carpet"
           }
          ],
          "choropleth": [
           {
            "colorbar": {
             "outlinewidth": 0,
             "ticks": ""
            },
            "type": "choropleth"
           }
          ],
          "contour": [
           {
            "colorbar": {
             "outlinewidth": 0,
             "ticks": ""
            },
            "colorscale": [
             [
              0,
              "#0d0887"
             ],
             [
              0.1111111111111111,
              "#46039f"
             ],
             [
              0.2222222222222222,
              "#7201a8"
             ],
             [
              0.3333333333333333,
              "#9c179e"
             ],
             [
              0.4444444444444444,
              "#bd3786"
             ],
             [
              0.5555555555555556,
              "#d8576b"
             ],
             [
              0.6666666666666666,
              "#ed7953"
             ],
             [
              0.7777777777777778,
              "#fb9f3a"
             ],
             [
              0.8888888888888888,
              "#fdca26"
             ],
             [
              1,
              "#f0f921"
             ]
            ],
            "type": "contour"
           }
          ],
          "contourcarpet": [
           {
            "colorbar": {
             "outlinewidth": 0,
             "ticks": ""
            },
            "type": "contourcarpet"
           }
          ],
          "heatmap": [
           {
            "colorbar": {
             "outlinewidth": 0,
             "ticks": ""
            },
            "colorscale": [
             [
              0,
              "#0d0887"
             ],
             [
              0.1111111111111111,
              "#46039f"
             ],
             [
              0.2222222222222222,
              "#7201a8"
             ],
             [
              0.3333333333333333,
              "#9c179e"
             ],
             [
              0.4444444444444444,
              "#bd3786"
             ],
             [
              0.5555555555555556,
              "#d8576b"
             ],
             [
              0.6666666666666666,
              "#ed7953"
             ],
             [
              0.7777777777777778,
              "#fb9f3a"
             ],
             [
              0.8888888888888888,
              "#fdca26"
             ],
             [
              1,
              "#f0f921"
             ]
            ],
            "type": "heatmap"
           }
          ],
          "heatmapgl": [
           {
            "colorbar": {
             "outlinewidth": 0,
             "ticks": ""
            },
            "colorscale": [
             [
              0,
              "#0d0887"
             ],
             [
              0.1111111111111111,
              "#46039f"
             ],
             [
              0.2222222222222222,
              "#7201a8"
             ],
             [
              0.3333333333333333,
              "#9c179e"
             ],
             [
              0.4444444444444444,
              "#bd3786"
             ],
             [
              0.5555555555555556,
              "#d8576b"
             ],
             [
              0.6666666666666666,
              "#ed7953"
             ],
             [
              0.7777777777777778,
              "#fb9f3a"
             ],
             [
              0.8888888888888888,
              "#fdca26"
             ],
             [
              1,
              "#f0f921"
             ]
            ],
            "type": "heatmapgl"
           }
          ],
          "histogram": [
           {
            "marker": {
             "pattern": {
              "fillmode": "overlay",
              "size": 10,
              "solidity": 0.2
             }
            },
            "type": "histogram"
           }
          ],
          "histogram2d": [
           {
            "colorbar": {
             "outlinewidth": 0,
             "ticks": ""
            },
            "colorscale": [
             [
              0,
              "#0d0887"
             ],
             [
              0.1111111111111111,
              "#46039f"
             ],
             [
              0.2222222222222222,
              "#7201a8"
             ],
             [
              0.3333333333333333,
              "#9c179e"
             ],
             [
              0.4444444444444444,
              "#bd3786"
             ],
             [
              0.5555555555555556,
              "#d8576b"
             ],
             [
              0.6666666666666666,
              "#ed7953"
             ],
             [
              0.7777777777777778,
              "#fb9f3a"
             ],
             [
              0.8888888888888888,
              "#fdca26"
             ],
             [
              1,
              "#f0f921"
             ]
            ],
            "type": "histogram2d"
           }
          ],
          "histogram2dcontour": [
           {
            "colorbar": {
             "outlinewidth": 0,
             "ticks": ""
            },
            "colorscale": [
             [
              0,
              "#0d0887"
             ],
             [
              0.1111111111111111,
              "#46039f"
             ],
             [
              0.2222222222222222,
              "#7201a8"
             ],
             [
              0.3333333333333333,
              "#9c179e"
             ],
             [
              0.4444444444444444,
              "#bd3786"
             ],
             [
              0.5555555555555556,
              "#d8576b"
             ],
             [
              0.6666666666666666,
              "#ed7953"
             ],
             [
              0.7777777777777778,
              "#fb9f3a"
             ],
             [
              0.8888888888888888,
              "#fdca26"
             ],
             [
              1,
              "#f0f921"
             ]
            ],
            "type": "histogram2dcontour"
           }
          ],
          "mesh3d": [
           {
            "colorbar": {
             "outlinewidth": 0,
             "ticks": ""
            },
            "type": "mesh3d"
           }
          ],
          "parcoords": [
           {
            "line": {
             "colorbar": {
              "outlinewidth": 0,
              "ticks": ""
             }
            },
            "type": "parcoords"
           }
          ],
          "pie": [
           {
            "automargin": true,
            "type": "pie"
           }
          ],
          "scatter": [
           {
            "fillpattern": {
             "fillmode": "overlay",
             "size": 10,
             "solidity": 0.2
            },
            "type": "scatter"
           }
          ],
          "scatter3d": [
           {
            "line": {
             "colorbar": {
              "outlinewidth": 0,
              "ticks": ""
             }
            },
            "marker": {
             "colorbar": {
              "outlinewidth": 0,
              "ticks": ""
             }
            },
            "type": "scatter3d"
           }
          ],
          "scattercarpet": [
           {
            "marker": {
             "colorbar": {
              "outlinewidth": 0,
              "ticks": ""
             }
            },
            "type": "scattercarpet"
           }
          ],
          "scattergeo": [
           {
            "marker": {
             "colorbar": {
              "outlinewidth": 0,
              "ticks": ""
             }
            },
            "type": "scattergeo"
           }
          ],
          "scattergl": [
           {
            "marker": {
             "colorbar": {
              "outlinewidth": 0,
              "ticks": ""
             }
            },
            "type": "scattergl"
           }
          ],
          "scattermapbox": [
           {
            "marker": {
             "colorbar": {
              "outlinewidth": 0,
              "ticks": ""
             }
            },
            "type": "scattermapbox"
           }
          ],
          "scatterpolar": [
           {
            "marker": {
             "colorbar": {
              "outlinewidth": 0,
              "ticks": ""
             }
            },
            "type": "scatterpolar"
           }
          ],
          "scatterpolargl": [
           {
            "marker": {
             "colorbar": {
              "outlinewidth": 0,
              "ticks": ""
             }
            },
            "type": "scatterpolargl"
           }
          ],
          "scatterternary": [
           {
            "marker": {
             "colorbar": {
              "outlinewidth": 0,
              "ticks": ""
             }
            },
            "type": "scatterternary"
           }
          ],
          "surface": [
           {
            "colorbar": {
             "outlinewidth": 0,
             "ticks": ""
            },
            "colorscale": [
             [
              0,
              "#0d0887"
             ],
             [
              0.1111111111111111,
              "#46039f"
             ],
             [
              0.2222222222222222,
              "#7201a8"
             ],
             [
              0.3333333333333333,
              "#9c179e"
             ],
             [
              0.4444444444444444,
              "#bd3786"
             ],
             [
              0.5555555555555556,
              "#d8576b"
             ],
             [
              0.6666666666666666,
              "#ed7953"
             ],
             [
              0.7777777777777778,
              "#fb9f3a"
             ],
             [
              0.8888888888888888,
              "#fdca26"
             ],
             [
              1,
              "#f0f921"
             ]
            ],
            "type": "surface"
           }
          ],
          "table": [
           {
            "cells": {
             "fill": {
              "color": "#EBF0F8"
             },
             "line": {
              "color": "white"
             }
            },
            "header": {
             "fill": {
              "color": "#C8D4E3"
             },
             "line": {
              "color": "white"
             }
            },
            "type": "table"
           }
          ]
         },
         "layout": {
          "annotationdefaults": {
           "arrowcolor": "#2a3f5f",
           "arrowhead": 0,
           "arrowwidth": 1
          },
          "autotypenumbers": "strict",
          "coloraxis": {
           "colorbar": {
            "outlinewidth": 0,
            "ticks": ""
           }
          },
          "colorscale": {
           "diverging": [
            [
             0,
             "#8e0152"
            ],
            [
             0.1,
             "#c51b7d"
            ],
            [
             0.2,
             "#de77ae"
            ],
            [
             0.3,
             "#f1b6da"
            ],
            [
             0.4,
             "#fde0ef"
            ],
            [
             0.5,
             "#f7f7f7"
            ],
            [
             0.6,
             "#e6f5d0"
            ],
            [
             0.7,
             "#b8e186"
            ],
            [
             0.8,
             "#7fbc41"
            ],
            [
             0.9,
             "#4d9221"
            ],
            [
             1,
             "#276419"
            ]
           ],
           "sequential": [
            [
             0,
             "#0d0887"
            ],
            [
             0.1111111111111111,
             "#46039f"
            ],
            [
             0.2222222222222222,
             "#7201a8"
            ],
            [
             0.3333333333333333,
             "#9c179e"
            ],
            [
             0.4444444444444444,
             "#bd3786"
            ],
            [
             0.5555555555555556,
             "#d8576b"
            ],
            [
             0.6666666666666666,
             "#ed7953"
            ],
            [
             0.7777777777777778,
             "#fb9f3a"
            ],
            [
             0.8888888888888888,
             "#fdca26"
            ],
            [
             1,
             "#f0f921"
            ]
           ],
           "sequentialminus": [
            [
             0,
             "#0d0887"
            ],
            [
             0.1111111111111111,
             "#46039f"
            ],
            [
             0.2222222222222222,
             "#7201a8"
            ],
            [
             0.3333333333333333,
             "#9c179e"
            ],
            [
             0.4444444444444444,
             "#bd3786"
            ],
            [
             0.5555555555555556,
             "#d8576b"
            ],
            [
             0.6666666666666666,
             "#ed7953"
            ],
            [
             0.7777777777777778,
             "#fb9f3a"
            ],
            [
             0.8888888888888888,
             "#fdca26"
            ],
            [
             1,
             "#f0f921"
            ]
           ]
          },
          "colorway": [
           "#636efa",
           "#EF553B",
           "#00cc96",
           "#ab63fa",
           "#FFA15A",
           "#19d3f3",
           "#FF6692",
           "#B6E880",
           "#FF97FF",
           "#FECB52"
          ],
          "font": {
           "color": "#2a3f5f"
          },
          "geo": {
           "bgcolor": "white",
           "lakecolor": "white",
           "landcolor": "#E5ECF6",
           "showlakes": true,
           "showland": true,
           "subunitcolor": "white"
          },
          "hoverlabel": {
           "align": "left"
          },
          "hovermode": "closest",
          "mapbox": {
           "style": "light"
          },
          "paper_bgcolor": "white",
          "plot_bgcolor": "#E5ECF6",
          "polar": {
           "angularaxis": {
            "gridcolor": "white",
            "linecolor": "white",
            "ticks": ""
           },
           "bgcolor": "#E5ECF6",
           "radialaxis": {
            "gridcolor": "white",
            "linecolor": "white",
            "ticks": ""
           }
          },
          "scene": {
           "xaxis": {
            "backgroundcolor": "#E5ECF6",
            "gridcolor": "white",
            "gridwidth": 2,
            "linecolor": "white",
            "showbackground": true,
            "ticks": "",
            "zerolinecolor": "white"
           },
           "yaxis": {
            "backgroundcolor": "#E5ECF6",
            "gridcolor": "white",
            "gridwidth": 2,
            "linecolor": "white",
            "showbackground": true,
            "ticks": "",
            "zerolinecolor": "white"
           },
           "zaxis": {
            "backgroundcolor": "#E5ECF6",
            "gridcolor": "white",
            "gridwidth": 2,
            "linecolor": "white",
            "showbackground": true,
            "ticks": "",
            "zerolinecolor": "white"
           }
          },
          "shapedefaults": {
           "line": {
            "color": "#2a3f5f"
           }
          },
          "ternary": {
           "aaxis": {
            "gridcolor": "white",
            "linecolor": "white",
            "ticks": ""
           },
           "baxis": {
            "gridcolor": "white",
            "linecolor": "white",
            "ticks": ""
           },
           "bgcolor": "#E5ECF6",
           "caxis": {
            "gridcolor": "white",
            "linecolor": "white",
            "ticks": ""
           }
          },
          "title": {
           "x": 0.05
          },
          "xaxis": {
           "automargin": true,
           "gridcolor": "white",
           "linecolor": "white",
           "ticks": "",
           "title": {
            "standoff": 15
           },
           "zerolinecolor": "white",
           "zerolinewidth": 2
          },
          "yaxis": {
           "automargin": true,
           "gridcolor": "white",
           "linecolor": "white",
           "ticks": "",
           "title": {
            "standoff": 15
           },
           "zerolinecolor": "white",
           "zerolinewidth": 2
          }
         }
        },
        "title": {
         "text": "Solicitudes atendidas por médicos"
        },
        "width": 1000,
        "xaxis": {
         "anchor": "y",
         "domain": [
          0,
          1
         ],
         "rangeslider": {
          "visible": true
         },
         "title": {
          "text": "Tiempo"
         },
         "type": "date"
        },
        "yaxis": {
         "anchor": "x",
         "autorange": "reversed",
         "categoryarray": [
          "1140888504",
          "1019074166",
          "1018440480",
          "1083012532",
          "1083026203",
          "1053327980",
          "80075437",
          "85488148",
          "1098697055",
          "1014266018",
          "1014217039",
          "1095825225",
          "1085310672",
          "1117504115",
          "1082996581",
          "1098635342",
          "80727764",
          "1020808271",
          "57293715",
          "1020803066",
          "80383487",
          "1016039086",
          "1121853934",
          "1024468225",
          "52200795",
          "1127250183",
          "39779707",
          "80185764",
          "1018446151",
          "1020777651",
          "1019088914",
          "1015414697",
          "79955886",
          "52997773",
          "80073352",
          "1015437933",
          "1018472151",
          "1015405667",
          "1032491705"
         ],
         "categoryorder": "array",
         "domain": [
          0,
          1
         ],
         "title": {
          "text": "Médico"
         }
        }
       }
      }
     },
     "metadata": {},
     "output_type": "display_data"
    }
   ],
   "source": [
    "import plotly.express as px\n",
    "import pandas as pd\n",
    "#Poner los datos de la lista en un dataframe\n",
    "df1 = pd.DataFrame(gantt)\n",
    "# poner los datos en el formato que requiere plotly poner la columna solicitud como texto\n",
    "df1['Solicitud'] = df1['Solicitud'].astype(str)\n",
    "# poner la columna médico como texto\n",
    "df1['Médico'] = df1['Médico'].astype(str)\n",
    "\n",
    "fig = px.timeline(df1, x_start=\"Inicio\", x_end=\"Fin\", y=\"Médico\", color=\"Médico\",\n",
    "                  hover_name=\"Solicitud\",\n",
    "                  title=\"Solicitudes atendidas por médicos\")\n",
    "\n",
    "fig.update_layout(xaxis_title=\"Tiempo\", yaxis_title=\"Médico\")\n",
    "fig.update_yaxes(autorange=\"reversed\")\n",
    "fig.update_xaxes(rangeslider_visible=True)\n",
    "# Hacer el grafico más grande para que se vea mejor\n",
    "fig.update_layout(\n",
    "    autosize=False,\n",
    "    width=1000,\n",
    "    height=500,\n",
    ")\n",
    "fig.show()"
   ]
  },
  {
   "cell_type": "code",
   "execution_count": 11,
   "metadata": {},
   "outputs": [
    {
     "data": {
      "text/html": [
       "<div style=\"width:100%;\"><div style=\"position:relative;width:100%;height:0;padding-bottom:60%;\"><span style=\"color:#565656\">Make this Notebook Trusted to load map: File -> Trust Notebook</span><iframe srcdoc=\"&lt;!DOCTYPE html&gt;\n",
       "&lt;html&gt;\n",
       "&lt;head&gt;\n",
       "    \n",
       "    &lt;meta http-equiv=&quot;content-type&quot; content=&quot;text/html; charset=UTF-8&quot; /&gt;\n",
       "    \n",
       "        &lt;script&gt;\n",
       "            L_NO_TOUCH = false;\n",
       "            L_DISABLE_3D = false;\n",
       "        &lt;/script&gt;\n",
       "    \n",
       "    &lt;style&gt;html, body {width: 100%;height: 100%;margin: 0;padding: 0;}&lt;/style&gt;\n",
       "    &lt;style&gt;#map {position:absolute;top:0;bottom:0;right:0;left:0;}&lt;/style&gt;\n",
       "    &lt;script src=&quot;https://cdn.jsdelivr.net/npm/leaflet@1.9.3/dist/leaflet.js&quot;&gt;&lt;/script&gt;\n",
       "    &lt;script src=&quot;https://code.jquery.com/jquery-1.12.4.min.js&quot;&gt;&lt;/script&gt;\n",
       "    &lt;script src=&quot;https://cdn.jsdelivr.net/npm/bootstrap@5.2.2/dist/js/bootstrap.bundle.min.js&quot;&gt;&lt;/script&gt;\n",
       "    &lt;script src=&quot;https://cdnjs.cloudflare.com/ajax/libs/Leaflet.awesome-markers/2.0.2/leaflet.awesome-markers.js&quot;&gt;&lt;/script&gt;\n",
       "    &lt;link rel=&quot;stylesheet&quot; href=&quot;https://cdn.jsdelivr.net/npm/leaflet@1.9.3/dist/leaflet.css&quot;/&gt;\n",
       "    &lt;link rel=&quot;stylesheet&quot; href=&quot;https://cdn.jsdelivr.net/npm/bootstrap@5.2.2/dist/css/bootstrap.min.css&quot;/&gt;\n",
       "    &lt;link rel=&quot;stylesheet&quot; href=&quot;https://netdna.bootstrapcdn.com/bootstrap/3.0.0/css/bootstrap.min.css&quot;/&gt;\n",
       "    &lt;link rel=&quot;stylesheet&quot; href=&quot;https://cdn.jsdelivr.net/npm/@fortawesome/fontawesome-free@6.2.0/css/all.min.css&quot;/&gt;\n",
       "    &lt;link rel=&quot;stylesheet&quot; href=&quot;https://cdnjs.cloudflare.com/ajax/libs/Leaflet.awesome-markers/2.0.2/leaflet.awesome-markers.css&quot;/&gt;\n",
       "    &lt;link rel=&quot;stylesheet&quot; href=&quot;https://cdn.jsdelivr.net/gh/python-visualization/folium/folium/templates/leaflet.awesome.rotate.min.css&quot;/&gt;\n",
       "    \n",
       "            &lt;meta name=&quot;viewport&quot; content=&quot;width=device-width,\n",
       "                initial-scale=1.0, maximum-scale=1.0, user-scalable=no&quot; /&gt;\n",
       "            &lt;style&gt;\n",
       "                #map_583bbb03946a84bc14ee2f836ade8abc {\n",
       "                    position: relative;\n",
       "                    width: 100.0%;\n",
       "                    height: 100.0%;\n",
       "                    left: 0.0%;\n",
       "                    top: 0.0%;\n",
       "                }\n",
       "                .leaflet-container { font-size: 1rem; }\n",
       "            &lt;/style&gt;\n",
       "        \n",
       "    &lt;script src=&quot;https://cdn.jsdelivr.net/gh/python-visualization/folium@main/folium/templates/leaflet_heat.min.js&quot;&gt;&lt;/script&gt;\n",
       "&lt;/head&gt;\n",
       "&lt;body&gt;\n",
       "    \n",
       "    \n",
       "            &lt;div class=&quot;folium-map&quot; id=&quot;map_583bbb03946a84bc14ee2f836ade8abc&quot; &gt;&lt;/div&gt;\n",
       "        \n",
       "&lt;/body&gt;\n",
       "&lt;script&gt;\n",
       "    \n",
       "    \n",
       "            var map_583bbb03946a84bc14ee2f836ade8abc = L.map(\n",
       "                &quot;map_583bbb03946a84bc14ee2f836ade8abc&quot;,\n",
       "                {\n",
       "                    center: [4.60971, -74.08175],\n",
       "                    crs: L.CRS.EPSG3857,\n",
       "                    zoom: 12,\n",
       "                    zoomControl: true,\n",
       "                    preferCanvas: false,\n",
       "                }\n",
       "            );\n",
       "\n",
       "            \n",
       "\n",
       "        \n",
       "    \n",
       "            var tile_layer_9a890e0d736f0f59de7c29f2f368a30e = L.tileLayer(\n",
       "                &quot;https://{s}.tile.openstreetmap.org/{z}/{x}/{y}.png&quot;,\n",
       "                {&quot;attribution&quot;: &quot;Data by \\u0026copy; \\u003ca target=\\&quot;_blank\\&quot; href=\\&quot;http://openstreetmap.org\\&quot;\\u003eOpenStreetMap\\u003c/a\\u003e, under \\u003ca target=\\&quot;_blank\\&quot; href=\\&quot;http://www.openstreetmap.org/copyright\\&quot;\\u003eODbL\\u003c/a\\u003e.&quot;, &quot;detectRetina&quot;: false, &quot;maxNativeZoom&quot;: 18, &quot;maxZoom&quot;: 18, &quot;minZoom&quot;: 0, &quot;noWrap&quot;: false, &quot;opacity&quot;: 1, &quot;subdomains&quot;: &quot;abc&quot;, &quot;tms&quot;: false}\n",
       "            ).addTo(map_583bbb03946a84bc14ee2f836ade8abc);\n",
       "        \n",
       "    \n",
       "            var heat_map_4016c4126e9524e3ece0bc6dc035790f = L.heatLayer(\n",
       "                [[4.7002485, -74.0601893], [4.7589325, -74.1000454], [4.6452936, -74.1538221], [4.7290255, -74.1028102], [4.58244705, -74.07999885], [4.74417, -74.0646649], [4.6957347, -74.103302], [4.7387649, -74.0990843], [4.59610175, -74.18417855], [4.732055, -74.0299749], [4.645214, -74.1433339], [4.6283815, -74.1240828], [4.630381, -74.0952839], [4.6144984, -74.11281085], [4.711559, -74.0978849], [4.7294075, -74.0894083], [4.58062895, -74.0953705], [4.569434, -74.0762997], [4.762155, -74.0422779], [4.7532582, -74.0480599], [4.7088065, -74.0933415], [4.7075404, -74.1125978], [4.76669, -74.0410919], [4.634425, -74.1189869], [4.7526023, -74.0819978], [4.7285348, -74.10218645], [4.706401, -74.0718489], [4.6719069, -74.09668605], [4.7312058, -74.0283582], [4.731604, -74.0289149], [4.57402689408207, -74.1065437909186], [4.6733648, -74.0536018], [4.7329443, -74.0509632], [4.7312199, -74.0510205], [4.7313069, -74.0514062], [4.7115867, -74.1382286], [4.68789685, -74.03973945], [4.67037646, -74.13140901], [4.688676, -74.0302079], [4.735189, -74.0795789], [4.7522355, -74.1081657], [4.593709, -74.0853149], [4.6416085, -74.1977386], [4.7276728, -74.0630204], [4.619209, -74.0665609], [4.5405388, -74.09785935], [4.7031822, -74.0347726], [4.66219, -74.05039], [4.67062085, -74.0503101], [4.7323884, -74.0519689], [4.766859, -74.0324709], [4.58960175, -74.10229596], [4.69687738, -74.02802159], [4.76669, -74.0410919], [4.7336093, -74.0985113], [4.6768678, -74.1086322], [4.719371, -74.0617224], [4.6948526, -74.0344469], [4.3097245, -74.8012508], [4.706401, -74.0718489], [4.6863044, -74.0294792], [4.74865, -74.06193], [4.7345193, -74.0630917], [4.7174262, -74.124716], [4.66541495, -74.04714405], [4.7470683, -74.1156989], [4.7381752, -74.0990253], [4.739761, -74.1171579], [4.66219, -74.05039], [4.72265, -74.0976079], [4.7527938, -74.0276171], [4.66813525, -74.07954485], [4.6822081, -74.1340037], [4.724154, -74.0865039], [4.6934, -74.0550879], [4.70778055, -74.13291935], [4.69808399433814, -74.094958061967], [4.73247, -74.0521449], [4.7204592, -74.0583161], [4.729551, -74.0243369], [4.70458286, -74.03622417], [4.74034615, -74.09604495], [4.6912893, -74.0560043], [4.65918931, -74.05201696], [4.757086, -74.1026579], [4.54376995, -74.1183859], [4.64185755, -74.1668003], [4.6071927, -74.14623565], [4.7220643, -74.1293164], [4.58606690336233, -74.1038817072491], [4.7350895, -74.083683], [4.59221159449753, -74.0756173332466], [4.70094935, -74.1231531], [4.67013815, -74.13237585], [4.738636, -74.0599169], [4.5739948100836, -74.1064901467387], [4.7063898, -74.0678879], [4.61327556510154, -74.0665572332464], [4.75077255, -74.11299485], [4.74509275, -74.05815835], [4.76709727, -74.02753114], [4.7331638, -74.0511897], [4.7121429, -74.1382569], [4.695537, -74.0745109], [4.70833245, -74.0287076], [4.7056844, -74.0559278], [4.7382723, -74.1130172], [4.7276728, -74.0630204], [4.721957, -74.0932359], [4.7099604, -74.028565], [4.7013996, -74.0628654], [4.6986423, -74.04422395], [4.67714105, -74.05824425], [4.7063898, -74.0678879], [4.7617067, -74.02926], [4.7336093, -74.0985113], [4.735432, -74.1023389], [4.7192363, -74.0538059], [4.7420415, -74.1140241], [4.7189266, -74.0241589], [4.747916, -74.0639989], [4.674596, -74.1067749], [4.7086614, -74.0956837], [4.7140987, -74.112691], [4.7398399, -74.0603143], [4.7644308, -74.0335496], [4.7497019, -74.0581765], [4.6974995, -74.0603123], [4.700067, -74.1047879], [4.727625, -74.0269859], [4.709956, -74.1161729], [4.6957347, -74.103302], [4.707016, -74.0583579], [4.669958, -74.09882475], [4.73208489, -74.09460635], [4.702307, -74.1034709], [4.7030029, -74.0308142], [4.7068488, -74.0561954], [4.6684993, -74.0968849], [4.583337, -74.0895519], [4.5787356, -74.0960122], [4.72265, -74.0976079], [4.583337, -74.0895519], [4.7443007, -74.0670593], [4.671174, -74.0516979], [4.727625, -74.0269859], [4.58794615, -74.1817668], [4.5861543, -74.1547416], [4.72767975, -74.0707943], [4.72331755, -74.05988385], [4.72062899, -74.12929607], [4.7007706, -74.057376], [4.75036788, -74.02399724], [4.7118564, -74.1461404], [4.6892141, -74.1122705], [4.72512185, -74.08526105], [4.657017, -74.0718459], [4.7213956, -74.1256821], [4.59194656980278, -74.0878199212873], [4.622134, -74.1868429], [4.747599, -74.1179459], [4.74865, -74.06193], [4.73915555, -74.0935841], [4.708893, -74.0568169], [4.7160389, -74.07512225], [4.7315087, -74.0366899], [4.7583978, -74.1033531], [4.686223, -74.1024889], [4.7380425, -74.1072777], [4.65556675, -74.05229565], [4.723816, -74.0642189], [4.7513946, -74.0534321], [4.65931855, -74.0520588], [4.6613099, -74.0774545], [4.730514, -74.0268079], [4.6717133, -74.1245385], [4.60418485, -74.12739265], [4.72522805, -74.047328], [4.7086614, -74.0956837], [4.729154, -74.0889039], [4.73215475, -74.03036075], [4.705672, -74.055844], [4.61500735, -74.06668385], [4.6900564, -74.112696], [4.63793174, -74.05444713], [4.64148885, -74.0604606], [4.646883, -74.0833289], [4.64148885, -74.0604606], [4.757086, -74.1026579], [4.7216452, -74.0419699], [4.5613225, -74.1021281], [4.709315, -74.0955209], [4.6395701, -74.1697639], [4.63838193, -74.14700202], [4.73014845, -74.09065875], [4.6684993, -74.0968849], [4.74950515, -74.04723125], [4.6717133, -74.1245385], [4.6640392, -74.1367117], [4.72137925, -74.0298062], [4.7294792, -74.0225365], [4.6891576, -74.0430369], [4.7007706, -74.057376], [4.688318, -74.0344789], [4.573118, -74.1691049], [4.70458286, -74.03622417], [4.7520536, -74.1015035], [4.729894, -74.0251189], [4.747896, -74.0666869], [4.69227955, -74.09753965], [4.58537, -74.0807199], [4.759831, -74.02741655], [4.66839282, -74.05023373], [4.6960892, -74.0835153], [4.6294467, -74.1075382], [4.7583665, -74.1142118], [4.69488744, -74.07899132], [4.704882, -74.0496489], [4.729154, -74.0889039], [4.732695, -74.0534769], [4.596057, -74.14588545], [4.70721685, -74.05094655], [4.7192363, -74.0538059], [4.6946175, -74.1124722], [4.729154, -74.0889039], [4.637654, -74.1570719], [4.71414165, -74.0723073], [4.5890615, -74.0997523], [4.68298305, -74.04636487], [4.73531205, -74.0302609], [4.6045826, -74.15082115], [4.5890615, -74.0997523], [4.71905135, -74.12073565], [4.7266877, -74.121157], [4.7542447, -74.0629512], [4.7382396, -74.1000024], [4.58214395, -74.1804039], [4.7249987, -74.0345242], [4.743285, -74.0219249], [4.64410485, -74.06999295], [4.66728695, -74.064274], [4.752559, -74.0633199], [4.6746488, -74.0521017], [4.7184155, -74.1086744], [4.714226, -74.0677219], [4.729733, -74.0246269], [4.6913824, -74.0333586], [4.7068488, -74.0561954], [4.737598, -74.0386579], [4.65067801, -74.05378784], [4.7022515, -74.0995616], [4.603594, -74.089397], [4.732676, -74.0955139], [4.721957, -74.0932359], [4.606225, -74.0698079], [4.5551423, -74.09689585], [4.6407931, -74.0693963], [4.57936038, -74.09140978], [4.7216489, -74.0968766], [4.7155445, -74.1355449], [4.721131, -74.0290469], [4.5890615, -74.0997523], [4.57936038, -74.09140978], [4.5890615, -74.0997523], [4.71082955, -74.1403499], [4.6378986, -74.1023955], [4.646823, -74.0891399], [4.54541242, -74.11055573], [4.8102045, -74.0371476], [4.6479136, -74.05580645], [4.7063103, -74.0478112], [4.6989016, -74.0417314], [4.735613, -74.0858289], [4.7189425, -74.0915375], [4.70446897, -74.13615112], [4.696303, -74.0623069], [4.733096, -74.0542849], [4.670219, -74.1315629], [4.6989016, -74.0417314], [4.670219, -74.1315629], [4.6466991, -74.0728256], [4.7146765, -74.0963251], [4.72879929847233, -74.0375084009198], [4.72879929847233, -74.0375084009198], [4.5551423, -74.09689585], [4.7529815, -74.0625005], [4.6508523, -74.1792284], [4.721855, -74.0954079], [4.7349168, -74.0823593], [4.7587839, -74.0996699], [4.6267966, -74.0763114], [4.5734495, -74.17553925], [4.698232, -74.0908309], [4.735202, -74.0252019], [4.7528955, -74.1091315], [4.5551423, -74.09689585], [4.73616, -74.0852919], [4.740923, -74.056328], [4.68520255, -74.11355472], [4.7351115, -74.0580155], [4.729301, -74.0224608], [4.6067109, -74.1302961], [4.7477031, -74.0683972], [4.5551423, -74.09689585], [4.70458286, -74.03622417], [4.5551423, -74.09689585]],\n",
       "                {&quot;blur&quot;: 15, &quot;maxZoom&quot;: 18, &quot;minOpacity&quot;: 0.5, &quot;radius&quot;: 15}\n",
       "            ).addTo(map_583bbb03946a84bc14ee2f836ade8abc);\n",
       "        \n",
       "    \n",
       "            var layer_control_bd459dbf78dc8c3ba12914715b0bd13f = {\n",
       "                base_layers : {\n",
       "                    &quot;openstreetmap&quot; : tile_layer_9a890e0d736f0f59de7c29f2f368a30e,\n",
       "                },\n",
       "                overlays :  {\n",
       "                    &quot;macro_element_4016c4126e9524e3ece0bc6dc035790f&quot; : heat_map_4016c4126e9524e3ece0bc6dc035790f,\n",
       "                },\n",
       "            };\n",
       "            L.control.layers(\n",
       "                layer_control_bd459dbf78dc8c3ba12914715b0bd13f.base_layers,\n",
       "                layer_control_bd459dbf78dc8c3ba12914715b0bd13f.overlays,\n",
       "                {&quot;autoZIndex&quot;: true, &quot;collapsed&quot;: true, &quot;position&quot;: &quot;topright&quot;}\n",
       "            ).addTo(map_583bbb03946a84bc14ee2f836ade8abc);\n",
       "        \n",
       "&lt;/script&gt;\n",
       "&lt;/html&gt;\" style=\"position:absolute;width:100%;height:100%;left:0;top:0;border:none !important;\" allowfullscreen webkitallowfullscreen mozallowfullscreen></iframe></div></div>"
      ],
      "text/plain": [
       "<folium.folium.Map at 0x7fdaaa1d2f40>"
      ]
     },
     "execution_count": 11,
     "metadata": {},
     "output_type": "execute_result"
    }
   ],
   "source": [
    "import folium\n",
    "from folium import plugins\n",
    "from folium.plugins import HeatMap\n",
    "\n",
    "# Crear un mapa centrado en la ciudad de Bogotá\n",
    "mapa = folium.Map(location=[4.60971, -74.08175], zoom_start=12)\n",
    "\n",
    "# Crear dict de coordenadas pacientes\n",
    "coordenadas = {}\n",
    "\n",
    "for i in pacientes:\n",
    "    coordenadas[i] = [pacientes[i][2], pacientes[i][3]]\n",
    "\n",
    "# Crear un mapa de calor con la ubicación de los pacientes\n",
    "HeatMap(data=coordenadas.values(), radius=15).add_to(mapa)\n",
    "\n",
    "# Crear un grupo de marcadores de pacientes\n",
    "markers = folium.FeatureGroup(name='Pacientes')\n",
    "\n",
    "# Agregar el marcador de cada paciente al grupo de marcadores\n",
    "for i in pacientes:\n",
    "    folium.Marker(\n",
    "        location=[pacientes[i][2], pacientes[i][3]],\n",
    "        popup=\"Paciente \" + str(i),\n",
    "        icon=folium.Icon(color='red', icon='info-sign')\n",
    "    ).add_to(markers)\n",
    "\n",
    "# Crear un control de capas para mostrar u ocultar los marcadores de pacientes\n",
    "folium.LayerControl().add_to(mapa)\n",
    "\n",
    "# Mostrar el mapa\n",
    "mapa"
   ]
  },
  {
   "cell_type": "code",
   "execution_count": 13,
   "metadata": {},
   "outputs": [
    {
     "name": "stdout",
     "output_type": "stream",
     "text": [
      "{1032491705: 5, 1015405667: 7, 1018472151: 10, 1015437933: 8, 80073352: 10, 52997773: 10, 79955886: 11, 1015414697: 7, 1019088914: 11, 1020777651: 7, 1018446151: 7, 80185764: 8, 39779707: 9, 1127250183: 1, 52200795: 9, 1024468225: 8, 1121853934: 7, 1016039086: 7, 80383487: 7, 1020803066: 8, 57293715: 8, 1020808271: 8, 80727764: 8, 1098635342: 8, 1082996581: 9, 1117504115: 9, 1085310672: 9, 1095825225: 8, 1014217039: 10, 1014266018: 9, 1098697055: 8, 85488148: 7, 80075437: 7, 1053327980: 6, 1083026203: 7, 1083012532: 6, 1018440480: 7, 1019074166: 7, 1140888504: 8}\n",
      "1.7326200929770414\n",
      "7.846153846153846\n",
      "306\n"
     ]
    }
   ],
   "source": [
    "# Encontrar la cantidad de solicitudes atendidas por cada médico\n",
    "def solicitudes_atendidas(gantt):\n",
    "    solicitudes = {}\n",
    "\n",
    "    for i in gantt:\n",
    "        if i['Médico'] not in solicitudes:\n",
    "            solicitudes[i['Médico']] = 1\n",
    "        else:\n",
    "            solicitudes[i['Médico']] += 1\n",
    "\n",
    "    return solicitudes\n",
    "\n",
    "solicitudes = solicitudes_atendidas(gantt)\n",
    "print(solicitudes)\n",
    "\n",
    "# Calcular la desviación estándar de las solicitudes atendidas por cada médico\n",
    "def desviacion_estandar(solicitudes):\n",
    "    # Calcular la media de las solicitudes atendidas por cada médico\n",
    "    media = sum(solicitudes.values())/len(solicitudes)\n",
    "\n",
    "    # Calcular la varianza de las solicitudes atendidas por cada médico\n",
    "    varianza = sum([(i - media)**2 for i in solicitudes.values()])/len(solicitudes)\n",
    "\n",
    "    # Calcular la desviación estándar de las solicitudes atendidas por cada médico\n",
    "    desviacion = varianza**(1/2)\n",
    "\n",
    "    return desviacion\n",
    "\n",
    "desviacion = desviacion_estandar(solicitudes)\n",
    "print(desviacion)\n",
    "\n",
    "# calcular solicited promedio por médico\n",
    "def solicitudes_promedio(solicitudes):\n",
    "    promedio = sum(solicitudes.values())/len(solicitudes)\n",
    "    return promedio\n",
    "\n",
    "promedio = solicitudes_promedio(solicitudes)\n",
    "print(promedio)\n",
    "\n",
    "# Calcular total de solicitudes atendidas\n",
    "def total_solicitudes(solicitudes):\n",
    "    total = sum(solicitudes.values())\n",
    "    return total\n",
    "\n",
    "total = total_solicitudes(solicitudes)\n",
    "print(total)"
   ]
  }
 ],
 "metadata": {
  "kernelspec": {
   "display_name": "base",
   "language": "python",
   "name": "python3"
  },
  "language_info": {
   "codemirror_mode": {
    "name": "ipython",
    "version": 3
   },
   "file_extension": ".py",
   "mimetype": "text/x-python",
   "name": "python",
   "nbconvert_exporter": "python",
   "pygments_lexer": "ipython3",
   "version": "3.9.13"
  },
  "orig_nbformat": 4,
  "vscode": {
   "interpreter": {
    "hash": "07faab6d6f4ab002cdefb798bb1adb69886dd96e513a786afbbd9e8dc267611b"
   }
  }
 },
 "nbformat": 4,
 "nbformat_minor": 2
}
